{
 "cells": [
  {
   "cell_type": "markdown",
   "id": "386f2ae7",
   "metadata": {
    "deletable": false,
    "editable": false,
    "id": "386f2ae7"
   },
   "source": [
    "# Исследование надежности заемщиков\n"
   ]
  },
  {
   "cell_type": "markdown",
   "id": "ffe86f65",
   "metadata": {
    "deletable": false,
    "editable": false,
    "id": "ffe86f65"
   },
   "source": [
    "Во второй части проекта вы выполните шаги 3 и 4. Их вручную проверит ревьюер.\n",
    "Чтобы вам не пришлось писать код заново для шагов 1 и 2, мы добавили авторские решения в ячейки с кодом. \n",
    "\n"
   ]
  },
  {
   "cell_type": "markdown",
   "id": "26613308",
   "metadata": {
    "deletable": false,
    "editable": false,
    "id": "26613308"
   },
   "source": [
    "## Откройте таблицу и изучите общую информацию о данных"
   ]
  },
  {
   "cell_type": "markdown",
   "id": "3c9f838e",
   "metadata": {
    "deletable": false,
    "editable": false,
    "id": "3c9f838e"
   },
   "source": [
    "**Задание 1. Импортируйте библиотеку pandas. Считайте данные из csv-файла в датафрейм и сохраните в переменную `data`. Путь к файлу:**\n",
    "\n",
    "`/datasets/data.csv`"
   ]
  },
  {
   "cell_type": "code",
   "execution_count": 3,
   "id": "77a68a90",
   "metadata": {
    "deletable": false,
    "id": "77a68a90"
   },
   "outputs": [],
   "source": [
    "import pandas as pd\n",
    "\n",
    "try:\n",
    "    data = pd.read_csv('data.csv')\n",
    "except:\n",
    "    data = pd.read_csv('https://code.s3.yandex.net/datasets/data.csv')"
   ]
  },
  {
   "cell_type": "markdown",
   "id": "45365635",
   "metadata": {
    "deletable": false,
    "editable": false,
    "id": "45365635"
   },
   "source": [
    "**Задание 2. Выведите первые 20 строчек датафрейма `data` на экран.**"
   ]
  },
  {
   "cell_type": "code",
   "execution_count": 4,
   "id": "b0451a9a",
   "metadata": {
    "deletable": false,
    "id": "b0451a9a",
    "outputId": "1a8f3ef2-d323-4ec2-ddf7-89670b5944c4"
   },
   "outputs": [
    {
     "data": {
      "text/html": [
       "<div>\n",
       "<style scoped>\n",
       "    .dataframe tbody tr th:only-of-type {\n",
       "        vertical-align: middle;\n",
       "    }\n",
       "\n",
       "    .dataframe tbody tr th {\n",
       "        vertical-align: top;\n",
       "    }\n",
       "\n",
       "    .dataframe thead th {\n",
       "        text-align: right;\n",
       "    }\n",
       "</style>\n",
       "<table border=\"1\" class=\"dataframe\">\n",
       "  <thead>\n",
       "    <tr style=\"text-align: right;\">\n",
       "      <th></th>\n",
       "      <th>children</th>\n",
       "      <th>days_employed</th>\n",
       "      <th>dob_years</th>\n",
       "      <th>education</th>\n",
       "      <th>education_id</th>\n",
       "      <th>family_status</th>\n",
       "      <th>family_status_id</th>\n",
       "      <th>gender</th>\n",
       "      <th>income_type</th>\n",
       "      <th>debt</th>\n",
       "      <th>total_income</th>\n",
       "      <th>purpose</th>\n",
       "    </tr>\n",
       "  </thead>\n",
       "  <tbody>\n",
       "    <tr>\n",
       "      <th>0</th>\n",
       "      <td>1</td>\n",
       "      <td>-8437.673028</td>\n",
       "      <td>42</td>\n",
       "      <td>высшее</td>\n",
       "      <td>0</td>\n",
       "      <td>женат / замужем</td>\n",
       "      <td>0</td>\n",
       "      <td>F</td>\n",
       "      <td>сотрудник</td>\n",
       "      <td>0</td>\n",
       "      <td>253875.639453</td>\n",
       "      <td>покупка жилья</td>\n",
       "    </tr>\n",
       "    <tr>\n",
       "      <th>1</th>\n",
       "      <td>1</td>\n",
       "      <td>-4024.803754</td>\n",
       "      <td>36</td>\n",
       "      <td>среднее</td>\n",
       "      <td>1</td>\n",
       "      <td>женат / замужем</td>\n",
       "      <td>0</td>\n",
       "      <td>F</td>\n",
       "      <td>сотрудник</td>\n",
       "      <td>0</td>\n",
       "      <td>112080.014102</td>\n",
       "      <td>приобретение автомобиля</td>\n",
       "    </tr>\n",
       "    <tr>\n",
       "      <th>2</th>\n",
       "      <td>0</td>\n",
       "      <td>-5623.422610</td>\n",
       "      <td>33</td>\n",
       "      <td>Среднее</td>\n",
       "      <td>1</td>\n",
       "      <td>женат / замужем</td>\n",
       "      <td>0</td>\n",
       "      <td>M</td>\n",
       "      <td>сотрудник</td>\n",
       "      <td>0</td>\n",
       "      <td>145885.952297</td>\n",
       "      <td>покупка жилья</td>\n",
       "    </tr>\n",
       "    <tr>\n",
       "      <th>3</th>\n",
       "      <td>3</td>\n",
       "      <td>-4124.747207</td>\n",
       "      <td>32</td>\n",
       "      <td>среднее</td>\n",
       "      <td>1</td>\n",
       "      <td>женат / замужем</td>\n",
       "      <td>0</td>\n",
       "      <td>M</td>\n",
       "      <td>сотрудник</td>\n",
       "      <td>0</td>\n",
       "      <td>267628.550329</td>\n",
       "      <td>дополнительное образование</td>\n",
       "    </tr>\n",
       "    <tr>\n",
       "      <th>4</th>\n",
       "      <td>0</td>\n",
       "      <td>340266.072047</td>\n",
       "      <td>53</td>\n",
       "      <td>среднее</td>\n",
       "      <td>1</td>\n",
       "      <td>гражданский брак</td>\n",
       "      <td>1</td>\n",
       "      <td>F</td>\n",
       "      <td>пенсионер</td>\n",
       "      <td>0</td>\n",
       "      <td>158616.077870</td>\n",
       "      <td>сыграть свадьбу</td>\n",
       "    </tr>\n",
       "    <tr>\n",
       "      <th>5</th>\n",
       "      <td>0</td>\n",
       "      <td>-926.185831</td>\n",
       "      <td>27</td>\n",
       "      <td>высшее</td>\n",
       "      <td>0</td>\n",
       "      <td>гражданский брак</td>\n",
       "      <td>1</td>\n",
       "      <td>M</td>\n",
       "      <td>компаньон</td>\n",
       "      <td>0</td>\n",
       "      <td>255763.565419</td>\n",
       "      <td>покупка жилья</td>\n",
       "    </tr>\n",
       "    <tr>\n",
       "      <th>6</th>\n",
       "      <td>0</td>\n",
       "      <td>-2879.202052</td>\n",
       "      <td>43</td>\n",
       "      <td>высшее</td>\n",
       "      <td>0</td>\n",
       "      <td>женат / замужем</td>\n",
       "      <td>0</td>\n",
       "      <td>F</td>\n",
       "      <td>компаньон</td>\n",
       "      <td>0</td>\n",
       "      <td>240525.971920</td>\n",
       "      <td>операции с жильем</td>\n",
       "    </tr>\n",
       "    <tr>\n",
       "      <th>7</th>\n",
       "      <td>0</td>\n",
       "      <td>-152.779569</td>\n",
       "      <td>50</td>\n",
       "      <td>СРЕДНЕЕ</td>\n",
       "      <td>1</td>\n",
       "      <td>женат / замужем</td>\n",
       "      <td>0</td>\n",
       "      <td>M</td>\n",
       "      <td>сотрудник</td>\n",
       "      <td>0</td>\n",
       "      <td>135823.934197</td>\n",
       "      <td>образование</td>\n",
       "    </tr>\n",
       "    <tr>\n",
       "      <th>8</th>\n",
       "      <td>2</td>\n",
       "      <td>-6929.865299</td>\n",
       "      <td>35</td>\n",
       "      <td>ВЫСШЕЕ</td>\n",
       "      <td>0</td>\n",
       "      <td>гражданский брак</td>\n",
       "      <td>1</td>\n",
       "      <td>F</td>\n",
       "      <td>сотрудник</td>\n",
       "      <td>0</td>\n",
       "      <td>95856.832424</td>\n",
       "      <td>на проведение свадьбы</td>\n",
       "    </tr>\n",
       "    <tr>\n",
       "      <th>9</th>\n",
       "      <td>0</td>\n",
       "      <td>-2188.756445</td>\n",
       "      <td>41</td>\n",
       "      <td>среднее</td>\n",
       "      <td>1</td>\n",
       "      <td>женат / замужем</td>\n",
       "      <td>0</td>\n",
       "      <td>M</td>\n",
       "      <td>сотрудник</td>\n",
       "      <td>0</td>\n",
       "      <td>144425.938277</td>\n",
       "      <td>покупка жилья для семьи</td>\n",
       "    </tr>\n",
       "    <tr>\n",
       "      <th>10</th>\n",
       "      <td>2</td>\n",
       "      <td>-4171.483647</td>\n",
       "      <td>36</td>\n",
       "      <td>высшее</td>\n",
       "      <td>0</td>\n",
       "      <td>женат / замужем</td>\n",
       "      <td>0</td>\n",
       "      <td>M</td>\n",
       "      <td>компаньон</td>\n",
       "      <td>0</td>\n",
       "      <td>113943.491460</td>\n",
       "      <td>покупка недвижимости</td>\n",
       "    </tr>\n",
       "    <tr>\n",
       "      <th>11</th>\n",
       "      <td>0</td>\n",
       "      <td>-792.701887</td>\n",
       "      <td>40</td>\n",
       "      <td>среднее</td>\n",
       "      <td>1</td>\n",
       "      <td>женат / замужем</td>\n",
       "      <td>0</td>\n",
       "      <td>F</td>\n",
       "      <td>сотрудник</td>\n",
       "      <td>0</td>\n",
       "      <td>77069.234271</td>\n",
       "      <td>покупка коммерческой недвижимости</td>\n",
       "    </tr>\n",
       "    <tr>\n",
       "      <th>12</th>\n",
       "      <td>0</td>\n",
       "      <td>NaN</td>\n",
       "      <td>65</td>\n",
       "      <td>среднее</td>\n",
       "      <td>1</td>\n",
       "      <td>гражданский брак</td>\n",
       "      <td>1</td>\n",
       "      <td>M</td>\n",
       "      <td>пенсионер</td>\n",
       "      <td>0</td>\n",
       "      <td>NaN</td>\n",
       "      <td>сыграть свадьбу</td>\n",
       "    </tr>\n",
       "    <tr>\n",
       "      <th>13</th>\n",
       "      <td>0</td>\n",
       "      <td>-1846.641941</td>\n",
       "      <td>54</td>\n",
       "      <td>неоконченное высшее</td>\n",
       "      <td>2</td>\n",
       "      <td>женат / замужем</td>\n",
       "      <td>0</td>\n",
       "      <td>F</td>\n",
       "      <td>сотрудник</td>\n",
       "      <td>0</td>\n",
       "      <td>130458.228857</td>\n",
       "      <td>приобретение автомобиля</td>\n",
       "    </tr>\n",
       "    <tr>\n",
       "      <th>14</th>\n",
       "      <td>0</td>\n",
       "      <td>-1844.956182</td>\n",
       "      <td>56</td>\n",
       "      <td>высшее</td>\n",
       "      <td>0</td>\n",
       "      <td>гражданский брак</td>\n",
       "      <td>1</td>\n",
       "      <td>F</td>\n",
       "      <td>компаньон</td>\n",
       "      <td>1</td>\n",
       "      <td>165127.911772</td>\n",
       "      <td>покупка жилой недвижимости</td>\n",
       "    </tr>\n",
       "    <tr>\n",
       "      <th>15</th>\n",
       "      <td>1</td>\n",
       "      <td>-972.364419</td>\n",
       "      <td>26</td>\n",
       "      <td>среднее</td>\n",
       "      <td>1</td>\n",
       "      <td>женат / замужем</td>\n",
       "      <td>0</td>\n",
       "      <td>F</td>\n",
       "      <td>сотрудник</td>\n",
       "      <td>0</td>\n",
       "      <td>116820.904450</td>\n",
       "      <td>строительство собственной недвижимости</td>\n",
       "    </tr>\n",
       "    <tr>\n",
       "      <th>16</th>\n",
       "      <td>0</td>\n",
       "      <td>-1719.934226</td>\n",
       "      <td>35</td>\n",
       "      <td>среднее</td>\n",
       "      <td>1</td>\n",
       "      <td>женат / замужем</td>\n",
       "      <td>0</td>\n",
       "      <td>F</td>\n",
       "      <td>сотрудник</td>\n",
       "      <td>0</td>\n",
       "      <td>289202.704229</td>\n",
       "      <td>недвижимость</td>\n",
       "    </tr>\n",
       "    <tr>\n",
       "      <th>17</th>\n",
       "      <td>0</td>\n",
       "      <td>-2369.999720</td>\n",
       "      <td>33</td>\n",
       "      <td>высшее</td>\n",
       "      <td>0</td>\n",
       "      <td>гражданский брак</td>\n",
       "      <td>1</td>\n",
       "      <td>M</td>\n",
       "      <td>сотрудник</td>\n",
       "      <td>0</td>\n",
       "      <td>90410.586745</td>\n",
       "      <td>строительство недвижимости</td>\n",
       "    </tr>\n",
       "    <tr>\n",
       "      <th>18</th>\n",
       "      <td>0</td>\n",
       "      <td>400281.136913</td>\n",
       "      <td>53</td>\n",
       "      <td>среднее</td>\n",
       "      <td>1</td>\n",
       "      <td>вдовец / вдова</td>\n",
       "      <td>2</td>\n",
       "      <td>F</td>\n",
       "      <td>пенсионер</td>\n",
       "      <td>0</td>\n",
       "      <td>56823.777243</td>\n",
       "      <td>на покупку подержанного автомобиля</td>\n",
       "    </tr>\n",
       "    <tr>\n",
       "      <th>19</th>\n",
       "      <td>0</td>\n",
       "      <td>-10038.818549</td>\n",
       "      <td>48</td>\n",
       "      <td>СРЕДНЕЕ</td>\n",
       "      <td>1</td>\n",
       "      <td>в разводе</td>\n",
       "      <td>3</td>\n",
       "      <td>F</td>\n",
       "      <td>сотрудник</td>\n",
       "      <td>0</td>\n",
       "      <td>242831.107982</td>\n",
       "      <td>на покупку своего автомобиля</td>\n",
       "    </tr>\n",
       "  </tbody>\n",
       "</table>\n",
       "</div>"
      ],
      "text/plain": [
       "    children  days_employed  dob_years            education  education_id  \\\n",
       "0          1   -8437.673028         42               высшее             0   \n",
       "1          1   -4024.803754         36              среднее             1   \n",
       "2          0   -5623.422610         33              Среднее             1   \n",
       "3          3   -4124.747207         32              среднее             1   \n",
       "4          0  340266.072047         53              среднее             1   \n",
       "5          0    -926.185831         27               высшее             0   \n",
       "6          0   -2879.202052         43               высшее             0   \n",
       "7          0    -152.779569         50              СРЕДНЕЕ             1   \n",
       "8          2   -6929.865299         35               ВЫСШЕЕ             0   \n",
       "9          0   -2188.756445         41              среднее             1   \n",
       "10         2   -4171.483647         36               высшее             0   \n",
       "11         0    -792.701887         40              среднее             1   \n",
       "12         0            NaN         65              среднее             1   \n",
       "13         0   -1846.641941         54  неоконченное высшее             2   \n",
       "14         0   -1844.956182         56               высшее             0   \n",
       "15         1    -972.364419         26              среднее             1   \n",
       "16         0   -1719.934226         35              среднее             1   \n",
       "17         0   -2369.999720         33               высшее             0   \n",
       "18         0  400281.136913         53              среднее             1   \n",
       "19         0  -10038.818549         48              СРЕДНЕЕ             1   \n",
       "\n",
       "       family_status  family_status_id gender income_type  debt  \\\n",
       "0    женат / замужем                 0      F   сотрудник     0   \n",
       "1    женат / замужем                 0      F   сотрудник     0   \n",
       "2    женат / замужем                 0      M   сотрудник     0   \n",
       "3    женат / замужем                 0      M   сотрудник     0   \n",
       "4   гражданский брак                 1      F   пенсионер     0   \n",
       "5   гражданский брак                 1      M   компаньон     0   \n",
       "6    женат / замужем                 0      F   компаньон     0   \n",
       "7    женат / замужем                 0      M   сотрудник     0   \n",
       "8   гражданский брак                 1      F   сотрудник     0   \n",
       "9    женат / замужем                 0      M   сотрудник     0   \n",
       "10   женат / замужем                 0      M   компаньон     0   \n",
       "11   женат / замужем                 0      F   сотрудник     0   \n",
       "12  гражданский брак                 1      M   пенсионер     0   \n",
       "13   женат / замужем                 0      F   сотрудник     0   \n",
       "14  гражданский брак                 1      F   компаньон     1   \n",
       "15   женат / замужем                 0      F   сотрудник     0   \n",
       "16   женат / замужем                 0      F   сотрудник     0   \n",
       "17  гражданский брак                 1      M   сотрудник     0   \n",
       "18    вдовец / вдова                 2      F   пенсионер     0   \n",
       "19         в разводе                 3      F   сотрудник     0   \n",
       "\n",
       "     total_income                                 purpose  \n",
       "0   253875.639453                           покупка жилья  \n",
       "1   112080.014102                 приобретение автомобиля  \n",
       "2   145885.952297                           покупка жилья  \n",
       "3   267628.550329              дополнительное образование  \n",
       "4   158616.077870                         сыграть свадьбу  \n",
       "5   255763.565419                           покупка жилья  \n",
       "6   240525.971920                       операции с жильем  \n",
       "7   135823.934197                             образование  \n",
       "8    95856.832424                   на проведение свадьбы  \n",
       "9   144425.938277                 покупка жилья для семьи  \n",
       "10  113943.491460                    покупка недвижимости  \n",
       "11   77069.234271       покупка коммерческой недвижимости  \n",
       "12            NaN                         сыграть свадьбу  \n",
       "13  130458.228857                 приобретение автомобиля  \n",
       "14  165127.911772              покупка жилой недвижимости  \n",
       "15  116820.904450  строительство собственной недвижимости  \n",
       "16  289202.704229                            недвижимость  \n",
       "17   90410.586745              строительство недвижимости  \n",
       "18   56823.777243      на покупку подержанного автомобиля  \n",
       "19  242831.107982            на покупку своего автомобиля  "
      ]
     },
     "execution_count": 4,
     "metadata": {},
     "output_type": "execute_result"
    }
   ],
   "source": [
    "data.head(20)"
   ]
  },
  {
   "cell_type": "markdown",
   "id": "0ed8f27f",
   "metadata": {
    "deletable": false,
    "editable": false,
    "id": "0ed8f27f"
   },
   "source": [
    "**Задание 3. Выведите основную информацию о датафрейме с помощью метода `info()`.**"
   ]
  },
  {
   "cell_type": "code",
   "execution_count": 5,
   "id": "ab3f863b",
   "metadata": {
    "deletable": false,
    "id": "ab3f863b",
    "outputId": "15376089-8dad-46c9-b520-c05248d43158",
    "scrolled": false
   },
   "outputs": [
    {
     "name": "stdout",
     "output_type": "stream",
     "text": [
      "<class 'pandas.core.frame.DataFrame'>\n",
      "RangeIndex: 21525 entries, 0 to 21524\n",
      "Data columns (total 12 columns):\n",
      " #   Column            Non-Null Count  Dtype  \n",
      "---  ------            --------------  -----  \n",
      " 0   children          21525 non-null  int64  \n",
      " 1   days_employed     19351 non-null  float64\n",
      " 2   dob_years         21525 non-null  int64  \n",
      " 3   education         21525 non-null  object \n",
      " 4   education_id      21525 non-null  int64  \n",
      " 5   family_status     21525 non-null  object \n",
      " 6   family_status_id  21525 non-null  int64  \n",
      " 7   gender            21525 non-null  object \n",
      " 8   income_type       21525 non-null  object \n",
      " 9   debt              21525 non-null  int64  \n",
      " 10  total_income      19351 non-null  float64\n",
      " 11  purpose           21525 non-null  object \n",
      "dtypes: float64(2), int64(5), object(5)\n",
      "memory usage: 2.0+ MB\n"
     ]
    }
   ],
   "source": [
    "data.info()"
   ]
  },
  {
   "cell_type": "markdown",
   "id": "60e3e22d",
   "metadata": {
    "deletable": false,
    "editable": false,
    "id": "60e3e22d"
   },
   "source": [
    "## Предобработка данных"
   ]
  },
  {
   "cell_type": "markdown",
   "id": "03dc170c",
   "metadata": {
    "deletable": false,
    "editable": false,
    "id": "03dc170c"
   },
   "source": [
    "### Удаление пропусков"
   ]
  },
  {
   "cell_type": "markdown",
   "id": "a4f54eef",
   "metadata": {
    "deletable": false,
    "editable": false,
    "id": "a4f54eef"
   },
   "source": [
    "**Задание 4. Выведите количество пропущенных значений для каждого столбца. Используйте комбинацию двух методов.**"
   ]
  },
  {
   "cell_type": "code",
   "execution_count": 6,
   "id": "2dc372b2",
   "metadata": {
    "deletable": false,
    "id": "2dc372b2",
    "outputId": "81f4d817-781c-465c-ed15-91ce4446810d",
    "scrolled": false
   },
   "outputs": [
    {
     "data": {
      "text/plain": [
       "children               0\n",
       "days_employed       2174\n",
       "dob_years              0\n",
       "education              0\n",
       "education_id           0\n",
       "family_status          0\n",
       "family_status_id       0\n",
       "gender                 0\n",
       "income_type            0\n",
       "debt                   0\n",
       "total_income        2174\n",
       "purpose                0\n",
       "dtype: int64"
      ]
     },
     "execution_count": 6,
     "metadata": {},
     "output_type": "execute_result"
    }
   ],
   "source": [
    "data.isna().sum()"
   ]
  },
  {
   "cell_type": "markdown",
   "id": "14f011b1",
   "metadata": {
    "deletable": false,
    "editable": false,
    "id": "14f011b1"
   },
   "source": [
    "**Задание 5. В двух столбцах есть пропущенные значения. Один из них — `days_employed`. Пропуски в этом столбце вы обработаете на следующем этапе. Другой столбец с пропущенными значениями — `total_income` — хранит данные о доходах. На сумму дохода сильнее всего влияет тип занятости, поэтому заполнить пропуски в этом столбце нужно медианным значением по каждому типу из столбца `income_type`. Например, у человека с типом занятости `сотрудник` пропуск в столбце `total_income` должен быть заполнен медианным доходом среди всех записей с тем же типом.**"
   ]
  },
  {
   "cell_type": "code",
   "execution_count": 7,
   "id": "bdabfb6e",
   "metadata": {
    "deletable": false,
    "id": "bdabfb6e"
   },
   "outputs": [],
   "source": [
    "for t in data['income_type'].unique():\n",
    "    data.loc[(data['income_type'] == t) & (data['total_income'].isna()), 'total_income'] = \\\n",
    "    data.loc[(data['income_type'] == t), 'total_income'].median()"
   ]
  },
  {
   "cell_type": "markdown",
   "id": "5be34059",
   "metadata": {
    "deletable": false,
    "editable": false,
    "id": "5be34059"
   },
   "source": [
    "### Обработка аномальных значений"
   ]
  },
  {
   "cell_type": "markdown",
   "id": "a87606cb",
   "metadata": {
    "deletable": false,
    "editable": false,
    "id": "a87606cb"
   },
   "source": [
    "**Задание 6. В данных могут встречаться артефакты (аномалии) — значения, которые не отражают действительность и появились по какой-то ошибке. таким артефактом будет отрицательное количество дней трудового стажа в столбце `days_employed`. Для реальных данных это нормально. Обработайте значения в этом столбце: замените все отрицательные значения положительными с помощью метода `abs()`.**"
   ]
  },
  {
   "cell_type": "code",
   "execution_count": 8,
   "id": "020c46cc",
   "metadata": {
    "deletable": false,
    "id": "020c46cc"
   },
   "outputs": [],
   "source": [
    "data['days_employed'] = data['days_employed'].abs()"
   ]
  },
  {
   "cell_type": "markdown",
   "id": "45538a3a",
   "metadata": {
    "deletable": false,
    "editable": false,
    "id": "45538a3a"
   },
   "source": [
    "**Задание 7. Для каждого типа занятости выведите медианное значение трудового стажа `days_employed` в днях.**"
   ]
  },
  {
   "cell_type": "code",
   "execution_count": 9,
   "id": "cd3e6328",
   "metadata": {
    "deletable": false,
    "id": "cd3e6328",
    "outputId": "801ef80e-522b-4668-f34e-565af7432bcf",
    "scrolled": false
   },
   "outputs": [
    {
     "data": {
      "text/plain": [
       "income_type\n",
       "безработный        366413.652744\n",
       "в декрете            3296.759962\n",
       "госслужащий          2689.368353\n",
       "компаньон            1547.382223\n",
       "пенсионер          365213.306266\n",
       "предприниматель       520.848083\n",
       "сотрудник            1574.202821\n",
       "студент               578.751554\n",
       "Name: days_employed, dtype: float64"
      ]
     },
     "execution_count": 9,
     "metadata": {},
     "output_type": "execute_result"
    }
   ],
   "source": [
    "data.groupby('income_type')['days_employed'].agg('median')"
   ]
  },
  {
   "cell_type": "markdown",
   "id": "90c5f058",
   "metadata": {
    "deletable": false,
    "editable": false,
    "id": "90c5f058"
   },
   "source": [
    "У двух типов (безработные и пенсионеры) получатся аномально большие значения. Исправить такие значения сложно, поэтому оставьте их как есть."
   ]
  },
  {
   "cell_type": "markdown",
   "id": "9652e50d",
   "metadata": {
    "deletable": false,
    "editable": false,
    "id": "9652e50d"
   },
   "source": [
    "**Задание 8. Выведите перечень уникальных значений столбца `children`.**"
   ]
  },
  {
   "cell_type": "code",
   "execution_count": 10,
   "id": "dbb37b8e",
   "metadata": {
    "deletable": false,
    "id": "dbb37b8e",
    "outputId": "6975b15c-7f95-4697-d16d-a0c79b657b03"
   },
   "outputs": [
    {
     "data": {
      "text/plain": [
       "array([ 1,  0,  3,  2, -1,  4, 20,  5], dtype=int64)"
      ]
     },
     "execution_count": 10,
     "metadata": {},
     "output_type": "execute_result"
    }
   ],
   "source": [
    "data['children'].unique()"
   ]
  },
  {
   "cell_type": "markdown",
   "id": "2b8b0715",
   "metadata": {
    "deletable": false,
    "editable": false,
    "id": "2b8b0715"
   },
   "source": [
    "**Задание 9. В столбце `children` есть два аномальных значения. Удалите строки, в которых встречаются такие аномальные значения из датафрейма `data`.**"
   ]
  },
  {
   "cell_type": "code",
   "execution_count": 11,
   "id": "20009df8",
   "metadata": {
    "deletable": false,
    "id": "20009df8"
   },
   "outputs": [],
   "source": [
    "data = data[(data['children'] != -1) & (data['children'] != 20)]"
   ]
  },
  {
   "cell_type": "markdown",
   "id": "8c6ac9f1",
   "metadata": {
    "deletable": false,
    "editable": false,
    "id": "8c6ac9f1"
   },
   "source": [
    "**Задание 10. Ещё раз выведите перечень уникальных значений столбца `children`, чтобы убедиться, что артефакты удалены.**"
   ]
  },
  {
   "cell_type": "code",
   "execution_count": 12,
   "id": "07337b81",
   "metadata": {
    "deletable": false,
    "id": "07337b81",
    "outputId": "b2097101-d49d-44d9-901b-32a65c9463d1"
   },
   "outputs": [
    {
     "data": {
      "text/plain": [
       "array([1, 0, 3, 2, 4, 5], dtype=int64)"
      ]
     },
     "execution_count": 12,
     "metadata": {},
     "output_type": "execute_result"
    }
   ],
   "source": [
    "data['children'].unique()"
   ]
  },
  {
   "cell_type": "markdown",
   "id": "ee3f52d4",
   "metadata": {
    "deletable": false,
    "editable": false,
    "id": "ee3f52d4"
   },
   "source": [
    "### Удаление пропусков (продолжение)"
   ]
  },
  {
   "cell_type": "markdown",
   "id": "a700b0e4",
   "metadata": {
    "deletable": false,
    "editable": false,
    "id": "a700b0e4"
   },
   "source": [
    "**Задание 11. Заполните пропуски в столбце `days_employed` медианными значениями по каждого типа занятости `income_type`.**"
   ]
  },
  {
   "cell_type": "code",
   "execution_count": 13,
   "id": "61946b83",
   "metadata": {
    "deletable": false,
    "id": "61946b83"
   },
   "outputs": [],
   "source": [
    "for t in data['income_type'].unique():\n",
    "    data.loc[(data['income_type'] == t) & (data['days_employed'].isna()), 'days_employed'] = \\\n",
    "    data.loc[(data['income_type'] == t), 'days_employed'].median()"
   ]
  },
  {
   "cell_type": "markdown",
   "id": "550dcd9b",
   "metadata": {
    "deletable": false,
    "editable": false,
    "id": "550dcd9b"
   },
   "source": [
    "**Задание 12. Убедитесь, что все пропуски заполнены. Проверьте себя и ещё раз выведите количество пропущенных значений для каждого столбца с помощью двух методов.**"
   ]
  },
  {
   "cell_type": "code",
   "execution_count": 14,
   "id": "937c7014",
   "metadata": {
    "deletable": false,
    "id": "937c7014",
    "outputId": "8da1e4e1-358e-4e87-98c9-f261bce0a7b2",
    "scrolled": false
   },
   "outputs": [
    {
     "data": {
      "text/plain": [
       "children            0\n",
       "days_employed       0\n",
       "dob_years           0\n",
       "education           0\n",
       "education_id        0\n",
       "family_status       0\n",
       "family_status_id    0\n",
       "gender              0\n",
       "income_type         0\n",
       "debt                0\n",
       "total_income        0\n",
       "purpose             0\n",
       "dtype: int64"
      ]
     },
     "execution_count": 14,
     "metadata": {},
     "output_type": "execute_result"
    }
   ],
   "source": [
    "data.isna().sum()"
   ]
  },
  {
   "cell_type": "markdown",
   "id": "d522e295",
   "metadata": {
    "deletable": false,
    "editable": false,
    "id": "d522e295"
   },
   "source": [
    "### Изменение типов данных"
   ]
  },
  {
   "cell_type": "markdown",
   "id": "c229c581",
   "metadata": {
    "deletable": false,
    "editable": false,
    "id": "c229c581"
   },
   "source": [
    "**Задание 13. Замените вещественный тип данных в столбце `total_income` на целочисленный с помощью метода `astype()`.**"
   ]
  },
  {
   "cell_type": "code",
   "execution_count": 15,
   "id": "31036462",
   "metadata": {
    "deletable": false,
    "id": "31036462"
   },
   "outputs": [],
   "source": [
    "data['total_income'] = data['total_income'].astype(int)"
   ]
  },
  {
   "cell_type": "markdown",
   "id": "b8e3d1d9",
   "metadata": {
    "deletable": false,
    "editable": false,
    "id": "b8e3d1d9"
   },
   "source": [
    "### Обработка дубликатов"
   ]
  },
  {
   "cell_type": "markdown",
   "id": "9be53c49",
   "metadata": {
    "deletable": false,
    "editable": false,
    "id": "9be53c49"
   },
   "source": [
    "**Задание 14. Обработайте неявные дубликаты в столбце `education`. В этом столбце есть одни и те же значения, но записанные по-разному: с использованием заглавных и строчных букв. Приведите их к нижнему регистру.**"
   ]
  },
  {
   "cell_type": "code",
   "execution_count": 16,
   "id": "d89e73e1",
   "metadata": {
    "deletable": false,
    "id": "d89e73e1"
   },
   "outputs": [],
   "source": [
    "data['education'] = data['education'].str.lower()"
   ]
  },
  {
   "cell_type": "markdown",
   "id": "01d4500e",
   "metadata": {
    "deletable": false,
    "editable": false,
    "id": "01d4500e"
   },
   "source": [
    "**Задание 15. Выведите на экран количество строк-дубликатов в данных. Если такие строки присутствуют, удалите их.**"
   ]
  },
  {
   "cell_type": "code",
   "execution_count": 17,
   "id": "e10efb23",
   "metadata": {
    "deletable": false,
    "id": "e10efb23",
    "outputId": "9684deba-1934-42d1-99e1-cda61740f822"
   },
   "outputs": [
    {
     "data": {
      "text/plain": [
       "71"
      ]
     },
     "execution_count": 17,
     "metadata": {},
     "output_type": "execute_result"
    }
   ],
   "source": [
    "data.duplicated().sum()"
   ]
  },
  {
   "cell_type": "code",
   "execution_count": 18,
   "id": "df853f20",
   "metadata": {
    "deletable": false,
    "id": "df853f20"
   },
   "outputs": [],
   "source": [
    "data = data.drop_duplicates()"
   ]
  },
  {
   "cell_type": "markdown",
   "id": "627be38f",
   "metadata": {
    "deletable": false,
    "editable": false,
    "id": "627be38f"
   },
   "source": [
    "### Категоризация данных"
   ]
  },
  {
   "cell_type": "markdown",
   "id": "4684c3e0",
   "metadata": {
    "deletable": false,
    "editable": false,
    "id": "4684c3e0"
   },
   "source": [
    "**Задание 16. На основании диапазонов, указанных ниже, создайте в датафрейме `data` столбец `total_income_category` с категориями:**\n",
    "\n",
    "- 0–30000 — `'E'`;\n",
    "- 30001–50000 — `'D'`;\n",
    "- 50001–200000 — `'C'`;\n",
    "- 200001–1000000 — `'B'`;\n",
    "- 1000001 и выше — `'A'`.\n",
    "\n",
    "\n",
    "**Например, кредитополучателю с доходом 25000 нужно назначить категорию `'E'`, а клиенту, получающему 235000, — `'B'`. Используйте собственную функцию с именем `categorize_income()` и метод `apply()`.**"
   ]
  },
  {
   "cell_type": "code",
   "execution_count": 19,
   "id": "78965238",
   "metadata": {
    "deletable": false,
    "id": "78965238"
   },
   "outputs": [],
   "source": [
    "def categorize_income(income):\n",
    "    try:\n",
    "        if 0 <= income <= 30000:\n",
    "            return 'E'\n",
    "        elif 30001 <= income <= 50000:\n",
    "            return 'D'\n",
    "        elif 50001 <= income <= 200000:\n",
    "            return 'C'\n",
    "        elif 200001 <= income <= 1000000:\n",
    "            return 'B'\n",
    "        elif income >= 1000001:\n",
    "            return 'A'\n",
    "    except:\n",
    "        pass"
   ]
  },
  {
   "cell_type": "code",
   "execution_count": 20,
   "id": "0980ada1",
   "metadata": {
    "deletable": false,
    "id": "0980ada1"
   },
   "outputs": [],
   "source": [
    "data['total_income_category'] = data['total_income'].apply(categorize_income)"
   ]
  },
  {
   "cell_type": "markdown",
   "id": "9917bba0",
   "metadata": {
    "deletable": false,
    "editable": false,
    "id": "9917bba0"
   },
   "source": [
    "**Задание 17. Выведите на экран перечень уникальных целей взятия кредита из столбца `purpose`.**"
   ]
  },
  {
   "cell_type": "code",
   "execution_count": 21,
   "id": "ee07b65e",
   "metadata": {
    "deletable": false,
    "id": "ee07b65e",
    "outputId": "673c12d9-7d7e-4ae0-9812-c622c89dd244",
    "scrolled": false
   },
   "outputs": [
    {
     "data": {
      "text/plain": [
       "array(['покупка жилья', 'приобретение автомобиля',\n",
       "       'дополнительное образование', 'сыграть свадьбу',\n",
       "       'операции с жильем', 'образование', 'на проведение свадьбы',\n",
       "       'покупка жилья для семьи', 'покупка недвижимости',\n",
       "       'покупка коммерческой недвижимости', 'покупка жилой недвижимости',\n",
       "       'строительство собственной недвижимости', 'недвижимость',\n",
       "       'строительство недвижимости', 'на покупку подержанного автомобиля',\n",
       "       'на покупку своего автомобиля',\n",
       "       'операции с коммерческой недвижимостью',\n",
       "       'строительство жилой недвижимости', 'жилье',\n",
       "       'операции со своей недвижимостью', 'автомобили',\n",
       "       'заняться образованием', 'сделка с подержанным автомобилем',\n",
       "       'получение образования', 'автомобиль', 'свадьба',\n",
       "       'получение дополнительного образования', 'покупка своего жилья',\n",
       "       'операции с недвижимостью', 'получение высшего образования',\n",
       "       'свой автомобиль', 'сделка с автомобилем',\n",
       "       'профильное образование', 'высшее образование',\n",
       "       'покупка жилья для сдачи', 'на покупку автомобиля', 'ремонт жилью',\n",
       "       'заняться высшим образованием'], dtype=object)"
      ]
     },
     "execution_count": 21,
     "metadata": {},
     "output_type": "execute_result"
    }
   ],
   "source": [
    "data['purpose'].unique()"
   ]
  },
  {
   "cell_type": "markdown",
   "id": "52b79d56",
   "metadata": {
    "deletable": false,
    "editable": false,
    "id": "52b79d56"
   },
   "source": [
    "**Задание 18. Создайте функцию, которая на основании данных из столбца `purpose` сформирует новый столбец `purpose_category`, в который войдут следующие категории:**\n",
    "\n",
    "- `'операции с автомобилем'`,\n",
    "- `'операции с недвижимостью'`,\n",
    "- `'проведение свадьбы'`,\n",
    "- `'получение образования'`.\n",
    "\n",
    "**Например, если в столбце `purpose` находится подстрока `'на покупку автомобиля'`, то в столбце `purpose_category` должна появиться строка `'операции с автомобилем'`.**\n",
    "\n",
    "**Используйте собственную функцию с именем `categorize_purpose()` и метод `apply()`. Изучите данные в столбце `purpose` и определите, какие подстроки помогут вам правильно определить категорию.**"
   ]
  },
  {
   "cell_type": "code",
   "execution_count": 22,
   "id": "be41da5d",
   "metadata": {
    "deletable": false,
    "id": "be41da5d"
   },
   "outputs": [],
   "source": [
    "def categorize_purpose(row):\n",
    "    try:\n",
    "        if 'автом' in row:\n",
    "            return 'операции с автомобилем'\n",
    "        elif 'жил' in row or 'недвиж' in row:\n",
    "            return 'операции с недвижимостью'\n",
    "        elif 'свад' in row:\n",
    "            return 'проведение свадьбы'\n",
    "        elif 'образов' in row:\n",
    "            return 'получение образования'\n",
    "    except:\n",
    "        return 'нет категории'"
   ]
  },
  {
   "cell_type": "code",
   "execution_count": 23,
   "id": "94c4a19a",
   "metadata": {
    "deletable": false,
    "id": "94c4a19a"
   },
   "outputs": [],
   "source": [
    "data['purpose_category'] = data['purpose'].apply(categorize_purpose)"
   ]
  },
  {
   "cell_type": "markdown",
   "id": "3d596c34",
   "metadata": {
    "deletable": false,
    "editable": false,
    "id": "3d596c34"
   },
   "source": [
    "### Шаг 3. Исследуйте данные и ответьте на вопросы"
   ]
  },
  {
   "cell_type": "markdown",
   "id": "648db036",
   "metadata": {
    "deletable": false,
    "editable": false,
    "id": "648db036"
   },
   "source": [
    "#### 3.1 Есть ли зависимость между количеством детей и возвратом кредита в срок?"
   ]
  },
  {
   "cell_type": "code",
   "execution_count": 24,
   "id": "7fcff25e",
   "metadata": {
    "deletable": false,
    "id": "7fcff25e"
   },
   "outputs": [
    {
     "data": {
      "text/html": [
       "<div>\n",
       "<style scoped>\n",
       "    .dataframe tbody tr th:only-of-type {\n",
       "        vertical-align: middle;\n",
       "    }\n",
       "\n",
       "    .dataframe tbody tr th {\n",
       "        vertical-align: top;\n",
       "    }\n",
       "\n",
       "    .dataframe thead th {\n",
       "        text-align: right;\n",
       "    }\n",
       "</style>\n",
       "<table border=\"1\" class=\"dataframe\">\n",
       "  <thead>\n",
       "    <tr style=\"text-align: right;\">\n",
       "      <th></th>\n",
       "      <th>debt</th>\n",
       "    </tr>\n",
       "    <tr>\n",
       "      <th>children</th>\n",
       "      <th></th>\n",
       "    </tr>\n",
       "  </thead>\n",
       "  <tbody>\n",
       "    <tr>\n",
       "      <th>5</th>\n",
       "      <td>0.000</td>\n",
       "    </tr>\n",
       "    <tr>\n",
       "      <th>0</th>\n",
       "      <td>0.075</td>\n",
       "    </tr>\n",
       "    <tr>\n",
       "      <th>3</th>\n",
       "      <td>0.082</td>\n",
       "    </tr>\n",
       "    <tr>\n",
       "      <th>1</th>\n",
       "      <td>0.092</td>\n",
       "    </tr>\n",
       "    <tr>\n",
       "      <th>2</th>\n",
       "      <td>0.095</td>\n",
       "    </tr>\n",
       "    <tr>\n",
       "      <th>4</th>\n",
       "      <td>0.098</td>\n",
       "    </tr>\n",
       "  </tbody>\n",
       "</table>\n",
       "</div>"
      ],
      "text/plain": [
       "           debt\n",
       "children       \n",
       "5         0.000\n",
       "0         0.075\n",
       "3         0.082\n",
       "1         0.092\n",
       "2         0.095\n",
       "4         0.098"
      ]
     },
     "execution_count": 24,
     "metadata": {},
     "output_type": "execute_result"
    }
   ],
   "source": [
    "data_pivot = data.pivot_table(index = ['children'], values = 'debt').round(3)\n",
    "data_pivot.sort_values(by=\"debt\")"
   ]
  },
  {
   "cell_type": "markdown",
   "id": "2eb9088e",
   "metadata": {
    "deletable": false,
    "id": "2eb9088e"
   },
   "source": [
    "**Вывод:** из данной выборки мы можем сделать заключение, что количество детей влияет на возврат кредита в срок.\n",
    "При количесвтве 5 детей в семье в данной выборке не было случаев невозврата кредита в долг, это не говорит о максимальной надежности таких заемщиков, это говрит о том, что такие случаи просто не попались в данную выборку.\n",
    "Так как далее мы видим, что меньше всего случаев невозрата кредита в семьях, где 0 детей.\n",
    "Это может объясняться тем, что при огранченных денежных средствах у заемщика в более высоком приоритете будут потребности детей по сравнению с обязанностью погасить кредит"
   ]
  },
  {
   "cell_type": "markdown",
   "id": "74c9b3a7",
   "metadata": {
    "deletable": false,
    "editable": false,
    "id": "74c9b3a7"
   },
   "source": [
    "#### 3.2 Есть ли зависимость между семейным положением и возвратом кредита в срок?"
   ]
  },
  {
   "cell_type": "code",
   "execution_count": 26,
   "id": "8098ab3b",
   "metadata": {
    "deletable": false,
    "id": "8098ab3b",
    "scrolled": false
   },
   "outputs": [
    {
     "name": "stdout",
     "output_type": "stream",
     "text": [
      "                      debt                 \n",
      "                       sum  count      mean\n",
      "family_status                              \n",
      "Не женат / не замужем  273   2796  0.097639\n",
      "в разводе               84   1189  0.070648\n",
      "вдовец / вдова          63    951  0.066246\n",
      "гражданский брак       385   4134  0.093130\n",
      "женат / замужем        927  12261  0.075606\n"
     ]
    },
    {
     "data": {
      "text/html": [
       "<div>\n",
       "<style scoped>\n",
       "    .dataframe tbody tr th:only-of-type {\n",
       "        vertical-align: middle;\n",
       "    }\n",
       "\n",
       "    .dataframe tbody tr th {\n",
       "        vertical-align: top;\n",
       "    }\n",
       "\n",
       "    .dataframe thead tr th {\n",
       "        text-align: left;\n",
       "    }\n",
       "\n",
       "    .dataframe thead tr:last-of-type th {\n",
       "        text-align: right;\n",
       "    }\n",
       "</style>\n",
       "<table border=\"1\" class=\"dataframe\">\n",
       "  <thead>\n",
       "    <tr>\n",
       "      <th></th>\n",
       "      <th colspan=\"3\" halign=\"left\">debt</th>\n",
       "    </tr>\n",
       "    <tr>\n",
       "      <th></th>\n",
       "      <th>sum</th>\n",
       "      <th>count</th>\n",
       "      <th>mean</th>\n",
       "    </tr>\n",
       "    <tr>\n",
       "      <th>family_status</th>\n",
       "      <th></th>\n",
       "      <th></th>\n",
       "      <th></th>\n",
       "    </tr>\n",
       "  </thead>\n",
       "  <tbody>\n",
       "    <tr>\n",
       "      <th>Не женат / не замужем</th>\n",
       "      <td>273</td>\n",
       "      <td>2796</td>\n",
       "      <td>0.097639</td>\n",
       "    </tr>\n",
       "    <tr>\n",
       "      <th>в разводе</th>\n",
       "      <td>84</td>\n",
       "      <td>1189</td>\n",
       "      <td>0.070648</td>\n",
       "    </tr>\n",
       "    <tr>\n",
       "      <th>вдовец / вдова</th>\n",
       "      <td>63</td>\n",
       "      <td>951</td>\n",
       "      <td>0.066246</td>\n",
       "    </tr>\n",
       "    <tr>\n",
       "      <th>гражданский брак</th>\n",
       "      <td>385</td>\n",
       "      <td>4134</td>\n",
       "      <td>0.093130</td>\n",
       "    </tr>\n",
       "    <tr>\n",
       "      <th>женат / замужем</th>\n",
       "      <td>927</td>\n",
       "      <td>12261</td>\n",
       "      <td>0.075606</td>\n",
       "    </tr>\n",
       "  </tbody>\n",
       "</table>\n",
       "</div>"
      ],
      "text/plain": [
       "                      debt                 \n",
       "                       sum  count      mean\n",
       "family_status                              \n",
       "Не женат / не замужем  273   2796  0.097639\n",
       "в разводе               84   1189  0.070648\n",
       "вдовец / вдова          63    951  0.066246\n",
       "гражданский брак       385   4134  0.093130\n",
       "женат / замужем        927  12261  0.075606"
      ]
     },
     "metadata": {},
     "output_type": "display_data"
    }
   ],
   "source": [
    "# Ваш код будет здесь. Вы можете создавать новые ячейки.\n",
    "data_pivot = data.pivot_table(index = ['family_status'], values = 'debt').round(3)\n",
    "#data_pivot.sort_values(by=\"debt\")\n",
    "data_grouped = data.groupby(\"family_status\").agg({\"debt\":['sum', \"count\", 'mean',]})\n",
    "\n",
    "\n",
    "print(data_grouped)\n",
    "display(data_grouped)"
   ]
  },
  {
   "cell_type": "code",
   "execution_count": 27,
   "id": "e18e04a9",
   "metadata": {},
   "outputs": [
    {
     "data": {
      "text/html": [
       "<div>\n",
       "<style scoped>\n",
       "    .dataframe tbody tr th:only-of-type {\n",
       "        vertical-align: middle;\n",
       "    }\n",
       "\n",
       "    .dataframe tbody tr th {\n",
       "        vertical-align: top;\n",
       "    }\n",
       "\n",
       "    .dataframe thead tr th {\n",
       "        text-align: left;\n",
       "    }\n",
       "\n",
       "    .dataframe thead tr:last-of-type th {\n",
       "        text-align: right;\n",
       "    }\n",
       "</style>\n",
       "<table border=\"1\" class=\"dataframe\">\n",
       "  <thead>\n",
       "    <tr>\n",
       "      <th></th>\n",
       "      <th colspan=\"3\" halign=\"left\">debt</th>\n",
       "    </tr>\n",
       "    <tr>\n",
       "      <th></th>\n",
       "      <th>sum</th>\n",
       "      <th>count</th>\n",
       "      <th>mean</th>\n",
       "    </tr>\n",
       "    <tr>\n",
       "      <th>family_status</th>\n",
       "      <th></th>\n",
       "      <th></th>\n",
       "      <th></th>\n",
       "    </tr>\n",
       "  </thead>\n",
       "  <tbody>\n",
       "    <tr>\n",
       "      <th>вдовец / вдова</th>\n",
       "      <td>63</td>\n",
       "      <td>951</td>\n",
       "      <td>0.066246</td>\n",
       "    </tr>\n",
       "    <tr>\n",
       "      <th>в разводе</th>\n",
       "      <td>84</td>\n",
       "      <td>1189</td>\n",
       "      <td>0.070648</td>\n",
       "    </tr>\n",
       "    <tr>\n",
       "      <th>женат / замужем</th>\n",
       "      <td>927</td>\n",
       "      <td>12261</td>\n",
       "      <td>0.075606</td>\n",
       "    </tr>\n",
       "    <tr>\n",
       "      <th>гражданский брак</th>\n",
       "      <td>385</td>\n",
       "      <td>4134</td>\n",
       "      <td>0.093130</td>\n",
       "    </tr>\n",
       "    <tr>\n",
       "      <th>Не женат / не замужем</th>\n",
       "      <td>273</td>\n",
       "      <td>2796</td>\n",
       "      <td>0.097639</td>\n",
       "    </tr>\n",
       "  </tbody>\n",
       "</table>\n",
       "</div>"
      ],
      "text/plain": [
       "                      debt                 \n",
       "                       sum  count      mean\n",
       "family_status                              \n",
       "вдовец / вдова          63    951  0.066246\n",
       "в разводе               84   1189  0.070648\n",
       "женат / замужем        927  12261  0.075606\n",
       "гражданский брак       385   4134  0.093130\n",
       "Не женат / не замужем  273   2796  0.097639"
      ]
     },
     "execution_count": 27,
     "metadata": {},
     "output_type": "execute_result"
    }
   ],
   "source": [
    "data_grouped.sort_values(by=('debt',  'mean'))"
   ]
  },
  {
   "cell_type": "markdown",
   "id": "c389ca63",
   "metadata": {
    "deletable": false,
    "id": "c389ca63"
   },
   "source": [
    "**Вывод:** из данной выборки мы можем сделать заключение, что семейное положение влияет на возврат кредита в срок. \n",
    "Если у заемщика были или есть официально зарегестрированные отношения, это понижает вероятность невозврата кредита. При этом самые низкие показатели у вдовцов/вдов и у тех, кто в разводе.\n",
    "Самый высокий риск невозврата кредита в срок у не женатых/не замужних заемщиков."
   ]
  },
  {
   "cell_type": "markdown",
   "id": "efa973aa",
   "metadata": {},
   "source": [
    "Предположу, что те, кто вдовцы/вдовы и в разводе - скорее всего проживают одни и их доходы/расходы более четко и размеренно \n",
    "контролируюся ими же, возможен так же психологический фактор - они расчитывают только на себя - подстраховать их некому, поэтому\n",
    "к обязательствам относятся более ответственно\n",
    "\n",
    "Женат/замужем - с одной стороны присутствуют внезапные статьи расхода средст на супруга, что может быть приорететней, чем \n",
    "погашение кредита, с другой стороны супруг может может финансово подстраховать - поэтому % невыплат чуть выше, чем у вдовцов/\n",
    "вдов и в разводе\n",
    "\n",
    "Гражданский брак и не женат/не замужем - у данных категорий заемщиков был самый высокий % невозврата кредита в долг, возможно\n",
    "это связано с личный уровнем ответсвенности, который как раз и повышается у тех, кто вступает в официальные отношения."
   ]
  },
  {
   "cell_type": "markdown",
   "id": "9529de68",
   "metadata": {
    "deletable": false,
    "editable": false,
    "id": "9529de68"
   },
   "source": [
    "#### 3.3 Есть ли зависимость между уровнем дохода и возвратом кредита в срок?"
   ]
  },
  {
   "cell_type": "code",
   "execution_count": 28,
   "id": "8787f44a",
   "metadata": {
    "deletable": false,
    "id": "8787f44a"
   },
   "outputs": [
    {
     "name": "stdout",
     "output_type": "stream",
     "text": [
      "                       debt                 \n",
      "                        sum  count      mean\n",
      "total_income_category                       \n",
      "A                         2     25  0.080000\n",
      "B                       354   5014  0.070602\n",
      "C                      1353  15921  0.084982\n",
      "D                        21    349  0.060172\n",
      "E                         2     22  0.090909\n"
     ]
    }
   ],
   "source": [
    "# Ваш код будет здесь. Вы можете создавать новые ячейки.\n",
    "data_pivot = data.pivot_table(index = ['total_income_category'], values = 'debt').round(3)\n",
    "#data_pivot.sort_values(by=\"debt\")\n",
    "data_grouped = data.groupby(\"total_income_category\").agg({\"debt\":['sum', \"count\", 'mean']})\n",
    "\n",
    "print(data_grouped)"
   ]
  },
  {
   "cell_type": "markdown",
   "id": "6dd14b57",
   "metadata": {
    "deletable": false,
    "id": "6dd14b57"
   },
   "source": [
    "**Вывод:** из данной выборки мы можем сделать заключение, что уровень дохода влияет на возврат кредита в срок. При этом самый высокий уровень дохода (категория А) не обеспечивает самую низкую вероятность невозврата кредита в срок.\n",
    "Категория дохода, имеющая самую низкию вероятность невозврата кредита в срок - категория D (доход от 50 тыс до 200 тыс)\n",
    "Категория дохода, имеющая самую высокую вероятность невозврата кредита в срок - категория E (доход до 50 тыс)"
   ]
  },
  {
   "cell_type": "markdown",
   "id": "d270b705",
   "metadata": {},
   "source": [
    "После применения метода agg мы видим общее кол-во заемщиков в разбивке по уровню дохода и число случаев невозврата кредита \n",
    "в долг в разбивке по уровню дохода.\n",
    "При общем количестве заемщиков 21 331 группы с уровнем дохода A,D,E по своему количеству не могут играть ориентир для \n",
    "формирования мнения о всех потенциальных людях с таким доходом. \n",
    "Если сравнивать группы с доходом B и С (98%) всех заемщиков из предоставленной выборки - у группы B меньше случаев невозврата\n",
    "кредита в долг."
   ]
  },
  {
   "cell_type": "markdown",
   "id": "1dcc9b12",
   "metadata": {
    "deletable": false,
    "editable": false,
    "id": "1dcc9b12"
   },
   "source": [
    "#### 3.4 Как разные цели кредита влияют на его возврат в срок?"
   ]
  },
  {
   "cell_type": "code",
   "execution_count": 29,
   "id": "c602bc8b",
   "metadata": {
    "deletable": false,
    "id": "c602bc8b"
   },
   "outputs": [
    {
     "data": {
      "text/html": [
       "<div>\n",
       "<style scoped>\n",
       "    .dataframe tbody tr th:only-of-type {\n",
       "        vertical-align: middle;\n",
       "    }\n",
       "\n",
       "    .dataframe tbody tr th {\n",
       "        vertical-align: top;\n",
       "    }\n",
       "\n",
       "    .dataframe thead th {\n",
       "        text-align: right;\n",
       "    }\n",
       "</style>\n",
       "<table border=\"1\" class=\"dataframe\">\n",
       "  <thead>\n",
       "    <tr style=\"text-align: right;\">\n",
       "      <th></th>\n",
       "      <th>debt</th>\n",
       "    </tr>\n",
       "    <tr>\n",
       "      <th>purpose_category</th>\n",
       "      <th></th>\n",
       "    </tr>\n",
       "  </thead>\n",
       "  <tbody>\n",
       "    <tr>\n",
       "      <th>операции с недвижимостью</th>\n",
       "      <td>0.073</td>\n",
       "    </tr>\n",
       "    <tr>\n",
       "      <th>проведение свадьбы</th>\n",
       "      <td>0.079</td>\n",
       "    </tr>\n",
       "    <tr>\n",
       "      <th>операции с автомобилем</th>\n",
       "      <td>0.093</td>\n",
       "    </tr>\n",
       "    <tr>\n",
       "      <th>получение образования</th>\n",
       "      <td>0.093</td>\n",
       "    </tr>\n",
       "  </tbody>\n",
       "</table>\n",
       "</div>"
      ],
      "text/plain": [
       "                           debt\n",
       "purpose_category               \n",
       "операции с недвижимостью  0.073\n",
       "проведение свадьбы        0.079\n",
       "операции с автомобилем    0.093\n",
       "получение образования     0.093"
      ]
     },
     "execution_count": 29,
     "metadata": {},
     "output_type": "execute_result"
    }
   ],
   "source": [
    "# Ваш код будет здесь. Вы можете создавать новые ячейки.\n",
    "data_pivot = data.pivot_table(index = ['purpose_category'], values = 'debt').round(3)\n",
    "data_pivot.sort_values(by=\"debt\")"
   ]
  },
  {
   "cell_type": "markdown",
   "id": "cf05ed63",
   "metadata": {
    "deletable": false,
    "id": "cf05ed63"
   },
   "source": [
    "**Вывод:** из данной выборки мы можем сделать заключение, что цель кредита влияет на возврат кредита в срок. \n",
    "При цели кредита \"операции с недвижимостью\" самый низкий процент вероятности невозврата кредита в срок. \n",
    "Самый высокий процент вероятности невозвата кредита в срок при целях кредитования \"операции с автомобилем\" и \"получение образования\""
   ]
  },
  {
   "cell_type": "markdown",
   "id": "46c1f10b",
   "metadata": {
    "deletable": false,
    "editable": false,
    "id": "46c1f10b"
   },
   "source": [
    "#### 3.5 Приведите возможные причины появления пропусков в исходных данных."
   ]
  },
  {
   "cell_type": "markdown",
   "id": "3697d2a9",
   "metadata": {
    "deletable": false,
    "id": "3697d2a9"
   },
   "source": [
    "*Ответ:*  основная возможая причина пропусков в исходных данных - проблема при выгрузке исходных данных.\n",
    "Логика рассуждения - пропустить данные значения при первичном опросе потенциального кредитного заемщика недопустима - так как это основные обязательные параметры. \n",
    "Человеческий фактор (некорректные данные при вводе) выявляется в виде аномалий, а не отсутствия данных как таковых.\n"
   ]
  },
  {
   "cell_type": "markdown",
   "id": "3137d257",
   "metadata": {
    "deletable": false,
    "editable": false,
    "id": "3137d257"
   },
   "source": [
    "#### 3.6 Объясните, почему заполнить пропуски медианным значением — лучшее решение для количественных переменных."
   ]
  },
  {
   "cell_type": "markdown",
   "id": "cf40012a",
   "metadata": {
    "deletable": false,
    "id": "cf40012a"
   },
   "source": [
    "*Ответ:* вопрос немного не раскрывает мысль, лучшее решение по сравнению с чем?\n",
    "1) лучше заполнять медианным значением, чем удалять строку с остальными заполненными ячейками полностью? в таком случае (удаление) мы потеряем часть выборки, которая актуальна и существенна - и при корректном заполнении всех остальных параметров должная входить в исследование. \n",
    "2) лучше заполнять медианным значением, чем средним значением? в таком случае медианное значение корректно, а среднее значение не отображает среднее значение набора данных."
   ]
  },
  {
   "cell_type": "markdown",
   "id": "6a6aee05",
   "metadata": {},
   "source": [
    "При идеальном симметричном распределении медиана будет равна средней.\n",
    "Так как выборка в большинстве своем не имеет идеального симметричного распределения, а так же возможно наличие случайных\n",
    "ошибок в виде некорректной информации (аномалии) - то при расчете методом средней это будет некорретное вычисление - \n",
    "получаемое значение будет не так правильно отображать информацию по выборке, как медиана.\n",
    "\n",
    "Именно поэтому медиана предпочтительней - это центральное числовое значение набора данных."
   ]
  },
  {
   "cell_type": "markdown",
   "id": "57bc304e",
   "metadata": {
    "deletable": false,
    "editable": false,
    "id": "57bc304e"
   },
   "source": [
    "### Шаг 4: общий вывод."
   ]
  },
  {
   "cell_type": "markdown",
   "id": "1ab75d1c",
   "metadata": {
    "deletable": false,
    "id": "1ab75d1c"
   },
   "source": [
    "Согласно данной выборке портрет лучшего кредитозаемщика - человек без детей, бывший и состоящий в настоящий момент в официальном браке, с уровнем дохода не ниже 50 тыс руб и целью кредитования \"операции с недвижимостью\".\n",
    "Дополнить данный портрет можно полом данного человека - мужчина это или женщина.\n",
    "Выборка сделать это позволяет, посколько присутствует столбец с обозначением пола (gender), но зависимость пола заемщика от выплаты кредита в срок мы не расчитывали."
   ]
  },
  {
   "cell_type": "markdown",
   "id": "5d2bae3d",
   "metadata": {},
   "source": [
    "В данном проекте мы исследовали четыре параметра и зависимость каждого параметра на возврат кредита в срок.\n",
    "\n",
    "первый параметр - количество детей. Их количество влияет на возврат кредита в срок. При количесвтве 5 детей в семье в данной выборке не было случаев невозврата кредита в долг, это не говорит о максимальной надежности таких заемщиков, это говрит о том, что такие случаи просто не попались в данную выборку. Так как далее мы видим, что меньше всего случаев невозрата кредита в семьях, где 0 детей. Это может объясняться тем, что при огранченных денежных средствах у заемщика в более высоком приоритете будут потребности детей по сравнению с обязанностью погасить кредит.\n",
    "\n",
    "второй параметр - семейное положение. Семейное положение влияет на возврат кредита в срок. Если у заемщика были или есть официально зарегестрированные отношения, это понижает вероятность невозврата кредита. При этом самые низкие показатели у вдовцов/вдов и у тех, кто в разводе. Самый высокий риск невозврата кредита в срок у не женатых/не замужних заемщиков.\n",
    "Предположу, что те, кто вдовцы/вдовы и в разводе - скорее всего проживают одни и их доходы/расходы более четко и размеренно \n",
    "контролируюся ими же, возможен так же психологический фактор - они расчитывают только на себя - подстраховать их некому, поэтому к обязательствам относятся более ответственно. Женат/замужем - с одной стороны присутствуют внезапные статьи расхода средст на супруга, что может быть приорететней, чем погашение кредита, с другой стороны супруг может может финансово подстраховать - поэтому % невыплат чуть выше, чем у вдовцов/вдов и в разводе. Гражданский брак и не женат/не замужем - у данных категорий заемщиков был самый высокий % невозврата кредита в долг, возможно это связано с личный уровнем ответсвенности, который как раз и повышается у тех, кто вступает в официальные отношения.\n",
    "\n",
    "третий параметр - уровень дохода. Он влияет на возрат кредита в срок. При общем количестве заемщиков 21 331 группы с уровнем дохода A,D,E по своему количеству не могут играть ориентир для формирования мнения о всех потенциальных людях с таким доходом. При сравнивнении групп с доходом B и С (98%) всех заемщиков из предоставленной выборки - у группы B меньше случаев невозврата\n",
    "кредита в долг.\n",
    "\n",
    "четвертый параметр - цель кредита. И она тоже влиет на возрат кредита в долг.При цели кредита \"операции с недвижимостью\" самый низкий процент вероятности невозврата кредита в срок. Среднюю позицию по рискам занимает цель \"проведение свадьбы\". Самый высокий процент вероятности невозвата кредита в срок при целях кредитования \"операции с автомобилем\" и \"получение образования\""
   ]
  },
  {
   "cell_type": "code",
   "execution_count": null,
   "id": "0f6b2509",
   "metadata": {},
   "outputs": [],
   "source": []
  }
 ],
 "metadata": {
  "ExecuteTimeLog": [
   {
    "duration": 531,
    "start_time": "2023-01-21T09:01:01.120Z"
   },
   {
    "duration": 21,
    "start_time": "2023-01-21T09:01:03.825Z"
   },
   {
    "duration": 15,
    "start_time": "2023-01-21T09:01:12.169Z"
   },
   {
    "duration": 10,
    "start_time": "2023-01-21T09:01:13.332Z"
   },
   {
    "duration": 34,
    "start_time": "2023-01-21T09:01:13.725Z"
   },
   {
    "duration": 3,
    "start_time": "2023-01-21T09:01:14.408Z"
   },
   {
    "duration": 7,
    "start_time": "2023-01-21T09:01:14.758Z"
   },
   {
    "duration": 4,
    "start_time": "2023-01-21T09:01:15.312Z"
   },
   {
    "duration": 8,
    "start_time": "2023-01-21T09:01:15.657Z"
   },
   {
    "duration": 4,
    "start_time": "2023-01-21T09:01:15.984Z"
   },
   {
    "duration": 34,
    "start_time": "2023-01-21T09:01:16.520Z"
   },
   {
    "duration": 8,
    "start_time": "2023-01-21T09:01:16.897Z"
   },
   {
    "duration": 4,
    "start_time": "2023-01-21T09:01:17.408Z"
   },
   {
    "duration": 11,
    "start_time": "2023-01-21T09:01:17.970Z"
   },
   {
    "duration": 19,
    "start_time": "2023-01-21T09:01:18.352Z"
   },
   {
    "duration": 17,
    "start_time": "2023-01-21T09:01:18.522Z"
   },
   {
    "duration": 4,
    "start_time": "2023-01-21T09:01:19.053Z"
   },
   {
    "duration": 10,
    "start_time": "2023-01-21T09:01:19.225Z"
   },
   {
    "duration": 6,
    "start_time": "2023-01-21T09:01:19.574Z"
   },
   {
    "duration": 3,
    "start_time": "2023-01-21T09:01:19.953Z"
   },
   {
    "duration": 8,
    "start_time": "2023-01-21T09:01:20.154Z"
   },
   {
    "duration": 3,
    "start_time": "2023-01-21T09:01:20.689Z"
   },
   {
    "duration": 3,
    "start_time": "2023-01-21T09:01:21.236Z"
   },
   {
    "duration": 2,
    "start_time": "2023-01-21T09:01:21.804Z"
   },
   {
    "duration": 13,
    "start_time": "2023-01-21T09:03:22.499Z"
   },
   {
    "duration": 18,
    "start_time": "2023-01-21T09:25:28.210Z"
   },
   {
    "duration": 72,
    "start_time": "2023-01-21T09:26:15.994Z"
   },
   {
    "duration": 14,
    "start_time": "2023-01-21T09:37:06.850Z"
   },
   {
    "duration": 80,
    "start_time": "2023-01-21T09:37:30.371Z"
   },
   {
    "duration": 15,
    "start_time": "2023-01-21T09:38:23.136Z"
   },
   {
    "duration": 15,
    "start_time": "2023-01-21T09:39:19.547Z"
   },
   {
    "duration": 18,
    "start_time": "2023-01-21T09:39:37.165Z"
   },
   {
    "duration": 19,
    "start_time": "2023-01-21T09:39:45.932Z"
   },
   {
    "duration": 17,
    "start_time": "2023-01-21T09:54:28.642Z"
   },
   {
    "duration": 25,
    "start_time": "2023-01-21T10:00:40.474Z"
   },
   {
    "duration": 17,
    "start_time": "2023-01-21T10:01:40.904Z"
   },
   {
    "duration": 19,
    "start_time": "2023-01-21T10:11:15.212Z"
   },
   {
    "duration": 51,
    "start_time": "2023-01-21T20:24:04.702Z"
   },
   {
    "duration": 722,
    "start_time": "2023-01-21T20:24:28.519Z"
   },
   {
    "duration": 24,
    "start_time": "2023-01-21T20:24:34.706Z"
   },
   {
    "duration": 16,
    "start_time": "2023-01-21T20:24:35.149Z"
   },
   {
    "duration": 11,
    "start_time": "2023-01-21T20:24:37.115Z"
   },
   {
    "duration": 40,
    "start_time": "2023-01-21T20:24:38.036Z"
   },
   {
    "duration": 4,
    "start_time": "2023-01-21T20:24:39.391Z"
   },
   {
    "duration": 8,
    "start_time": "2023-01-21T20:24:40.445Z"
   },
   {
    "duration": 5,
    "start_time": "2023-01-21T20:24:43.073Z"
   },
   {
    "duration": 18,
    "start_time": "2023-01-21T20:24:43.080Z"
   },
   {
    "duration": 6,
    "start_time": "2023-01-21T20:24:44.268Z"
   },
   {
    "duration": 48,
    "start_time": "2023-01-21T20:24:45.766Z"
   },
   {
    "duration": 10,
    "start_time": "2023-01-21T20:24:47.092Z"
   },
   {
    "duration": 4,
    "start_time": "2023-01-21T20:24:48.517Z"
   },
   {
    "duration": 12,
    "start_time": "2023-01-21T20:24:49.985Z"
   },
   {
    "duration": 20,
    "start_time": "2023-01-21T20:24:50.835Z"
   },
   {
    "duration": 17,
    "start_time": "2023-01-21T20:24:51.256Z"
   },
   {
    "duration": 3,
    "start_time": "2023-01-21T20:24:52.240Z"
   },
   {
    "duration": 14,
    "start_time": "2023-01-21T20:24:52.405Z"
   },
   {
    "duration": 5,
    "start_time": "2023-01-21T20:24:52.730Z"
   },
   {
    "duration": 4,
    "start_time": "2023-01-21T20:24:53.114Z"
   },
   {
    "duration": 9,
    "start_time": "2023-01-21T20:24:53.308Z"
   },
   {
    "duration": 21,
    "start_time": "2023-01-21T20:24:54.162Z"
   },
   {
    "duration": 24,
    "start_time": "2023-01-21T20:24:58.166Z"
   },
   {
    "duration": 17,
    "start_time": "2023-01-21T20:25:00.303Z"
   },
   {
    "duration": 19,
    "start_time": "2023-01-21T20:25:04.072Z"
   },
   {
    "duration": 23,
    "start_time": "2023-01-21T20:25:08.050Z"
   },
   {
    "duration": 23,
    "start_time": "2023-01-21T20:25:34.882Z"
   },
   {
    "duration": 23,
    "start_time": "2023-01-21T20:25:59.604Z"
   },
   {
    "duration": 50,
    "start_time": "2023-01-22T17:04:30.512Z"
   },
   {
    "duration": 7,
    "start_time": "2023-01-22T17:04:52.342Z"
   },
   {
    "duration": 7,
    "start_time": "2023-01-22T17:04:55.834Z"
   },
   {
    "duration": 6,
    "start_time": "2023-01-22T17:05:11.970Z"
   },
   {
    "duration": 7,
    "start_time": "2023-01-22T17:05:15.117Z"
   },
   {
    "duration": 482,
    "start_time": "2023-01-22T17:05:21.247Z"
   },
   {
    "duration": 26,
    "start_time": "2023-01-22T17:05:23.029Z"
   },
   {
    "duration": 15,
    "start_time": "2023-01-22T17:05:24.411Z"
   },
   {
    "duration": 9,
    "start_time": "2023-01-22T17:05:26.860Z"
   },
   {
    "duration": 30,
    "start_time": "2023-01-22T17:05:28.380Z"
   },
   {
    "duration": 3,
    "start_time": "2023-01-22T17:05:30.131Z"
   },
   {
    "duration": 8,
    "start_time": "2023-01-22T17:05:31.315Z"
   },
   {
    "duration": 6,
    "start_time": "2023-01-22T17:05:33.046Z"
   },
   {
    "duration": 9,
    "start_time": "2023-01-22T17:05:34.024Z"
   },
   {
    "duration": 5,
    "start_time": "2023-01-22T17:05:36.359Z"
   },
   {
    "duration": 33,
    "start_time": "2023-01-22T17:05:36.720Z"
   },
   {
    "duration": 10,
    "start_time": "2023-01-22T17:05:38.784Z"
   },
   {
    "duration": 4,
    "start_time": "2023-01-22T17:05:40.580Z"
   },
   {
    "duration": 11,
    "start_time": "2023-01-22T17:05:41.960Z"
   },
   {
    "duration": 20,
    "start_time": "2023-01-22T17:05:43.073Z"
   },
   {
    "duration": 17,
    "start_time": "2023-01-22T17:05:43.610Z"
   },
   {
    "duration": 4,
    "start_time": "2023-01-22T17:05:45.721Z"
   },
   {
    "duration": 16,
    "start_time": "2023-01-22T17:05:46.206Z"
   },
   {
    "duration": 6,
    "start_time": "2023-01-22T17:05:47.472Z"
   },
   {
    "duration": 4,
    "start_time": "2023-01-22T17:05:48.924Z"
   },
   {
    "duration": 10,
    "start_time": "2023-01-22T17:05:49.412Z"
   },
   {
    "duration": 20,
    "start_time": "2023-01-22T17:05:55.485Z"
   },
   {
    "duration": 37,
    "start_time": "2023-01-22T17:05:58.788Z"
   },
   {
    "duration": 21,
    "start_time": "2023-01-22T17:06:16.472Z"
   },
   {
    "duration": 26,
    "start_time": "2023-01-22T17:07:36.908Z"
   },
   {
    "duration": 26,
    "start_time": "2023-01-22T17:08:00.921Z"
   },
   {
    "duration": 36,
    "start_time": "2023-01-22T17:08:55.117Z"
   },
   {
    "duration": 33,
    "start_time": "2023-01-22T17:09:18.222Z"
   },
   {
    "duration": 73,
    "start_time": "2023-01-22T17:09:40.422Z"
   },
   {
    "duration": 38,
    "start_time": "2023-01-22T17:10:00.838Z"
   },
   {
    "duration": 19,
    "start_time": "2023-01-22T17:12:03.267Z"
   },
   {
    "duration": 5,
    "start_time": "2023-01-22T17:18:49.316Z"
   },
   {
    "duration": 75,
    "start_time": "2023-01-22T17:19:13.446Z"
   },
   {
    "duration": 40,
    "start_time": "2023-01-22T17:19:30.204Z"
   },
   {
    "duration": 3,
    "start_time": "2023-01-22T17:19:32.479Z"
   },
   {
    "duration": 39,
    "start_time": "2023-01-22T17:19:32.962Z"
   },
   {
    "duration": 39,
    "start_time": "2023-01-22T17:19:45.478Z"
   },
   {
    "duration": 40,
    "start_time": "2023-01-22T17:19:47.527Z"
   },
   {
    "duration": 4,
    "start_time": "2023-01-22T17:19:48.718Z"
   },
   {
    "duration": 37,
    "start_time": "2023-01-22T17:19:49.918Z"
   },
   {
    "duration": 42,
    "start_time": "2023-01-22T17:20:00.127Z"
   },
   {
    "duration": 4,
    "start_time": "2023-01-22T17:20:03.648Z"
   },
   {
    "duration": 51,
    "start_time": "2023-01-22T17:20:04.403Z"
   },
   {
    "duration": 36,
    "start_time": "2023-01-22T17:20:17.003Z"
   },
   {
    "duration": 22,
    "start_time": "2023-01-22T17:33:40.249Z"
   },
   {
    "duration": 572,
    "start_time": "2023-01-23T08:07:51.826Z"
   },
   {
    "duration": 25,
    "start_time": "2023-01-23T08:07:52.400Z"
   },
   {
    "duration": 41,
    "start_time": "2023-01-23T08:07:52.427Z"
   },
   {
    "duration": 37,
    "start_time": "2023-01-23T08:07:52.471Z"
   },
   {
    "duration": 57,
    "start_time": "2023-01-23T08:07:52.510Z"
   },
   {
    "duration": 4,
    "start_time": "2023-01-23T08:07:52.569Z"
   },
   {
    "duration": 24,
    "start_time": "2023-01-23T08:07:52.575Z"
   },
   {
    "duration": 21,
    "start_time": "2023-01-23T08:07:52.602Z"
   },
   {
    "duration": 29,
    "start_time": "2023-01-23T08:07:52.626Z"
   },
   {
    "duration": 20,
    "start_time": "2023-01-23T08:07:52.660Z"
   },
   {
    "duration": 105,
    "start_time": "2023-01-23T08:07:52.682Z"
   },
   {
    "duration": 12,
    "start_time": "2023-01-23T08:07:52.789Z"
   },
   {
    "duration": 8,
    "start_time": "2023-01-23T08:07:52.803Z"
   },
   {
    "duration": 16,
    "start_time": "2023-01-23T08:07:52.813Z"
   },
   {
    "duration": 30,
    "start_time": "2023-01-23T08:07:52.831Z"
   },
   {
    "duration": 46,
    "start_time": "2023-01-23T08:07:52.863Z"
   },
   {
    "duration": 4,
    "start_time": "2023-01-23T08:07:52.911Z"
   },
   {
    "duration": 19,
    "start_time": "2023-01-23T08:07:52.916Z"
   },
   {
    "duration": 11,
    "start_time": "2023-01-23T08:07:52.936Z"
   },
   {
    "duration": 7,
    "start_time": "2023-01-23T08:07:52.949Z"
   },
   {
    "duration": 14,
    "start_time": "2023-01-23T08:07:52.983Z"
   },
   {
    "duration": 35,
    "start_time": "2023-01-23T08:07:52.999Z"
   },
   {
    "duration": 23,
    "start_time": "2023-01-23T08:07:53.036Z"
   },
   {
    "duration": 95,
    "start_time": "2023-01-23T08:07:53.061Z"
   },
   {
    "duration": 0,
    "start_time": "2023-01-23T08:07:53.158Z"
   },
   {
    "duration": 0,
    "start_time": "2023-01-23T08:07:53.160Z"
   },
   {
    "duration": 0,
    "start_time": "2023-01-23T08:07:53.161Z"
   },
   {
    "duration": 0,
    "start_time": "2023-01-23T08:07:53.162Z"
   },
   {
    "duration": 21,
    "start_time": "2023-01-23T08:08:00.190Z"
   },
   {
    "duration": 19,
    "start_time": "2023-01-23T08:08:02.632Z"
   },
   {
    "duration": 10,
    "start_time": "2023-01-23T08:09:08.378Z"
   },
   {
    "duration": 6,
    "start_time": "2023-01-23T08:09:36.974Z"
   },
   {
    "duration": 14,
    "start_time": "2023-01-23T08:09:45.812Z"
   },
   {
    "duration": 51,
    "start_time": "2023-01-23T08:26:04.178Z"
   },
   {
    "duration": 753,
    "start_time": "2023-01-23T08:26:11.880Z"
   },
   {
    "duration": 28,
    "start_time": "2023-01-23T08:26:12.784Z"
   },
   {
    "duration": 15,
    "start_time": "2023-01-23T08:26:13.510Z"
   },
   {
    "duration": 10,
    "start_time": "2023-01-23T08:26:14.334Z"
   },
   {
    "duration": 53,
    "start_time": "2023-01-23T08:26:14.670Z"
   },
   {
    "duration": 4,
    "start_time": "2023-01-23T08:26:15.175Z"
   },
   {
    "duration": 10,
    "start_time": "2023-01-23T08:26:15.505Z"
   },
   {
    "duration": 6,
    "start_time": "2023-01-23T08:26:16.014Z"
   },
   {
    "duration": 8,
    "start_time": "2023-01-23T08:26:16.374Z"
   },
   {
    "duration": 6,
    "start_time": "2023-01-23T08:26:16.718Z"
   },
   {
    "duration": 51,
    "start_time": "2023-01-23T08:26:17.249Z"
   },
   {
    "duration": 11,
    "start_time": "2023-01-23T08:26:17.600Z"
   },
   {
    "duration": 3,
    "start_time": "2023-01-23T08:26:18.278Z"
   },
   {
    "duration": 11,
    "start_time": "2023-01-23T08:26:18.839Z"
   },
   {
    "duration": 21,
    "start_time": "2023-01-23T08:26:19.190Z"
   },
   {
    "duration": 17,
    "start_time": "2023-01-23T08:26:19.381Z"
   },
   {
    "duration": 4,
    "start_time": "2023-01-23T08:26:19.918Z"
   },
   {
    "duration": 12,
    "start_time": "2023-01-23T08:26:20.094Z"
   },
   {
    "duration": 5,
    "start_time": "2023-01-23T08:26:20.481Z"
   },
   {
    "duration": 2,
    "start_time": "2023-01-23T08:26:20.838Z"
   },
   {
    "duration": 8,
    "start_time": "2023-01-23T08:26:21.024Z"
   },
   {
    "duration": 23,
    "start_time": "2023-01-23T08:26:21.592Z"
   },
   {
    "duration": 22,
    "start_time": "2023-01-23T08:26:23.099Z"
   },
   {
    "duration": 23,
    "start_time": "2023-01-23T08:26:48.072Z"
   },
   {
    "duration": 44,
    "start_time": "2023-01-23T08:27:46.431Z"
   },
   {
    "duration": 61,
    "start_time": "2023-01-23T08:29:04.040Z"
   },
   {
    "duration": 27,
    "start_time": "2023-01-23T08:29:15.677Z"
   },
   {
    "duration": 28,
    "start_time": "2023-01-23T08:29:33.669Z"
   },
   {
    "duration": 26,
    "start_time": "2023-01-23T08:30:00.514Z"
   },
   {
    "duration": 13,
    "start_time": "2023-01-23T08:30:09.757Z"
   },
   {
    "duration": 23,
    "start_time": "2023-01-23T08:30:20.127Z"
   },
   {
    "duration": 41,
    "start_time": "2023-01-23T08:33:38.633Z"
   },
   {
    "duration": 19,
    "start_time": "2023-01-23T08:34:01.978Z"
   },
   {
    "duration": 27,
    "start_time": "2023-01-23T08:34:18.888Z"
   },
   {
    "duration": 80,
    "start_time": "2023-06-02T19:52:21.110Z"
   }
  ],
  "colab": {
   "provenance": []
  },
  "kernelspec": {
   "display_name": "Python 3 (ipykernel)",
   "language": "python",
   "name": "python3"
  },
  "language_info": {
   "codemirror_mode": {
    "name": "ipython",
    "version": 3
   },
   "file_extension": ".py",
   "mimetype": "text/x-python",
   "name": "python",
   "nbconvert_exporter": "python",
   "pygments_lexer": "ipython3",
   "version": "3.9.16"
  },
  "toc": {
   "base_numbering": 1,
   "nav_menu": {},
   "number_sections": true,
   "sideBar": true,
   "skip_h1_title": true,
   "title_cell": "Оглавление",
   "title_sidebar": "Contents",
   "toc_cell": true,
   "toc_position": {
    "height": "calc(100% - 180px)",
    "left": "10px",
    "top": "150px",
    "width": "303.542px"
   },
   "toc_section_display": true,
   "toc_window_display": true
  }
 },
 "nbformat": 4,
 "nbformat_minor": 5
}
