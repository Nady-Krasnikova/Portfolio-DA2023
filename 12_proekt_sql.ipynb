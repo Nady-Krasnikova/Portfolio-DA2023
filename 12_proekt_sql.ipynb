{
 "cells": [
  {
   "cell_type": "markdown",
   "metadata": {
    "toc": true
   },
   "source": [
    "<h1>Оглавление<span class=\"tocSkip\"></span></h1>\n",
    "<div class=\"toc\"><ul class=\"toc-item\"><li><span><a href=\"#Финальный-проект-SQL-&quot;Анализ-базы-данных-сервиса-для-чтения-книг&quot;\" data-toc-modified-id=\"Финальный-проект-SQL-&quot;Анализ-базы-данных-сервиса-для-чтения-книг&quot;-1\"><span class=\"toc-item-num\">1&nbsp;&nbsp;</span>Финальный проект SQL \"Анализ базы данных сервиса для чтения книг\"</a></span></li><li><span><a href=\"#Описание-проета\" data-toc-modified-id=\"Описание-проета-2\"><span class=\"toc-item-num\">2&nbsp;&nbsp;</span>Описание проета</a></span></li><li><span><a href=\"#Цель-исследования\" data-toc-modified-id=\"Цель-исследования-3\"><span class=\"toc-item-num\">3&nbsp;&nbsp;</span>Цель исследования</a></span></li><li><span><a href=\"#Импорт-необходимых-бибилиотек\" data-toc-modified-id=\"Импорт-необходимых-бибилиотек-4\"><span class=\"toc-item-num\">4&nbsp;&nbsp;</span>Импорт необходимых бибилиотек</a></span></li><li><span><a href=\"#Ознакомление-с-базой-данных\" data-toc-modified-id=\"Ознакомление-с-базой-данных-5\"><span class=\"toc-item-num\">5&nbsp;&nbsp;</span>Ознакомление с базой данных</a></span></li><li><span><a href=\"#Схема-базы-данных\" data-toc-modified-id=\"Схема-базы-данных-6\"><span class=\"toc-item-num\">6&nbsp;&nbsp;</span>Схема базы данных</a></span></li><li><span><a href=\"#Задания\" data-toc-modified-id=\"Задания-7\"><span class=\"toc-item-num\">7&nbsp;&nbsp;</span>Задания</a></span><ul class=\"toc-item\"><li><span><a href=\"#Посчитайте,-сколько-книг-вышло-после-1-января-2000-года\" data-toc-modified-id=\"Посчитайте,-сколько-книг-вышло-после-1-января-2000-года-7.1\"><span class=\"toc-item-num\">7.1&nbsp;&nbsp;</span>Посчитайте, сколько книг вышло после 1 января 2000 года</a></span></li><li><span><a href=\"#Для-каждой-книги-посчитайте-количество-обзоров-и-среднюю-оценку\" data-toc-modified-id=\"Для-каждой-книги-посчитайте-количество-обзоров-и-среднюю-оценку-7.2\"><span class=\"toc-item-num\">7.2&nbsp;&nbsp;</span>Для каждой книги посчитайте количество обзоров и среднюю оценку</a></span></li><li><span><a href=\"#Определите-издательство,-которое-выпустило-наибольшее-число-книг-толще-50-страниц\" data-toc-modified-id=\"Определите-издательство,-которое-выпустило-наибольшее-число-книг-толще-50-страниц-7.3\"><span class=\"toc-item-num\">7.3&nbsp;&nbsp;</span>Определите издательство, которое выпустило наибольшее число книг толще 50 страниц</a></span></li><li><span><a href=\"#Определите-автора-с-самой-высокой-средней-оценкой-книг-—-учитывайте-только-книги-с-50-и-более-оценками\" data-toc-modified-id=\"Определите-автора-с-самой-высокой-средней-оценкой-книг-—-учитывайте-только-книги-с-50-и-более-оценками-7.4\"><span class=\"toc-item-num\">7.4&nbsp;&nbsp;</span>Определите автора с самой высокой средней оценкой книг — учитывайте только книги с 50 и более оценками</a></span></li><li><span><a href=\"#Посчитайте-среднее-количество-обзоров-от-пользователей,-которые-поставили-больше-48-оценок\" data-toc-modified-id=\"Посчитайте-среднее-количество-обзоров-от-пользователей,-которые-поставили-больше-48-оценок-7.5\"><span class=\"toc-item-num\">7.5&nbsp;&nbsp;</span>Посчитайте среднее количество обзоров от пользователей, которые поставили больше 48 оценок</a></span></li></ul></li><li><span><a href=\"#Выводы-по-анализу-базы\" data-toc-modified-id=\"Выводы-по-анализу-базы-8\"><span class=\"toc-item-num\">8&nbsp;&nbsp;</span>Выводы по анализу базы</a></span></li><li><span><a href=\"#Рекомендации-для-развития-сервиса\" data-toc-modified-id=\"Рекомендации-для-развития-сервиса-9\"><span class=\"toc-item-num\">9&nbsp;&nbsp;</span>Рекомендации для развития сервиса</a></span></li></ul></div>"
   ]
  },
  {
   "cell_type": "markdown",
   "metadata": {},
   "source": [
    "## Финальный проект SQL \"Анализ базы данных сервиса для чтения книг\""
   ]
  },
  {
   "cell_type": "markdown",
   "metadata": {},
   "source": [
    "## Описание проета"
   ]
  },
  {
   "cell_type": "markdown",
   "metadata": {},
   "source": [
    "<div style=\"border:solid blue 2px; padding: 20px\">\n",
    "\n",
    "    \n",
    "**Коронавирус застал мир врасплох, изменив привычный порядок вещей. В свободное время жители городов больше не выходят на улицу, не посещают кафе и торговые центры. Зато стало больше времени для книг. Это заметили стартаперы — и бросились создавать приложения для тех, кто любит читать.\n",
    "Моя компания решила быть на волне и купила крупный сервис для чтения книг по подписке. Моя первая задача как аналитика — проанализировать базу данных.\n",
    "В ней — информация о книгах, издательствах, авторах, а также пользовательские обзоры книг. Эти данные помогут сформулировать ценностное предложение для нового продукта.**"
   ]
  },
  {
   "cell_type": "markdown",
   "metadata": {},
   "source": [
    "## Цель исследования"
   ]
  },
  {
   "cell_type": "markdown",
   "metadata": {},
   "source": [
    "Проанализировать информацию в базе данных с помощью инструмента SQL.  \n",
    "Будет пять заданий на выгрузку определенной информации.  \n",
    "Эти данные помогут сформулировать ценностное предложение для нового продукта."
   ]
  },
  {
   "cell_type": "markdown",
   "metadata": {},
   "source": [
    "## Импорт необходимых бибилиотек"
   ]
  },
  {
   "cell_type": "code",
   "execution_count": 1,
   "metadata": {},
   "outputs": [],
   "source": [
    "# импортируем библиотеки\n",
    "import pandas as pd\n",
    "from sqlalchemy import text, create_engine"
   ]
  },
  {
   "cell_type": "code",
   "execution_count": 2,
   "metadata": {},
   "outputs": [],
   "source": [
    "# устанавливаем параметры\n",
    "db_config = {'user': 'praktikum_student', # имя пользователя\n",
    "'pwd': 'Sdf4$2;d-d30pp', # пароль\n",
    "'host': 'rc1b-wcoijxj3yxfsf3fs.mdb.yandexcloud.net',\n",
    "'port': 6432, # порт подключения\n",
    "'db': 'data-analyst-final-project-db'} # название базы данных\n",
    "connection_string = 'postgresql://{user}:{pwd}@{host}:{port}/{db}'.format(**db_config)\n",
    "# сохраняем коннектор\n",
    "engine = create_engine(connection_string, connect_args={'sslmode':'require'})"
   ]
  },
  {
   "cell_type": "markdown",
   "metadata": {},
   "source": [
    "## Ознакомление с базой данных"
   ]
  },
  {
   "cell_type": "markdown",
   "metadata": {},
   "source": [
    "__Таблица books__  \n",
    "Содержит данные о книгах:  \n",
    "book_id — идентификатор книги;  \n",
    "author_id — идентификатор автора;  \n",
    "title — название книги;  \n",
    "num_pages — количество страниц;  \n",
    "publication_date — дата публикации книги;  \n",
    "publisher_id — идентификатор издателя.  "
   ]
  },
  {
   "cell_type": "markdown",
   "metadata": {},
   "source": [
    "<div class=\"alert alert-info\" style=\"border-radius: 15px; box-shadow: 4px 4px 4px; border: 1px solid \" ><b"
   ]
  },
  {
   "cell_type": "code",
   "execution_count": 3,
   "metadata": {},
   "outputs": [
    {
     "data": {
      "text/html": [
       "<div>\n",
       "<style scoped>\n",
       "    .dataframe tbody tr th:only-of-type {\n",
       "        vertical-align: middle;\n",
       "    }\n",
       "\n",
       "    .dataframe tbody tr th {\n",
       "        vertical-align: top;\n",
       "    }\n",
       "\n",
       "    .dataframe thead th {\n",
       "        text-align: right;\n",
       "    }\n",
       "</style>\n",
       "<table border=\"1\" class=\"dataframe\">\n",
       "  <thead>\n",
       "    <tr style=\"text-align: right;\">\n",
       "      <th></th>\n",
       "      <th>book_id</th>\n",
       "      <th>author_id</th>\n",
       "      <th>title</th>\n",
       "      <th>num_pages</th>\n",
       "      <th>publication_date</th>\n",
       "      <th>publisher_id</th>\n",
       "    </tr>\n",
       "  </thead>\n",
       "  <tbody>\n",
       "    <tr>\n",
       "      <th>0</th>\n",
       "      <td>1</td>\n",
       "      <td>546</td>\n",
       "      <td>'Salem's Lot</td>\n",
       "      <td>594</td>\n",
       "      <td>2005-11-01</td>\n",
       "      <td>93</td>\n",
       "    </tr>\n",
       "    <tr>\n",
       "      <th>1</th>\n",
       "      <td>2</td>\n",
       "      <td>465</td>\n",
       "      <td>1 000 Places to See Before You Die</td>\n",
       "      <td>992</td>\n",
       "      <td>2003-05-22</td>\n",
       "      <td>336</td>\n",
       "    </tr>\n",
       "    <tr>\n",
       "      <th>2</th>\n",
       "      <td>3</td>\n",
       "      <td>407</td>\n",
       "      <td>13 Little Blue Envelopes (Little Blue Envelope...</td>\n",
       "      <td>322</td>\n",
       "      <td>2010-12-21</td>\n",
       "      <td>135</td>\n",
       "    </tr>\n",
       "    <tr>\n",
       "      <th>3</th>\n",
       "      <td>4</td>\n",
       "      <td>82</td>\n",
       "      <td>1491: New Revelations of the Americas Before C...</td>\n",
       "      <td>541</td>\n",
       "      <td>2006-10-10</td>\n",
       "      <td>309</td>\n",
       "    </tr>\n",
       "    <tr>\n",
       "      <th>4</th>\n",
       "      <td>5</td>\n",
       "      <td>125</td>\n",
       "      <td>1776</td>\n",
       "      <td>386</td>\n",
       "      <td>2006-07-04</td>\n",
       "      <td>268</td>\n",
       "    </tr>\n",
       "  </tbody>\n",
       "</table>\n",
       "</div>"
      ],
      "text/plain": [
       "   book_id  author_id                                              title  \\\n",
       "0        1        546                                       'Salem's Lot   \n",
       "1        2        465                 1 000 Places to See Before You Die   \n",
       "2        3        407  13 Little Blue Envelopes (Little Blue Envelope...   \n",
       "3        4         82  1491: New Revelations of the Americas Before C...   \n",
       "4        5        125                                               1776   \n",
       "\n",
       "   num_pages publication_date  publisher_id  \n",
       "0        594       2005-11-01            93  \n",
       "1        992       2003-05-22           336  \n",
       "2        322       2010-12-21           135  \n",
       "3        541       2006-10-10           309  \n",
       "4        386       2006-07-04           268  "
      ]
     },
     "execution_count": 3,
     "metadata": {},
     "output_type": "execute_result"
    }
   ],
   "source": [
    "query = '''SELECT * FROM books LIMIT 5'''\n",
    "con=engine.connect()\n",
    "pd.io.sql.read_sql(sql=text(query), con = con)"
   ]
  },
  {
   "cell_type": "markdown",
   "metadata": {},
   "source": [
    "__Таблица authors__  \n",
    "Содержит данные об авторах:  \n",
    "author_id — идентификатор автора;  \n",
    "author — имя автора.  "
   ]
  },
  {
   "cell_type": "markdown",
   "metadata": {},
   "source": [
    "<div class=\"alert alert-info\" style=\"border-radius: 15px; box-shadow: 4px 4px 4px; border: 1px solid \" ><b"
   ]
  },
  {
   "cell_type": "code",
   "execution_count": 5,
   "metadata": {},
   "outputs": [
    {
     "data": {
      "text/html": [
       "<div>\n",
       "<style scoped>\n",
       "    .dataframe tbody tr th:only-of-type {\n",
       "        vertical-align: middle;\n",
       "    }\n",
       "\n",
       "    .dataframe tbody tr th {\n",
       "        vertical-align: top;\n",
       "    }\n",
       "\n",
       "    .dataframe thead th {\n",
       "        text-align: right;\n",
       "    }\n",
       "</style>\n",
       "<table border=\"1\" class=\"dataframe\">\n",
       "  <thead>\n",
       "    <tr style=\"text-align: right;\">\n",
       "      <th></th>\n",
       "      <th>author_id</th>\n",
       "      <th>author</th>\n",
       "    </tr>\n",
       "  </thead>\n",
       "  <tbody>\n",
       "    <tr>\n",
       "      <th>0</th>\n",
       "      <td>1</td>\n",
       "      <td>A.S. Byatt</td>\n",
       "    </tr>\n",
       "    <tr>\n",
       "      <th>1</th>\n",
       "      <td>2</td>\n",
       "      <td>Aesop/Laura Harris/Laura Gibbs</td>\n",
       "    </tr>\n",
       "    <tr>\n",
       "      <th>2</th>\n",
       "      <td>3</td>\n",
       "      <td>Agatha Christie</td>\n",
       "    </tr>\n",
       "    <tr>\n",
       "      <th>3</th>\n",
       "      <td>4</td>\n",
       "      <td>Alan Brennert</td>\n",
       "    </tr>\n",
       "    <tr>\n",
       "      <th>4</th>\n",
       "      <td>5</td>\n",
       "      <td>Alan Moore/David   Lloyd</td>\n",
       "    </tr>\n",
       "  </tbody>\n",
       "</table>\n",
       "</div>"
      ],
      "text/plain": [
       "   author_id                          author\n",
       "0          1                      A.S. Byatt\n",
       "1          2  Aesop/Laura Harris/Laura Gibbs\n",
       "2          3                 Agatha Christie\n",
       "3          4                   Alan Brennert\n",
       "4          5        Alan Moore/David   Lloyd"
      ]
     },
     "execution_count": 5,
     "metadata": {},
     "output_type": "execute_result"
    }
   ],
   "source": [
    "query = '''SELECT * FROM authors LIMIT 5'''\n",
    "pd.io.sql.read_sql(sql=text(query), con = con)"
   ]
  },
  {
   "cell_type": "markdown",
   "metadata": {},
   "source": [
    "__Таблица publishers__  \n",
    "Содержит данные об издательствах:  \n",
    "publisher_id — идентификатор издательства;  \n",
    "publisher — название издательства;"
   ]
  },
  {
   "cell_type": "markdown",
   "metadata": {},
   "source": [
    "<div class=\"alert alert-info\" style=\"border-radius: 15px; box-shadow: 4px 4px 4px; border: 1px solid \" ><b"
   ]
  },
  {
   "cell_type": "code",
   "execution_count": 6,
   "metadata": {},
   "outputs": [
    {
     "data": {
      "text/html": [
       "<div>\n",
       "<style scoped>\n",
       "    .dataframe tbody tr th:only-of-type {\n",
       "        vertical-align: middle;\n",
       "    }\n",
       "\n",
       "    .dataframe tbody tr th {\n",
       "        vertical-align: top;\n",
       "    }\n",
       "\n",
       "    .dataframe thead th {\n",
       "        text-align: right;\n",
       "    }\n",
       "</style>\n",
       "<table border=\"1\" class=\"dataframe\">\n",
       "  <thead>\n",
       "    <tr style=\"text-align: right;\">\n",
       "      <th></th>\n",
       "      <th>publisher_id</th>\n",
       "      <th>publisher</th>\n",
       "    </tr>\n",
       "  </thead>\n",
       "  <tbody>\n",
       "    <tr>\n",
       "      <th>0</th>\n",
       "      <td>1</td>\n",
       "      <td>Ace</td>\n",
       "    </tr>\n",
       "    <tr>\n",
       "      <th>1</th>\n",
       "      <td>2</td>\n",
       "      <td>Ace Book</td>\n",
       "    </tr>\n",
       "    <tr>\n",
       "      <th>2</th>\n",
       "      <td>3</td>\n",
       "      <td>Ace Books</td>\n",
       "    </tr>\n",
       "    <tr>\n",
       "      <th>3</th>\n",
       "      <td>4</td>\n",
       "      <td>Ace Hardcover</td>\n",
       "    </tr>\n",
       "    <tr>\n",
       "      <th>4</th>\n",
       "      <td>5</td>\n",
       "      <td>Addison Wesley Publishing Company</td>\n",
       "    </tr>\n",
       "  </tbody>\n",
       "</table>\n",
       "</div>"
      ],
      "text/plain": [
       "   publisher_id                          publisher\n",
       "0             1                                Ace\n",
       "1             2                           Ace Book\n",
       "2             3                          Ace Books\n",
       "3             4                      Ace Hardcover\n",
       "4             5  Addison Wesley Publishing Company"
      ]
     },
     "execution_count": 6,
     "metadata": {},
     "output_type": "execute_result"
    }
   ],
   "source": [
    "query = '''SELECT * FROM publishers LIMIT 5'''\n",
    "pd.io.sql.read_sql(sql=text(query), con = con)"
   ]
  },
  {
   "cell_type": "markdown",
   "metadata": {},
   "source": [
    "__Таблица ratings__  \n",
    "Содержит данные о пользовательских оценках книг:  \n",
    "rating_id — идентификатор оценки;  \n",
    "book_id — идентификатор книги;  \n",
    "username — имя пользователя, оставившего оценку;  \n",
    "rating — оценка книги. "
   ]
  },
  {
   "cell_type": "markdown",
   "metadata": {},
   "source": [
    "<div class=\"alert alert-info\" style=\"border-radius: 15px; box-shadow: 4px 4px 4px; border: 1px solid \" ><b"
   ]
  },
  {
   "cell_type": "code",
   "execution_count": 7,
   "metadata": {},
   "outputs": [
    {
     "data": {
      "text/html": [
       "<div>\n",
       "<style scoped>\n",
       "    .dataframe tbody tr th:only-of-type {\n",
       "        vertical-align: middle;\n",
       "    }\n",
       "\n",
       "    .dataframe tbody tr th {\n",
       "        vertical-align: top;\n",
       "    }\n",
       "\n",
       "    .dataframe thead th {\n",
       "        text-align: right;\n",
       "    }\n",
       "</style>\n",
       "<table border=\"1\" class=\"dataframe\">\n",
       "  <thead>\n",
       "    <tr style=\"text-align: right;\">\n",
       "      <th></th>\n",
       "      <th>rating_id</th>\n",
       "      <th>book_id</th>\n",
       "      <th>username</th>\n",
       "      <th>rating</th>\n",
       "    </tr>\n",
       "  </thead>\n",
       "  <tbody>\n",
       "    <tr>\n",
       "      <th>0</th>\n",
       "      <td>1</td>\n",
       "      <td>1</td>\n",
       "      <td>ryanfranco</td>\n",
       "      <td>4</td>\n",
       "    </tr>\n",
       "    <tr>\n",
       "      <th>1</th>\n",
       "      <td>2</td>\n",
       "      <td>1</td>\n",
       "      <td>grantpatricia</td>\n",
       "      <td>2</td>\n",
       "    </tr>\n",
       "    <tr>\n",
       "      <th>2</th>\n",
       "      <td>3</td>\n",
       "      <td>1</td>\n",
       "      <td>brandtandrea</td>\n",
       "      <td>5</td>\n",
       "    </tr>\n",
       "    <tr>\n",
       "      <th>3</th>\n",
       "      <td>4</td>\n",
       "      <td>2</td>\n",
       "      <td>lorichen</td>\n",
       "      <td>3</td>\n",
       "    </tr>\n",
       "    <tr>\n",
       "      <th>4</th>\n",
       "      <td>5</td>\n",
       "      <td>2</td>\n",
       "      <td>mariokeller</td>\n",
       "      <td>2</td>\n",
       "    </tr>\n",
       "  </tbody>\n",
       "</table>\n",
       "</div>"
      ],
      "text/plain": [
       "   rating_id  book_id       username  rating\n",
       "0          1        1     ryanfranco       4\n",
       "1          2        1  grantpatricia       2\n",
       "2          3        1   brandtandrea       5\n",
       "3          4        2       lorichen       3\n",
       "4          5        2    mariokeller       2"
      ]
     },
     "execution_count": 7,
     "metadata": {},
     "output_type": "execute_result"
    }
   ],
   "source": [
    "query = '''SELECT * FROM ratings LIMIT 5'''\n",
    "pd.io.sql.read_sql(sql=text(query), con = con)"
   ]
  },
  {
   "cell_type": "markdown",
   "metadata": {},
   "source": [
    "__Таблица reviews__  \n",
    "Содержит данные о пользовательских обзорах на книги:  \n",
    "review_id — идентификатор обзора;  \n",
    "book_id — идентификатор книги;  \n",
    "username — имя пользователя, написавшего обзор;  \n",
    "text — текст обзора.  "
   ]
  },
  {
   "cell_type": "markdown",
   "metadata": {},
   "source": [
    "<div class=\"alert alert-info\" style=\"border-radius: 15px; box-shadow: 4px 4px 4px; border: 1px solid \" ><b"
   ]
  },
  {
   "cell_type": "code",
   "execution_count": 8,
   "metadata": {},
   "outputs": [
    {
     "data": {
      "text/html": [
       "<div>\n",
       "<style scoped>\n",
       "    .dataframe tbody tr th:only-of-type {\n",
       "        vertical-align: middle;\n",
       "    }\n",
       "\n",
       "    .dataframe tbody tr th {\n",
       "        vertical-align: top;\n",
       "    }\n",
       "\n",
       "    .dataframe thead th {\n",
       "        text-align: right;\n",
       "    }\n",
       "</style>\n",
       "<table border=\"1\" class=\"dataframe\">\n",
       "  <thead>\n",
       "    <tr style=\"text-align: right;\">\n",
       "      <th></th>\n",
       "      <th>review_id</th>\n",
       "      <th>book_id</th>\n",
       "      <th>username</th>\n",
       "      <th>text</th>\n",
       "    </tr>\n",
       "  </thead>\n",
       "  <tbody>\n",
       "    <tr>\n",
       "      <th>0</th>\n",
       "      <td>1</td>\n",
       "      <td>1</td>\n",
       "      <td>brandtandrea</td>\n",
       "      <td>Mention society tell send professor analysis. ...</td>\n",
       "    </tr>\n",
       "    <tr>\n",
       "      <th>1</th>\n",
       "      <td>2</td>\n",
       "      <td>1</td>\n",
       "      <td>ryanfranco</td>\n",
       "      <td>Foot glass pretty audience hit themselves. Amo...</td>\n",
       "    </tr>\n",
       "    <tr>\n",
       "      <th>2</th>\n",
       "      <td>3</td>\n",
       "      <td>2</td>\n",
       "      <td>lorichen</td>\n",
       "      <td>Listen treat keep worry. Miss husband tax but ...</td>\n",
       "    </tr>\n",
       "    <tr>\n",
       "      <th>3</th>\n",
       "      <td>4</td>\n",
       "      <td>3</td>\n",
       "      <td>johnsonamanda</td>\n",
       "      <td>Finally month interesting blue could nature cu...</td>\n",
       "    </tr>\n",
       "    <tr>\n",
       "      <th>4</th>\n",
       "      <td>5</td>\n",
       "      <td>3</td>\n",
       "      <td>scotttamara</td>\n",
       "      <td>Nation purpose heavy give wait song will. List...</td>\n",
       "    </tr>\n",
       "  </tbody>\n",
       "</table>\n",
       "</div>"
      ],
      "text/plain": [
       "   review_id  book_id       username  \\\n",
       "0          1        1   brandtandrea   \n",
       "1          2        1     ryanfranco   \n",
       "2          3        2       lorichen   \n",
       "3          4        3  johnsonamanda   \n",
       "4          5        3    scotttamara   \n",
       "\n",
       "                                                text  \n",
       "0  Mention society tell send professor analysis. ...  \n",
       "1  Foot glass pretty audience hit themselves. Amo...  \n",
       "2  Listen treat keep worry. Miss husband tax but ...  \n",
       "3  Finally month interesting blue could nature cu...  \n",
       "4  Nation purpose heavy give wait song will. List...  "
      ]
     },
     "execution_count": 8,
     "metadata": {},
     "output_type": "execute_result"
    }
   ],
   "source": [
    "query = '''SELECT * FROM reviews LIMIT 5'''\n",
    "pd.io.sql.read_sql(sql=text(query), con = con)"
   ]
  },
  {
   "cell_type": "markdown",
   "metadata": {},
   "source": [
    "## Схема базы данных"
   ]
  },
  {
   "attachments": {
    "image.png": {
     "image/png": "[encoded data removed]"
    }
   },
   "cell_type": "markdown",
   "metadata": {},
   "source": [
    "![image.png](attachment:image.png)"
   ]
  },
  {
   "cell_type": "markdown",
   "metadata": {},
   "source": [
    "## Задания"
   ]
  },
  {
   "cell_type": "markdown",
   "metadata": {},
   "source": [
    "### Посчитайте, сколько книг вышло после 1 января 2000 года"
   ]
  },
  {
   "cell_type": "code",
   "execution_count": 9,
   "metadata": {},
   "outputs": [
    {
     "data": {
      "text/html": [
       "<div>\n",
       "<style scoped>\n",
       "    .dataframe tbody tr th:only-of-type {\n",
       "        vertical-align: middle;\n",
       "    }\n",
       "\n",
       "    .dataframe tbody tr th {\n",
       "        vertical-align: top;\n",
       "    }\n",
       "\n",
       "    .dataframe thead th {\n",
       "        text-align: right;\n",
       "    }\n",
       "</style>\n",
       "<table border=\"1\" class=\"dataframe\">\n",
       "  <thead>\n",
       "    <tr style=\"text-align: right;\">\n",
       "      <th></th>\n",
       "      <th>count</th>\n",
       "    </tr>\n",
       "  </thead>\n",
       "  <tbody>\n",
       "    <tr>\n",
       "      <th>0</th>\n",
       "      <td>819</td>\n",
       "    </tr>\n",
       "  </tbody>\n",
       "</table>\n",
       "</div>"
      ],
      "text/plain": [
       "   count\n",
       "0    819"
      ]
     },
     "execution_count": 9,
     "metadata": {},
     "output_type": "execute_result"
    }
   ],
   "source": [
    "query = '''SELECT COUNT (book_id)\n",
    "FROM books\n",
    "WHERE publication_date > '2000-01-01'; '''\n",
    "pd.io.sql.read_sql(sql=text(query), con = con)"
   ]
  },
  {
   "cell_type": "markdown",
   "metadata": {},
   "source": [
    "В нашей базе данных есть информация о 819 книгах, вышедших после 1 января 2020 года"
   ]
  },
  {
   "cell_type": "markdown",
   "metadata": {},
   "source": [
    "### Для каждой книги посчитайте количество обзоров и среднюю оценку"
   ]
  },
  {
   "cell_type": "markdown",
   "metadata": {},
   "source": [
    "выполним эту задачу пошагово для понимания процесса запроса"
   ]
  },
  {
   "cell_type": "code",
   "execution_count": 16,
   "metadata": {},
   "outputs": [
    {
     "data": {
      "text/html": [
       "<div>\n",
       "<style scoped>\n",
       "    .dataframe tbody tr th:only-of-type {\n",
       "        vertical-align: middle;\n",
       "    }\n",
       "\n",
       "    .dataframe tbody tr th {\n",
       "        vertical-align: top;\n",
       "    }\n",
       "\n",
       "    .dataframe thead th {\n",
       "        text-align: right;\n",
       "    }\n",
       "</style>\n",
       "<table border=\"1\" class=\"dataframe\">\n",
       "  <thead>\n",
       "    <tr style=\"text-align: right;\">\n",
       "      <th></th>\n",
       "      <th>book_id</th>\n",
       "      <th>title</th>\n",
       "    </tr>\n",
       "  </thead>\n",
       "  <tbody>\n",
       "    <tr>\n",
       "      <th>0</th>\n",
       "      <td>1</td>\n",
       "      <td>'Salem's Lot</td>\n",
       "    </tr>\n",
       "    <tr>\n",
       "      <th>1</th>\n",
       "      <td>2</td>\n",
       "      <td>1 000 Places to See Before You Die</td>\n",
       "    </tr>\n",
       "    <tr>\n",
       "      <th>2</th>\n",
       "      <td>3</td>\n",
       "      <td>13 Little Blue Envelopes (Little Blue Envelope...</td>\n",
       "    </tr>\n",
       "    <tr>\n",
       "      <th>3</th>\n",
       "      <td>4</td>\n",
       "      <td>1491: New Revelations of the Americas Before C...</td>\n",
       "    </tr>\n",
       "    <tr>\n",
       "      <th>4</th>\n",
       "      <td>5</td>\n",
       "      <td>1776</td>\n",
       "    </tr>\n",
       "    <tr>\n",
       "      <th>...</th>\n",
       "      <td>...</td>\n",
       "      <td>...</td>\n",
       "    </tr>\n",
       "    <tr>\n",
       "      <th>995</th>\n",
       "      <td>996</td>\n",
       "      <td>Wyrd Sisters (Discworld  #6; Witches #2)</td>\n",
       "    </tr>\n",
       "    <tr>\n",
       "      <th>996</th>\n",
       "      <td>997</td>\n",
       "      <td>Xenocide (Ender's Saga  #3)</td>\n",
       "    </tr>\n",
       "    <tr>\n",
       "      <th>997</th>\n",
       "      <td>998</td>\n",
       "      <td>Year of Wonders</td>\n",
       "    </tr>\n",
       "    <tr>\n",
       "      <th>998</th>\n",
       "      <td>999</td>\n",
       "      <td>You Suck (A Love Story  #2)</td>\n",
       "    </tr>\n",
       "    <tr>\n",
       "      <th>999</th>\n",
       "      <td>1000</td>\n",
       "      <td>Zen and the Art of Motorcycle Maintenance: An ...</td>\n",
       "    </tr>\n",
       "  </tbody>\n",
       "</table>\n",
       "<p>1000 rows × 2 columns</p>\n",
       "</div>"
      ],
      "text/plain": [
       "     book_id                                              title\n",
       "0          1                                       'Salem's Lot\n",
       "1          2                 1 000 Places to See Before You Die\n",
       "2          3  13 Little Blue Envelopes (Little Blue Envelope...\n",
       "3          4  1491: New Revelations of the Americas Before C...\n",
       "4          5                                               1776\n",
       "..       ...                                                ...\n",
       "995      996           Wyrd Sisters (Discworld  #6; Witches #2)\n",
       "996      997                        Xenocide (Ender's Saga  #3)\n",
       "997      998                                    Year of Wonders\n",
       "998      999                        You Suck (A Love Story  #2)\n",
       "999     1000  Zen and the Art of Motorcycle Maintenance: An ...\n",
       "\n",
       "[1000 rows x 2 columns]"
      ]
     },
     "execution_count": 16,
     "metadata": {},
     "output_type": "execute_result"
    }
   ],
   "source": [
    "#главная таблица books - данные из нее не должны пропасть, даже если у книги нет обзоров или оценок, мы должны ее показать\n",
    "#посмотрим сколько книг всего есть\n",
    "\n",
    "query = '''SELECT book_id, title   \n",
    "           FROM books;\n",
    "        '''\n",
    "pd.io.sql.read_sql(sql=text(query), con = con)\n"
   ]
  },
  {
   "cell_type": "code",
   "execution_count": 17,
   "metadata": {},
   "outputs": [
    {
     "data": {
      "text/html": [
       "<div>\n",
       "<style scoped>\n",
       "    .dataframe tbody tr th:only-of-type {\n",
       "        vertical-align: middle;\n",
       "    }\n",
       "\n",
       "    .dataframe tbody tr th {\n",
       "        vertical-align: top;\n",
       "    }\n",
       "\n",
       "    .dataframe thead th {\n",
       "        text-align: right;\n",
       "    }\n",
       "</style>\n",
       "<table border=\"1\" class=\"dataframe\">\n",
       "  <thead>\n",
       "    <tr style=\"text-align: right;\">\n",
       "      <th></th>\n",
       "      <th>book_id</th>\n",
       "      <th>count_rev</th>\n",
       "    </tr>\n",
       "  </thead>\n",
       "  <tbody>\n",
       "    <tr>\n",
       "      <th>0</th>\n",
       "      <td>652</td>\n",
       "      <td>2</td>\n",
       "    </tr>\n",
       "    <tr>\n",
       "      <th>1</th>\n",
       "      <td>273</td>\n",
       "      <td>2</td>\n",
       "    </tr>\n",
       "    <tr>\n",
       "      <th>2</th>\n",
       "      <td>51</td>\n",
       "      <td>5</td>\n",
       "    </tr>\n",
       "    <tr>\n",
       "      <th>3</th>\n",
       "      <td>951</td>\n",
       "      <td>2</td>\n",
       "    </tr>\n",
       "    <tr>\n",
       "      <th>4</th>\n",
       "      <td>839</td>\n",
       "      <td>4</td>\n",
       "    </tr>\n",
       "    <tr>\n",
       "      <th>...</th>\n",
       "      <td>...</td>\n",
       "      <td>...</td>\n",
       "    </tr>\n",
       "    <tr>\n",
       "      <th>989</th>\n",
       "      <td>64</td>\n",
       "      <td>4</td>\n",
       "    </tr>\n",
       "    <tr>\n",
       "      <th>990</th>\n",
       "      <td>55</td>\n",
       "      <td>2</td>\n",
       "    </tr>\n",
       "    <tr>\n",
       "      <th>991</th>\n",
       "      <td>148</td>\n",
       "      <td>3</td>\n",
       "    </tr>\n",
       "    <tr>\n",
       "      <th>992</th>\n",
       "      <td>790</td>\n",
       "      <td>2</td>\n",
       "    </tr>\n",
       "    <tr>\n",
       "      <th>993</th>\n",
       "      <td>828</td>\n",
       "      <td>2</td>\n",
       "    </tr>\n",
       "  </tbody>\n",
       "</table>\n",
       "<p>994 rows × 2 columns</p>\n",
       "</div>"
      ],
      "text/plain": [
       "     book_id  count_rev\n",
       "0        652          2\n",
       "1        273          2\n",
       "2         51          5\n",
       "3        951          2\n",
       "4        839          4\n",
       "..       ...        ...\n",
       "989       64          4\n",
       "990       55          2\n",
       "991      148          3\n",
       "992      790          2\n",
       "993      828          2\n",
       "\n",
       "[994 rows x 2 columns]"
      ]
     },
     "execution_count": 17,
     "metadata": {},
     "output_type": "execute_result"
    }
   ],
   "source": [
    "#далее к этим данным по book_id (ключ) мы должны присоеденить количество обзоров по каждой книге из одной таблицы\n",
    "#сделаем на это запрос. Количество обзоров нужно переименовать, что бы потом к нему обращаться\n",
    "\n",
    "query = '''SELECT book_id, COUNT(review_id) AS count_rev  \n",
    "           FROM reviews\n",
    "           GROUP BY book_id;\n",
    "        '''\n",
    "pd.io.sql.read_sql(sql=text(query), con = con)"
   ]
  },
  {
   "cell_type": "markdown",
   "metadata": {},
   "source": [
    "получилось меньше, чем книг, значит не на каждую книгу есть обзор"
   ]
  },
  {
   "cell_type": "code",
   "execution_count": 18,
   "metadata": {},
   "outputs": [
    {
     "data": {
      "text/html": [
       "<div>\n",
       "<style scoped>\n",
       "    .dataframe tbody tr th:only-of-type {\n",
       "        vertical-align: middle;\n",
       "    }\n",
       "\n",
       "    .dataframe tbody tr th {\n",
       "        vertical-align: top;\n",
       "    }\n",
       "\n",
       "    .dataframe thead th {\n",
       "        text-align: right;\n",
       "    }\n",
       "</style>\n",
       "<table border=\"1\" class=\"dataframe\">\n",
       "  <thead>\n",
       "    <tr style=\"text-align: right;\">\n",
       "      <th></th>\n",
       "      <th>book_id</th>\n",
       "      <th>avg_rat</th>\n",
       "    </tr>\n",
       "  </thead>\n",
       "  <tbody>\n",
       "    <tr>\n",
       "      <th>0</th>\n",
       "      <td>652</td>\n",
       "      <td>4.500000</td>\n",
       "    </tr>\n",
       "    <tr>\n",
       "      <th>1</th>\n",
       "      <td>273</td>\n",
       "      <td>4.500000</td>\n",
       "    </tr>\n",
       "    <tr>\n",
       "      <th>2</th>\n",
       "      <td>51</td>\n",
       "      <td>4.250000</td>\n",
       "    </tr>\n",
       "    <tr>\n",
       "      <th>3</th>\n",
       "      <td>951</td>\n",
       "      <td>4.000000</td>\n",
       "    </tr>\n",
       "    <tr>\n",
       "      <th>4</th>\n",
       "      <td>839</td>\n",
       "      <td>4.285714</td>\n",
       "    </tr>\n",
       "    <tr>\n",
       "      <th>...</th>\n",
       "      <td>...</td>\n",
       "      <td>...</td>\n",
       "    </tr>\n",
       "    <tr>\n",
       "      <th>995</th>\n",
       "      <td>64</td>\n",
       "      <td>4.230769</td>\n",
       "    </tr>\n",
       "    <tr>\n",
       "      <th>996</th>\n",
       "      <td>55</td>\n",
       "      <td>5.000000</td>\n",
       "    </tr>\n",
       "    <tr>\n",
       "      <th>997</th>\n",
       "      <td>148</td>\n",
       "      <td>3.428571</td>\n",
       "    </tr>\n",
       "    <tr>\n",
       "      <th>998</th>\n",
       "      <td>790</td>\n",
       "      <td>3.500000</td>\n",
       "    </tr>\n",
       "    <tr>\n",
       "      <th>999</th>\n",
       "      <td>828</td>\n",
       "      <td>3.000000</td>\n",
       "    </tr>\n",
       "  </tbody>\n",
       "</table>\n",
       "<p>1000 rows × 2 columns</p>\n",
       "</div>"
      ],
      "text/plain": [
       "     book_id   avg_rat\n",
       "0        652  4.500000\n",
       "1        273  4.500000\n",
       "2         51  4.250000\n",
       "3        951  4.000000\n",
       "4        839  4.285714\n",
       "..       ...       ...\n",
       "995       64  4.230769\n",
       "996       55  5.000000\n",
       "997      148  3.428571\n",
       "998      790  3.500000\n",
       "999      828  3.000000\n",
       "\n",
       "[1000 rows x 2 columns]"
      ]
     },
     "execution_count": 18,
     "metadata": {},
     "output_type": "execute_result"
    }
   ],
   "source": [
    "#далее к первичным данным по book_id (ключ) мы должны присоеденить средний рейтинг по каждой книге из другой таблицы \n",
    "#сделаем на это запрос. Средний рейтинг нужно переименовать, что бы потом к нему обращаться\n",
    "query = '''SELECT book_id, AVG(rating) AS avg_rat \n",
    "           FROM ratings\n",
    "           GROUP BY book_id;\n",
    "        '''\n",
    "pd.io.sql.read_sql(sql=text(query), con = con)"
   ]
  },
  {
   "cell_type": "markdown",
   "metadata": {},
   "source": [
    "у каждой книги есть рейтинг"
   ]
  },
  {
   "cell_type": "code",
   "execution_count": 19,
   "metadata": {},
   "outputs": [
    {
     "data": {
      "text/html": [
       "<div>\n",
       "<style scoped>\n",
       "    .dataframe tbody tr th:only-of-type {\n",
       "        vertical-align: middle;\n",
       "    }\n",
       "\n",
       "    .dataframe tbody tr th {\n",
       "        vertical-align: top;\n",
       "    }\n",
       "\n",
       "    .dataframe thead th {\n",
       "        text-align: right;\n",
       "    }\n",
       "</style>\n",
       "<table border=\"1\" class=\"dataframe\">\n",
       "  <thead>\n",
       "    <tr style=\"text-align: right;\">\n",
       "      <th></th>\n",
       "      <th>book_id</th>\n",
       "      <th>title</th>\n",
       "      <th>count_rev</th>\n",
       "      <th>avg_rat</th>\n",
       "    </tr>\n",
       "  </thead>\n",
       "  <tbody>\n",
       "    <tr>\n",
       "      <th>0</th>\n",
       "      <td>1</td>\n",
       "      <td>'Salem's Lot</td>\n",
       "      <td>2.0</td>\n",
       "      <td>3.666667</td>\n",
       "    </tr>\n",
       "    <tr>\n",
       "      <th>1</th>\n",
       "      <td>2</td>\n",
       "      <td>1 000 Places to See Before You Die</td>\n",
       "      <td>1.0</td>\n",
       "      <td>2.500000</td>\n",
       "    </tr>\n",
       "    <tr>\n",
       "      <th>2</th>\n",
       "      <td>3</td>\n",
       "      <td>13 Little Blue Envelopes (Little Blue Envelope...</td>\n",
       "      <td>3.0</td>\n",
       "      <td>4.666667</td>\n",
       "    </tr>\n",
       "    <tr>\n",
       "      <th>3</th>\n",
       "      <td>4</td>\n",
       "      <td>1491: New Revelations of the Americas Before C...</td>\n",
       "      <td>2.0</td>\n",
       "      <td>4.500000</td>\n",
       "    </tr>\n",
       "    <tr>\n",
       "      <th>4</th>\n",
       "      <td>5</td>\n",
       "      <td>1776</td>\n",
       "      <td>4.0</td>\n",
       "      <td>4.000000</td>\n",
       "    </tr>\n",
       "    <tr>\n",
       "      <th>...</th>\n",
       "      <td>...</td>\n",
       "      <td>...</td>\n",
       "      <td>...</td>\n",
       "      <td>...</td>\n",
       "    </tr>\n",
       "    <tr>\n",
       "      <th>995</th>\n",
       "      <td>996</td>\n",
       "      <td>Wyrd Sisters (Discworld  #6; Witches #2)</td>\n",
       "      <td>3.0</td>\n",
       "      <td>3.666667</td>\n",
       "    </tr>\n",
       "    <tr>\n",
       "      <th>996</th>\n",
       "      <td>997</td>\n",
       "      <td>Xenocide (Ender's Saga  #3)</td>\n",
       "      <td>3.0</td>\n",
       "      <td>3.400000</td>\n",
       "    </tr>\n",
       "    <tr>\n",
       "      <th>997</th>\n",
       "      <td>998</td>\n",
       "      <td>Year of Wonders</td>\n",
       "      <td>4.0</td>\n",
       "      <td>3.200000</td>\n",
       "    </tr>\n",
       "    <tr>\n",
       "      <th>998</th>\n",
       "      <td>999</td>\n",
       "      <td>You Suck (A Love Story  #2)</td>\n",
       "      <td>2.0</td>\n",
       "      <td>4.500000</td>\n",
       "    </tr>\n",
       "    <tr>\n",
       "      <th>999</th>\n",
       "      <td>1000</td>\n",
       "      <td>Zen and the Art of Motorcycle Maintenance: An ...</td>\n",
       "      <td>4.0</td>\n",
       "      <td>3.833333</td>\n",
       "    </tr>\n",
       "  </tbody>\n",
       "</table>\n",
       "<p>1000 rows × 4 columns</p>\n",
       "</div>"
      ],
      "text/plain": [
       "     book_id                                              title  count_rev  \\\n",
       "0          1                                       'Salem's Lot        2.0   \n",
       "1          2                 1 000 Places to See Before You Die        1.0   \n",
       "2          3  13 Little Blue Envelopes (Little Blue Envelope...        3.0   \n",
       "3          4  1491: New Revelations of the Americas Before C...        2.0   \n",
       "4          5                                               1776        4.0   \n",
       "..       ...                                                ...        ...   \n",
       "995      996           Wyrd Sisters (Discworld  #6; Witches #2)        3.0   \n",
       "996      997                        Xenocide (Ender's Saga  #3)        3.0   \n",
       "997      998                                    Year of Wonders        4.0   \n",
       "998      999                        You Suck (A Love Story  #2)        2.0   \n",
       "999     1000  Zen and the Art of Motorcycle Maintenance: An ...        4.0   \n",
       "\n",
       "      avg_rat  \n",
       "0    3.666667  \n",
       "1    2.500000  \n",
       "2    4.666667  \n",
       "3    4.500000  \n",
       "4    4.000000  \n",
       "..        ...  \n",
       "995  3.666667  \n",
       "996  3.400000  \n",
       "997  3.200000  \n",
       "998  4.500000  \n",
       "999  3.833333  \n",
       "\n",
       "[1000 rows x 4 columns]"
      ]
     },
     "execution_count": 19,
     "metadata": {},
     "output_type": "execute_result"
    }
   ],
   "source": [
    "#собираем в единую конструкцию - ставим поздапрос при объеденении\n",
    "query = '''\n",
    "SELECT    b.book_id,\n",
    "          b.title,\n",
    "          rev.count_rev,\n",
    "          rat.avg_rat\n",
    "\n",
    "FROM books AS b\n",
    "\n",
    "LEFT OUTER JOIN \n",
    "(\n",
    "SELECT book_id, \n",
    "       COUNT(review_id) AS count_rev \n",
    "FROM reviews\n",
    "GROUP BY book_id) AS rev ON b.book_id=rev.book_id\n",
    "\n",
    "LEFT OUTER JOIN\n",
    "(\n",
    "SELECT book_id, \n",
    "       AVG(rating) AS avg_rat   \n",
    "FROM ratings\n",
    "GROUP BY book_id) AS rat ON b.book_id=rat.book_id\n",
    "ORDER BY b.title;\n",
    "\n",
    "'''\n",
    "pd.io.sql.read_sql(sql=text(query), con = con)"
   ]
  },
  {
   "cell_type": "markdown",
   "metadata": {},
   "source": [
    "В нашей базе есть 1000 книг. Таблица отсортирована по названию книги. Отдельным столбцом выведено количество отзывов и средний рейтинг по каждой книге. Рейтинг есть у каждой книги, а вот обзора нет у 6 книг."
   ]
  },
  {
   "cell_type": "markdown",
   "metadata": {},
   "source": [
    "### Определите издательство, которое выпустило наибольшее число книг толще 50 страниц"
   ]
  },
  {
   "cell_type": "code",
   "execution_count": 20,
   "metadata": {},
   "outputs": [
    {
     "data": {
      "text/html": [
       "<div>\n",
       "<style scoped>\n",
       "    .dataframe tbody tr th:only-of-type {\n",
       "        vertical-align: middle;\n",
       "    }\n",
       "\n",
       "    .dataframe tbody tr th {\n",
       "        vertical-align: top;\n",
       "    }\n",
       "\n",
       "    .dataframe thead th {\n",
       "        text-align: right;\n",
       "    }\n",
       "</style>\n",
       "<table border=\"1\" class=\"dataframe\">\n",
       "  <thead>\n",
       "    <tr style=\"text-align: right;\">\n",
       "      <th></th>\n",
       "      <th>publisher</th>\n",
       "      <th>count</th>\n",
       "    </tr>\n",
       "  </thead>\n",
       "  <tbody>\n",
       "    <tr>\n",
       "      <th>0</th>\n",
       "      <td>Penguin Books</td>\n",
       "      <td>42</td>\n",
       "    </tr>\n",
       "  </tbody>\n",
       "</table>\n",
       "</div>"
      ],
      "text/plain": [
       "       publisher  count\n",
       "0  Penguin Books     42"
      ]
     },
     "execution_count": 20,
     "metadata": {},
     "output_type": "execute_result"
    }
   ],
   "source": [
    "query = '''SELECT p.publisher,\n",
    "COUNT(b.book_id)\n",
    "\n",
    "FROM publishers AS p\n",
    "\n",
    "LEFT OUTER JOIN books AS b ON p.publisher_id=b.publisher_id\n",
    "\n",
    "WHERE b.num_pages>50\n",
    "\n",
    "GROUP BY p.publisher\n",
    "ORDER BY COUNT(b.book_id) DESC\n",
    "LIMIT 1;\n",
    "\n",
    "        '''\n",
    "pd.io.sql.read_sql(sql=text(query), con = con)"
   ]
  },
  {
   "cell_type": "markdown",
   "metadata": {},
   "source": [
    "Наибольшее число книг толще 50 страниц выпустило издательство Penguin Books\t- 42 книги."
   ]
  },
  {
   "cell_type": "markdown",
   "metadata": {},
   "source": [
    "### Определите автора с самой высокой средней оценкой книг — учитывайте только книги с 50 и более оценками"
   ]
  },
  {
   "cell_type": "markdown",
   "metadata": {},
   "source": [
    "выполним эту задачу пошагово для понимания процесса запроса"
   ]
  },
  {
   "cell_type": "code",
   "execution_count": 23,
   "metadata": {},
   "outputs": [
    {
     "data": {
      "text/html": [
       "<div>\n",
       "<style scoped>\n",
       "    .dataframe tbody tr th:only-of-type {\n",
       "        vertical-align: middle;\n",
       "    }\n",
       "\n",
       "    .dataframe tbody tr th {\n",
       "        vertical-align: top;\n",
       "    }\n",
       "\n",
       "    .dataframe thead th {\n",
       "        text-align: right;\n",
       "    }\n",
       "</style>\n",
       "<table border=\"1\" class=\"dataframe\">\n",
       "  <thead>\n",
       "    <tr style=\"text-align: right;\">\n",
       "      <th></th>\n",
       "      <th>author_id</th>\n",
       "      <th>book_id</th>\n",
       "      <th>avg_rat</th>\n",
       "    </tr>\n",
       "  </thead>\n",
       "  <tbody>\n",
       "    <tr>\n",
       "      <th>0</th>\n",
       "      <td>106</td>\n",
       "      <td>75</td>\n",
       "      <td>3.678571</td>\n",
       "    </tr>\n",
       "    <tr>\n",
       "      <th>1</th>\n",
       "      <td>240</td>\n",
       "      <td>750</td>\n",
       "      <td>4.125000</td>\n",
       "    </tr>\n",
       "    <tr>\n",
       "      <th>2</th>\n",
       "      <td>630</td>\n",
       "      <td>545</td>\n",
       "      <td>3.787879</td>\n",
       "    </tr>\n",
       "    <tr>\n",
       "      <th>3</th>\n",
       "      <td>554</td>\n",
       "      <td>948</td>\n",
       "      <td>3.662500</td>\n",
       "    </tr>\n",
       "    <tr>\n",
       "      <th>4</th>\n",
       "      <td>311</td>\n",
       "      <td>488</td>\n",
       "      <td>3.622951</td>\n",
       "    </tr>\n",
       "    <tr>\n",
       "      <th>5</th>\n",
       "      <td>106</td>\n",
       "      <td>696</td>\n",
       "      <td>3.830508</td>\n",
       "    </tr>\n",
       "    <tr>\n",
       "      <th>6</th>\n",
       "      <td>240</td>\n",
       "      <td>722</td>\n",
       "      <td>4.391892</td>\n",
       "    </tr>\n",
       "    <tr>\n",
       "      <th>7</th>\n",
       "      <td>469</td>\n",
       "      <td>627</td>\n",
       "      <td>3.789474</td>\n",
       "    </tr>\n",
       "    <tr>\n",
       "      <th>8</th>\n",
       "      <td>372</td>\n",
       "      <td>733</td>\n",
       "      <td>3.750000</td>\n",
       "    </tr>\n",
       "    <tr>\n",
       "      <th>9</th>\n",
       "      <td>498</td>\n",
       "      <td>779</td>\n",
       "      <td>4.080645</td>\n",
       "    </tr>\n",
       "    <tr>\n",
       "      <th>10</th>\n",
       "      <td>621</td>\n",
       "      <td>405</td>\n",
       "      <td>3.901408</td>\n",
       "    </tr>\n",
       "    <tr>\n",
       "      <th>11</th>\n",
       "      <td>236</td>\n",
       "      <td>302</td>\n",
       "      <td>4.414634</td>\n",
       "    </tr>\n",
       "    <tr>\n",
       "      <th>12</th>\n",
       "      <td>235</td>\n",
       "      <td>673</td>\n",
       "      <td>3.825581</td>\n",
       "    </tr>\n",
       "    <tr>\n",
       "      <th>13</th>\n",
       "      <td>236</td>\n",
       "      <td>300</td>\n",
       "      <td>4.246575</td>\n",
       "    </tr>\n",
       "    <tr>\n",
       "      <th>14</th>\n",
       "      <td>236</td>\n",
       "      <td>299</td>\n",
       "      <td>4.287500</td>\n",
       "    </tr>\n",
       "    <tr>\n",
       "      <th>15</th>\n",
       "      <td>236</td>\n",
       "      <td>301</td>\n",
       "      <td>4.186667</td>\n",
       "    </tr>\n",
       "    <tr>\n",
       "      <th>16</th>\n",
       "      <td>376</td>\n",
       "      <td>399</td>\n",
       "      <td>4.192308</td>\n",
       "    </tr>\n",
       "    <tr>\n",
       "      <th>17</th>\n",
       "      <td>195</td>\n",
       "      <td>79</td>\n",
       "      <td>3.729730</td>\n",
       "    </tr>\n",
       "    <tr>\n",
       "      <th>18</th>\n",
       "      <td>402</td>\n",
       "      <td>656</td>\n",
       "      <td>4.264151</td>\n",
       "    </tr>\n",
       "  </tbody>\n",
       "</table>\n",
       "</div>"
      ],
      "text/plain": [
       "    author_id  book_id   avg_rat\n",
       "0         106       75  3.678571\n",
       "1         240      750  4.125000\n",
       "2         630      545  3.787879\n",
       "3         554      948  3.662500\n",
       "4         311      488  3.622951\n",
       "5         106      696  3.830508\n",
       "6         240      722  4.391892\n",
       "7         469      627  3.789474\n",
       "8         372      733  3.750000\n",
       "9         498      779  4.080645\n",
       "10        621      405  3.901408\n",
       "11        236      302  4.414634\n",
       "12        235      673  3.825581\n",
       "13        236      300  4.246575\n",
       "14        236      299  4.287500\n",
       "15        236      301  4.186667\n",
       "16        376      399  4.192308\n",
       "17        195       79  3.729730\n",
       "18        402      656  4.264151"
      ]
     },
     "execution_count": 23,
     "metadata": {},
     "output_type": "execute_result"
    }
   ],
   "source": [
    "#Нам нужно получить информацию из трех таблиц - books, authors и ratings - при этом authors и ratings напрямую не связаны.\n",
    "#сделаем подзапрос на id автора, id книг и их средний рейтинг\n",
    "\n",
    "query = '''\n",
    "SELECT b.author_id, \n",
    "       b.book_id, \n",
    "       AVG(rat.rating) AS avg_rat\n",
    "\n",
    "FROM books AS b\n",
    "\n",
    "LEFT OUTER JOIN ratings AS rat ON b.book_id = rat.book_id\n",
    "\n",
    "GROUP BY b.author_id, b.book_id\n",
    "HAVING COUNT(rating) >= 50;\n",
    "        '''\n",
    "pd.io.sql.read_sql(sql=text(query), con = con)\n"
   ]
  },
  {
   "cell_type": "code",
   "execution_count": 24,
   "metadata": {},
   "outputs": [
    {
     "data": {
      "text/html": [
       "<div>\n",
       "<style scoped>\n",
       "    .dataframe tbody tr th:only-of-type {\n",
       "        vertical-align: middle;\n",
       "    }\n",
       "\n",
       "    .dataframe tbody tr th {\n",
       "        vertical-align: top;\n",
       "    }\n",
       "\n",
       "    .dataframe thead th {\n",
       "        text-align: right;\n",
       "    }\n",
       "</style>\n",
       "<table border=\"1\" class=\"dataframe\">\n",
       "  <thead>\n",
       "    <tr style=\"text-align: right;\">\n",
       "      <th></th>\n",
       "      <th>author</th>\n",
       "      <th>avg</th>\n",
       "    </tr>\n",
       "  </thead>\n",
       "  <tbody>\n",
       "    <tr>\n",
       "      <th>0</th>\n",
       "      <td>J.K. Rowling/Mary GrandPré</td>\n",
       "      <td>4.283844</td>\n",
       "    </tr>\n",
       "    <tr>\n",
       "      <th>1</th>\n",
       "      <td>Markus Zusak/Cao Xuân Việt Khương</td>\n",
       "      <td>4.264151</td>\n",
       "    </tr>\n",
       "    <tr>\n",
       "      <th>2</th>\n",
       "      <td>J.R.R. Tolkien</td>\n",
       "      <td>4.258446</td>\n",
       "    </tr>\n",
       "    <tr>\n",
       "      <th>3</th>\n",
       "      <td>Louisa May Alcott</td>\n",
       "      <td>4.192308</td>\n",
       "    </tr>\n",
       "    <tr>\n",
       "      <th>4</th>\n",
       "      <td>Rick Riordan</td>\n",
       "      <td>4.080645</td>\n",
       "    </tr>\n",
       "    <tr>\n",
       "      <th>5</th>\n",
       "      <td>William Golding</td>\n",
       "      <td>3.901408</td>\n",
       "    </tr>\n",
       "    <tr>\n",
       "      <th>6</th>\n",
       "      <td>J.D. Salinger</td>\n",
       "      <td>3.825581</td>\n",
       "    </tr>\n",
       "    <tr>\n",
       "      <th>7</th>\n",
       "      <td>Paulo Coelho/Alan R. Clarke/Özdemir İnce</td>\n",
       "      <td>3.789474</td>\n",
       "    </tr>\n",
       "    <tr>\n",
       "      <th>8</th>\n",
       "      <td>William Shakespeare/Paul Werstine/Barbara A. M...</td>\n",
       "      <td>3.787879</td>\n",
       "    </tr>\n",
       "    <tr>\n",
       "      <th>9</th>\n",
       "      <td>Dan Brown</td>\n",
       "      <td>3.754540</td>\n",
       "    </tr>\n",
       "  </tbody>\n",
       "</table>\n",
       "</div>"
      ],
      "text/plain": [
       "                                              author       avg\n",
       "0                         J.K. Rowling/Mary GrandPré  4.283844\n",
       "1                  Markus Zusak/Cao Xuân Việt Khương  4.264151\n",
       "2                                     J.R.R. Tolkien  4.258446\n",
       "3                                  Louisa May Alcott  4.192308\n",
       "4                                       Rick Riordan  4.080645\n",
       "5                                    William Golding  3.901408\n",
       "6                                      J.D. Salinger  3.825581\n",
       "7           Paulo Coelho/Alan R. Clarke/Özdemir İnce  3.789474\n",
       "8  William Shakespeare/Paul Werstine/Barbara A. M...  3.787879\n",
       "9                                          Dan Brown  3.754540"
      ]
     },
     "execution_count": 24,
     "metadata": {},
     "output_type": "execute_result"
    }
   ],
   "source": [
    "#а теперь нам нужно вытащить имя автора и среднюю от средних его книг\n",
    "#созданный ранее подзапрос нам в помощь - это срез с информацией, отфильтрованный по условию у книги есть более 50 оценок\n",
    "\n",
    "query = ''' SELECT\n",
    "                  a.author,\n",
    "                  AVG(avg_rat)\n",
    "            FROM (SELECT b.author_id, \n",
    "                         b.book_id, \n",
    "                         AVG(rat.rating) AS avg_rat\n",
    "\n",
    "                         FROM books AS b\n",
    "\n",
    "                         LEFT OUTER JOIN ratings AS rat ON b.book_id = rat.book_id\n",
    "\n",
    "                         GROUP BY b.author_id, b.book_id\n",
    "                         HAVING COUNT(rating) >= 50) as x\n",
    "            LEFT OUTER JOIN authors AS a ON x.author_id = a.author_id\n",
    "            GROUP BY a.author\n",
    "            ORDER BY AVG(avg_rat) DESC\n",
    "            LIMIT 10;'''\n",
    "pd.io.sql.read_sql(sql=text(query), con = con)\n",
    "\n",
    "                  "
   ]
  },
  {
   "cell_type": "markdown",
   "metadata": {},
   "source": [
    "В базе данных есть много популярных авторов, чьи книги высоко оцененны читателями. Автор с самым высоким средним рейтингом по книгам - Джоан Роулинг"
   ]
  },
  {
   "cell_type": "markdown",
   "metadata": {},
   "source": [
    "### Посчитайте среднее количество обзоров от пользователей, которые поставили больше 48 оценок"
   ]
  },
  {
   "cell_type": "code",
   "execution_count": 25,
   "metadata": {},
   "outputs": [
    {
     "data": {
      "text/html": [
       "<div>\n",
       "<style scoped>\n",
       "    .dataframe tbody tr th:only-of-type {\n",
       "        vertical-align: middle;\n",
       "    }\n",
       "\n",
       "    .dataframe tbody tr th {\n",
       "        vertical-align: top;\n",
       "    }\n",
       "\n",
       "    .dataframe thead th {\n",
       "        text-align: right;\n",
       "    }\n",
       "</style>\n",
       "<table border=\"1\" class=\"dataframe\">\n",
       "  <thead>\n",
       "    <tr style=\"text-align: right;\">\n",
       "      <th></th>\n",
       "      <th>username</th>\n",
       "      <th>count</th>\n",
       "    </tr>\n",
       "  </thead>\n",
       "  <tbody>\n",
       "    <tr>\n",
       "      <th>0</th>\n",
       "      <td>walter49</td>\n",
       "      <td>49</td>\n",
       "    </tr>\n",
       "    <tr>\n",
       "      <th>1</th>\n",
       "      <td>sfitzgerald</td>\n",
       "      <td>55</td>\n",
       "    </tr>\n",
       "    <tr>\n",
       "      <th>2</th>\n",
       "      <td>jennifermiller</td>\n",
       "      <td>53</td>\n",
       "    </tr>\n",
       "    <tr>\n",
       "      <th>3</th>\n",
       "      <td>andreaeaton</td>\n",
       "      <td>49</td>\n",
       "    </tr>\n",
       "    <tr>\n",
       "      <th>4</th>\n",
       "      <td>xdavis</td>\n",
       "      <td>51</td>\n",
       "    </tr>\n",
       "    <tr>\n",
       "      <th>5</th>\n",
       "      <td>vcarter</td>\n",
       "      <td>49</td>\n",
       "    </tr>\n",
       "    <tr>\n",
       "      <th>6</th>\n",
       "      <td>paul88</td>\n",
       "      <td>56</td>\n",
       "    </tr>\n",
       "    <tr>\n",
       "      <th>7</th>\n",
       "      <td>lesliegibbs</td>\n",
       "      <td>50</td>\n",
       "    </tr>\n",
       "    <tr>\n",
       "      <th>8</th>\n",
       "      <td>susan85</td>\n",
       "      <td>49</td>\n",
       "    </tr>\n",
       "    <tr>\n",
       "      <th>9</th>\n",
       "      <td>martinadam</td>\n",
       "      <td>56</td>\n",
       "    </tr>\n",
       "    <tr>\n",
       "      <th>10</th>\n",
       "      <td>vanessagardner</td>\n",
       "      <td>50</td>\n",
       "    </tr>\n",
       "    <tr>\n",
       "      <th>11</th>\n",
       "      <td>richard89</td>\n",
       "      <td>55</td>\n",
       "    </tr>\n",
       "    <tr>\n",
       "      <th>12</th>\n",
       "      <td>shermannatalie</td>\n",
       "      <td>50</td>\n",
       "    </tr>\n",
       "  </tbody>\n",
       "</table>\n",
       "</div>"
      ],
      "text/plain": [
       "          username  count\n",
       "0         walter49     49\n",
       "1      sfitzgerald     55\n",
       "2   jennifermiller     53\n",
       "3      andreaeaton     49\n",
       "4           xdavis     51\n",
       "5          vcarter     49\n",
       "6           paul88     56\n",
       "7      lesliegibbs     50\n",
       "8          susan85     49\n",
       "9       martinadam     56\n",
       "10  vanessagardner     50\n",
       "11       richard89     55\n",
       "12  shermannatalie     50"
      ]
     },
     "execution_count": 25,
     "metadata": {},
     "output_type": "execute_result"
    }
   ],
   "source": [
    "#создание подзапроса на пользователей, у которых больше 48 оценок\n",
    "query = '''SELECT username,\n",
    "COUNT(rating) \n",
    "FROM ratings\n",
    "GROUP BY  username\n",
    "HAVING COUNT(rating)>48;'''\n",
    "pd.io.sql.read_sql(sql=text(query), con = con)"
   ]
  },
  {
   "cell_type": "code",
   "execution_count": 26,
   "metadata": {},
   "outputs": [
    {
     "data": {
      "text/html": [
       "<div>\n",
       "<style scoped>\n",
       "    .dataframe tbody tr th:only-of-type {\n",
       "        vertical-align: middle;\n",
       "    }\n",
       "\n",
       "    .dataframe tbody tr th {\n",
       "        vertical-align: top;\n",
       "    }\n",
       "\n",
       "    .dataframe thead th {\n",
       "        text-align: right;\n",
       "    }\n",
       "</style>\n",
       "<table border=\"1\" class=\"dataframe\">\n",
       "  <thead>\n",
       "    <tr style=\"text-align: right;\">\n",
       "      <th></th>\n",
       "      <th>username</th>\n",
       "      <th>count</th>\n",
       "    </tr>\n",
       "  </thead>\n",
       "  <tbody>\n",
       "    <tr>\n",
       "      <th>0</th>\n",
       "      <td>zjohnston</td>\n",
       "      <td>14</td>\n",
       "    </tr>\n",
       "    <tr>\n",
       "      <th>1</th>\n",
       "      <td>jnelson</td>\n",
       "      <td>21</td>\n",
       "    </tr>\n",
       "    <tr>\n",
       "      <th>2</th>\n",
       "      <td>lewisdesiree</td>\n",
       "      <td>19</td>\n",
       "    </tr>\n",
       "    <tr>\n",
       "      <th>3</th>\n",
       "      <td>patrickhudson</td>\n",
       "      <td>15</td>\n",
       "    </tr>\n",
       "    <tr>\n",
       "      <th>4</th>\n",
       "      <td>ulowe</td>\n",
       "      <td>16</td>\n",
       "    </tr>\n",
       "    <tr>\n",
       "      <th>...</th>\n",
       "      <td>...</td>\n",
       "      <td>...</td>\n",
       "    </tr>\n",
       "    <tr>\n",
       "      <th>155</th>\n",
       "      <td>shermannatalie</td>\n",
       "      <td>24</td>\n",
       "    </tr>\n",
       "    <tr>\n",
       "      <th>156</th>\n",
       "      <td>dmiller</td>\n",
       "      <td>18</td>\n",
       "    </tr>\n",
       "    <tr>\n",
       "      <th>157</th>\n",
       "      <td>charlesraymond</td>\n",
       "      <td>16</td>\n",
       "    </tr>\n",
       "    <tr>\n",
       "      <th>158</th>\n",
       "      <td>isaiahreyes</td>\n",
       "      <td>15</td>\n",
       "    </tr>\n",
       "    <tr>\n",
       "      <th>159</th>\n",
       "      <td>masonsara</td>\n",
       "      <td>14</td>\n",
       "    </tr>\n",
       "  </tbody>\n",
       "</table>\n",
       "<p>160 rows × 2 columns</p>\n",
       "</div>"
      ],
      "text/plain": [
       "           username  count\n",
       "0         zjohnston     14\n",
       "1           jnelson     21\n",
       "2      lewisdesiree     19\n",
       "3     patrickhudson     15\n",
       "4             ulowe     16\n",
       "..              ...    ...\n",
       "155  shermannatalie     24\n",
       "156         dmiller     18\n",
       "157  charlesraymond     16\n",
       "158     isaiahreyes     15\n",
       "159       masonsara     14\n",
       "\n",
       "[160 rows x 2 columns]"
      ]
     },
     "execution_count": 26,
     "metadata": {},
     "output_type": "execute_result"
    }
   ],
   "source": [
    "#создание подзапроса на пользователей, у которых есть обзоры\n",
    "query = '''SELECT username,\n",
    "COUNT(review_id)\n",
    "FROM reviews\n",
    "GROUP BY username;'''\n",
    "pd.io.sql.read_sql(sql=text(query), con = con)"
   ]
  },
  {
   "cell_type": "code",
   "execution_count": 27,
   "metadata": {},
   "outputs": [
    {
     "data": {
      "text/html": [
       "<div>\n",
       "<style scoped>\n",
       "    .dataframe tbody tr th:only-of-type {\n",
       "        vertical-align: middle;\n",
       "    }\n",
       "\n",
       "    .dataframe tbody tr th {\n",
       "        vertical-align: top;\n",
       "    }\n",
       "\n",
       "    .dataframe thead th {\n",
       "        text-align: right;\n",
       "    }\n",
       "</style>\n",
       "<table border=\"1\" class=\"dataframe\">\n",
       "  <thead>\n",
       "    <tr style=\"text-align: right;\">\n",
       "      <th></th>\n",
       "      <th>avg</th>\n",
       "    </tr>\n",
       "  </thead>\n",
       "  <tbody>\n",
       "    <tr>\n",
       "      <th>0</th>\n",
       "      <td>24.0</td>\n",
       "    </tr>\n",
       "  </tbody>\n",
       "</table>\n",
       "</div>"
      ],
      "text/plain": [
       "    avg\n",
       "0  24.0"
      ]
     },
     "execution_count": 27,
     "metadata": {},
     "output_type": "execute_result"
    }
   ],
   "source": [
    "#объединение - пользователи с количеством оценок более 48 слева, к ним присоединяются левым джойном те пользователи, \n",
    "#которые делали обзоры, переименовываем обзоры в переменную и выводим ее среднюю\n",
    "\n",
    "query = '''\n",
    "SELECT AVG(c.reviews)\n",
    "FROM\n",
    "\n",
    "(SELECT username,\n",
    "COUNT (rating)\n",
    "FROM ratings\n",
    "GROUP BY  username\n",
    "HAVING COUNT(rating)>48) AS i\n",
    "\n",
    "LEFT OUTER JOIN\n",
    "\n",
    "(SELECT username,\n",
    "COUNT(book_id) AS reviews\n",
    "FROM reviews\n",
    "GROUP BY username) AS c ON i.username = c.username;\n",
    "'''\n",
    "pd.io.sql.read_sql(sql=text(query), con = con)"
   ]
  },
  {
   "cell_type": "markdown",
   "metadata": {},
   "source": [
    "Среднее количество обзоров от пользователей, которые поставили больше 48 оценок - равно 24 обзора."
   ]
  },
  {
   "cell_type": "markdown",
   "metadata": {},
   "source": [
    "## Выводы по анализу базы"
   ]
  },
  {
   "cell_type": "markdown",
   "metadata": {},
   "source": [
    "Библиотека в 1000 книг довольно скромная, однако 80% книг относительно свежего года выпуска (выпущены с 2000 года и далее). Так же пользователи активно ставят оценки книгам (нет ни одной книги без оценки) и пишут обзоры (всего 6 книг из 1000 не имеют на себя обзоров) - это говорит о том, что пользователи приложения охотно делятся впечатлениями и это в перспективе можно использовать для стимулирования пользовательской активности или для каких то промо. Судя по популярным авторам - приложение специализируется на зарубежной литературе."
   ]
  },
  {
   "cell_type": "markdown",
   "metadata": {},
   "source": [
    "## Рекомендации для развития сервиса"
   ]
  },
  {
   "cell_type": "markdown",
   "metadata": {},
   "source": [
    "1) Платформа для чтения книг по подписке должна быть простой в использовании и иметь понятный интерфейс, который обеспечит удобство чтения книг на устройствах;  \n",
    "\n",
    "2) Важно включить в сервис широкий и разнообразный каталог книг, включающий различные жанры и авторов, чтобы удовлетворить потребности различных пользователей;  \n",
    "\n",
    "3) Для привлечения новых пользователей и удержания существующих необходимо предложить гибкую систему тарифов подписки, которая будет доступна и привлекательна для широкой аудитории;  \n",
    "\n",
    "4) Важно обеспечить надежные механизмы защиты авторских прав и предотвращение пиратства книг, чтобы обеспечить устойчивый рост сервиса и привлечение издателей;  \n",
    "\n",
    "5) Рекламные кампании и партнерство с известными авторами и издательствами могут помочь увеличить осведомленность о сервисе и привлечь больше пользователей;  \n",
    "\n",
    "6) Следить за рыночными тенденциями и анализировать отзывы пользователей, чтобы внедрять улучшения и новые функции в сервис и оставаться конкурентоспособным.  "
   ]
  }
 ],
 "metadata": {
  "ExecuteTimeLog": [
   {
    "duration": 671,
    "start_time": "2023-07-11T08:50:18.113Z"
   },
   {
    "duration": 18965,
    "start_time": "2023-07-11T08:50:28.331Z"
   },
   {
    "duration": 119,
    "start_time": "2023-07-11T08:53:57.806Z"
   },
   {
    "duration": 147,
    "start_time": "2023-07-11T08:54:11.907Z"
   },
   {
    "duration": 110,
    "start_time": "2023-07-11T08:55:16.323Z"
   },
   {
    "duration": 15,
    "start_time": "2023-07-11T08:55:35.227Z"
   },
   {
    "duration": 16,
    "start_time": "2023-07-11T08:55:55.012Z"
   },
   {
    "duration": 13,
    "start_time": "2023-07-11T09:03:41.746Z"
   },
   {
    "duration": 22,
    "start_time": "2023-07-11T09:06:38.718Z"
   },
   {
    "duration": 19,
    "start_time": "2023-07-11T09:41:44.021Z"
   },
   {
    "duration": 114,
    "start_time": "2023-07-11T09:44:53.112Z"
   },
   {
    "duration": 93,
    "start_time": "2023-07-11T09:46:55.663Z"
   },
   {
    "duration": 130,
    "start_time": "2023-07-11T20:01:47.557Z"
   },
   {
    "duration": 23,
    "start_time": "2023-07-11T20:01:58.988Z"
   },
   {
    "duration": 92,
    "start_time": "2023-07-11T20:02:14.618Z"
   },
   {
    "duration": 27,
    "start_time": "2023-07-11T20:02:41.380Z"
   },
   {
    "duration": 146,
    "start_time": "2023-07-11T20:03:01.430Z"
   },
   {
    "duration": 22,
    "start_time": "2023-07-11T20:19:45.686Z"
   },
   {
    "duration": 22,
    "start_time": "2023-07-11T20:20:12.620Z"
   },
   {
    "duration": 22,
    "start_time": "2023-07-11T20:20:42.722Z"
   },
   {
    "duration": 86,
    "start_time": "2023-07-11T20:24:00.527Z"
   },
   {
    "duration": 102,
    "start_time": "2023-07-11T20:24:11.822Z"
   },
   {
    "duration": 93,
    "start_time": "2023-07-11T20:25:00.187Z"
   },
   {
    "duration": 131,
    "start_time": "2023-07-11T20:25:58.797Z"
   },
   {
    "duration": 20,
    "start_time": "2023-07-11T20:26:17.296Z"
   },
   {
    "duration": 19,
    "start_time": "2023-07-11T20:26:44.038Z"
   },
   {
    "duration": 32,
    "start_time": "2023-07-11T20:28:26.889Z"
   },
   {
    "duration": 27,
    "start_time": "2023-07-11T20:28:46.755Z"
   },
   {
    "duration": 22,
    "start_time": "2023-07-11T20:29:17.945Z"
   },
   {
    "duration": 25,
    "start_time": "2023-07-11T20:30:51.936Z"
   },
   {
    "duration": 21,
    "start_time": "2023-07-11T20:32:04.734Z"
   },
   {
    "duration": 82,
    "start_time": "2023-07-11T20:32:25.838Z"
   },
   {
    "duration": 35,
    "start_time": "2023-07-11T20:32:50.903Z"
   },
   {
    "duration": 34,
    "start_time": "2023-07-11T20:33:38.392Z"
   },
   {
    "duration": 25,
    "start_time": "2023-07-11T20:37:15.542Z"
   },
   {
    "duration": 30,
    "start_time": "2023-07-11T20:37:42.840Z"
   },
   {
    "duration": 32,
    "start_time": "2023-07-11T20:38:07.243Z"
   },
   {
    "duration": 36,
    "start_time": "2023-07-11T20:38:15.228Z"
   },
   {
    "duration": 34,
    "start_time": "2023-07-11T20:38:30.770Z"
   },
   {
    "duration": 25,
    "start_time": "2023-07-11T20:38:58.147Z"
   },
   {
    "duration": 31,
    "start_time": "2023-07-11T20:39:15.526Z"
   },
   {
    "duration": 39,
    "start_time": "2023-07-11T20:40:01.430Z"
   },
   {
    "duration": 31,
    "start_time": "2023-07-11T20:40:45.109Z"
   },
   {
    "duration": 43,
    "start_time": "2023-07-11T20:40:55.049Z"
   },
   {
    "duration": 29,
    "start_time": "2023-07-11T20:41:05.456Z"
   },
   {
    "duration": 31,
    "start_time": "2023-07-11T20:42:49.662Z"
   },
   {
    "duration": 32,
    "start_time": "2023-07-11T20:43:16.801Z"
   },
   {
    "duration": 32,
    "start_time": "2023-07-11T20:43:28.865Z"
   },
   {
    "duration": 29,
    "start_time": "2023-07-11T20:55:20.809Z"
   },
   {
    "duration": 22,
    "start_time": "2023-07-11T20:55:39.133Z"
   },
   {
    "duration": 17,
    "start_time": "2023-07-11T20:56:10.604Z"
   },
   {
    "duration": 23,
    "start_time": "2023-07-11T21:11:49.587Z"
   },
   {
    "duration": 24,
    "start_time": "2023-07-11T21:12:13.217Z"
   },
   {
    "duration": 34,
    "start_time": "2023-07-11T21:12:32.304Z"
   },
   {
    "duration": 22,
    "start_time": "2023-07-11T21:12:54.901Z"
   },
   {
    "duration": 29,
    "start_time": "2023-07-11T21:13:14.454Z"
   },
   {
    "duration": 23,
    "start_time": "2023-07-11T21:18:50.695Z"
   },
   {
    "duration": 77,
    "start_time": "2023-07-11T21:18:59.355Z"
   },
   {
    "duration": 94,
    "start_time": "2023-07-11T21:19:11.722Z"
   },
   {
    "duration": 34,
    "start_time": "2023-07-11T21:19:34.973Z"
   },
   {
    "duration": 28,
    "start_time": "2023-07-11T21:20:25.324Z"
   },
   {
    "duration": 28,
    "start_time": "2023-07-11T21:20:52.180Z"
   },
   {
    "duration": 25,
    "start_time": "2023-07-11T21:21:56.992Z"
   },
   {
    "duration": 27,
    "start_time": "2023-07-11T21:22:04.637Z"
   },
   {
    "duration": 31,
    "start_time": "2023-07-11T21:23:16.215Z"
   },
   {
    "duration": 30,
    "start_time": "2023-07-11T21:32:13.013Z"
   },
   {
    "duration": 39,
    "start_time": "2023-07-11T21:34:30.052Z"
   },
   {
    "duration": 34,
    "start_time": "2023-07-11T21:36:20.003Z"
   },
   {
    "duration": 31,
    "start_time": "2023-07-11T21:42:11.925Z"
   },
   {
    "duration": 22,
    "start_time": "2023-07-11T21:42:23.841Z"
   },
   {
    "duration": 15,
    "start_time": "2023-07-11T21:42:46.532Z"
   },
   {
    "duration": 18,
    "start_time": "2023-07-11T21:43:46.195Z"
   },
   {
    "duration": 35,
    "start_time": "2023-07-11T21:45:15.264Z"
   },
   {
    "duration": 31,
    "start_time": "2023-07-11T21:45:21.270Z"
   },
   {
    "duration": 20,
    "start_time": "2023-07-11T21:45:28.186Z"
   },
   {
    "duration": 69,
    "start_time": "2023-07-11T21:45:43.536Z"
   },
   {
    "duration": 77,
    "start_time": "2023-07-11T21:46:06.487Z"
   },
   {
    "duration": 22,
    "start_time": "2023-07-11T21:46:32.489Z"
   },
   {
    "duration": 46,
    "start_time": "2023-07-11T21:47:12.776Z"
   },
   {
    "duration": 23,
    "start_time": "2023-07-11T21:48:16.082Z"
   },
   {
    "duration": 44,
    "start_time": "2023-07-11T21:49:04.854Z"
   },
   {
    "duration": 17,
    "start_time": "2023-07-11T21:49:16.870Z"
   },
   {
    "duration": 15,
    "start_time": "2023-07-11T21:49:44.728Z"
   },
   {
    "duration": 16,
    "start_time": "2023-07-11T21:50:25.021Z"
   },
   {
    "duration": 32,
    "start_time": "2023-07-11T21:52:24.859Z"
   },
   {
    "duration": 22,
    "start_time": "2023-07-11T21:52:35.913Z"
   },
   {
    "duration": 21,
    "start_time": "2023-07-11T21:52:45.613Z"
   },
   {
    "duration": 22,
    "start_time": "2023-07-11T21:53:05.455Z"
   },
   {
    "duration": 14,
    "start_time": "2023-07-11T21:54:02.541Z"
   },
   {
    "duration": 21,
    "start_time": "2023-07-11T21:55:38.424Z"
   },
   {
    "duration": 14,
    "start_time": "2023-07-11T21:55:48.833Z"
   },
   {
    "duration": 18,
    "start_time": "2023-07-11T21:56:26.980Z"
   },
   {
    "duration": 18,
    "start_time": "2023-07-11T21:56:39.280Z"
   },
   {
    "duration": 15,
    "start_time": "2023-07-11T21:58:47.603Z"
   },
   {
    "duration": 31,
    "start_time": "2023-07-11T21:59:05.772Z"
   },
   {
    "duration": 20,
    "start_time": "2023-07-11T21:59:23.941Z"
   },
   {
    "duration": 22,
    "start_time": "2023-07-11T22:08:54.407Z"
   },
   {
    "duration": 21,
    "start_time": "2023-07-11T22:09:04.290Z"
   },
   {
    "duration": 58,
    "start_time": "2023-07-11T22:10:42.653Z"
   },
   {
    "duration": 75,
    "start_time": "2023-07-11T22:11:51.189Z"
   },
   {
    "duration": 26,
    "start_time": "2023-07-11T22:12:25.890Z"
   },
   {
    "duration": 13,
    "start_time": "2023-07-11T22:12:36.332Z"
   },
   {
    "duration": 87,
    "start_time": "2023-07-11T22:14:43.250Z"
   },
   {
    "duration": 15,
    "start_time": "2023-07-11T22:20:17.890Z"
   },
   {
    "duration": 13,
    "start_time": "2023-07-11T22:23:51.840Z"
   },
   {
    "duration": 16,
    "start_time": "2023-07-11T22:24:59.731Z"
   },
   {
    "duration": 22,
    "start_time": "2023-07-11T22:29:06.214Z"
   },
   {
    "duration": 31,
    "start_time": "2023-07-11T22:30:06.464Z"
   },
   {
    "duration": 34,
    "start_time": "2023-07-11T22:30:52.352Z"
   },
   {
    "duration": 28,
    "start_time": "2023-07-11T22:31:28.355Z"
   },
   {
    "duration": 71,
    "start_time": "2023-07-11T22:35:01.843Z"
   },
   {
    "duration": 65,
    "start_time": "2023-07-11T22:36:29.039Z"
   },
   {
    "duration": 21,
    "start_time": "2023-07-11T22:36:34.588Z"
   },
   {
    "duration": 67,
    "start_time": "2023-07-11T22:36:42.850Z"
   },
   {
    "duration": 26624,
    "start_time": "2023-07-11T22:36:51.766Z"
   },
   {
    "duration": 0,
    "start_time": "2023-07-11T22:38:03.700Z"
   },
   {
    "duration": 16,
    "start_time": "2023-07-11T22:38:18.506Z"
   },
   {
    "duration": 19,
    "start_time": "2023-07-11T22:45:24.798Z"
   },
   {
    "duration": 21,
    "start_time": "2023-07-11T22:49:13.797Z"
   },
   {
    "duration": 16,
    "start_time": "2023-07-11T22:49:47.514Z"
   },
   {
    "duration": 15,
    "start_time": "2023-07-11T22:50:21.030Z"
   },
   {
    "duration": 16,
    "start_time": "2023-07-11T22:51:06.174Z"
   },
   {
    "duration": 16,
    "start_time": "2023-07-11T22:51:11.922Z"
   },
   {
    "duration": 15,
    "start_time": "2023-07-11T22:51:13.562Z"
   },
   {
    "duration": 24,
    "start_time": "2023-07-11T22:51:56.108Z"
   },
   {
    "duration": 17,
    "start_time": "2023-07-11T22:52:15.909Z"
   },
   {
    "duration": 12,
    "start_time": "2023-07-11T22:54:43.668Z"
   },
   {
    "duration": 17,
    "start_time": "2023-07-11T22:54:50.666Z"
   },
   {
    "duration": 15,
    "start_time": "2023-07-11T22:55:14.958Z"
   },
   {
    "duration": 15,
    "start_time": "2023-07-11T22:55:59.133Z"
   },
   {
    "duration": 14,
    "start_time": "2023-07-11T22:56:04.865Z"
   },
   {
    "duration": 21,
    "start_time": "2023-07-11T22:57:02.548Z"
   },
   {
    "duration": 17,
    "start_time": "2023-07-11T22:57:31.823Z"
   },
   {
    "duration": 15,
    "start_time": "2023-07-11T22:58:26.713Z"
   },
   {
    "duration": 16,
    "start_time": "2023-07-11T23:01:17.686Z"
   },
   {
    "duration": 16,
    "start_time": "2023-07-11T23:01:47.321Z"
   },
   {
    "duration": 534,
    "start_time": "2023-07-11T23:04:38.824Z"
   },
   {
    "duration": 10126,
    "start_time": "2023-07-11T23:04:39.361Z"
   },
   {
    "duration": 86,
    "start_time": "2023-07-11T23:04:49.489Z"
   },
   {
    "duration": 73,
    "start_time": "2023-07-11T23:04:49.578Z"
   },
   {
    "duration": 12,
    "start_time": "2023-07-11T23:04:49.653Z"
   },
   {
    "duration": 33,
    "start_time": "2023-07-11T23:04:49.667Z"
   },
   {
    "duration": 16,
    "start_time": "2023-07-11T23:04:49.702Z"
   },
   {
    "duration": 15,
    "start_time": "2023-07-11T23:04:49.720Z"
   },
   {
    "duration": 70,
    "start_time": "2023-07-11T23:04:49.737Z"
   },
   {
    "duration": 13,
    "start_time": "2023-07-11T23:04:49.810Z"
   },
   {
    "duration": 26,
    "start_time": "2023-07-11T23:04:49.825Z"
   },
   {
    "duration": 47,
    "start_time": "2023-07-11T23:04:49.852Z"
   },
   {
    "duration": 26,
    "start_time": "2023-07-11T23:04:49.901Z"
   },
   {
    "duration": 14,
    "start_time": "2023-07-11T23:04:49.929Z"
   },
   {
    "duration": 474,
    "start_time": "2023-07-12T03:30:33.111Z"
   },
   {
    "duration": 22173,
    "start_time": "2023-07-12T03:30:33.587Z"
   },
   {
    "duration": 282,
    "start_time": "2023-07-12T03:30:55.761Z"
   },
   {
    "duration": 139,
    "start_time": "2023-07-12T03:30:56.045Z"
   },
   {
    "duration": 77,
    "start_time": "2023-07-12T03:30:56.186Z"
   },
   {
    "duration": 83,
    "start_time": "2023-07-12T03:30:56.264Z"
   },
   {
    "duration": 64,
    "start_time": "2023-07-12T03:30:56.349Z"
   },
   {
    "duration": 53,
    "start_time": "2023-07-12T03:30:56.416Z"
   },
   {
    "duration": 106,
    "start_time": "2023-07-12T03:30:56.470Z"
   },
   {
    "duration": 63,
    "start_time": "2023-07-12T03:30:56.579Z"
   },
   {
    "duration": 65,
    "start_time": "2023-07-12T03:30:56.644Z"
   },
   {
    "duration": 55,
    "start_time": "2023-07-12T03:30:56.718Z"
   },
   {
    "duration": 59,
    "start_time": "2023-07-12T03:30:56.774Z"
   },
   {
    "duration": 55,
    "start_time": "2023-07-12T03:30:56.835Z"
   },
   {
    "duration": 63,
    "start_time": "2023-07-12T03:33:02.450Z"
   },
   {
    "duration": 62,
    "start_time": "2023-07-12T03:33:10.785Z"
   },
   {
    "duration": 150,
    "start_time": "2023-07-12T03:33:25.241Z"
   },
   {
    "duration": 48,
    "start_time": "2023-07-12T03:33:35.221Z"
   },
   {
    "duration": 145,
    "start_time": "2023-07-12T03:33:40.417Z"
   },
   {
    "duration": 72,
    "start_time": "2023-07-12T03:33:49.911Z"
   },
   {
    "duration": 47,
    "start_time": "2023-07-12T03:33:56.821Z"
   },
   {
    "duration": 76,
    "start_time": "2023-07-12T03:34:06.174Z"
   },
   {
    "duration": 6,
    "start_time": "2023-07-12T07:22:07.244Z"
   },
   {
    "duration": 6,
    "start_time": "2023-07-12T07:22:10.900Z"
   },
   {
    "duration": 62,
    "start_time": "2023-07-12T07:22:19.256Z"
   },
   {
    "duration": 11,
    "start_time": "2023-07-12T07:22:38.563Z"
   },
   {
    "duration": 3,
    "start_time": "2023-07-12T07:24:58.194Z"
   },
   {
    "duration": 4,
    "start_time": "2023-07-12T07:24:58.566Z"
   },
   {
    "duration": 62,
    "start_time": "2023-07-12T07:25:02.217Z"
   },
   {
    "duration": 11,
    "start_time": "2023-07-12T07:25:04.949Z"
   },
   {
    "duration": 13,
    "start_time": "2023-07-12T07:25:10.396Z"
   },
   {
    "duration": 11,
    "start_time": "2023-07-12T07:25:13.756Z"
   },
   {
    "duration": 13,
    "start_time": "2023-07-12T07:25:16.548Z"
   },
   {
    "duration": 11,
    "start_time": "2023-07-12T07:25:32.355Z"
   },
   {
    "duration": 65,
    "start_time": "2023-07-12T07:27:03.220Z"
   },
   {
    "duration": 14,
    "start_time": "2023-07-12T07:27:19.044Z"
   },
   {
    "duration": 112,
    "start_time": "2023-07-12T08:38:32.337Z"
   },
   {
    "duration": 23,
    "start_time": "2023-07-12T08:38:41.701Z"
   },
   {
    "duration": 50,
    "start_time": "2023-07-12T09:03:20.457Z"
   },
   {
    "duration": 81,
    "start_time": "2023-07-12T09:03:41.302Z"
   },
   {
    "duration": 43,
    "start_time": "2023-07-12T09:05:08.845Z"
   },
   {
    "duration": 28,
    "start_time": "2023-07-12T09:06:14.893Z"
   },
   {
    "duration": 13,
    "start_time": "2023-07-12T09:06:20.356Z"
   },
   {
    "duration": 29,
    "start_time": "2023-07-12T09:15:44.303Z"
   },
   {
    "duration": 27,
    "start_time": "2023-07-12T09:15:57.070Z"
   },
   {
    "duration": 32,
    "start_time": "2023-07-12T09:16:46.399Z"
   },
   {
    "duration": 10,
    "start_time": "2023-07-12T09:17:12.600Z"
   },
   {
    "duration": 21,
    "start_time": "2023-07-12T09:19:16.246Z"
   },
   {
    "duration": 13,
    "start_time": "2023-07-12T09:20:01.327Z"
   },
   {
    "duration": 2519,
    "start_time": "2023-07-12T09:20:49.008Z"
   },
   {
    "duration": 21,
    "start_time": "2023-07-12T09:22:26.200Z"
   },
   {
    "duration": 31,
    "start_time": "2023-07-12T09:22:38.624Z"
   },
   {
    "duration": 21,
    "start_time": "2023-07-12T09:23:26.415Z"
   },
   {
    "duration": 20,
    "start_time": "2023-07-12T09:25:10.950Z"
   },
   {
    "duration": 20,
    "start_time": "2023-07-12T09:25:38.223Z"
   },
   {
    "duration": 10,
    "start_time": "2023-07-12T09:26:17.088Z"
   },
   {
    "duration": 10,
    "start_time": "2023-07-12T09:26:50.319Z"
   },
   {
    "duration": 10,
    "start_time": "2023-07-12T09:27:19.832Z"
   },
   {
    "duration": 29,
    "start_time": "2023-07-12T09:27:38.028Z"
   },
   {
    "duration": 26,
    "start_time": "2023-07-12T09:28:04.098Z"
   },
   {
    "duration": 28,
    "start_time": "2023-07-12T09:28:17.568Z"
   },
   {
    "duration": 16,
    "start_time": "2023-07-12T09:29:50.152Z"
   },
   {
    "duration": 14,
    "start_time": "2023-07-12T09:30:51.592Z"
   },
   {
    "duration": 20,
    "start_time": "2023-07-12T09:31:25.952Z"
   },
   {
    "duration": 22,
    "start_time": "2023-07-12T09:31:54.960Z"
   },
   {
    "duration": 22,
    "start_time": "2023-07-12T09:41:08.122Z"
   },
   {
    "duration": 93,
    "start_time": "2023-07-12T09:41:14.706Z"
   },
   {
    "duration": 31,
    "start_time": "2023-07-12T09:41:33.155Z"
   },
   {
    "duration": 30,
    "start_time": "2023-07-12T09:41:59.171Z"
   },
   {
    "duration": 22,
    "start_time": "2023-07-12T09:42:26.242Z"
   },
   {
    "duration": 23,
    "start_time": "2023-07-12T09:42:34.108Z"
   },
   {
    "duration": 21,
    "start_time": "2023-07-12T09:43:03.891Z"
   },
   {
    "duration": 17,
    "start_time": "2023-07-12T09:43:16.979Z"
   },
   {
    "duration": 22,
    "start_time": "2023-07-12T09:50:19.813Z"
   },
   {
    "duration": 25,
    "start_time": "2023-07-12T09:50:38.590Z"
   },
   {
    "duration": 21,
    "start_time": "2023-07-12T09:50:54.725Z"
   },
   {
    "duration": 36,
    "start_time": "2023-07-12T09:51:14.014Z"
   },
   {
    "duration": 33,
    "start_time": "2023-07-12T09:51:54.487Z"
   },
   {
    "duration": 23,
    "start_time": "2023-07-12T10:06:33.142Z"
   },
   {
    "duration": 46,
    "start_time": "2023-07-12T10:11:39.562Z"
   },
   {
    "duration": 17,
    "start_time": "2023-07-12T10:41:41.756Z"
   },
   {
    "duration": 15,
    "start_time": "2023-07-12T10:43:59.988Z"
   },
   {
    "duration": 18,
    "start_time": "2023-07-12T10:46:33.468Z"
   },
   {
    "duration": 16,
    "start_time": "2023-07-12T10:58:27.862Z"
   },
   {
    "duration": 5,
    "start_time": "2023-07-12T10:58:42.503Z"
   },
   {
    "duration": 21,
    "start_time": "2023-07-12T10:59:49.591Z"
   },
   {
    "duration": 32,
    "start_time": "2023-07-12T11:02:15.048Z"
   },
   {
    "duration": 23,
    "start_time": "2023-07-12T11:06:39.441Z"
   },
   {
    "duration": 26,
    "start_time": "2023-07-12T11:06:53.816Z"
   },
   {
    "duration": 33,
    "start_time": "2023-07-12T11:39:54.709Z"
   },
   {
    "duration": 22,
    "start_time": "2023-07-12T11:40:31.221Z"
   },
   {
    "duration": 32,
    "start_time": "2023-07-12T11:40:59.998Z"
   },
   {
    "duration": 23,
    "start_time": "2023-07-12T11:41:45.829Z"
   },
   {
    "duration": 38,
    "start_time": "2023-07-12T11:42:03.178Z"
   },
   {
    "duration": 28,
    "start_time": "2023-07-12T11:42:27.132Z"
   },
   {
    "duration": 31,
    "start_time": "2023-07-12T11:42:51.653Z"
   },
   {
    "duration": 23,
    "start_time": "2023-07-12T11:44:41.503Z"
   },
   {
    "duration": 23,
    "start_time": "2023-07-12T11:46:22.910Z"
   },
   {
    "duration": 35,
    "start_time": "2023-07-12T11:47:10.120Z"
   },
   {
    "duration": 25,
    "start_time": "2023-07-12T11:48:09.222Z"
   },
   {
    "duration": 26,
    "start_time": "2023-07-12T11:48:22.593Z"
   },
   {
    "duration": 27,
    "start_time": "2023-07-12T11:48:42.104Z"
   },
   {
    "duration": 48,
    "start_time": "2023-07-12T11:50:31.255Z"
   },
   {
    "duration": 19,
    "start_time": "2023-07-12T11:50:51.303Z"
   },
   {
    "duration": 26,
    "start_time": "2023-07-12T11:51:08.417Z"
   },
   {
    "duration": 92,
    "start_time": "2023-07-12T11:52:27.062Z"
   },
   {
    "duration": 37,
    "start_time": "2023-07-12T11:53:01.663Z"
   },
   {
    "duration": 25,
    "start_time": "2023-07-12T11:53:10.074Z"
   },
   {
    "duration": 15,
    "start_time": "2023-07-12T11:53:42.134Z"
   },
   {
    "duration": 15,
    "start_time": "2023-07-12T11:54:52.134Z"
   },
   {
    "duration": 22,
    "start_time": "2023-07-12T11:55:37.011Z"
   },
   {
    "duration": 29,
    "start_time": "2023-07-12T11:56:22.400Z"
   },
   {
    "duration": 22,
    "start_time": "2023-07-12T11:56:30.499Z"
   },
   {
    "duration": 26,
    "start_time": "2023-07-12T11:56:57.881Z"
   },
   {
    "duration": 22,
    "start_time": "2023-07-12T11:57:41.743Z"
   },
   {
    "duration": 16,
    "start_time": "2023-07-12T11:59:32.898Z"
   },
   {
    "duration": 43,
    "start_time": "2023-07-12T12:03:48.160Z"
   },
   {
    "duration": 28,
    "start_time": "2023-07-12T12:04:24.415Z"
   },
   {
    "duration": 43,
    "start_time": "2023-07-12T12:05:23.063Z"
   },
   {
    "duration": 14,
    "start_time": "2023-07-12T12:07:09.225Z"
   },
   {
    "duration": 12,
    "start_time": "2023-07-12T12:07:20.937Z"
   },
   {
    "duration": 34,
    "start_time": "2023-07-12T12:07:36.200Z"
   },
   {
    "duration": 89,
    "start_time": "2023-07-12T12:08:32.259Z"
   },
   {
    "duration": 22,
    "start_time": "2023-07-12T12:26:23.748Z"
   },
   {
    "duration": 29,
    "start_time": "2023-07-12T12:26:32.398Z"
   },
   {
    "duration": 20,
    "start_time": "2023-07-12T12:28:16.654Z"
   },
   {
    "duration": 21,
    "start_time": "2023-07-12T12:28:53.710Z"
   },
   {
    "duration": 36,
    "start_time": "2023-07-12T12:29:14.765Z"
   },
   {
    "duration": 17,
    "start_time": "2023-07-12T12:31:26.414Z"
   },
   {
    "duration": 49,
    "start_time": "2023-07-12T12:38:43.760Z"
   },
   {
    "duration": 26,
    "start_time": "2023-07-12T12:39:01.306Z"
   },
   {
    "duration": 21,
    "start_time": "2023-07-12T12:39:25.822Z"
   },
   {
    "duration": 19,
    "start_time": "2023-07-12T12:39:57.703Z"
   },
   {
    "duration": 18,
    "start_time": "2023-07-12T12:40:07.630Z"
   },
   {
    "duration": 50,
    "start_time": "2023-07-12T12:40:29.167Z"
   },
   {
    "duration": 519,
    "start_time": "2023-07-13T04:43:23.557Z"
   },
   {
    "duration": 10707,
    "start_time": "2023-07-13T04:43:24.078Z"
   },
   {
    "duration": 275,
    "start_time": "2023-07-13T04:43:34.789Z"
   },
   {
    "duration": 30,
    "start_time": "2023-07-13T04:43:35.065Z"
   },
   {
    "duration": 30,
    "start_time": "2023-07-13T04:43:35.097Z"
   },
   {
    "duration": 46,
    "start_time": "2023-07-13T04:43:35.129Z"
   },
   {
    "duration": 30,
    "start_time": "2023-07-13T04:43:35.176Z"
   },
   {
    "duration": 50,
    "start_time": "2023-07-13T04:43:35.207Z"
   },
   {
    "duration": 67,
    "start_time": "2023-07-13T04:43:35.259Z"
   },
   {
    "duration": 49,
    "start_time": "2023-07-13T04:43:35.327Z"
   },
   {
    "duration": 44,
    "start_time": "2023-07-13T04:43:35.377Z"
   },
   {
    "duration": 53,
    "start_time": "2023-07-13T04:43:35.423Z"
   },
   {
    "duration": 50,
    "start_time": "2023-07-13T04:43:35.478Z"
   },
   {
    "duration": 47,
    "start_time": "2023-07-13T04:43:35.529Z"
   },
   {
    "duration": 30,
    "start_time": "2023-07-13T04:43:35.577Z"
   },
   {
    "duration": 51,
    "start_time": "2023-07-13T04:43:35.609Z"
   },
   {
    "duration": 32,
    "start_time": "2023-07-13T04:43:35.661Z"
   },
   {
    "duration": 33,
    "start_time": "2023-07-13T04:43:35.695Z"
   },
   {
    "duration": 56,
    "start_time": "2023-07-13T04:43:35.730Z"
   },
   {
    "duration": 31,
    "start_time": "2023-07-13T04:43:35.787Z"
   },
   {
    "duration": 61,
    "start_time": "2023-07-13T04:43:35.820Z"
   },
   {
    "duration": 39,
    "start_time": "2023-07-13T04:43:35.883Z"
   }
  ],
  "kernelspec": {
   "display_name": "Python 3 (ipykernel)",
   "language": "python",
   "name": "python3"
  },
  "language_info": {
   "codemirror_mode": {
    "name": "ipython",
    "version": 3
   },
   "file_extension": ".py",
   "mimetype": "text/x-python",
   "name": "python",
   "nbconvert_exporter": "python",
   "pygments_lexer": "ipython3",
   "version": "3.9.16"
  },
  "toc": {
   "base_numbering": 1,
   "nav_menu": {},
   "number_sections": true,
   "sideBar": true,
   "skip_h1_title": true,
   "title_cell": "Оглавление",
   "title_sidebar": "Contents",
   "toc_cell": true,
   "toc_position": {
    "height": "calc(100% - 180px)",
    "left": "10px",
    "top": "150px",
    "width": "296.441px"
   },
   "toc_section_display": true,
   "toc_window_display": true
  }
 },
 "nbformat": 4,
 "nbformat_minor": 2
}
