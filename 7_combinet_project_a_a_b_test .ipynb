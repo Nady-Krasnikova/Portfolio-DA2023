{
 "cells": [
  {
   "cell_type": "markdown",
   "metadata": {},
   "source": [
    "## Проект \"Сборный проект №2 (мобильное приложение по продаже продуктов питания)\" (A/A/B тест)"
   ]
  },
  {
   "cell_type": "markdown",
   "metadata": {},
   "source": [
    "## Описание проекта"
   ]
  },
  {
   "cell_type": "markdown",
   "metadata": {},
   "source": [
    "<div style=\"border:solid blue 2px; padding: 20px\">\n",
    "    \n",
    "**Я работаю аналитиком в стартапе. Суть стартапа - продажа продуктов питания через мобильное приложение. На основе предоставленных данных мне нужно разобраться, как ведут себя пользователи мобильного приложения.\n",
    "    Изучим воронку продаж. Узнаем, как пользователи доходят до покупки. Сколько пользователей доходит до покупки, а сколько — «застревает» на предыдущих шагах? На каких именно?\n",
    "    После этого исследуем результаты A/A/B-эксперимента. Дизайнеры захотели поменять шрифты во всём приложении, а менеджеры испугались, что пользователям будет непривычно. Договорились принять решение по результатам A/A/B-теста. Пользователей разбили на 3 группы: 2 контрольные со старыми шрифтами и одну экспериментальную — с новыми. Выясним, какой шрифт лучше.**"
   ]
  },
  {
   "cell_type": "markdown",
   "metadata": {},
   "source": [
    "## Предобработка данных"
   ]
  },
  {
   "cell_type": "markdown",
   "metadata": {},
   "source": [
    "### Импорт всех необходимых библиотек для работы"
   ]
  },
  {
   "cell_type": "code",
   "execution_count": 20,
   "metadata": {},
   "outputs": [],
   "source": [
    "import pandas as pd\n",
    "import datetime as dt\n",
    "import numpy as np\n",
    "import matplotlib.pyplot as plt\n",
    "from pandas.plotting import register_matplotlib_converters\n",
    "import warnings\n",
    "import math as mth\n",
    "from scipy import stats as st\n",
    "import seaborn as sns\n",
    "from plotly import graph_objects as go\n",
    "import plotly.express as px"
   ]
  },
  {
   "cell_type": "markdown",
   "metadata": {},
   "source": [
    "###  Открытие файла с данными"
   ]
  },
  {
   "cell_type": "code",
   "execution_count": 21,
   "metadata": {},
   "outputs": [
    {
     "data": {
      "text/html": [
       "<div>\n",
       "<style scoped>\n",
       "    .dataframe tbody tr th:only-of-type {\n",
       "        vertical-align: middle;\n",
       "    }\n",
       "\n",
       "    .dataframe tbody tr th {\n",
       "        vertical-align: top;\n",
       "    }\n",
       "\n",
       "    .dataframe thead th {\n",
       "        text-align: right;\n",
       "    }\n",
       "</style>\n",
       "<table border=\"1\" class=\"dataframe\">\n",
       "  <thead>\n",
       "    <tr style=\"text-align: right;\">\n",
       "      <th></th>\n",
       "      <th>EventName</th>\n",
       "      <th>DeviceIDHash</th>\n",
       "      <th>EventTimestamp</th>\n",
       "      <th>ExpId</th>\n",
       "    </tr>\n",
       "  </thead>\n",
       "  <tbody>\n",
       "    <tr>\n",
       "      <th>0</th>\n",
       "      <td>MainScreenAppear</td>\n",
       "      <td>4575588528974610257</td>\n",
       "      <td>1564029816</td>\n",
       "      <td>246</td>\n",
       "    </tr>\n",
       "    <tr>\n",
       "      <th>1</th>\n",
       "      <td>MainScreenAppear</td>\n",
       "      <td>7416695313311560658</td>\n",
       "      <td>1564053102</td>\n",
       "      <td>246</td>\n",
       "    </tr>\n",
       "    <tr>\n",
       "      <th>2</th>\n",
       "      <td>PaymentScreenSuccessful</td>\n",
       "      <td>3518123091307005509</td>\n",
       "      <td>1564054127</td>\n",
       "      <td>248</td>\n",
       "    </tr>\n",
       "    <tr>\n",
       "      <th>3</th>\n",
       "      <td>CartScreenAppear</td>\n",
       "      <td>3518123091307005509</td>\n",
       "      <td>1564054127</td>\n",
       "      <td>248</td>\n",
       "    </tr>\n",
       "    <tr>\n",
       "      <th>4</th>\n",
       "      <td>PaymentScreenSuccessful</td>\n",
       "      <td>6217807653094995999</td>\n",
       "      <td>1564055322</td>\n",
       "      <td>248</td>\n",
       "    </tr>\n",
       "    <tr>\n",
       "      <th>...</th>\n",
       "      <td>...</td>\n",
       "      <td>...</td>\n",
       "      <td>...</td>\n",
       "      <td>...</td>\n",
       "    </tr>\n",
       "    <tr>\n",
       "      <th>244121</th>\n",
       "      <td>MainScreenAppear</td>\n",
       "      <td>4599628364049201812</td>\n",
       "      <td>1565212345</td>\n",
       "      <td>247</td>\n",
       "    </tr>\n",
       "    <tr>\n",
       "      <th>244122</th>\n",
       "      <td>MainScreenAppear</td>\n",
       "      <td>5849806612437486590</td>\n",
       "      <td>1565212439</td>\n",
       "      <td>246</td>\n",
       "    </tr>\n",
       "    <tr>\n",
       "      <th>244123</th>\n",
       "      <td>MainScreenAppear</td>\n",
       "      <td>5746969938801999050</td>\n",
       "      <td>1565212483</td>\n",
       "      <td>246</td>\n",
       "    </tr>\n",
       "    <tr>\n",
       "      <th>244124</th>\n",
       "      <td>MainScreenAppear</td>\n",
       "      <td>5746969938801999050</td>\n",
       "      <td>1565212498</td>\n",
       "      <td>246</td>\n",
       "    </tr>\n",
       "    <tr>\n",
       "      <th>244125</th>\n",
       "      <td>OffersScreenAppear</td>\n",
       "      <td>5746969938801999050</td>\n",
       "      <td>1565212517</td>\n",
       "      <td>246</td>\n",
       "    </tr>\n",
       "  </tbody>\n",
       "</table>\n",
       "<p>244126 rows × 4 columns</p>\n",
       "</div>"
      ],
      "text/plain": [
       "                      EventName         DeviceIDHash  EventTimestamp  ExpId\n",
       "0              MainScreenAppear  4575588528974610257      1564029816    246\n",
       "1              MainScreenAppear  7416695313311560658      1564053102    246\n",
       "2       PaymentScreenSuccessful  3518123091307005509      1564054127    248\n",
       "3              CartScreenAppear  3518123091307005509      1564054127    248\n",
       "4       PaymentScreenSuccessful  6217807653094995999      1564055322    248\n",
       "...                         ...                  ...             ...    ...\n",
       "244121         MainScreenAppear  4599628364049201812      1565212345    247\n",
       "244122         MainScreenAppear  5849806612437486590      1565212439    246\n",
       "244123         MainScreenAppear  5746969938801999050      1565212483    246\n",
       "244124         MainScreenAppear  5746969938801999050      1565212498    246\n",
       "244125       OffersScreenAppear  5746969938801999050      1565212517    246\n",
       "\n",
       "[244126 rows x 4 columns]"
      ]
     },
     "execution_count": 21,
     "metadata": {},
     "output_type": "execute_result"
    }
   ],
   "source": [
    "data = pd.read_csv('logs_exp.csv', sep='\\t')\n",
    "data"
   ]
  },
  {
   "cell_type": "markdown",
   "metadata": {},
   "source": [
    "### Изучение общей информации"
   ]
  },
  {
   "cell_type": "code",
   "execution_count": 22,
   "metadata": {},
   "outputs": [
    {
     "name": "stdout",
     "output_type": "stream",
     "text": [
      "<class 'pandas.core.frame.DataFrame'>\n",
      "RangeIndex: 244126 entries, 0 to 244125\n",
      "Data columns (total 4 columns):\n",
      " #   Column          Non-Null Count   Dtype \n",
      "---  ------          --------------   ----- \n",
      " 0   EventName       244126 non-null  object\n",
      " 1   DeviceIDHash    244126 non-null  int64 \n",
      " 2   EventTimestamp  244126 non-null  int64 \n",
      " 3   ExpId           244126 non-null  int64 \n",
      "dtypes: int64(3), object(1)\n",
      "memory usage: 7.5+ MB\n"
     ]
    }
   ],
   "source": [
    "data.info()"
   ]
  },
  {
   "cell_type": "markdown",
   "metadata": {},
   "source": [
    "### Поиск полных дубликатов"
   ]
  },
  {
   "cell_type": "code",
   "execution_count": 23,
   "metadata": {},
   "outputs": [
    {
     "data": {
      "text/plain": [
       "413"
      ]
     },
     "execution_count": 23,
     "metadata": {},
     "output_type": "execute_result"
    }
   ],
   "source": [
    "data.duplicated().sum()"
   ]
  },
  {
   "cell_type": "markdown",
   "metadata": {},
   "source": [
    "### Удаление полных дубликатов"
   ]
  },
  {
   "cell_type": "code",
   "execution_count": 24,
   "metadata": {},
   "outputs": [],
   "source": [
    "data = data.drop_duplicates().reset_index(drop=True)"
   ]
  },
  {
   "cell_type": "markdown",
   "metadata": {},
   "source": [
    "### Замена названия столбцов на удобные для меня названия"
   ]
  },
  {
   "cell_type": "code",
   "execution_count": 25,
   "metadata": {},
   "outputs": [
    {
     "data": {
      "text/html": [
       "<div>\n",
       "<style scoped>\n",
       "    .dataframe tbody tr th:only-of-type {\n",
       "        vertical-align: middle;\n",
       "    }\n",
       "\n",
       "    .dataframe tbody tr th {\n",
       "        vertical-align: top;\n",
       "    }\n",
       "\n",
       "    .dataframe thead th {\n",
       "        text-align: right;\n",
       "    }\n",
       "</style>\n",
       "<table border=\"1\" class=\"dataframe\">\n",
       "  <thead>\n",
       "    <tr style=\"text-align: right;\">\n",
       "      <th></th>\n",
       "      <th>event_type</th>\n",
       "      <th>user_id</th>\n",
       "      <th>event_time</th>\n",
       "      <th>group</th>\n",
       "    </tr>\n",
       "  </thead>\n",
       "  <tbody>\n",
       "    <tr>\n",
       "      <th>0</th>\n",
       "      <td>MainScreenAppear</td>\n",
       "      <td>4575588528974610257</td>\n",
       "      <td>1564029816</td>\n",
       "      <td>246</td>\n",
       "    </tr>\n",
       "  </tbody>\n",
       "</table>\n",
       "</div>"
      ],
      "text/plain": [
       "         event_type              user_id  event_time  group\n",
       "0  MainScreenAppear  4575588528974610257  1564029816    246"
      ]
     },
     "execution_count": 25,
     "metadata": {},
     "output_type": "execute_result"
    }
   ],
   "source": [
    "data.columns = ['event_type', 'user_id', 'event_time', 'group']\n",
    "data.head(1)"
   ]
  },
  {
   "cell_type": "markdown",
   "metadata": {},
   "source": [
    "### Проверка на пропуски и проверка типов данных в столбцах"
   ]
  },
  {
   "cell_type": "code",
   "execution_count": 26,
   "metadata": {},
   "outputs": [
    {
     "name": "stdout",
     "output_type": "stream",
     "text": [
      "<class 'pandas.core.frame.DataFrame'>\n",
      "RangeIndex: 243713 entries, 0 to 243712\n",
      "Data columns (total 4 columns):\n",
      " #   Column      Non-Null Count   Dtype \n",
      "---  ------      --------------   ----- \n",
      " 0   event_type  243713 non-null  object\n",
      " 1   user_id     243713 non-null  int64 \n",
      " 2   event_time  243713 non-null  int64 \n",
      " 3   group       243713 non-null  int64 \n",
      "dtypes: int64(3), object(1)\n",
      "memory usage: 7.4+ MB\n"
     ]
    }
   ],
   "source": [
    "data.info()"
   ]
  },
  {
   "cell_type": "markdown",
   "metadata": {},
   "source": [
    "Пропусков нет - дополнять ничего не нужно.\n",
    "Типы данных - из четырех столбцов не подходит тип данных в столбце event_time - оно в виде целого числа, а нужен формат дата/время. Переделаем это."
   ]
  },
  {
   "cell_type": "markdown",
   "metadata": {},
   "source": [
    "### Смена типа данных в столбце"
   ]
  },
  {
   "cell_type": "code",
   "execution_count": 27,
   "metadata": {},
   "outputs": [
    {
     "data": {
      "text/html": [
       "<div>\n",
       "<style scoped>\n",
       "    .dataframe tbody tr th:only-of-type {\n",
       "        vertical-align: middle;\n",
       "    }\n",
       "\n",
       "    .dataframe tbody tr th {\n",
       "        vertical-align: top;\n",
       "    }\n",
       "\n",
       "    .dataframe thead th {\n",
       "        text-align: right;\n",
       "    }\n",
       "</style>\n",
       "<table border=\"1\" class=\"dataframe\">\n",
       "  <thead>\n",
       "    <tr style=\"text-align: right;\">\n",
       "      <th></th>\n",
       "      <th>event_type</th>\n",
       "      <th>user_id</th>\n",
       "      <th>event_time</th>\n",
       "      <th>group</th>\n",
       "    </tr>\n",
       "  </thead>\n",
       "  <tbody>\n",
       "    <tr>\n",
       "      <th>0</th>\n",
       "      <td>MainScreenAppear</td>\n",
       "      <td>4575588528974610257</td>\n",
       "      <td>2019-07-25 04:43:36</td>\n",
       "      <td>246</td>\n",
       "    </tr>\n",
       "  </tbody>\n",
       "</table>\n",
       "</div>"
      ],
      "text/plain": [
       "         event_type              user_id          event_time  group\n",
       "0  MainScreenAppear  4575588528974610257 2019-07-25 04:43:36    246"
      ]
     },
     "execution_count": 27,
     "metadata": {},
     "output_type": "execute_result"
    }
   ],
   "source": [
    "data['event_time'] = pd.to_datetime(data['event_time'], unit='s')\n",
    "data.head(1)"
   ]
  },
  {
   "cell_type": "code",
   "execution_count": 28,
   "metadata": {},
   "outputs": [
    {
     "name": "stdout",
     "output_type": "stream",
     "text": [
      "<class 'pandas.core.frame.DataFrame'>\n",
      "RangeIndex: 243713 entries, 0 to 243712\n",
      "Data columns (total 4 columns):\n",
      " #   Column      Non-Null Count   Dtype         \n",
      "---  ------      --------------   -----         \n",
      " 0   event_type  243713 non-null  object        \n",
      " 1   user_id     243713 non-null  int64         \n",
      " 2   event_time  243713 non-null  datetime64[ns]\n",
      " 3   group       243713 non-null  int64         \n",
      "dtypes: datetime64[ns](1), int64(2), object(1)\n",
      "memory usage: 7.4+ MB\n"
     ]
    }
   ],
   "source": [
    "data.info()"
   ]
  },
  {
   "cell_type": "markdown",
   "metadata": {},
   "source": [
    "Теперь все хорошо - типы данных подходят для дальнейшей работы с ними."
   ]
  },
  {
   "cell_type": "markdown",
   "metadata": {},
   "source": [
    "Добавлять отдельный столбец с датой и временем мы не будем - мы преобразовали столбец event_time в нужный формат и данный приобрели нужный вид - дата и время"
   ]
  },
  {
   "cell_type": "markdown",
   "metadata": {},
   "source": [
    "### Добавление отдельного столбца"
   ]
  },
  {
   "cell_type": "markdown",
   "metadata": {},
   "source": [
    "Добавим отдельный столбец со значением только даты (без времени)."
   ]
  },
  {
   "cell_type": "code",
   "execution_count": 29,
   "metadata": {},
   "outputs": [
    {
     "data": {
      "text/html": [
       "<div>\n",
       "<style scoped>\n",
       "    .dataframe tbody tr th:only-of-type {\n",
       "        vertical-align: middle;\n",
       "    }\n",
       "\n",
       "    .dataframe tbody tr th {\n",
       "        vertical-align: top;\n",
       "    }\n",
       "\n",
       "    .dataframe thead th {\n",
       "        text-align: right;\n",
       "    }\n",
       "</style>\n",
       "<table border=\"1\" class=\"dataframe\">\n",
       "  <thead>\n",
       "    <tr style=\"text-align: right;\">\n",
       "      <th></th>\n",
       "      <th>event_type</th>\n",
       "      <th>user_id</th>\n",
       "      <th>event_time</th>\n",
       "      <th>group</th>\n",
       "      <th>event_data</th>\n",
       "    </tr>\n",
       "  </thead>\n",
       "  <tbody>\n",
       "    <tr>\n",
       "      <th>0</th>\n",
       "      <td>MainScreenAppear</td>\n",
       "      <td>4575588528974610257</td>\n",
       "      <td>2019-07-25 04:43:36</td>\n",
       "      <td>246</td>\n",
       "      <td>2019-07-25</td>\n",
       "    </tr>\n",
       "    <tr>\n",
       "      <th>1</th>\n",
       "      <td>MainScreenAppear</td>\n",
       "      <td>7416695313311560658</td>\n",
       "      <td>2019-07-25 11:11:42</td>\n",
       "      <td>246</td>\n",
       "      <td>2019-07-25</td>\n",
       "    </tr>\n",
       "    <tr>\n",
       "      <th>2</th>\n",
       "      <td>PaymentScreenSuccessful</td>\n",
       "      <td>3518123091307005509</td>\n",
       "      <td>2019-07-25 11:28:47</td>\n",
       "      <td>248</td>\n",
       "      <td>2019-07-25</td>\n",
       "    </tr>\n",
       "    <tr>\n",
       "      <th>3</th>\n",
       "      <td>CartScreenAppear</td>\n",
       "      <td>3518123091307005509</td>\n",
       "      <td>2019-07-25 11:28:47</td>\n",
       "      <td>248</td>\n",
       "      <td>2019-07-25</td>\n",
       "    </tr>\n",
       "    <tr>\n",
       "      <th>4</th>\n",
       "      <td>PaymentScreenSuccessful</td>\n",
       "      <td>6217807653094995999</td>\n",
       "      <td>2019-07-25 11:48:42</td>\n",
       "      <td>248</td>\n",
       "      <td>2019-07-25</td>\n",
       "    </tr>\n",
       "  </tbody>\n",
       "</table>\n",
       "</div>"
      ],
      "text/plain": [
       "                event_type              user_id          event_time  group  \\\n",
       "0         MainScreenAppear  4575588528974610257 2019-07-25 04:43:36    246   \n",
       "1         MainScreenAppear  7416695313311560658 2019-07-25 11:11:42    246   \n",
       "2  PaymentScreenSuccessful  3518123091307005509 2019-07-25 11:28:47    248   \n",
       "3         CartScreenAppear  3518123091307005509 2019-07-25 11:28:47    248   \n",
       "4  PaymentScreenSuccessful  6217807653094995999 2019-07-25 11:48:42    248   \n",
       "\n",
       "   event_data  \n",
       "0  2019-07-25  \n",
       "1  2019-07-25  \n",
       "2  2019-07-25  \n",
       "3  2019-07-25  \n",
       "4  2019-07-25  "
      ]
     },
     "execution_count": 29,
     "metadata": {},
     "output_type": "execute_result"
    }
   ],
   "source": [
    "data['event_data']=data['event_time'].dt.date\n",
    "data.head()"
   ]
  },
  {
   "cell_type": "markdown",
   "metadata": {},
   "source": [
    "### Обозначение контрольных и экспериментальной группы"
   ]
  },
  {
   "cell_type": "markdown",
   "metadata": {},
   "source": [
    "Присвоим условные обозначения для названия групп - 246 будет А1, 247 будет А2, 248 будет В"
   ]
  },
  {
   "cell_type": "code",
   "execution_count": 30,
   "metadata": {},
   "outputs": [
    {
     "data": {
      "text/html": [
       "<div>\n",
       "<style scoped>\n",
       "    .dataframe tbody tr th:only-of-type {\n",
       "        vertical-align: middle;\n",
       "    }\n",
       "\n",
       "    .dataframe tbody tr th {\n",
       "        vertical-align: top;\n",
       "    }\n",
       "\n",
       "    .dataframe thead th {\n",
       "        text-align: right;\n",
       "    }\n",
       "</style>\n",
       "<table border=\"1\" class=\"dataframe\">\n",
       "  <thead>\n",
       "    <tr style=\"text-align: right;\">\n",
       "      <th></th>\n",
       "      <th>event_type</th>\n",
       "      <th>user_id</th>\n",
       "      <th>event_time</th>\n",
       "      <th>group</th>\n",
       "      <th>event_data</th>\n",
       "    </tr>\n",
       "  </thead>\n",
       "  <tbody>\n",
       "    <tr>\n",
       "      <th>0</th>\n",
       "      <td>MainScreenAppear</td>\n",
       "      <td>4575588528974610257</td>\n",
       "      <td>2019-07-25 04:43:36</td>\n",
       "      <td>A1</td>\n",
       "      <td>2019-07-25</td>\n",
       "    </tr>\n",
       "    <tr>\n",
       "      <th>1</th>\n",
       "      <td>MainScreenAppear</td>\n",
       "      <td>7416695313311560658</td>\n",
       "      <td>2019-07-25 11:11:42</td>\n",
       "      <td>A1</td>\n",
       "      <td>2019-07-25</td>\n",
       "    </tr>\n",
       "    <tr>\n",
       "      <th>2</th>\n",
       "      <td>PaymentScreenSuccessful</td>\n",
       "      <td>3518123091307005509</td>\n",
       "      <td>2019-07-25 11:28:47</td>\n",
       "      <td>B</td>\n",
       "      <td>2019-07-25</td>\n",
       "    </tr>\n",
       "    <tr>\n",
       "      <th>3</th>\n",
       "      <td>CartScreenAppear</td>\n",
       "      <td>3518123091307005509</td>\n",
       "      <td>2019-07-25 11:28:47</td>\n",
       "      <td>B</td>\n",
       "      <td>2019-07-25</td>\n",
       "    </tr>\n",
       "    <tr>\n",
       "      <th>4</th>\n",
       "      <td>PaymentScreenSuccessful</td>\n",
       "      <td>6217807653094995999</td>\n",
       "      <td>2019-07-25 11:48:42</td>\n",
       "      <td>B</td>\n",
       "      <td>2019-07-25</td>\n",
       "    </tr>\n",
       "  </tbody>\n",
       "</table>\n",
       "</div>"
      ],
      "text/plain": [
       "                event_type              user_id          event_time group  \\\n",
       "0         MainScreenAppear  4575588528974610257 2019-07-25 04:43:36    A1   \n",
       "1         MainScreenAppear  7416695313311560658 2019-07-25 11:11:42    A1   \n",
       "2  PaymentScreenSuccessful  3518123091307005509 2019-07-25 11:28:47     B   \n",
       "3         CartScreenAppear  3518123091307005509 2019-07-25 11:28:47     B   \n",
       "4  PaymentScreenSuccessful  6217807653094995999 2019-07-25 11:48:42     B   \n",
       "\n",
       "   event_data  \n",
       "0  2019-07-25  \n",
       "1  2019-07-25  \n",
       "2  2019-07-25  \n",
       "3  2019-07-25  \n",
       "4  2019-07-25  "
      ]
     },
     "execution_count": 30,
     "metadata": {},
     "output_type": "execute_result"
    }
   ],
   "source": [
    "def aab_group(gr):\n",
    "    if gr==246:\n",
    "        return 'A1'\n",
    "    elif gr==247:\n",
    "        return 'A2'\n",
    "    elif gr==248:\n",
    "        return 'B'\n",
    "    else:\n",
    "        return 'UnknownGroup'\n",
    "\n",
    "data['group'] = data['group'].apply(aab_group)\n",
    "data.head(5)"
   ]
  },
  {
   "cell_type": "markdown",
   "metadata": {},
   "source": [
    "## Изучение и проверка данных"
   ]
  },
  {
   "cell_type": "markdown",
   "metadata": {},
   "source": [
    "### Количество событий в логе"
   ]
  },
  {
   "cell_type": "code",
   "execution_count": 31,
   "metadata": {},
   "outputs": [
    {
     "data": {
      "text/plain": [
       "event_type    243713\n",
       "user_id       243713\n",
       "event_time    243713\n",
       "group         243713\n",
       "event_data    243713\n",
       "dtype: int64"
      ]
     },
     "execution_count": 31,
     "metadata": {},
     "output_type": "execute_result"
    }
   ],
   "source": [
    "data.count()"
   ]
  },
  {
   "cell_type": "markdown",
   "metadata": {},
   "source": [
    "Всего в логе 243 713 строк, т е событий (эта же информация была при вызове функции .info()).\n",
    "Пропусков нет, так что можно считать так же любой столбец. "
   ]
  },
  {
   "cell_type": "code",
   "execution_count": 32,
   "metadata": {},
   "outputs": [
    {
     "data": {
      "text/plain": [
       "243713"
      ]
     },
     "execution_count": 32,
     "metadata": {},
     "output_type": "execute_result"
    }
   ],
   "source": [
    "data['event_type'].count()"
   ]
  },
  {
   "cell_type": "markdown",
   "metadata": {},
   "source": [
    "### Количество пользователей в логе"
   ]
  },
  {
   "cell_type": "markdown",
   "metadata": {},
   "source": [
    "Сколько всего пользователей в логе?\n",
    "Для этого посчитайем количество уникальных значений в столбце user_id"
   ]
  },
  {
   "cell_type": "code",
   "execution_count": 33,
   "metadata": {},
   "outputs": [
    {
     "data": {
      "text/plain": [
       "7551"
      ]
     },
     "execution_count": 33,
     "metadata": {},
     "output_type": "execute_result"
    }
   ],
   "source": [
    "data['user_id'].nunique()"
   ]
  },
  {
   "cell_type": "markdown",
   "metadata": {},
   "source": [
    "В логе отображены события по 7 551 уникальному пользователю"
   ]
  },
  {
   "cell_type": "markdown",
   "metadata": {},
   "source": [
    "### Количество событий на пользователя"
   ]
  },
  {
   "cell_type": "markdown",
   "metadata": {},
   "source": [
    "Сколько в среднем событий приходится на одного пользователя?\n",
    "Для этого общее количество событий разделим на количество уникальных пользователей."
   ]
  },
  {
   "cell_type": "code",
   "execution_count": 34,
   "metadata": {},
   "outputs": [
    {
     "data": {
      "text/plain": [
       "32.27559263673685"
      ]
     },
     "execution_count": 34,
     "metadata": {},
     "output_type": "execute_result"
    }
   ],
   "source": [
    "data['event_type'].count()/data['user_id'].nunique()"
   ]
  },
  {
   "cell_type": "markdown",
   "metadata": {},
   "source": [
    "Округлим до целого числа"
   ]
  },
  {
   "cell_type": "code",
   "execution_count": 35,
   "metadata": {},
   "outputs": [
    {
     "data": {
      "text/plain": [
       "32"
      ]
     },
     "execution_count": 35,
     "metadata": {},
     "output_type": "execute_result"
    }
   ],
   "source": [
    "round(data['event_type'].count()/data['user_id'].nunique())"
   ]
  },
  {
   "cell_type": "markdown",
   "metadata": {},
   "source": [
    "В среднем на каждого пользователя приходится 32 события"
   ]
  },
  {
   "cell_type": "markdown",
   "metadata": {},
   "source": [
    "Что бы посмотреть распределение количества событий на пользователя и посмотреть на выбросы нам необходимо создать отдельную таблицу"
   ]
  },
  {
   "cell_type": "code",
   "execution_count": 36,
   "metadata": {},
   "outputs": [],
   "source": [
    "count_event_user = data.groupby('user_id')['event_type'].count()"
   ]
  },
  {
   "cell_type": "code",
   "execution_count": 37,
   "metadata": {},
   "outputs": [
    {
     "data": {
      "text/plain": [
       "count    7551.000000\n",
       "mean       32.275593\n",
       "std        65.154219\n",
       "min         1.000000\n",
       "25%         9.000000\n",
       "50%        20.000000\n",
       "75%        37.000000\n",
       "max      2307.000000\n",
       "Name: event_type, dtype: float64"
      ]
     },
     "execution_count": 37,
     "metadata": {},
     "output_type": "execute_result"
    }
   ],
   "source": [
    "count_event_user.describe()"
   ]
  },
  {
   "cell_type": "code",
   "execution_count": 38,
   "metadata": {},
   "outputs": [
    {
     "data": {
      "text/plain": [
       "20.0"
      ]
     },
     "execution_count": 38,
     "metadata": {},
     "output_type": "execute_result"
    }
   ],
   "source": [
    "count_event_user.median()"
   ]
  },
  {
   "cell_type": "code",
   "execution_count": 39,
   "metadata": {},
   "outputs": [
    {
     "data": {
      "image/png": "[encoded data removed]",
      "text/plain": [
       "<Figure size 1500x400 with 1 Axes>"
      ]
     },
     "metadata": {},
     "output_type": "display_data"
    }
   ],
   "source": [
    "plt.figure(figsize=(15,4))\n",
    "plt.hist(count_event_user, bins=100, range=(200,2310)) \n",
    "plt.title('Количество событий на пользователя')\n",
    "plt.xlabel('Количество пользователей')\n",
    "plt.grid()\n",
    "plt.ylabel('Количество событий');"
   ]
  },
  {
   "cell_type": "code",
   "execution_count": 40,
   "metadata": {},
   "outputs": [
    {
     "data": {
      "image/png": "[encoded data removed]",
      "text/plain": [
       "<Figure size 640x480 with 1 Axes>"
      ]
     },
     "metadata": {},
     "output_type": "display_data"
    }
   ],
   "source": [
    "boxplot = sns.boxplot(x=count_event_user)\n",
    "boxplot.axes.set_title(\"Количество событий на пользователя\", fontsize=16)\n",
    "boxplot.set_xlabel(\"Количество пользователей\", fontsize=14)\n",
    "boxplot.set_ylabel(\"Количество событий\", fontsize=14);"
   ]
  },
  {
   "cell_type": "markdown",
   "metadata": {},
   "source": [
    "### Период времени"
   ]
  },
  {
   "cell_type": "markdown",
   "metadata": {},
   "source": [
    "#### Максимальная и минимальную дата"
   ]
  },
  {
   "cell_type": "code",
   "execution_count": 41,
   "metadata": {},
   "outputs": [
    {
     "name": "stdout",
     "output_type": "stream",
     "text": [
      "2019-07-25\n",
      "2019-08-07\n"
     ]
    }
   ],
   "source": [
    "min_analysis_date = data['event_data'].min()\n",
    "max_analysis_date =  data['event_data'].max()  \n",
    "print(min_analysis_date)\n",
    "print(max_analysis_date)"
   ]
  },
  {
   "cell_type": "markdown",
   "metadata": {},
   "source": [
    "В файле информация по событиям с 25 июля 2019 года по 7 августа 2019 года."
   ]
  },
  {
   "cell_type": "markdown",
   "metadata": {},
   "source": [
    "#### Гистограмма по дате и времени"
   ]
  },
  {
   "cell_type": "code",
   "execution_count": 42,
   "metadata": {
    "scrolled": true
   },
   "outputs": [
    {
     "data": {
      "image/png": "[encoded data removed]",
      "text/plain": [
       "<Figure size 640x480 with 1 Axes>"
      ]
     },
     "metadata": {},
     "output_type": "display_data"
    }
   ],
   "source": [
    "data['event_time'].hist(bins=20)\n",
    "plt.title('Распределение событий по времени наблюдения')\n",
    "plt.xlabel('Дата события')\n",
    "plt.ylabel('Частота')\n",
    "plt.xticks(rotation=60)\n",
    "plt.show()"
   ]
  },
  {
   "cell_type": "code",
   "execution_count": 43,
   "metadata": {},
   "outputs": [
    {
     "data": {
      "image/png": "[encoded data removed]",
      "text/plain": [
       "<Figure size 1500x400 with 1 Axes>"
      ]
     },
     "metadata": {},
     "output_type": "display_data"
    }
   ],
   "source": [
    "plt.figure(figsize=(15,4))\n",
    "plt.hist(data['event_time'], bins=200, range=('2019-07-31','2019-08-03'))\n",
    "plt.xlabel('Дата и время')\n",
    "plt.grid()\n",
    "plt.ylabel('Количество событий')\n",
    "plt.title('Распределение событий по времени');"
   ]
  },
  {
   "cell_type": "code",
   "execution_count": 44,
   "metadata": {},
   "outputs": [
    {
     "data": {
      "image/png": "[encoded data removed]",
      "text/plain": [
       "<Figure size 1500x400 with 1 Axes>"
      ]
     },
     "metadata": {},
     "output_type": "display_data"
    }
   ],
   "source": [
    "plt.figure(figsize=(15,4))\n",
    "plt.hist(data['event_time'], bins=200, range=('2019-07-31 18:00:00','2019-08-01 01:00:00'))\n",
    "plt.xlabel('Дата и время')\n",
    "plt.grid()\n",
    "plt.ylabel('Количество событий')\n",
    "plt.title('Распределение событий по времени');\n"
   ]
  },
  {
   "cell_type": "code",
   "execution_count": 45,
   "metadata": {},
   "outputs": [
    {
     "data": {
      "image/png": "[encoded data removed]",
      "text/plain": [
       "<Figure size 1500x400 with 1 Axes>"
      ]
     },
     "metadata": {},
     "output_type": "display_data"
    }
   ],
   "source": [
    "plt.figure(figsize=(15,4))\n",
    "plt.hist(data['event_time'], bins=200, range=('2019-08-01 00:00:00','2019-08-03 00:00:00'))\n",
    "plt.xlabel('Дата и время')\n",
    "plt.grid()\n",
    "plt.ylabel('Количество событий')\n",
    "plt.title('Распределение событий по времени');"
   ]
  },
  {
   "cell_type": "markdown",
   "metadata": {},
   "source": [
    "При подробном рассмотрении данных за 31 июля и 1 августа мы видим точку начала теста - 00:00 1 августа 2019 года.\n",
    "   Дневные и ночные события напоминают волны - пик активности приходится на дневное время - примерно на 14:00. Максимальное количество событий происходит с 8:00 утра до 20:00 вечера, в ночное время и раннее утро событий значительно меньше."
   ]
  },
  {
   "cell_type": "markdown",
   "metadata": {},
   "source": [
    "Наглядно видно, что данные не одинаково полные за этот период времени. \n",
    "С 1 августа 2019 года данные можно считать полными и по ним вести аналитику.\n",
    "Отбросим более старые данные и посмотрим что получилось.\n"
   ]
  },
  {
   "cell_type": "markdown",
   "metadata": {},
   "source": [
    "#### Отсекание ненужного периода "
   ]
  },
  {
   "cell_type": "code",
   "execution_count": 46,
   "metadata": {},
   "outputs": [],
   "source": [
    "actual_data = data[(data['event_time'] >= '2019-08-01')]"
   ]
  },
  {
   "cell_type": "markdown",
   "metadata": {},
   "source": [
    "#### Гистограмма по отфильтрованным данным"
   ]
  },
  {
   "cell_type": "code",
   "execution_count": 47,
   "metadata": {},
   "outputs": [
    {
     "data": {
      "image/png": "[encoded data removed]",
      "text/plain": [
       "<Figure size 640x480 with 1 Axes>"
      ]
     },
     "metadata": {},
     "output_type": "display_data"
    }
   ],
   "source": [
    "actual_data['event_time'].hist(bins=20)\n",
    "plt.title('Распределение событий по времени наблюдения')\n",
    "plt.xlabel('Дата события')\n",
    "plt.ylabel('Частота')\n",
    "plt.xticks(rotation=60)\n",
    "plt.show()"
   ]
  },
  {
   "cell_type": "markdown",
   "metadata": {},
   "source": [
    "На самом деле мы располагаем данными с 1 по 7 августа 2019 года"
   ]
  },
  {
   "cell_type": "markdown",
   "metadata": {},
   "source": [
    "### Оценка потери отсеченных данных"
   ]
  },
  {
   "cell_type": "markdown",
   "metadata": {},
   "source": [
    "Много ли событий и пользователей мы потеряли, отбросив старые данные? Для этого сделаем точно такие же рассчеты по количеству уникальных пользователей и количеству событий, только с новым датафреймом. "
   ]
  },
  {
   "cell_type": "code",
   "execution_count": 48,
   "metadata": {},
   "outputs": [
    {
     "data": {
      "text/plain": [
       "240887"
      ]
     },
     "execution_count": 48,
     "metadata": {},
     "output_type": "execute_result"
    }
   ],
   "source": [
    "actual_data['event_type'].count()"
   ]
  },
  {
   "cell_type": "code",
   "execution_count": 49,
   "metadata": {},
   "outputs": [
    {
     "data": {
      "text/plain": [
       "2826"
      ]
     },
     "execution_count": 49,
     "metadata": {},
     "output_type": "execute_result"
    }
   ],
   "source": [
    "data['event_type'].count()-actual_data['event_type'].count()"
   ]
  },
  {
   "cell_type": "code",
   "execution_count": 50,
   "metadata": {},
   "outputs": [
    {
     "data": {
      "text/plain": [
       "1.1595606307418933"
      ]
     },
     "execution_count": 50,
     "metadata": {},
     "output_type": "execute_result"
    }
   ],
   "source": [
    "100 - (actual_data['event_type'].count()/data['event_type'].count()*100)"
   ]
  },
  {
   "cell_type": "markdown",
   "metadata": {},
   "source": [
    "В количестве событий - мы потеряли 2 826 шт событий или 1.15% от общего количества."
   ]
  },
  {
   "cell_type": "code",
   "execution_count": 51,
   "metadata": {},
   "outputs": [
    {
     "data": {
      "text/plain": [
       "7534"
      ]
     },
     "execution_count": 51,
     "metadata": {},
     "output_type": "execute_result"
    }
   ],
   "source": [
    "actual_data['user_id'].nunique()"
   ]
  },
  {
   "cell_type": "code",
   "execution_count": 52,
   "metadata": {},
   "outputs": [
    {
     "data": {
      "text/plain": [
       "17"
      ]
     },
     "execution_count": 52,
     "metadata": {},
     "output_type": "execute_result"
    }
   ],
   "source": [
    "data['user_id'].nunique()-actual_data['user_id'].nunique()"
   ]
  },
  {
   "cell_type": "code",
   "execution_count": 53,
   "metadata": {},
   "outputs": [
    {
     "data": {
      "text/plain": [
       "0.22513574361011024"
      ]
     },
     "execution_count": 53,
     "metadata": {},
     "output_type": "execute_result"
    }
   ],
   "source": [
    "100-(actual_data['user_id'].nunique()/data['user_id'].nunique()*100)"
   ]
  },
  {
   "cell_type": "markdown",
   "metadata": {},
   "source": [
    "В количестве уникальных пользователей - мы потеряли 17 уникальных пользователей или 0.22% от общего количества."
   ]
  },
  {
   "cell_type": "markdown",
   "metadata": {},
   "source": [
    "Общие потери данных как в количестве пользователей, так и в количестве событий минимальны и допустимы."
   ]
  },
  {
   "cell_type": "markdown",
   "metadata": {},
   "source": [
    "### Сравнение экспериментальных групп"
   ]
  },
  {
   "cell_type": "markdown",
   "metadata": {},
   "source": [
    "#### Количество событий в экспериментальных группах"
   ]
  },
  {
   "cell_type": "code",
   "execution_count": 54,
   "metadata": {},
   "outputs": [
    {
     "data": {
      "image/png": "[encoded data removed]",
      "text/plain": [
       "<Figure size 640x480 with 1 Axes>"
      ]
     },
     "metadata": {},
     "output_type": "display_data"
    }
   ],
   "source": [
    "plt.hist(actual_data['group'], bins = 40)\n",
    "plt.title('Количество событий по группам')\n",
    "plt.xlabel('Номер группы')\n",
    "plt.ylabel('Общее количество пользователей')\n",
    "plt.show()"
   ]
  },
  {
   "cell_type": "code",
   "execution_count": 55,
   "metadata": {},
   "outputs": [
    {
     "data": {
      "text/plain": [
       "79302"
      ]
     },
     "execution_count": 55,
     "metadata": {},
     "output_type": "execute_result"
    }
   ],
   "source": [
    "len(actual_data[actual_data['group']=='A1'])"
   ]
  },
  {
   "cell_type": "code",
   "execution_count": 56,
   "metadata": {},
   "outputs": [
    {
     "data": {
      "text/plain": [
       "77022"
      ]
     },
     "execution_count": 56,
     "metadata": {},
     "output_type": "execute_result"
    }
   ],
   "source": [
    "len(actual_data[actual_data['group']=='A2'])"
   ]
  },
  {
   "cell_type": "code",
   "execution_count": 57,
   "metadata": {
    "scrolled": true
   },
   "outputs": [
    {
     "data": {
      "text/plain": [
       "84563"
      ]
     },
     "execution_count": 57,
     "metadata": {},
     "output_type": "execute_result"
    }
   ],
   "source": [
    "len(actual_data[actual_data['group']=='B'])"
   ]
  },
  {
   "cell_type": "markdown",
   "metadata": {},
   "source": [
    "Выше мы смотрели количество совершенных событий в каждой группе.\n",
    "Теперь посмотрим, сколько уникальных пользователей есть в каждой группе."
   ]
  },
  {
   "cell_type": "markdown",
   "metadata": {},
   "source": [
    "#### Количество пользователей в экспериментальных группах"
   ]
  },
  {
   "cell_type": "code",
   "execution_count": 58,
   "metadata": {},
   "outputs": [
    {
     "data": {
      "text/plain": [
       "group\n",
       "A1    2484\n",
       "A2    2513\n",
       "B     2537\n",
       "Name: user_id, dtype: int64"
      ]
     },
     "execution_count": 58,
     "metadata": {},
     "output_type": "execute_result"
    }
   ],
   "source": [
    "actual_data.groupby('group')['user_id'].nunique()"
   ]
  },
  {
   "cell_type": "markdown",
   "metadata": {},
   "source": [
    "#### Сравнение группы A1 и A2"
   ]
  },
  {
   "cell_type": "raw",
   "metadata": {},
   "source": [
    "Что говорит теория:\n",
    "Критерии успешного A/A-теста: \n",
    "Количество пользователей в различных группах различается не более, чем на 1%;\n",
    "Для всех групп фиксируют и отправляют в системы аналитики данные об одном и том же;\n",
    "Различие ключевых метрик по группам не превышает 1% и не имеет статистической значимости;\n",
    "Попавший в одну из групп посетитель остаётся в этой группе до конца теста. Если пользователь видит разные версии исследуемой страницы в ходе одного исследования, неизвестно, какая именно повлияла на его решения. Значит, и результаты такого теста нельзя интерпретировать однозначно."
   ]
  },
  {
   "cell_type": "markdown",
   "metadata": {},
   "source": [
    "Сделаем таблицу с количеством пользователей по группам и сравним разницу между группой А1 и А2"
   ]
  },
  {
   "cell_type": "code",
   "execution_count": 59,
   "metadata": {},
   "outputs": [
    {
     "data": {
      "text/plain": [
       "group\n",
       "A1    2484\n",
       "A2    2513\n",
       "B     2537\n",
       "A     4997\n",
       "Name: user_id, dtype: int64"
      ]
     },
     "execution_count": 59,
     "metadata": {},
     "output_type": "execute_result"
    }
   ],
   "source": [
    "user_group = actual_data.groupby('group')['user_id'].nunique()\n",
    "user_group['A'] = user_group['A1'] + user_group['A2']\n",
    "user_group"
   ]
  },
  {
   "cell_type": "code",
   "execution_count": 60,
   "metadata": {},
   "outputs": [
    {
     "data": {
      "text/plain": [
       "98.84600079586153"
      ]
     },
     "execution_count": 60,
     "metadata": {},
     "output_type": "execute_result"
    }
   ],
   "source": [
    "user_group['A1']/user_group['A2']*100"
   ]
  },
  {
   "cell_type": "code",
   "execution_count": 61,
   "metadata": {},
   "outputs": [
    {
     "data": {
      "text/plain": [
       "101.16747181964574"
      ]
     },
     "execution_count": 61,
     "metadata": {},
     "output_type": "execute_result"
    }
   ],
   "source": [
    "user_group['A2']/user_group['A1']*100"
   ]
  },
  {
   "cell_type": "markdown",
   "metadata": {},
   "source": [
    "Различия между группами А1 и А2 в количестве составялют 1.16% - такой процент допустим, считаем, что группы контроля сформированы верно, то есть сбалансрованны."
   ]
  },
  {
   "cell_type": "markdown",
   "metadata": {},
   "source": [
    "## Воронка событий"
   ]
  },
  {
   "cell_type": "markdown",
   "metadata": {},
   "source": [
    "### Какае события есть в логах, их частота. Сортировка событий по частоте"
   ]
  },
  {
   "cell_type": "code",
   "execution_count": 62,
   "metadata": {},
   "outputs": [
    {
     "data": {
      "text/html": [
       "<style type=\"text/css\">\n",
       "</style>\n",
       "<table id=\"T_34812\">\n",
       "  <thead>\n",
       "    <tr>\n",
       "      <th class=\"blank level0\" >&nbsp;</th>\n",
       "      <th id=\"T_34812_level0_col0\" class=\"col_heading level0 col0\" >type_event</th>\n",
       "      <th id=\"T_34812_level0_col1\" class=\"col_heading level0 col1\" >persent</th>\n",
       "    </tr>\n",
       "    <tr>\n",
       "      <th class=\"index_name level0\" >event_type</th>\n",
       "      <th class=\"blank col0\" >&nbsp;</th>\n",
       "      <th class=\"blank col1\" >&nbsp;</th>\n",
       "    </tr>\n",
       "  </thead>\n",
       "  <tbody>\n",
       "    <tr>\n",
       "      <th id=\"T_34812_level0_row0\" class=\"row_heading level0 row0\" >MainScreenAppear</th>\n",
       "      <td id=\"T_34812_row0_col0\" class=\"data row0 col0\" >117328</td>\n",
       "      <td id=\"T_34812_row0_col1\" class=\"data row0 col1\" >48.71%</td>\n",
       "    </tr>\n",
       "    <tr>\n",
       "      <th id=\"T_34812_level0_row1\" class=\"row_heading level0 row1\" >OffersScreenAppear</th>\n",
       "      <td id=\"T_34812_row1_col0\" class=\"data row1 col0\" >46333</td>\n",
       "      <td id=\"T_34812_row1_col1\" class=\"data row1 col1\" >19.23%</td>\n",
       "    </tr>\n",
       "    <tr>\n",
       "      <th id=\"T_34812_level0_row2\" class=\"row_heading level0 row2\" >CartScreenAppear</th>\n",
       "      <td id=\"T_34812_row2_col0\" class=\"data row2 col0\" >42303</td>\n",
       "      <td id=\"T_34812_row2_col1\" class=\"data row2 col1\" >17.56%</td>\n",
       "    </tr>\n",
       "    <tr>\n",
       "      <th id=\"T_34812_level0_row3\" class=\"row_heading level0 row3\" >PaymentScreenSuccessful</th>\n",
       "      <td id=\"T_34812_row3_col0\" class=\"data row3 col0\" >33918</td>\n",
       "      <td id=\"T_34812_row3_col1\" class=\"data row3 col1\" >14.08%</td>\n",
       "    </tr>\n",
       "    <tr>\n",
       "      <th id=\"T_34812_level0_row4\" class=\"row_heading level0 row4\" >Tutorial</th>\n",
       "      <td id=\"T_34812_row4_col0\" class=\"data row4 col0\" >1005</td>\n",
       "      <td id=\"T_34812_row4_col1\" class=\"data row4 col1\" >0.42%</td>\n",
       "    </tr>\n",
       "  </tbody>\n",
       "</table>\n"
      ],
      "text/plain": [
       "<pandas.io.formats.style.Styler at 0x2313838e950>"
      ]
     },
     "execution_count": 62,
     "metadata": {},
     "output_type": "execute_result"
    }
   ],
   "source": [
    "actual_event = pd.DataFrame()\n",
    "actual_event['type_event'] = actual_data.groupby('event_type')['user_id'].count()\n",
    "actual_event['persent'] = ((actual_event['type_event'] / actual_data['event_type'].count()) * 100)\n",
    "actual_event.sort_values(by='persent', ascending=False).style.format({'persent': '{:.2f}%'})"
   ]
  },
  {
   "cell_type": "markdown",
   "metadata": {},
   "source": [
    "### Визуализация частоты событий"
   ]
  },
  {
   "cell_type": "code",
   "execution_count": 64,
   "metadata": {},
   "outputs": [
    {
     "data": {
      "application/vnd.plotly.v1+json": {
       "config": {
        "plotlyServerURL": "https://plot.ly"
       },
       "data": [
        {
         "labels": [
          "MainScreenAppear",
          "OffersScreenAppear",
          "CartScreenAppear",
          "PaymentScreenSuccessful",
          "Tutorial"
         ],
         "title": {
          "text": "Частота событий"
         },
         "type": "pie",
         "values": [
          117328,
          46333,
          42303,
          33918,
          1005
         ]
        }
       ],
       "layout": {
        "template": {
         "data": {
          "bar": [
           {
            "error_x": {
             "color": "#2a3f5f"
            },
            "error_y": {
             "color": "#2a3f5f"
            },
            "marker": {
             "line": {
              "color": "#E5ECF6",
              "width": 0.5
             },
             "pattern": {
              "fillmode": "overlay",
              "size": 10,
              "solidity": 0.2
             }
            },
            "type": "bar"
           }
          ],
          "barpolar": [
           {
            "marker": {
             "line": {
              "color": "#E5ECF6",
              "width": 0.5
             },
             "pattern": {
              "fillmode": "overlay",
              "size": 10,
              "solidity": 0.2
             }
            },
            "type": "barpolar"
           }
          ],
          "carpet": [
           {
            "aaxis": {
             "endlinecolor": "#2a3f5f",
             "gridcolor": "white",
             "linecolor": "white",
             "minorgridcolor": "white",
             "startlinecolor": "#2a3f5f"
            },
            "baxis": {
             "endlinecolor": "#2a3f5f",
             "gridcolor": "white",
             "linecolor": "white",
             "minorgridcolor": "white",
             "startlinecolor": "#2a3f5f"
            },
            "type": "carpet"
           }
          ],
          "choropleth": [
           {
            "colorbar": {
             "outlinewidth": 0,
             "ticks": ""
            },
            "type": "choropleth"
           }
          ],
          "contour": [
           {
            "colorbar": {
             "outlinewidth": 0,
             "ticks": ""
            },
            "colorscale": [
             [
              0,
              "#0d0887"
             ],
             [
              0.1111111111111111,
              "#46039f"
             ],
             [
              0.2222222222222222,
              "#7201a8"
             ],
             [
              0.3333333333333333,
              "#9c179e"
             ],
             [
              0.4444444444444444,
              "#bd3786"
             ],
             [
              0.5555555555555556,
              "#d8576b"
             ],
             [
              0.6666666666666666,
              "#ed7953"
             ],
             [
              0.7777777777777778,
              "#fb9f3a"
             ],
             [
              0.8888888888888888,
              "#fdca26"
             ],
             [
              1,
              "#f0f921"
             ]
            ],
            "type": "contour"
           }
          ],
          "contourcarpet": [
           {
            "colorbar": {
             "outlinewidth": 0,
             "ticks": ""
            },
            "type": "contourcarpet"
           }
          ],
          "heatmap": [
           {
            "colorbar": {
             "outlinewidth": 0,
             "ticks": ""
            },
            "colorscale": [
             [
              0,
              "#0d0887"
             ],
             [
              0.1111111111111111,
              "#46039f"
             ],
             [
              0.2222222222222222,
              "#7201a8"
             ],
             [
              0.3333333333333333,
              "#9c179e"
             ],
             [
              0.4444444444444444,
              "#bd3786"
             ],
             [
              0.5555555555555556,
              "#d8576b"
             ],
             [
              0.6666666666666666,
              "#ed7953"
             ],
             [
              0.7777777777777778,
              "#fb9f3a"
             ],
             [
              0.8888888888888888,
              "#fdca26"
             ],
             [
              1,
              "#f0f921"
             ]
            ],
            "type": "heatmap"
           }
          ],
          "heatmapgl": [
           {
            "colorbar": {
             "outlinewidth": 0,
             "ticks": ""
            },
            "colorscale": [
             [
              0,
              "#0d0887"
             ],
             [
              0.1111111111111111,
              "#46039f"
             ],
             [
              0.2222222222222222,
              "#7201a8"
             ],
             [
              0.3333333333333333,
              "#9c179e"
             ],
             [
              0.4444444444444444,
              "#bd3786"
             ],
             [
              0.5555555555555556,
              "#d8576b"
             ],
             [
              0.6666666666666666,
              "#ed7953"
             ],
             [
              0.7777777777777778,
              "#fb9f3a"
             ],
             [
              0.8888888888888888,
              "#fdca26"
             ],
             [
              1,
              "#f0f921"
             ]
            ],
            "type": "heatmapgl"
           }
          ],
          "histogram": [
           {
            "marker": {
             "pattern": {
              "fillmode": "overlay",
              "size": 10,
              "solidity": 0.2
             }
            },
            "type": "histogram"
           }
          ],
          "histogram2d": [
           {
            "colorbar": {
             "outlinewidth": 0,
             "ticks": ""
            },
            "colorscale": [
             [
              0,
              "#0d0887"
             ],
             [
              0.1111111111111111,
              "#46039f"
             ],
             [
              0.2222222222222222,
              "#7201a8"
             ],
             [
              0.3333333333333333,
              "#9c179e"
             ],
             [
              0.4444444444444444,
              "#bd3786"
             ],
             [
              0.5555555555555556,
              "#d8576b"
             ],
             [
              0.6666666666666666,
              "#ed7953"
             ],
             [
              0.7777777777777778,
              "#fb9f3a"
             ],
             [
              0.8888888888888888,
              "#fdca26"
             ],
             [
              1,
              "#f0f921"
             ]
            ],
            "type": "histogram2d"
           }
          ],
          "histogram2dcontour": [
           {
            "colorbar": {
             "outlinewidth": 0,
             "ticks": ""
            },
            "colorscale": [
             [
              0,
              "#0d0887"
             ],
             [
              0.1111111111111111,
              "#46039f"
             ],
             [
              0.2222222222222222,
              "#7201a8"
             ],
             [
              0.3333333333333333,
              "#9c179e"
             ],
             [
              0.4444444444444444,
              "#bd3786"
             ],
             [
              0.5555555555555556,
              "#d8576b"
             ],
             [
              0.6666666666666666,
              "#ed7953"
             ],
             [
              0.7777777777777778,
              "#fb9f3a"
             ],
             [
              0.8888888888888888,
              "#fdca26"
             ],
             [
              1,
              "#f0f921"
             ]
            ],
            "type": "histogram2dcontour"
           }
          ],
          "mesh3d": [
           {
            "colorbar": {
             "outlinewidth": 0,
             "ticks": ""
            },
            "type": "mesh3d"
           }
          ],
          "parcoords": [
           {
            "line": {
             "colorbar": {
              "outlinewidth": 0,
              "ticks": ""
             }
            },
            "type": "parcoords"
           }
          ],
          "pie": [
           {
            "automargin": true,
            "type": "pie"
           }
          ],
          "scatter": [
           {
            "fillpattern": {
             "fillmode": "overlay",
             "size": 10,
             "solidity": 0.2
            },
            "type": "scatter"
           }
          ],
          "scatter3d": [
           {
            "line": {
             "colorbar": {
              "outlinewidth": 0,
              "ticks": ""
             }
            },
            "marker": {
             "colorbar": {
              "outlinewidth": 0,
              "ticks": ""
             }
            },
            "type": "scatter3d"
           }
          ],
          "scattercarpet": [
           {
            "marker": {
             "colorbar": {
              "outlinewidth": 0,
              "ticks": ""
             }
            },
            "type": "scattercarpet"
           }
          ],
          "scattergeo": [
           {
            "marker": {
             "colorbar": {
              "outlinewidth": 0,
              "ticks": ""
             }
            },
            "type": "scattergeo"
           }
          ],
          "scattergl": [
           {
            "marker": {
             "colorbar": {
              "outlinewidth": 0,
              "ticks": ""
             }
            },
            "type": "scattergl"
           }
          ],
          "scattermapbox": [
           {
            "marker": {
             "colorbar": {
              "outlinewidth": 0,
              "ticks": ""
             }
            },
            "type": "scattermapbox"
           }
          ],
          "scatterpolar": [
           {
            "marker": {
             "colorbar": {
              "outlinewidth": 0,
              "ticks": ""
             }
            },
            "type": "scatterpolar"
           }
          ],
          "scatterpolargl": [
           {
            "marker": {
             "colorbar": {
              "outlinewidth": 0,
              "ticks": ""
             }
            },
            "type": "scatterpolargl"
           }
          ],
          "scatterternary": [
           {
            "marker": {
             "colorbar": {
              "outlinewidth": 0,
              "ticks": ""
             }
            },
            "type": "scatterternary"
           }
          ],
          "surface": [
           {
            "colorbar": {
             "outlinewidth": 0,
             "ticks": ""
            },
            "colorscale": [
             [
              0,
              "#0d0887"
             ],
             [
              0.1111111111111111,
              "#46039f"
             ],
             [
              0.2222222222222222,
              "#7201a8"
             ],
             [
              0.3333333333333333,
              "#9c179e"
             ],
             [
              0.4444444444444444,
              "#bd3786"
             ],
             [
              0.5555555555555556,
              "#d8576b"
             ],
             [
              0.6666666666666666,
              "#ed7953"
             ],
             [
              0.7777777777777778,
              "#fb9f3a"
             ],
             [
              0.8888888888888888,
              "#fdca26"
             ],
             [
              1,
              "#f0f921"
             ]
            ],
            "type": "surface"
           }
          ],
          "table": [
           {
            "cells": {
             "fill": {
              "color": "#EBF0F8"
             },
             "line": {
              "color": "white"
             }
            },
            "header": {
             "fill": {
              "color": "#C8D4E3"
             },
             "line": {
              "color": "white"
             }
            },
            "type": "table"
           }
          ]
         },
         "layout": {
          "annotationdefaults": {
           "arrowcolor": "#2a3f5f",
           "arrowhead": 0,
           "arrowwidth": 1
          },
          "autotypenumbers": "strict",
          "coloraxis": {
           "colorbar": {
            "outlinewidth": 0,
            "ticks": ""
           }
          },
          "colorscale": {
           "diverging": [
            [
             0,
             "#8e0152"
            ],
            [
             0.1,
             "#c51b7d"
            ],
            [
             0.2,
             "#de77ae"
            ],
            [
             0.3,
             "#f1b6da"
            ],
            [
             0.4,
             "#fde0ef"
            ],
            [
             0.5,
             "#f7f7f7"
            ],
            [
             0.6,
             "#e6f5d0"
            ],
            [
             0.7,
             "#b8e186"
            ],
            [
             0.8,
             "#7fbc41"
            ],
            [
             0.9,
             "#4d9221"
            ],
            [
             1,
             "#276419"
            ]
           ],
           "sequential": [
            [
             0,
             "#0d0887"
            ],
            [
             0.1111111111111111,
             "#46039f"
            ],
            [
             0.2222222222222222,
             "#7201a8"
            ],
            [
             0.3333333333333333,
             "#9c179e"
            ],
            [
             0.4444444444444444,
             "#bd3786"
            ],
            [
             0.5555555555555556,
             "#d8576b"
            ],
            [
             0.6666666666666666,
             "#ed7953"
            ],
            [
             0.7777777777777778,
             "#fb9f3a"
            ],
            [
             0.8888888888888888,
             "#fdca26"
            ],
            [
             1,
             "#f0f921"
            ]
           ],
           "sequentialminus": [
            [
             0,
             "#0d0887"
            ],
            [
             0.1111111111111111,
             "#46039f"
            ],
            [
             0.2222222222222222,
             "#7201a8"
            ],
            [
             0.3333333333333333,
             "#9c179e"
            ],
            [
             0.4444444444444444,
             "#bd3786"
            ],
            [
             0.5555555555555556,
             "#d8576b"
            ],
            [
             0.6666666666666666,
             "#ed7953"
            ],
            [
             0.7777777777777778,
             "#fb9f3a"
            ],
            [
             0.8888888888888888,
             "#fdca26"
            ],
            [
             1,
             "#f0f921"
            ]
           ]
          },
          "colorway": [
           "#636efa",
           "#EF553B",
           "#00cc96",
           "#ab63fa",
           "#FFA15A",
           "#19d3f3",
           "#FF6692",
           "#B6E880",
           "#FF97FF",
           "#FECB52"
          ],
          "font": {
           "color": "#2a3f5f"
          },
          "geo": {
           "bgcolor": "white",
           "lakecolor": "white",
           "landcolor": "#E5ECF6",
           "showlakes": true,
           "showland": true,
           "subunitcolor": "white"
          },
          "hoverlabel": {
           "align": "left"
          },
          "hovermode": "closest",
          "mapbox": {
           "style": "light"
          },
          "paper_bgcolor": "white",
          "plot_bgcolor": "#E5ECF6",
          "polar": {
           "angularaxis": {
            "gridcolor": "white",
            "linecolor": "white",
            "ticks": ""
           },
           "bgcolor": "#E5ECF6",
           "radialaxis": {
            "gridcolor": "white",
            "linecolor": "white",
            "ticks": ""
           }
          },
          "scene": {
           "xaxis": {
            "backgroundcolor": "#E5ECF6",
            "gridcolor": "white",
            "gridwidth": 2,
            "linecolor": "white",
            "showbackground": true,
            "ticks": "",
            "zerolinecolor": "white"
           },
           "yaxis": {
            "backgroundcolor": "#E5ECF6",
            "gridcolor": "white",
            "gridwidth": 2,
            "linecolor": "white",
            "showbackground": true,
            "ticks": "",
            "zerolinecolor": "white"
           },
           "zaxis": {
            "backgroundcolor": "#E5ECF6",
            "gridcolor": "white",
            "gridwidth": 2,
            "linecolor": "white",
            "showbackground": true,
            "ticks": "",
            "zerolinecolor": "white"
           }
          },
          "shapedefaults": {
           "line": {
            "color": "#2a3f5f"
           }
          },
          "ternary": {
           "aaxis": {
            "gridcolor": "white",
            "linecolor": "white",
            "ticks": ""
           },
           "baxis": {
            "gridcolor": "white",
            "linecolor": "white",
            "ticks": ""
           },
           "bgcolor": "#E5ECF6",
           "caxis": {
            "gridcolor": "white",
            "linecolor": "white",
            "ticks": ""
           }
          },
          "title": {
           "x": 0.05
          },
          "xaxis": {
           "automargin": true,
           "gridcolor": "white",
           "linecolor": "white",
           "ticks": "",
           "title": {
            "standoff": 15
           },
           "zerolinecolor": "white",
           "zerolinewidth": 2
          },
          "yaxis": {
           "automargin": true,
           "gridcolor": "white",
           "linecolor": "white",
           "ticks": "",
           "title": {
            "standoff": 15
           },
           "zerolinecolor": "white",
           "zerolinewidth": 2
          }
         }
        }
       }
      },
      "text/html": [
       "<div>                            <div id=\"882fc1d0-ab54-4c43-b6f3-995ac54eaa7a\" class=\"plotly-graph-div\" style=\"height:525px; width:100%;\"></div>            <script type=\"text/javascript\">                require([\"plotly\"], function(Plotly) {                    window.PLOTLYENV=window.PLOTLYENV || {};                                    if (document.getElementById(\"882fc1d0-ab54-4c43-b6f3-995ac54eaa7a\")) {                    Plotly.newPlot(                        \"882fc1d0-ab54-4c43-b6f3-995ac54eaa7a\",                        [{\"labels\":[\"MainScreenAppear\",\"OffersScreenAppear\",\"CartScreenAppear\",\"PaymentScreenSuccessful\",\"Tutorial\"],\"title\":{\"text\":\"\\u0427\\u0430\\u0441\\u0442\\u043e\\u0442\\u0430 \\u0441\\u043e\\u0431\\u044b\\u0442\\u0438\\u0439\"},\"values\":[117328,46333,42303,33918,1005],\"type\":\"pie\"}],                        {\"template\":{\"data\":{\"histogram2dcontour\":[{\"type\":\"histogram2dcontour\",\"colorbar\":{\"outlinewidth\":0,\"ticks\":\"\"},\"colorscale\":[[0.0,\"#0d0887\"],[0.1111111111111111,\"#46039f\"],[0.2222222222222222,\"#7201a8\"],[0.3333333333333333,\"#9c179e\"],[0.4444444444444444,\"#bd3786\"],[0.5555555555555556,\"#d8576b\"],[0.6666666666666666,\"#ed7953\"],[0.7777777777777778,\"#fb9f3a\"],[0.8888888888888888,\"#fdca26\"],[1.0,\"#f0f921\"]]}],\"choropleth\":[{\"type\":\"choropleth\",\"colorbar\":{\"outlinewidth\":0,\"ticks\":\"\"}}],\"histogram2d\":[{\"type\":\"histogram2d\",\"colorbar\":{\"outlinewidth\":0,\"ticks\":\"\"},\"colorscale\":[[0.0,\"#0d0887\"],[0.1111111111111111,\"#46039f\"],[0.2222222222222222,\"#7201a8\"],[0.3333333333333333,\"#9c179e\"],[0.4444444444444444,\"#bd3786\"],[0.5555555555555556,\"#d8576b\"],[0.6666666666666666,\"#ed7953\"],[0.7777777777777778,\"#fb9f3a\"],[0.8888888888888888,\"#fdca26\"],[1.0,\"#f0f921\"]]}],\"heatmap\":[{\"type\":\"heatmap\",\"colorbar\":{\"outlinewidth\":0,\"ticks\":\"\"},\"colorscale\":[[0.0,\"#0d0887\"],[0.1111111111111111,\"#46039f\"],[0.2222222222222222,\"#7201a8\"],[0.3333333333333333,\"#9c179e\"],[0.4444444444444444,\"#bd3786\"],[0.5555555555555556,\"#d8576b\"],[0.6666666666666666,\"#ed7953\"],[0.7777777777777778,\"#fb9f3a\"],[0.8888888888888888,\"#fdca26\"],[1.0,\"#f0f921\"]]}],\"heatmapgl\":[{\"type\":\"heatmapgl\",\"colorbar\":{\"outlinewidth\":0,\"ticks\":\"\"},\"colorscale\":[[0.0,\"#0d0887\"],[0.1111111111111111,\"#46039f\"],[0.2222222222222222,\"#7201a8\"],[0.3333333333333333,\"#9c179e\"],[0.4444444444444444,\"#bd3786\"],[0.5555555555555556,\"#d8576b\"],[0.6666666666666666,\"#ed7953\"],[0.7777777777777778,\"#fb9f3a\"],[0.8888888888888888,\"#fdca26\"],[1.0,\"#f0f921\"]]}],\"contourcarpet\":[{\"type\":\"contourcarpet\",\"colorbar\":{\"outlinewidth\":0,\"ticks\":\"\"}}],\"contour\":[{\"type\":\"contour\",\"colorbar\":{\"outlinewidth\":0,\"ticks\":\"\"},\"colorscale\":[[0.0,\"#0d0887\"],[0.1111111111111111,\"#46039f\"],[0.2222222222222222,\"#7201a8\"],[0.3333333333333333,\"#9c179e\"],[0.4444444444444444,\"#bd3786\"],[0.5555555555555556,\"#d8576b\"],[0.6666666666666666,\"#ed7953\"],[0.7777777777777778,\"#fb9f3a\"],[0.8888888888888888,\"#fdca26\"],[1.0,\"#f0f921\"]]}],\"surface\":[{\"type\":\"surface\",\"colorbar\":{\"outlinewidth\":0,\"ticks\":\"\"},\"colorscale\":[[0.0,\"#0d0887\"],[0.1111111111111111,\"#46039f\"],[0.2222222222222222,\"#7201a8\"],[0.3333333333333333,\"#9c179e\"],[0.4444444444444444,\"#bd3786\"],[0.5555555555555556,\"#d8576b\"],[0.6666666666666666,\"#ed7953\"],[0.7777777777777778,\"#fb9f3a\"],[0.8888888888888888,\"#fdca26\"],[1.0,\"#f0f921\"]]}],\"mesh3d\":[{\"type\":\"mesh3d\",\"colorbar\":{\"outlinewidth\":0,\"ticks\":\"\"}}],\"scatter\":[{\"fillpattern\":{\"fillmode\":\"overlay\",\"size\":10,\"solidity\":0.2},\"type\":\"scatter\"}],\"parcoords\":[{\"type\":\"parcoords\",\"line\":{\"colorbar\":{\"outlinewidth\":0,\"ticks\":\"\"}}}],\"scatterpolargl\":[{\"type\":\"scatterpolargl\",\"marker\":{\"colorbar\":{\"outlinewidth\":0,\"ticks\":\"\"}}}],\"bar\":[{\"error_x\":{\"color\":\"#2a3f5f\"},\"error_y\":{\"color\":\"#2a3f5f\"},\"marker\":{\"line\":{\"color\":\"#E5ECF6\",\"width\":0.5},\"pattern\":{\"fillmode\":\"overlay\",\"size\":10,\"solidity\":0.2}},\"type\":\"bar\"}],\"scattergeo\":[{\"type\":\"scattergeo\",\"marker\":{\"colorbar\":{\"outlinewidth\":0,\"ticks\":\"\"}}}],\"scatterpolar\":[{\"type\":\"scatterpolar\",\"marker\":{\"colorbar\":{\"outlinewidth\":0,\"ticks\":\"\"}}}],\"histogram\":[{\"marker\":{\"pattern\":{\"fillmode\":\"overlay\",\"size\":10,\"solidity\":0.2}},\"type\":\"histogram\"}],\"scattergl\":[{\"type\":\"scattergl\",\"marker\":{\"colorbar\":{\"outlinewidth\":0,\"ticks\":\"\"}}}],\"scatter3d\":[{\"type\":\"scatter3d\",\"line\":{\"colorbar\":{\"outlinewidth\":0,\"ticks\":\"\"}},\"marker\":{\"colorbar\":{\"outlinewidth\":0,\"ticks\":\"\"}}}],\"scattermapbox\":[{\"type\":\"scattermapbox\",\"marker\":{\"colorbar\":{\"outlinewidth\":0,\"ticks\":\"\"}}}],\"scatterternary\":[{\"type\":\"scatterternary\",\"marker\":{\"colorbar\":{\"outlinewidth\":0,\"ticks\":\"\"}}}],\"scattercarpet\":[{\"type\":\"scattercarpet\",\"marker\":{\"colorbar\":{\"outlinewidth\":0,\"ticks\":\"\"}}}],\"carpet\":[{\"aaxis\":{\"endlinecolor\":\"#2a3f5f\",\"gridcolor\":\"white\",\"linecolor\":\"white\",\"minorgridcolor\":\"white\",\"startlinecolor\":\"#2a3f5f\"},\"baxis\":{\"endlinecolor\":\"#2a3f5f\",\"gridcolor\":\"white\",\"linecolor\":\"white\",\"minorgridcolor\":\"white\",\"startlinecolor\":\"#2a3f5f\"},\"type\":\"carpet\"}],\"table\":[{\"cells\":{\"fill\":{\"color\":\"#EBF0F8\"},\"line\":{\"color\":\"white\"}},\"header\":{\"fill\":{\"color\":\"#C8D4E3\"},\"line\":{\"color\":\"white\"}},\"type\":\"table\"}],\"barpolar\":[{\"marker\":{\"line\":{\"color\":\"#E5ECF6\",\"width\":0.5},\"pattern\":{\"fillmode\":\"overlay\",\"size\":10,\"solidity\":0.2}},\"type\":\"barpolar\"}],\"pie\":[{\"automargin\":true,\"type\":\"pie\"}]},\"layout\":{\"autotypenumbers\":\"strict\",\"colorway\":[\"#636efa\",\"#EF553B\",\"#00cc96\",\"#ab63fa\",\"#FFA15A\",\"#19d3f3\",\"#FF6692\",\"#B6E880\",\"#FF97FF\",\"#FECB52\"],\"font\":{\"color\":\"#2a3f5f\"},\"hovermode\":\"closest\",\"hoverlabel\":{\"align\":\"left\"},\"paper_bgcolor\":\"white\",\"plot_bgcolor\":\"#E5ECF6\",\"polar\":{\"bgcolor\":\"#E5ECF6\",\"angularaxis\":{\"gridcolor\":\"white\",\"linecolor\":\"white\",\"ticks\":\"\"},\"radialaxis\":{\"gridcolor\":\"white\",\"linecolor\":\"white\",\"ticks\":\"\"}},\"ternary\":{\"bgcolor\":\"#E5ECF6\",\"aaxis\":{\"gridcolor\":\"white\",\"linecolor\":\"white\",\"ticks\":\"\"},\"baxis\":{\"gridcolor\":\"white\",\"linecolor\":\"white\",\"ticks\":\"\"},\"caxis\":{\"gridcolor\":\"white\",\"linecolor\":\"white\",\"ticks\":\"\"}},\"coloraxis\":{\"colorbar\":{\"outlinewidth\":0,\"ticks\":\"\"}},\"colorscale\":{\"sequential\":[[0.0,\"#0d0887\"],[0.1111111111111111,\"#46039f\"],[0.2222222222222222,\"#7201a8\"],[0.3333333333333333,\"#9c179e\"],[0.4444444444444444,\"#bd3786\"],[0.5555555555555556,\"#d8576b\"],[0.6666666666666666,\"#ed7953\"],[0.7777777777777778,\"#fb9f3a\"],[0.8888888888888888,\"#fdca26\"],[1.0,\"#f0f921\"]],\"sequentialminus\":[[0.0,\"#0d0887\"],[0.1111111111111111,\"#46039f\"],[0.2222222222222222,\"#7201a8\"],[0.3333333333333333,\"#9c179e\"],[0.4444444444444444,\"#bd3786\"],[0.5555555555555556,\"#d8576b\"],[0.6666666666666666,\"#ed7953\"],[0.7777777777777778,\"#fb9f3a\"],[0.8888888888888888,\"#fdca26\"],[1.0,\"#f0f921\"]],\"diverging\":[[0,\"#8e0152\"],[0.1,\"#c51b7d\"],[0.2,\"#de77ae\"],[0.3,\"#f1b6da\"],[0.4,\"#fde0ef\"],[0.5,\"#f7f7f7\"],[0.6,\"#e6f5d0\"],[0.7,\"#b8e186\"],[0.8,\"#7fbc41\"],[0.9,\"#4d9221\"],[1,\"#276419\"]]},\"xaxis\":{\"gridcolor\":\"white\",\"linecolor\":\"white\",\"ticks\":\"\",\"title\":{\"standoff\":15},\"zerolinecolor\":\"white\",\"automargin\":true,\"zerolinewidth\":2},\"yaxis\":{\"gridcolor\":\"white\",\"linecolor\":\"white\",\"ticks\":\"\",\"title\":{\"standoff\":15},\"zerolinecolor\":\"white\",\"automargin\":true,\"zerolinewidth\":2},\"scene\":{\"xaxis\":{\"backgroundcolor\":\"#E5ECF6\",\"gridcolor\":\"white\",\"linecolor\":\"white\",\"showbackground\":true,\"ticks\":\"\",\"zerolinecolor\":\"white\",\"gridwidth\":2},\"yaxis\":{\"backgroundcolor\":\"#E5ECF6\",\"gridcolor\":\"white\",\"linecolor\":\"white\",\"showbackground\":true,\"ticks\":\"\",\"zerolinecolor\":\"white\",\"gridwidth\":2},\"zaxis\":{\"backgroundcolor\":\"#E5ECF6\",\"gridcolor\":\"white\",\"linecolor\":\"white\",\"showbackground\":true,\"ticks\":\"\",\"zerolinecolor\":\"white\",\"gridwidth\":2}},\"shapedefaults\":{\"line\":{\"color\":\"#2a3f5f\"}},\"annotationdefaults\":{\"arrowcolor\":\"#2a3f5f\",\"arrowhead\":0,\"arrowwidth\":1},\"geo\":{\"bgcolor\":\"white\",\"landcolor\":\"#E5ECF6\",\"subunitcolor\":\"white\",\"showland\":true,\"showlakes\":true,\"lakecolor\":\"white\"},\"title\":{\"x\":0.05},\"mapbox\":{\"style\":\"light\"}}}},                        {\"responsive\": true}                    ).then(function(){\n",
       "                            \n",
       "var gd = document.getElementById('882fc1d0-ab54-4c43-b6f3-995ac54eaa7a');\n",
       "var x = new MutationObserver(function (mutations, observer) {{\n",
       "        var display = window.getComputedStyle(gd).display;\n",
       "        if (!display || display === 'none') {{\n",
       "            console.log([gd, 'removed!']);\n",
       "            Plotly.purge(gd);\n",
       "            observer.disconnect();\n",
       "        }}\n",
       "}});\n",
       "\n",
       "// Listen for the removal of the full notebook cells\n",
       "var notebookContainer = gd.closest('#notebook-container');\n",
       "if (notebookContainer) {{\n",
       "    x.observe(notebookContainer, {childList: true});\n",
       "}}\n",
       "\n",
       "// Listen for the clearing of the current output cell\n",
       "var outputEl = gd.closest('.output');\n",
       "if (outputEl) {{\n",
       "    x.observe(outputEl, {childList: true});\n",
       "}}\n",
       "\n",
       "                        })                };                });            </script>        </div>"
      ]
     },
     "metadata": {},
     "output_type": "display_data"
    }
   ],
   "source": [
    "fig = go.Figure(data=[go.Pie(labels=actual_data['event_type'].value_counts().index, values=actual_data['event_type'].value_counts(), \\\n",
    "                             title='Частота событий')])\n",
    "fig.show()"
   ]
  },
  {
   "cell_type": "raw",
   "metadata": {},
   "source": [
    "Сделаем небольшую расшифровку событий\n",
    "MainScreenAppear - Появился главный экран\n",
    "OffersScreenAppear - Появился экран с товаром\n",
    "CartScreenAppear - Появился экран корзины\n",
    "PaymentScreenSuccessful\t- Появился экран успешной оплаты\n",
    "Tutorial - Появился экран с инструкцией (обучением)\t"
   ]
  },
  {
   "cell_type": "markdown",
   "metadata": {},
   "source": [
    "### События по числу пользователей "
   ]
  },
  {
   "cell_type": "markdown",
   "metadata": {},
   "source": [
    "Посчитаем, сколько пользователей совершали каждое из этих событий и долю пользователей для каждого действия в отношении к первоначальному количеству пользователей. "
   ]
  },
  {
   "cell_type": "code",
   "execution_count": 66,
   "metadata": {},
   "outputs": [
    {
     "name": "stderr",
     "output_type": "stream",
     "text": [
      "C:\\Users\\NADYA-PC\\AppData\\Local\\Temp\\ipykernel_4624\\2931460678.py:2: FutureWarning:\n",
      "\n",
      "DataFrame.set_axis 'inplace' keyword is deprecated and will be removed in a future version. Use `obj = obj.set_axis(..., copy=False)` instead\n",
      "\n"
     ]
    },
    {
     "data": {
      "text/html": [
       "<div>\n",
       "<style scoped>\n",
       "    .dataframe tbody tr th:only-of-type {\n",
       "        vertical-align: middle;\n",
       "    }\n",
       "\n",
       "    .dataframe tbody tr th {\n",
       "        vertical-align: top;\n",
       "    }\n",
       "\n",
       "    .dataframe thead th {\n",
       "        text-align: right;\n",
       "    }\n",
       "</style>\n",
       "<table border=\"1\" class=\"dataframe\">\n",
       "  <thead>\n",
       "    <tr style=\"text-align: right;\">\n",
       "      <th></th>\n",
       "      <th>type_event</th>\n",
       "      <th>number_users</th>\n",
       "      <th>persent</th>\n",
       "      <th>funnel</th>\n",
       "    </tr>\n",
       "  </thead>\n",
       "  <tbody>\n",
       "    <tr>\n",
       "      <th>0</th>\n",
       "      <td>MainScreenAppear</td>\n",
       "      <td>7419</td>\n",
       "      <td>98.473586</td>\n",
       "      <td>1.000000</td>\n",
       "    </tr>\n",
       "    <tr>\n",
       "      <th>1</th>\n",
       "      <td>OffersScreenAppear</td>\n",
       "      <td>4593</td>\n",
       "      <td>60.963632</td>\n",
       "      <td>0.619086</td>\n",
       "    </tr>\n",
       "    <tr>\n",
       "      <th>2</th>\n",
       "      <td>CartScreenAppear</td>\n",
       "      <td>3734</td>\n",
       "      <td>49.561986</td>\n",
       "      <td>0.812976</td>\n",
       "    </tr>\n",
       "    <tr>\n",
       "      <th>3</th>\n",
       "      <td>PaymentScreenSuccessful</td>\n",
       "      <td>3539</td>\n",
       "      <td>46.973719</td>\n",
       "      <td>0.947777</td>\n",
       "    </tr>\n",
       "    <tr>\n",
       "      <th>4</th>\n",
       "      <td>Tutorial</td>\n",
       "      <td>840</td>\n",
       "      <td>11.149456</td>\n",
       "      <td>1.000000</td>\n",
       "    </tr>\n",
       "  </tbody>\n",
       "</table>\n",
       "</div>"
      ],
      "text/plain": [
       "                type_event  number_users    persent    funnel\n",
       "0         MainScreenAppear          7419  98.473586  1.000000\n",
       "1       OffersScreenAppear          4593  60.963632  0.619086\n",
       "2         CartScreenAppear          3734  49.561986  0.812976\n",
       "3  PaymentScreenSuccessful          3539  46.973719  0.947777\n",
       "4                 Tutorial           840  11.149456  1.000000"
      ]
     },
     "execution_count": 66,
     "metadata": {},
     "output_type": "execute_result"
    }
   ],
   "source": [
    "actual_event_for_user = actual_data.groupby('event_type').agg({'user_id':'nunique'}).reset_index()\n",
    "actual_event_for_user.set_axis(['type_event', 'number_users'], axis='columns', inplace=True)\n",
    "actual_event_for_user['persent'] = actual_event_for_user.number_users/actual_data['user_id'].nunique()*100\n",
    "actual_event_for_user = actual_event_for_user.sort_values('number_users', ascending=False).reset_index(drop=True)\n",
    "\n",
    "# построим воронку\n",
    "actual_event_for_user['funnel'] = 1\n",
    "for i in range(1, 4):\n",
    "    actual_event_for_user.loc[i, 'funnel'] = actual_event_for_user.loc[i, 'number_users'] /  (actual_event_for_user.loc[i-1, 'number_users'])\n",
    "\n",
    "actual_event_for_user"
   ]
  },
  {
   "cell_type": "markdown",
   "metadata": {},
   "source": [
    "### Порядок событий"
   ]
  },
  {
   "cell_type": "markdown",
   "metadata": {},
   "source": [
    "Предположим, в каком порядке происходят события. Все ли они выстраиваются в последовательную цепочку? "
   ]
  },
  {
   "cell_type": "markdown",
   "metadata": {},
   "source": [
    "Предполагаю, что все упомянутые события происходят последовательно и выстраиваются в цепочку за исключением события Tutorial (обучение). Предполагаю, что событие Tutorial (обучение) не обязательно нужно для формления успешной покупки."
   ]
  },
  {
   "cell_type": "markdown",
   "metadata": {},
   "source": [
    "Соответственно, предполагаю, что событие Tutorial (обучение) в расчете воронки не требуется учитывать."
   ]
  },
  {
   "cell_type": "markdown",
   "metadata": {},
   "source": [
    "По воронке событий видим, какая доля пользователей проходит на следующий шаг воронки (от числа пользователей на предыдущем).\n",
    "При переходе от страницы главного экрана до экрана с товаром теряется большинство пользователей - порядка 38%"
   ]
  },
  {
   "cell_type": "markdown",
   "metadata": {},
   "source": [
    "От первого события до оплаты проходит 46,9% пользователей\n"
   ]
  },
  {
   "cell_type": "markdown",
   "metadata": {},
   "source": [
    "### Построение графика воронки"
   ]
  },
  {
   "cell_type": "code",
   "execution_count": 68,
   "metadata": {},
   "outputs": [
    {
     "data": {
      "application/vnd.plotly.v1+json": {
       "config": {
        "plotlyServerURL": "https://plot.ly"
       },
       "data": [
        {
         "hovertemplate": "number=%{x}<br>stage=%{y}<extra></extra>",
         "legendgroup": "",
         "marker": {
          "color": "#636efa"
         },
         "name": "",
         "orientation": "h",
         "showlegend": false,
         "type": "funnel",
         "x": [
          98.47,
          60.96,
          49.56,
          46.97
         ],
         "xaxis": "x",
         "y": [
          "MainScreenAppear",
          "OffersScreenAppear",
          "CartScreenAppear",
          "PaymentScreenSuccessful"
         ],
         "yaxis": "y"
        }
       ],
       "layout": {
        "legend": {
         "tracegroupgap": 0
        },
        "margin": {
         "t": 60
        },
        "template": {
         "data": {
          "bar": [
           {
            "error_x": {
             "color": "#2a3f5f"
            },
            "error_y": {
             "color": "#2a3f5f"
            },
            "marker": {
             "line": {
              "color": "#E5ECF6",
              "width": 0.5
             },
             "pattern": {
              "fillmode": "overlay",
              "size": 10,
              "solidity": 0.2
             }
            },
            "type": "bar"
           }
          ],
          "barpolar": [
           {
            "marker": {
             "line": {
              "color": "#E5ECF6",
              "width": 0.5
             },
             "pattern": {
              "fillmode": "overlay",
              "size": 10,
              "solidity": 0.2
             }
            },
            "type": "barpolar"
           }
          ],
          "carpet": [
           {
            "aaxis": {
             "endlinecolor": "#2a3f5f",
             "gridcolor": "white",
             "linecolor": "white",
             "minorgridcolor": "white",
             "startlinecolor": "#2a3f5f"
            },
            "baxis": {
             "endlinecolor": "#2a3f5f",
             "gridcolor": "white",
             "linecolor": "white",
             "minorgridcolor": "white",
             "startlinecolor": "#2a3f5f"
            },
            "type": "carpet"
           }
          ],
          "choropleth": [
           {
            "colorbar": {
             "outlinewidth": 0,
             "ticks": ""
            },
            "type": "choropleth"
           }
          ],
          "contour": [
           {
            "colorbar": {
             "outlinewidth": 0,
             "ticks": ""
            },
            "colorscale": [
             [
              0,
              "#0d0887"
             ],
             [
              0.1111111111111111,
              "#46039f"
             ],
             [
              0.2222222222222222,
              "#7201a8"
             ],
             [
              0.3333333333333333,
              "#9c179e"
             ],
             [
              0.4444444444444444,
              "#bd3786"
             ],
             [
              0.5555555555555556,
              "#d8576b"
             ],
             [
              0.6666666666666666,
              "#ed7953"
             ],
             [
              0.7777777777777778,
              "#fb9f3a"
             ],
             [
              0.8888888888888888,
              "#fdca26"
             ],
             [
              1,
              "#f0f921"
             ]
            ],
            "type": "contour"
           }
          ],
          "contourcarpet": [
           {
            "colorbar": {
             "outlinewidth": 0,
             "ticks": ""
            },
            "type": "contourcarpet"
           }
          ],
          "heatmap": [
           {
            "colorbar": {
             "outlinewidth": 0,
             "ticks": ""
            },
            "colorscale": [
             [
              0,
              "#0d0887"
             ],
             [
              0.1111111111111111,
              "#46039f"
             ],
             [
              0.2222222222222222,
              "#7201a8"
             ],
             [
              0.3333333333333333,
              "#9c179e"
             ],
             [
              0.4444444444444444,
              "#bd3786"
             ],
             [
              0.5555555555555556,
              "#d8576b"
             ],
             [
              0.6666666666666666,
              "#ed7953"
             ],
             [
              0.7777777777777778,
              "#fb9f3a"
             ],
             [
              0.8888888888888888,
              "#fdca26"
             ],
             [
              1,
              "#f0f921"
             ]
            ],
            "type": "heatmap"
           }
          ],
          "heatmapgl": [
           {
            "colorbar": {
             "outlinewidth": 0,
             "ticks": ""
            },
            "colorscale": [
             [
              0,
              "#0d0887"
             ],
             [
              0.1111111111111111,
              "#46039f"
             ],
             [
              0.2222222222222222,
              "#7201a8"
             ],
             [
              0.3333333333333333,
              "#9c179e"
             ],
             [
              0.4444444444444444,
              "#bd3786"
             ],
             [
              0.5555555555555556,
              "#d8576b"
             ],
             [
              0.6666666666666666,
              "#ed7953"
             ],
             [
              0.7777777777777778,
              "#fb9f3a"
             ],
             [
              0.8888888888888888,
              "#fdca26"
             ],
             [
              1,
              "#f0f921"
             ]
            ],
            "type": "heatmapgl"
           }
          ],
          "histogram": [
           {
            "marker": {
             "pattern": {
              "fillmode": "overlay",
              "size": 10,
              "solidity": 0.2
             }
            },
            "type": "histogram"
           }
          ],
          "histogram2d": [
           {
            "colorbar": {
             "outlinewidth": 0,
             "ticks": ""
            },
            "colorscale": [
             [
              0,
              "#0d0887"
             ],
             [
              0.1111111111111111,
              "#46039f"
             ],
             [
              0.2222222222222222,
              "#7201a8"
             ],
             [
              0.3333333333333333,
              "#9c179e"
             ],
             [
              0.4444444444444444,
              "#bd3786"
             ],
             [
              0.5555555555555556,
              "#d8576b"
             ],
             [
              0.6666666666666666,
              "#ed7953"
             ],
             [
              0.7777777777777778,
              "#fb9f3a"
             ],
             [
              0.8888888888888888,
              "#fdca26"
             ],
             [
              1,
              "#f0f921"
             ]
            ],
            "type": "histogram2d"
           }
          ],
          "histogram2dcontour": [
           {
            "colorbar": {
             "outlinewidth": 0,
             "ticks": ""
            },
            "colorscale": [
             [
              0,
              "#0d0887"
             ],
             [
              0.1111111111111111,
              "#46039f"
             ],
             [
              0.2222222222222222,
              "#7201a8"
             ],
             [
              0.3333333333333333,
              "#9c179e"
             ],
             [
              0.4444444444444444,
              "#bd3786"
             ],
             [
              0.5555555555555556,
              "#d8576b"
             ],
             [
              0.6666666666666666,
              "#ed7953"
             ],
             [
              0.7777777777777778,
              "#fb9f3a"
             ],
             [
              0.8888888888888888,
              "#fdca26"
             ],
             [
              1,
              "#f0f921"
             ]
            ],
            "type": "histogram2dcontour"
           }
          ],
          "mesh3d": [
           {
            "colorbar": {
             "outlinewidth": 0,
             "ticks": ""
            },
            "type": "mesh3d"
           }
          ],
          "parcoords": [
           {
            "line": {
             "colorbar": {
              "outlinewidth": 0,
              "ticks": ""
             }
            },
            "type": "parcoords"
           }
          ],
          "pie": [
           {
            "automargin": true,
            "type": "pie"
           }
          ],
          "scatter": [
           {
            "fillpattern": {
             "fillmode": "overlay",
             "size": 10,
             "solidity": 0.2
            },
            "type": "scatter"
           }
          ],
          "scatter3d": [
           {
            "line": {
             "colorbar": {
              "outlinewidth": 0,
              "ticks": ""
             }
            },
            "marker": {
             "colorbar": {
              "outlinewidth": 0,
              "ticks": ""
             }
            },
            "type": "scatter3d"
           }
          ],
          "scattercarpet": [
           {
            "marker": {
             "colorbar": {
              "outlinewidth": 0,
              "ticks": ""
             }
            },
            "type": "scattercarpet"
           }
          ],
          "scattergeo": [
           {
            "marker": {
             "colorbar": {
              "outlinewidth": 0,
              "ticks": ""
             }
            },
            "type": "scattergeo"
           }
          ],
          "scattergl": [
           {
            "marker": {
             "colorbar": {
              "outlinewidth": 0,
              "ticks": ""
             }
            },
            "type": "scattergl"
           }
          ],
          "scattermapbox": [
           {
            "marker": {
             "colorbar": {
              "outlinewidth": 0,
              "ticks": ""
             }
            },
            "type": "scattermapbox"
           }
          ],
          "scatterpolar": [
           {
            "marker": {
             "colorbar": {
              "outlinewidth": 0,
              "ticks": ""
             }
            },
            "type": "scatterpolar"
           }
          ],
          "scatterpolargl": [
           {
            "marker": {
             "colorbar": {
              "outlinewidth": 0,
              "ticks": ""
             }
            },
            "type": "scatterpolargl"
           }
          ],
          "scatterternary": [
           {
            "marker": {
             "colorbar": {
              "outlinewidth": 0,
              "ticks": ""
             }
            },
            "type": "scatterternary"
           }
          ],
          "surface": [
           {
            "colorbar": {
             "outlinewidth": 0,
             "ticks": ""
            },
            "colorscale": [
             [
              0,
              "#0d0887"
             ],
             [
              0.1111111111111111,
              "#46039f"
             ],
             [
              0.2222222222222222,
              "#7201a8"
             ],
             [
              0.3333333333333333,
              "#9c179e"
             ],
             [
              0.4444444444444444,
              "#bd3786"
             ],
             [
              0.5555555555555556,
              "#d8576b"
             ],
             [
              0.6666666666666666,
              "#ed7953"
             ],
             [
              0.7777777777777778,
              "#fb9f3a"
             ],
             [
              0.8888888888888888,
              "#fdca26"
             ],
             [
              1,
              "#f0f921"
             ]
            ],
            "type": "surface"
           }
          ],
          "table": [
           {
            "cells": {
             "fill": {
              "color": "#EBF0F8"
             },
             "line": {
              "color": "white"
             }
            },
            "header": {
             "fill": {
              "color": "#C8D4E3"
             },
             "line": {
              "color": "white"
             }
            },
            "type": "table"
           }
          ]
         },
         "layout": {
          "annotationdefaults": {
           "arrowcolor": "#2a3f5f",
           "arrowhead": 0,
           "arrowwidth": 1
          },
          "autotypenumbers": "strict",
          "coloraxis": {
           "colorbar": {
            "outlinewidth": 0,
            "ticks": ""
           }
          },
          "colorscale": {
           "diverging": [
            [
             0,
             "#8e0152"
            ],
            [
             0.1,
             "#c51b7d"
            ],
            [
             0.2,
             "#de77ae"
            ],
            [
             0.3,
             "#f1b6da"
            ],
            [
             0.4,
             "#fde0ef"
            ],
            [
             0.5,
             "#f7f7f7"
            ],
            [
             0.6,
             "#e6f5d0"
            ],
            [
             0.7,
             "#b8e186"
            ],
            [
             0.8,
             "#7fbc41"
            ],
            [
             0.9,
             "#4d9221"
            ],
            [
             1,
             "#276419"
            ]
           ],
           "sequential": [
            [
             0,
             "#0d0887"
            ],
            [
             0.1111111111111111,
             "#46039f"
            ],
            [
             0.2222222222222222,
             "#7201a8"
            ],
            [
             0.3333333333333333,
             "#9c179e"
            ],
            [
             0.4444444444444444,
             "#bd3786"
            ],
            [
             0.5555555555555556,
             "#d8576b"
            ],
            [
             0.6666666666666666,
             "#ed7953"
            ],
            [
             0.7777777777777778,
             "#fb9f3a"
            ],
            [
             0.8888888888888888,
             "#fdca26"
            ],
            [
             1,
             "#f0f921"
            ]
           ],
           "sequentialminus": [
            [
             0,
             "#0d0887"
            ],
            [
             0.1111111111111111,
             "#46039f"
            ],
            [
             0.2222222222222222,
             "#7201a8"
            ],
            [
             0.3333333333333333,
             "#9c179e"
            ],
            [
             0.4444444444444444,
             "#bd3786"
            ],
            [
             0.5555555555555556,
             "#d8576b"
            ],
            [
             0.6666666666666666,
             "#ed7953"
            ],
            [
             0.7777777777777778,
             "#fb9f3a"
            ],
            [
             0.8888888888888888,
             "#fdca26"
            ],
            [
             1,
             "#f0f921"
            ]
           ]
          },
          "colorway": [
           "#636efa",
           "#EF553B",
           "#00cc96",
           "#ab63fa",
           "#FFA15A",
           "#19d3f3",
           "#FF6692",
           "#B6E880",
           "#FF97FF",
           "#FECB52"
          ],
          "font": {
           "color": "#2a3f5f"
          },
          "geo": {
           "bgcolor": "white",
           "lakecolor": "white",
           "landcolor": "#E5ECF6",
           "showlakes": true,
           "showland": true,
           "subunitcolor": "white"
          },
          "hoverlabel": {
           "align": "left"
          },
          "hovermode": "closest",
          "mapbox": {
           "style": "light"
          },
          "paper_bgcolor": "white",
          "plot_bgcolor": "#E5ECF6",
          "polar": {
           "angularaxis": {
            "gridcolor": "white",
            "linecolor": "white",
            "ticks": ""
           },
           "bgcolor": "#E5ECF6",
           "radialaxis": {
            "gridcolor": "white",
            "linecolor": "white",
            "ticks": ""
           }
          },
          "scene": {
           "xaxis": {
            "backgroundcolor": "#E5ECF6",
            "gridcolor": "white",
            "gridwidth": 2,
            "linecolor": "white",
            "showbackground": true,
            "ticks": "",
            "zerolinecolor": "white"
           },
           "yaxis": {
            "backgroundcolor": "#E5ECF6",
            "gridcolor": "white",
            "gridwidth": 2,
            "linecolor": "white",
            "showbackground": true,
            "ticks": "",
            "zerolinecolor": "white"
           },
           "zaxis": {
            "backgroundcolor": "#E5ECF6",
            "gridcolor": "white",
            "gridwidth": 2,
            "linecolor": "white",
            "showbackground": true,
            "ticks": "",
            "zerolinecolor": "white"
           }
          },
          "shapedefaults": {
           "line": {
            "color": "#2a3f5f"
           }
          },
          "ternary": {
           "aaxis": {
            "gridcolor": "white",
            "linecolor": "white",
            "ticks": ""
           },
           "baxis": {
            "gridcolor": "white",
            "linecolor": "white",
            "ticks": ""
           },
           "bgcolor": "#E5ECF6",
           "caxis": {
            "gridcolor": "white",
            "linecolor": "white",
            "ticks": ""
           }
          },
          "title": {
           "x": 0.05
          },
          "xaxis": {
           "automargin": true,
           "gridcolor": "white",
           "linecolor": "white",
           "ticks": "",
           "title": {
            "standoff": 15
           },
           "zerolinecolor": "white",
           "zerolinewidth": 2
          },
          "yaxis": {
           "automargin": true,
           "gridcolor": "white",
           "linecolor": "white",
           "ticks": "",
           "title": {
            "standoff": 15
           },
           "zerolinecolor": "white",
           "zerolinewidth": 2
          }
         }
        },
        "title": {
         "text": "Распределение событий по времени наблюдения",
         "x": 0.5
        },
        "xaxis": {
         "anchor": "y",
         "domain": [
          0,
          1
         ],
         "title": {
          "text": "number"
         }
        },
        "yaxis": {
         "anchor": "x",
         "domain": [
          0,
          1
         ],
         "title": {
          "text": "stage"
         }
        }
       }
      },
      "text/html": [
       "<div>                            <div id=\"605cad47-8e12-428d-ad00-32a2b4799f8a\" class=\"plotly-graph-div\" style=\"height:525px; width:100%;\"></div>            <script type=\"text/javascript\">                require([\"plotly\"], function(Plotly) {                    window.PLOTLYENV=window.PLOTLYENV || {};                                    if (document.getElementById(\"605cad47-8e12-428d-ad00-32a2b4799f8a\")) {                    Plotly.newPlot(                        \"605cad47-8e12-428d-ad00-32a2b4799f8a\",                        [{\"hovertemplate\":\"number=%{x}<br>stage=%{y}<extra></extra>\",\"legendgroup\":\"\",\"marker\":{\"color\":\"#636efa\"},\"name\":\"\",\"orientation\":\"h\",\"showlegend\":false,\"x\":[98.47,60.96,49.56,46.97],\"xaxis\":\"x\",\"y\":[\"MainScreenAppear\",\"OffersScreenAppear\",\"CartScreenAppear\",\"PaymentScreenSuccessful\"],\"yaxis\":\"y\",\"type\":\"funnel\"}],                        {\"template\":{\"data\":{\"histogram2dcontour\":[{\"type\":\"histogram2dcontour\",\"colorbar\":{\"outlinewidth\":0,\"ticks\":\"\"},\"colorscale\":[[0.0,\"#0d0887\"],[0.1111111111111111,\"#46039f\"],[0.2222222222222222,\"#7201a8\"],[0.3333333333333333,\"#9c179e\"],[0.4444444444444444,\"#bd3786\"],[0.5555555555555556,\"#d8576b\"],[0.6666666666666666,\"#ed7953\"],[0.7777777777777778,\"#fb9f3a\"],[0.8888888888888888,\"#fdca26\"],[1.0,\"#f0f921\"]]}],\"choropleth\":[{\"type\":\"choropleth\",\"colorbar\":{\"outlinewidth\":0,\"ticks\":\"\"}}],\"histogram2d\":[{\"type\":\"histogram2d\",\"colorbar\":{\"outlinewidth\":0,\"ticks\":\"\"},\"colorscale\":[[0.0,\"#0d0887\"],[0.1111111111111111,\"#46039f\"],[0.2222222222222222,\"#7201a8\"],[0.3333333333333333,\"#9c179e\"],[0.4444444444444444,\"#bd3786\"],[0.5555555555555556,\"#d8576b\"],[0.6666666666666666,\"#ed7953\"],[0.7777777777777778,\"#fb9f3a\"],[0.8888888888888888,\"#fdca26\"],[1.0,\"#f0f921\"]]}],\"heatmap\":[{\"type\":\"heatmap\",\"colorbar\":{\"outlinewidth\":0,\"ticks\":\"\"},\"colorscale\":[[0.0,\"#0d0887\"],[0.1111111111111111,\"#46039f\"],[0.2222222222222222,\"#7201a8\"],[0.3333333333333333,\"#9c179e\"],[0.4444444444444444,\"#bd3786\"],[0.5555555555555556,\"#d8576b\"],[0.6666666666666666,\"#ed7953\"],[0.7777777777777778,\"#fb9f3a\"],[0.8888888888888888,\"#fdca26\"],[1.0,\"#f0f921\"]]}],\"heatmapgl\":[{\"type\":\"heatmapgl\",\"colorbar\":{\"outlinewidth\":0,\"ticks\":\"\"},\"colorscale\":[[0.0,\"#0d0887\"],[0.1111111111111111,\"#46039f\"],[0.2222222222222222,\"#7201a8\"],[0.3333333333333333,\"#9c179e\"],[0.4444444444444444,\"#bd3786\"],[0.5555555555555556,\"#d8576b\"],[0.6666666666666666,\"#ed7953\"],[0.7777777777777778,\"#fb9f3a\"],[0.8888888888888888,\"#fdca26\"],[1.0,\"#f0f921\"]]}],\"contourcarpet\":[{\"type\":\"contourcarpet\",\"colorbar\":{\"outlinewidth\":0,\"ticks\":\"\"}}],\"contour\":[{\"type\":\"contour\",\"colorbar\":{\"outlinewidth\":0,\"ticks\":\"\"},\"colorscale\":[[0.0,\"#0d0887\"],[0.1111111111111111,\"#46039f\"],[0.2222222222222222,\"#7201a8\"],[0.3333333333333333,\"#9c179e\"],[0.4444444444444444,\"#bd3786\"],[0.5555555555555556,\"#d8576b\"],[0.6666666666666666,\"#ed7953\"],[0.7777777777777778,\"#fb9f3a\"],[0.8888888888888888,\"#fdca26\"],[1.0,\"#f0f921\"]]}],\"surface\":[{\"type\":\"surface\",\"colorbar\":{\"outlinewidth\":0,\"ticks\":\"\"},\"colorscale\":[[0.0,\"#0d0887\"],[0.1111111111111111,\"#46039f\"],[0.2222222222222222,\"#7201a8\"],[0.3333333333333333,\"#9c179e\"],[0.4444444444444444,\"#bd3786\"],[0.5555555555555556,\"#d8576b\"],[0.6666666666666666,\"#ed7953\"],[0.7777777777777778,\"#fb9f3a\"],[0.8888888888888888,\"#fdca26\"],[1.0,\"#f0f921\"]]}],\"mesh3d\":[{\"type\":\"mesh3d\",\"colorbar\":{\"outlinewidth\":0,\"ticks\":\"\"}}],\"scatter\":[{\"fillpattern\":{\"fillmode\":\"overlay\",\"size\":10,\"solidity\":0.2},\"type\":\"scatter\"}],\"parcoords\":[{\"type\":\"parcoords\",\"line\":{\"colorbar\":{\"outlinewidth\":0,\"ticks\":\"\"}}}],\"scatterpolargl\":[{\"type\":\"scatterpolargl\",\"marker\":{\"colorbar\":{\"outlinewidth\":0,\"ticks\":\"\"}}}],\"bar\":[{\"error_x\":{\"color\":\"#2a3f5f\"},\"error_y\":{\"color\":\"#2a3f5f\"},\"marker\":{\"line\":{\"color\":\"#E5ECF6\",\"width\":0.5},\"pattern\":{\"fillmode\":\"overlay\",\"size\":10,\"solidity\":0.2}},\"type\":\"bar\"}],\"scattergeo\":[{\"type\":\"scattergeo\",\"marker\":{\"colorbar\":{\"outlinewidth\":0,\"ticks\":\"\"}}}],\"scatterpolar\":[{\"type\":\"scatterpolar\",\"marker\":{\"colorbar\":{\"outlinewidth\":0,\"ticks\":\"\"}}}],\"histogram\":[{\"marker\":{\"pattern\":{\"fillmode\":\"overlay\",\"size\":10,\"solidity\":0.2}},\"type\":\"histogram\"}],\"scattergl\":[{\"type\":\"scattergl\",\"marker\":{\"colorbar\":{\"outlinewidth\":0,\"ticks\":\"\"}}}],\"scatter3d\":[{\"type\":\"scatter3d\",\"line\":{\"colorbar\":{\"outlinewidth\":0,\"ticks\":\"\"}},\"marker\":{\"colorbar\":{\"outlinewidth\":0,\"ticks\":\"\"}}}],\"scattermapbox\":[{\"type\":\"scattermapbox\",\"marker\":{\"colorbar\":{\"outlinewidth\":0,\"ticks\":\"\"}}}],\"scatterternary\":[{\"type\":\"scatterternary\",\"marker\":{\"colorbar\":{\"outlinewidth\":0,\"ticks\":\"\"}}}],\"scattercarpet\":[{\"type\":\"scattercarpet\",\"marker\":{\"colorbar\":{\"outlinewidth\":0,\"ticks\":\"\"}}}],\"carpet\":[{\"aaxis\":{\"endlinecolor\":\"#2a3f5f\",\"gridcolor\":\"white\",\"linecolor\":\"white\",\"minorgridcolor\":\"white\",\"startlinecolor\":\"#2a3f5f\"},\"baxis\":{\"endlinecolor\":\"#2a3f5f\",\"gridcolor\":\"white\",\"linecolor\":\"white\",\"minorgridcolor\":\"white\",\"startlinecolor\":\"#2a3f5f\"},\"type\":\"carpet\"}],\"table\":[{\"cells\":{\"fill\":{\"color\":\"#EBF0F8\"},\"line\":{\"color\":\"white\"}},\"header\":{\"fill\":{\"color\":\"#C8D4E3\"},\"line\":{\"color\":\"white\"}},\"type\":\"table\"}],\"barpolar\":[{\"marker\":{\"line\":{\"color\":\"#E5ECF6\",\"width\":0.5},\"pattern\":{\"fillmode\":\"overlay\",\"size\":10,\"solidity\":0.2}},\"type\":\"barpolar\"}],\"pie\":[{\"automargin\":true,\"type\":\"pie\"}]},\"layout\":{\"autotypenumbers\":\"strict\",\"colorway\":[\"#636efa\",\"#EF553B\",\"#00cc96\",\"#ab63fa\",\"#FFA15A\",\"#19d3f3\",\"#FF6692\",\"#B6E880\",\"#FF97FF\",\"#FECB52\"],\"font\":{\"color\":\"#2a3f5f\"},\"hovermode\":\"closest\",\"hoverlabel\":{\"align\":\"left\"},\"paper_bgcolor\":\"white\",\"plot_bgcolor\":\"#E5ECF6\",\"polar\":{\"bgcolor\":\"#E5ECF6\",\"angularaxis\":{\"gridcolor\":\"white\",\"linecolor\":\"white\",\"ticks\":\"\"},\"radialaxis\":{\"gridcolor\":\"white\",\"linecolor\":\"white\",\"ticks\":\"\"}},\"ternary\":{\"bgcolor\":\"#E5ECF6\",\"aaxis\":{\"gridcolor\":\"white\",\"linecolor\":\"white\",\"ticks\":\"\"},\"baxis\":{\"gridcolor\":\"white\",\"linecolor\":\"white\",\"ticks\":\"\"},\"caxis\":{\"gridcolor\":\"white\",\"linecolor\":\"white\",\"ticks\":\"\"}},\"coloraxis\":{\"colorbar\":{\"outlinewidth\":0,\"ticks\":\"\"}},\"colorscale\":{\"sequential\":[[0.0,\"#0d0887\"],[0.1111111111111111,\"#46039f\"],[0.2222222222222222,\"#7201a8\"],[0.3333333333333333,\"#9c179e\"],[0.4444444444444444,\"#bd3786\"],[0.5555555555555556,\"#d8576b\"],[0.6666666666666666,\"#ed7953\"],[0.7777777777777778,\"#fb9f3a\"],[0.8888888888888888,\"#fdca26\"],[1.0,\"#f0f921\"]],\"sequentialminus\":[[0.0,\"#0d0887\"],[0.1111111111111111,\"#46039f\"],[0.2222222222222222,\"#7201a8\"],[0.3333333333333333,\"#9c179e\"],[0.4444444444444444,\"#bd3786\"],[0.5555555555555556,\"#d8576b\"],[0.6666666666666666,\"#ed7953\"],[0.7777777777777778,\"#fb9f3a\"],[0.8888888888888888,\"#fdca26\"],[1.0,\"#f0f921\"]],\"diverging\":[[0,\"#8e0152\"],[0.1,\"#c51b7d\"],[0.2,\"#de77ae\"],[0.3,\"#f1b6da\"],[0.4,\"#fde0ef\"],[0.5,\"#f7f7f7\"],[0.6,\"#e6f5d0\"],[0.7,\"#b8e186\"],[0.8,\"#7fbc41\"],[0.9,\"#4d9221\"],[1,\"#276419\"]]},\"xaxis\":{\"gridcolor\":\"white\",\"linecolor\":\"white\",\"ticks\":\"\",\"title\":{\"standoff\":15},\"zerolinecolor\":\"white\",\"automargin\":true,\"zerolinewidth\":2},\"yaxis\":{\"gridcolor\":\"white\",\"linecolor\":\"white\",\"ticks\":\"\",\"title\":{\"standoff\":15},\"zerolinecolor\":\"white\",\"automargin\":true,\"zerolinewidth\":2},\"scene\":{\"xaxis\":{\"backgroundcolor\":\"#E5ECF6\",\"gridcolor\":\"white\",\"linecolor\":\"white\",\"showbackground\":true,\"ticks\":\"\",\"zerolinecolor\":\"white\",\"gridwidth\":2},\"yaxis\":{\"backgroundcolor\":\"#E5ECF6\",\"gridcolor\":\"white\",\"linecolor\":\"white\",\"showbackground\":true,\"ticks\":\"\",\"zerolinecolor\":\"white\",\"gridwidth\":2},\"zaxis\":{\"backgroundcolor\":\"#E5ECF6\",\"gridcolor\":\"white\",\"linecolor\":\"white\",\"showbackground\":true,\"ticks\":\"\",\"zerolinecolor\":\"white\",\"gridwidth\":2}},\"shapedefaults\":{\"line\":{\"color\":\"#2a3f5f\"}},\"annotationdefaults\":{\"arrowcolor\":\"#2a3f5f\",\"arrowhead\":0,\"arrowwidth\":1},\"geo\":{\"bgcolor\":\"white\",\"landcolor\":\"#E5ECF6\",\"subunitcolor\":\"white\",\"showland\":true,\"showlakes\":true,\"lakecolor\":\"white\"},\"title\":{\"x\":0.05},\"mapbox\":{\"style\":\"light\"}}},\"xaxis\":{\"anchor\":\"y\",\"domain\":[0.0,1.0],\"title\":{\"text\":\"number\"}},\"yaxis\":{\"anchor\":\"x\",\"domain\":[0.0,1.0],\"title\":{\"text\":\"stage\"}},\"legend\":{\"tracegroupgap\":0},\"margin\":{\"t\":60},\"title\":{\"text\":\"\\u0420\\u0430\\u0441\\u043f\\u0440\\u0435\\u0434\\u0435\\u043b\\u0435\\u043d\\u0438\\u0435 \\u0441\\u043e\\u0431\\u044b\\u0442\\u0438\\u0439 \\u043f\\u043e \\u0432\\u0440\\u0435\\u043c\\u0435\\u043d\\u0438 \\u043d\\u0430\\u0431\\u043b\\u044e\\u0434\\u0435\\u043d\\u0438\\u044f\",\"x\":0.5}},                        {\"responsive\": true}                    ).then(function(){\n",
       "                            \n",
       "var gd = document.getElementById('605cad47-8e12-428d-ad00-32a2b4799f8a');\n",
       "var x = new MutationObserver(function (mutations, observer) {{\n",
       "        var display = window.getComputedStyle(gd).display;\n",
       "        if (!display || display === 'none') {{\n",
       "            console.log([gd, 'removed!']);\n",
       "            Plotly.purge(gd);\n",
       "            observer.disconnect();\n",
       "        }}\n",
       "}});\n",
       "\n",
       "// Listen for the removal of the full notebook cells\n",
       "var notebookContainer = gd.closest('#notebook-container');\n",
       "if (notebookContainer) {{\n",
       "    x.observe(notebookContainer, {childList: true});\n",
       "}}\n",
       "\n",
       "// Listen for the clearing of the current output cell\n",
       "var outputEl = gd.closest('.output');\n",
       "if (outputEl) {{\n",
       "    x.observe(outputEl, {childList: true});\n",
       "}}\n",
       "\n",
       "                        })                };                });            </script>        </div>"
      ]
     },
     "metadata": {},
     "output_type": "display_data"
    }
   ],
   "source": [
    "funnel_event = dict(\n",
    "    number=[98.47, 60.96, 49.56, 46.97],\n",
    "    stage=[\"MainScreenAppear\", \"OffersScreenAppear\", \"CartScreenAppear\", \"PaymentScreenSuccessful\"])\n",
    "fig = px.funnel(funnel_event, x='number', y='stage')\n",
    "fig.update_layout(title='Распределение событий по времени наблюдения', title_x =0.5)\n",
    "fig.show()"
   ]
  },
  {
   "cell_type": "markdown",
   "metadata": {},
   "source": [
    "## Изучение результатов эксперимента"
   ]
  },
  {
   "cell_type": "markdown",
   "metadata": {},
   "source": [
    "### Количество пользователей в экспериментальных группах"
   ]
  },
  {
   "cell_type": "code",
   "execution_count": 47,
   "metadata": {},
   "outputs": [
    {
     "data": {
      "text/plain": [
       "group\n",
       "A1    2484\n",
       "A2    2513\n",
       "B     2537\n",
       "Name: user_id, dtype: int64"
      ]
     },
     "execution_count": 47,
     "metadata": {},
     "output_type": "execute_result"
    }
   ],
   "source": [
    "actual_data.groupby('group')['user_id'].nunique()"
   ]
  },
  {
   "cell_type": "markdown",
   "metadata": {},
   "source": [
    "### Проверка пользователей на наличие в разных экспериментальных группах"
   ]
  },
  {
   "cell_type": "code",
   "execution_count": 72,
   "metadata": {},
   "outputs": [
    {
     "data": {
      "text/plain": [
       "0"
      ]
     },
     "execution_count": 72,
     "metadata": {},
     "output_type": "execute_result"
    }
   ],
   "source": [
    "(actual_data.groupby('user_id')['group'].nunique() > 1).sum()"
   ]
  },
  {
   "cell_type": "code",
   "execution_count": 73,
   "metadata": {},
   "outputs": [
    {
     "data": {
      "text/html": [
       "<div>\n",
       "<style scoped>\n",
       "    .dataframe tbody tr th:only-of-type {\n",
       "        vertical-align: middle;\n",
       "    }\n",
       "\n",
       "    .dataframe tbody tr th {\n",
       "        vertical-align: top;\n",
       "    }\n",
       "\n",
       "    .dataframe thead th {\n",
       "        text-align: right;\n",
       "    }\n",
       "</style>\n",
       "<table border=\"1\" class=\"dataframe\">\n",
       "  <thead>\n",
       "    <tr style=\"text-align: right;\">\n",
       "      <th></th>\n",
       "      <th>event_type</th>\n",
       "      <th>user_id</th>\n",
       "      <th>event_time</th>\n",
       "      <th>group</th>\n",
       "      <th>event_data</th>\n",
       "    </tr>\n",
       "  </thead>\n",
       "  <tbody>\n",
       "    <tr>\n",
       "      <th>2826</th>\n",
       "      <td>Tutorial</td>\n",
       "      <td>3737462046622621720</td>\n",
       "      <td>2019-08-01 00:07:28</td>\n",
       "      <td>A1</td>\n",
       "      <td>2019-08-01</td>\n",
       "    </tr>\n",
       "    <tr>\n",
       "      <th>2827</th>\n",
       "      <td>MainScreenAppear</td>\n",
       "      <td>3737462046622621720</td>\n",
       "      <td>2019-08-01 00:08:00</td>\n",
       "      <td>A1</td>\n",
       "      <td>2019-08-01</td>\n",
       "    </tr>\n",
       "    <tr>\n",
       "      <th>2828</th>\n",
       "      <td>MainScreenAppear</td>\n",
       "      <td>3737462046622621720</td>\n",
       "      <td>2019-08-01 00:08:55</td>\n",
       "      <td>A1</td>\n",
       "      <td>2019-08-01</td>\n",
       "    </tr>\n",
       "    <tr>\n",
       "      <th>2829</th>\n",
       "      <td>OffersScreenAppear</td>\n",
       "      <td>3737462046622621720</td>\n",
       "      <td>2019-08-01 00:08:58</td>\n",
       "      <td>A1</td>\n",
       "      <td>2019-08-01</td>\n",
       "    </tr>\n",
       "    <tr>\n",
       "      <th>2830</th>\n",
       "      <td>MainScreenAppear</td>\n",
       "      <td>1433840883824088890</td>\n",
       "      <td>2019-08-01 00:08:59</td>\n",
       "      <td>A2</td>\n",
       "      <td>2019-08-01</td>\n",
       "    </tr>\n",
       "    <tr>\n",
       "      <th>...</th>\n",
       "      <td>...</td>\n",
       "      <td>...</td>\n",
       "      <td>...</td>\n",
       "      <td>...</td>\n",
       "      <td>...</td>\n",
       "    </tr>\n",
       "    <tr>\n",
       "      <th>243708</th>\n",
       "      <td>MainScreenAppear</td>\n",
       "      <td>4599628364049201812</td>\n",
       "      <td>2019-08-07 21:12:25</td>\n",
       "      <td>A2</td>\n",
       "      <td>2019-08-07</td>\n",
       "    </tr>\n",
       "    <tr>\n",
       "      <th>243709</th>\n",
       "      <td>MainScreenAppear</td>\n",
       "      <td>5849806612437486590</td>\n",
       "      <td>2019-08-07 21:13:59</td>\n",
       "      <td>A1</td>\n",
       "      <td>2019-08-07</td>\n",
       "    </tr>\n",
       "    <tr>\n",
       "      <th>243710</th>\n",
       "      <td>MainScreenAppear</td>\n",
       "      <td>5746969938801999050</td>\n",
       "      <td>2019-08-07 21:14:43</td>\n",
       "      <td>A1</td>\n",
       "      <td>2019-08-07</td>\n",
       "    </tr>\n",
       "    <tr>\n",
       "      <th>243711</th>\n",
       "      <td>MainScreenAppear</td>\n",
       "      <td>5746969938801999050</td>\n",
       "      <td>2019-08-07 21:14:58</td>\n",
       "      <td>A1</td>\n",
       "      <td>2019-08-07</td>\n",
       "    </tr>\n",
       "    <tr>\n",
       "      <th>243712</th>\n",
       "      <td>OffersScreenAppear</td>\n",
       "      <td>5746969938801999050</td>\n",
       "      <td>2019-08-07 21:15:17</td>\n",
       "      <td>A1</td>\n",
       "      <td>2019-08-07</td>\n",
       "    </tr>\n",
       "  </tbody>\n",
       "</table>\n",
       "<p>240887 rows × 5 columns</p>\n",
       "</div>"
      ],
      "text/plain": [
       "                event_type              user_id          event_time group  \\\n",
       "2826              Tutorial  3737462046622621720 2019-08-01 00:07:28    A1   \n",
       "2827      MainScreenAppear  3737462046622621720 2019-08-01 00:08:00    A1   \n",
       "2828      MainScreenAppear  3737462046622621720 2019-08-01 00:08:55    A1   \n",
       "2829    OffersScreenAppear  3737462046622621720 2019-08-01 00:08:58    A1   \n",
       "2830      MainScreenAppear  1433840883824088890 2019-08-01 00:08:59    A2   \n",
       "...                    ...                  ...                 ...   ...   \n",
       "243708    MainScreenAppear  4599628364049201812 2019-08-07 21:12:25    A2   \n",
       "243709    MainScreenAppear  5849806612437486590 2019-08-07 21:13:59    A1   \n",
       "243710    MainScreenAppear  5746969938801999050 2019-08-07 21:14:43    A1   \n",
       "243711    MainScreenAppear  5746969938801999050 2019-08-07 21:14:58    A1   \n",
       "243712  OffersScreenAppear  5746969938801999050 2019-08-07 21:15:17    A1   \n",
       "\n",
       "        event_data  \n",
       "2826    2019-08-01  \n",
       "2827    2019-08-01  \n",
       "2828    2019-08-01  \n",
       "2829    2019-08-01  \n",
       "2830    2019-08-01  \n",
       "...            ...  \n",
       "243708  2019-08-07  \n",
       "243709  2019-08-07  \n",
       "243710  2019-08-07  \n",
       "243711  2019-08-07  \n",
       "243712  2019-08-07  \n",
       "\n",
       "[240887 rows x 5 columns]"
      ]
     },
     "execution_count": 73,
     "metadata": {},
     "output_type": "execute_result"
    }
   ],
   "source": [
    "actual_data"
   ]
  },
  {
   "cell_type": "markdown",
   "metadata": {},
   "source": [
    "### Cтатистические критерии разницу между выборками A1 и A2."
   ]
  },
  {
   "cell_type": "markdown",
   "metadata": {},
   "source": [
    "Сделаем таблицу с количеством пользователей по группам с разбивкой по событиям"
   ]
  },
  {
   "cell_type": "code",
   "execution_count": 74,
   "metadata": {},
   "outputs": [
    {
     "data": {
      "text/html": [
       "<div>\n",
       "<style scoped>\n",
       "    .dataframe tbody tr th:only-of-type {\n",
       "        vertical-align: middle;\n",
       "    }\n",
       "\n",
       "    .dataframe tbody tr th {\n",
       "        vertical-align: top;\n",
       "    }\n",
       "\n",
       "    .dataframe thead th {\n",
       "        text-align: right;\n",
       "    }\n",
       "</style>\n",
       "<table border=\"1\" class=\"dataframe\">\n",
       "  <thead>\n",
       "    <tr style=\"text-align: right;\">\n",
       "      <th>group</th>\n",
       "      <th>event_type</th>\n",
       "      <th>A1</th>\n",
       "      <th>A2</th>\n",
       "      <th>B</th>\n",
       "      <th>A</th>\n",
       "      <th>all</th>\n",
       "      <th>part_A1</th>\n",
       "      <th>part_A2</th>\n",
       "      <th>part_B</th>\n",
       "      <th>part_A</th>\n",
       "    </tr>\n",
       "  </thead>\n",
       "  <tbody>\n",
       "    <tr>\n",
       "      <th>0</th>\n",
       "      <td>MainScreenAppear</td>\n",
       "      <td>2450</td>\n",
       "      <td>2476</td>\n",
       "      <td>2493</td>\n",
       "      <td>4926</td>\n",
       "      <td>7419</td>\n",
       "      <td>98.6</td>\n",
       "      <td>98.5</td>\n",
       "      <td>98.3</td>\n",
       "      <td>98.6</td>\n",
       "    </tr>\n",
       "    <tr>\n",
       "      <th>1</th>\n",
       "      <td>OffersScreenAppear</td>\n",
       "      <td>1542</td>\n",
       "      <td>1520</td>\n",
       "      <td>1531</td>\n",
       "      <td>3062</td>\n",
       "      <td>4593</td>\n",
       "      <td>62.1</td>\n",
       "      <td>60.5</td>\n",
       "      <td>60.3</td>\n",
       "      <td>61.3</td>\n",
       "    </tr>\n",
       "    <tr>\n",
       "      <th>2</th>\n",
       "      <td>CartScreenAppear</td>\n",
       "      <td>1266</td>\n",
       "      <td>1238</td>\n",
       "      <td>1230</td>\n",
       "      <td>2504</td>\n",
       "      <td>3734</td>\n",
       "      <td>51.0</td>\n",
       "      <td>49.3</td>\n",
       "      <td>48.5</td>\n",
       "      <td>50.1</td>\n",
       "    </tr>\n",
       "    <tr>\n",
       "      <th>3</th>\n",
       "      <td>PaymentScreenSuccessful</td>\n",
       "      <td>1200</td>\n",
       "      <td>1158</td>\n",
       "      <td>1181</td>\n",
       "      <td>2358</td>\n",
       "      <td>3539</td>\n",
       "      <td>48.3</td>\n",
       "      <td>46.1</td>\n",
       "      <td>46.6</td>\n",
       "      <td>47.2</td>\n",
       "    </tr>\n",
       "  </tbody>\n",
       "</table>\n",
       "</div>"
      ],
      "text/plain": [
       "group               event_type    A1    A2     B     A   all  part_A1  \\\n",
       "0             MainScreenAppear  2450  2476  2493  4926  7419     98.6   \n",
       "1           OffersScreenAppear  1542  1520  1531  3062  4593     62.1   \n",
       "2             CartScreenAppear  1266  1238  1230  2504  3734     51.0   \n",
       "3      PaymentScreenSuccessful  1200  1158  1181  2358  3539     48.3   \n",
       "\n",
       "group  part_A2  part_B  part_A  \n",
       "0         98.5    98.3    98.6  \n",
       "1         60.5    60.3    61.3  \n",
       "2         49.3    48.5    50.1  \n",
       "3         46.1    46.6    47.2  "
      ]
     },
     "execution_count": 74,
     "metadata": {},
     "output_type": "execute_result"
    }
   ],
   "source": [
    "event_group_test = actual_data[actual_data['event_type']!='Tutorial'].pivot_table(\n",
    "    index='event_type', \n",
    "    columns='group', \n",
    "    values='user_id',\n",
    "    aggfunc='nunique').sort_values(by='A1', ascending=False)\n",
    "\n",
    "event_group_test = event_group_test.reset_index()\n",
    "event_group_test['A'] = event_group_test['A1'] + event_group_test['A2']\n",
    "event_group_test['all'] = event_group_test['A'] + event_group_test['B']\n",
    "\n",
    "event_group_test['part_A1'] = (event_group_test['A1'] / user_group['A1'] * 100).round(1)\n",
    "event_group_test['part_A2'] = (event_group_test['A2'] / user_group['A2'] * 100).round(1)\n",
    "event_group_test['part_B'] = (event_group_test['B'] / user_group['B'] * 100).round(1)\n",
    "event_group_test['part_A'] = ((event_group_test['A1'] + event_group_test['A2']) / \\\n",
    "                                  (user_group['A1'] + user_group['A2']) * 100).round(1)\n",
    "# event_group_test['part_all'] = (event_group_test['all'] / users_bygroup.sum() * 100).round(1)\n",
    "event_group_test"
   ]
  },
  {
   "cell_type": "markdown",
   "metadata": {},
   "source": [
    "Проверим, есть ли статистические критерии разницу между выборками 246 (А1) и 247 (А2)."
   ]
  },
  {
   "cell_type": "markdown",
   "metadata": {},
   "source": [
    "Для этого напишем формулу"
   ]
  },
  {
   "cell_type": "markdown",
   "metadata": {},
   "source": [
    "Проверка статистической разницы, это проверка гипотезы. Мы проверяем статистическую разницу между группами А1 и А2. Нулевая гипотеза звучит так \"Группа А1 и А2 одинаковые, между ними нет значимой статистической разницы\" Альтернативная гипотеза звучит так \"Группа А1 и А2 не одинаковые, между ними есть значимая статистическая разница\"."
   ]
  },
  {
   "cell_type": "code",
   "execution_count": 75,
   "metadata": {},
   "outputs": [
    {
     "name": "stdout",
     "output_type": "stream",
     "text": [
      "2450 2476 2484 2513\n",
      "MainScreenAppear p-значение: 0.7570597232046099\n",
      "Не получилось отвергнуть нулевую гипотезу, нет оснований считать доли разными\n",
      "\n",
      "1542 1520 2484 2513\n",
      "OffersScreenAppear p-значение: 0.2480954578522181\n",
      "Не получилось отвергнуть нулевую гипотезу, нет оснований считать доли разными\n",
      "\n",
      "1266 1238 2484 2513\n",
      "CartScreenAppear p-значение: 0.22883372237997213\n",
      "Не получилось отвергнуть нулевую гипотезу, нет оснований считать доли разными\n",
      "\n",
      "1200 1158 2484 2513\n",
      "PaymentScreenSuccessful p-значение: 0.11456679313141849\n",
      "Не получилось отвергнуть нулевую гипотезу, нет оснований считать доли разными\n",
      "\n"
     ]
    }
   ],
   "source": [
    "def aa_test(group1, group2, alpha):\n",
    "    for i in event_group_test.index:\n",
    "        # пропорция успехов в первой группе:\n",
    "        p1 = event_group_test[group1][i] / user_group[group1]\n",
    "        # пропорция успехов во второй группе:\n",
    "        p2 = event_group_test[group2][i] / user_group[group2]\n",
    "        \n",
    "        print(event_group_test[group1][i],event_group_test[group2][i], user_group[group1], user_group[group2])\n",
    "        # пропорция успехов в комбинированном датасете:\n",
    "        p_combined = ((event_group_test[group1][i] + event_group_test[group2][i]) / \n",
    "                      (user_group[group1] + user_group[group2]))\n",
    "        # разница пропорций в датасетах\n",
    "        difference = p1 - p2\n",
    "        # считаем статистику в ст.отклонениях стандартного нормального распределения\n",
    "        z_value = difference / mth.sqrt(p_combined * (1 - p_combined) * \n",
    "                                        (1/user_group[group1] + 1/user_group[group2]))\n",
    "        # задаем стандартное нормальное распределение (среднее 0, ст.отклонение 1)\n",
    "        distr = st.norm(0, 1) \n",
    "        p_value = (1 - distr.cdf(abs(z_value))) * 2\n",
    "        print('{} p-значение: {}'.format(event_group_test['event_type'][i], p_value))\n",
    "        if (p_value < alpha):\n",
    "            print(\"Отвергаем нулевую гипотезу: между долями есть значимая разница\")\n",
    "        else:\n",
    "            print(\"Не получилось отвергнуть нулевую гипотезу, нет оснований считать доли разными\")\n",
    "        print('')\n",
    "        \n",
    "aa_test(\"A1\", \"A2\", 0.01)"
   ]
  },
  {
   "cell_type": "markdown",
   "metadata": {},
   "source": [
    "Между выборками 246 (А1) и 247 (А2) нет статистической разницы"
   ]
  },
  {
   "cell_type": "markdown",
   "metadata": {},
   "source": [
    "### Выбор самого популярного события"
   ]
  },
  {
   "cell_type": "code",
   "execution_count": 76,
   "metadata": {},
   "outputs": [
    {
     "data": {
      "text/plain": [
       "MainScreenAppear           117328\n",
       "OffersScreenAppear          46333\n",
       "CartScreenAppear            42303\n",
       "PaymentScreenSuccessful     33918\n",
       "Tutorial                     1005\n",
       "Name: event_type, dtype: int64"
      ]
     },
     "execution_count": 76,
     "metadata": {},
     "output_type": "execute_result"
    }
   ],
   "source": [
    "actual_data['event_type'].value_counts()"
   ]
  },
  {
   "cell_type": "markdown",
   "metadata": {},
   "source": [
    "Посчитайте число пользователей, совершивших это событие в каждой из контрольных групп. Посчитаем долю пользователей, совершивших это событие. "
   ]
  },
  {
   "cell_type": "code",
   "execution_count": 77,
   "metadata": {},
   "outputs": [
    {
     "data": {
      "text/html": [
       "<div>\n",
       "<style scoped>\n",
       "    .dataframe tbody tr th:only-of-type {\n",
       "        vertical-align: middle;\n",
       "    }\n",
       "\n",
       "    .dataframe tbody tr th {\n",
       "        vertical-align: top;\n",
       "    }\n",
       "\n",
       "    .dataframe thead th {\n",
       "        text-align: right;\n",
       "    }\n",
       "</style>\n",
       "<table border=\"1\" class=\"dataframe\">\n",
       "  <thead>\n",
       "    <tr style=\"text-align: right;\">\n",
       "      <th>group</th>\n",
       "      <th>event_type</th>\n",
       "      <th>A1</th>\n",
       "      <th>A2</th>\n",
       "      <th>B</th>\n",
       "      <th>A</th>\n",
       "      <th>all</th>\n",
       "      <th>part_A1</th>\n",
       "      <th>part_A2</th>\n",
       "      <th>part_B</th>\n",
       "      <th>part_A</th>\n",
       "    </tr>\n",
       "  </thead>\n",
       "  <tbody>\n",
       "    <tr>\n",
       "      <th>0</th>\n",
       "      <td>MainScreenAppear</td>\n",
       "      <td>2450</td>\n",
       "      <td>2476</td>\n",
       "      <td>2493</td>\n",
       "      <td>4926</td>\n",
       "      <td>7419</td>\n",
       "      <td>98.6</td>\n",
       "      <td>98.5</td>\n",
       "      <td>98.3</td>\n",
       "      <td>98.6</td>\n",
       "    </tr>\n",
       "    <tr>\n",
       "      <th>1</th>\n",
       "      <td>OffersScreenAppear</td>\n",
       "      <td>1542</td>\n",
       "      <td>1520</td>\n",
       "      <td>1531</td>\n",
       "      <td>3062</td>\n",
       "      <td>4593</td>\n",
       "      <td>62.1</td>\n",
       "      <td>60.5</td>\n",
       "      <td>60.3</td>\n",
       "      <td>61.3</td>\n",
       "    </tr>\n",
       "    <tr>\n",
       "      <th>2</th>\n",
       "      <td>CartScreenAppear</td>\n",
       "      <td>1266</td>\n",
       "      <td>1238</td>\n",
       "      <td>1230</td>\n",
       "      <td>2504</td>\n",
       "      <td>3734</td>\n",
       "      <td>51.0</td>\n",
       "      <td>49.3</td>\n",
       "      <td>48.5</td>\n",
       "      <td>50.1</td>\n",
       "    </tr>\n",
       "    <tr>\n",
       "      <th>3</th>\n",
       "      <td>PaymentScreenSuccessful</td>\n",
       "      <td>1200</td>\n",
       "      <td>1158</td>\n",
       "      <td>1181</td>\n",
       "      <td>2358</td>\n",
       "      <td>3539</td>\n",
       "      <td>48.3</td>\n",
       "      <td>46.1</td>\n",
       "      <td>46.6</td>\n",
       "      <td>47.2</td>\n",
       "    </tr>\n",
       "  </tbody>\n",
       "</table>\n",
       "</div>"
      ],
      "text/plain": [
       "group               event_type    A1    A2     B     A   all  part_A1  \\\n",
       "0             MainScreenAppear  2450  2476  2493  4926  7419     98.6   \n",
       "1           OffersScreenAppear  1542  1520  1531  3062  4593     62.1   \n",
       "2             CartScreenAppear  1266  1238  1230  2504  3734     51.0   \n",
       "3      PaymentScreenSuccessful  1200  1158  1181  2358  3539     48.3   \n",
       "\n",
       "group  part_A2  part_B  part_A  \n",
       "0         98.5    98.3    98.6  \n",
       "1         60.5    60.3    61.3  \n",
       "2         49.3    48.5    50.1  \n",
       "3         46.1    46.6    47.2  "
      ]
     },
     "execution_count": 77,
     "metadata": {},
     "output_type": "execute_result"
    }
   ],
   "source": [
    "event_group_test"
   ]
  },
  {
   "cell_type": "markdown",
   "metadata": {},
   "source": [
    "### Cтатистические критерии разницу между выборками A1/B, A2/B, A/B"
   ]
  },
  {
   "cell_type": "markdown",
   "metadata": {},
   "source": [
    "Проверьте, будет ли отличие между группами статистически достоверным. Проделаем то же самое для всех других событий."
   ]
  },
  {
   "cell_type": "markdown",
   "metadata": {},
   "source": [
    "Так как группу А1 и А2 мы проверяли ранее между собой, сделаем следующую сверку - А1/В; А2/В и А1+А2/В"
   ]
  },
  {
   "cell_type": "markdown",
   "metadata": {},
   "source": [
    "Мы проверяем статистическую разницу между группами А1 и B. Нулевая гипотеза звучит так \"Группа А1 и B одинаковые, между ними нет значимой статистической разницы\" Альтернативная гипотеза звучит так \"Группа А1 и B не одинаковые, между ними есть значимая статистическая разница\"."
   ]
  },
  {
   "cell_type": "code",
   "execution_count": 78,
   "metadata": {},
   "outputs": [
    {
     "name": "stdout",
     "output_type": "stream",
     "text": [
      "2450 2493 2484 2537\n",
      "MainScreenAppear p-значение: 0.2949721933554552\n",
      "Не получилось отвергнуть нулевую гипотезу, нет оснований считать доли разными\n",
      "\n",
      "1542 1531 2484 2537\n",
      "OffersScreenAppear p-значение: 0.20836205402738917\n",
      "Не получилось отвергнуть нулевую гипотезу, нет оснований считать доли разными\n",
      "\n",
      "1266 1230 2484 2537\n",
      "CartScreenAppear p-значение: 0.07842923237520116\n",
      "Не получилось отвергнуть нулевую гипотезу, нет оснований считать доли разными\n",
      "\n",
      "1200 1181 2484 2537\n",
      "PaymentScreenSuccessful p-значение: 0.2122553275697796\n",
      "Не получилось отвергнуть нулевую гипотезу, нет оснований считать доли разными\n",
      "\n"
     ]
    }
   ],
   "source": [
    "aa_test(\"A1\", \"B\", 0.01)"
   ]
  },
  {
   "cell_type": "markdown",
   "metadata": {},
   "source": [
    "Мы проверяем статистическую разницу между группами А2 и B. Нулевая гипотеза звучит так \"Группа А2 и B одинаковые, между ними нет значимой статистической разницы\" Альтернативная гипотеза звучит так \"Группа А2 и B не одинаковые, между ними есть значимая статистическая разница\"."
   ]
  },
  {
   "cell_type": "code",
   "execution_count": 79,
   "metadata": {},
   "outputs": [
    {
     "name": "stdout",
     "output_type": "stream",
     "text": [
      "2476 2493 2513 2537\n",
      "MainScreenAppear p-значение: 0.4587053616621515\n",
      "Не получилось отвергнуть нулевую гипотезу, нет оснований считать доли разными\n",
      "\n",
      "1520 1531 2513 2537\n",
      "OffersScreenAppear p-значение: 0.9197817830592261\n",
      "Не получилось отвергнуть нулевую гипотезу, нет оснований считать доли разными\n",
      "\n",
      "1238 1230 2513 2537\n",
      "CartScreenAppear p-значение: 0.5786197879539783\n",
      "Не получилось отвергнуть нулевую гипотезу, нет оснований считать доли разными\n",
      "\n",
      "1158 1181 2513 2537\n",
      "PaymentScreenSuccessful p-значение: 0.7373415053803964\n",
      "Не получилось отвергнуть нулевую гипотезу, нет оснований считать доли разными\n",
      "\n"
     ]
    }
   ],
   "source": [
    "aa_test(\"A2\", \"B\", 0.01)"
   ]
  },
  {
   "cell_type": "markdown",
   "metadata": {},
   "source": [
    "Мы проверяем статистическую разницу между группами А1+A2 и B. Нулевая гипотеза звучит так \"Группа А1+A2 и B одинаковые, между ними нет значимой статистической разницы\" Альтернативная гипотеза звучит так \"Группа А1+A2 и B не одинаковые, между ними есть значимая статистическая разница\"."
   ]
  },
  {
   "cell_type": "code",
   "execution_count": 54,
   "metadata": {
    "scrolled": true
   },
   "outputs": [
    {
     "name": "stdout",
     "output_type": "stream",
     "text": [
      "4926 2493 4997 2537\n",
      "MainScreenAppear p-значение: 0.29424526837179577\n",
      "Не получилось отвергнуть нулевую гипотезу, нет оснований считать доли разными\n",
      "\n",
      "3062 1531 4997 2537\n",
      "OffersScreenAppear p-значение: 0.43425549655188256\n",
      "Не получилось отвергнуть нулевую гипотезу, нет оснований считать доли разными\n",
      "\n",
      "2504 1230 4997 2537\n",
      "CartScreenAppear p-значение: 0.18175875284404386\n",
      "Не получилось отвергнуть нулевую гипотезу, нет оснований считать доли разными\n",
      "\n",
      "2358 1181 4997 2537\n",
      "PaymentScreenSuccessful p-значение: 0.6004294282308704\n",
      "Не получилось отвергнуть нулевую гипотезу, нет оснований считать доли разными\n",
      "\n"
     ]
    }
   ],
   "source": [
    "aa_test('A', \"B\", 0.01)"
   ]
  },
  {
   "cell_type": "markdown",
   "metadata": {},
   "source": [
    "Можно сделать вывод, что разбиение на группы работает корректно."
   ]
  },
  {
   "cell_type": "markdown",
   "metadata": {},
   "source": [
    "Можно сделать вывод, что статистически значимых различий между группами мы не обнаружили."
   ]
  },
  {
   "cell_type": "markdown",
   "metadata": {},
   "source": [
    "При проверке гипотез мы выбрали более жесткий уровень статистической значимости - 0.01"
   ]
  },
  {
   "cell_type": "markdown",
   "metadata": {},
   "source": [
    "В ходе исследования мы сделали 16 проверок статистических гипотез (4 сравнения групп по 4 параметрам каждая)."
   ]
  },
  {
   "cell_type": "markdown",
   "metadata": {},
   "source": [
    "### Поправка Бонферонни"
   ]
  },
  {
   "cell_type": "markdown",
   "metadata": {},
   "source": [
    "Мы сделаем корректировку через поправку Бонферонни. Формула поправки выглядит вот так - \"α новый = α исходный / n\". n = 16, значит новый уровень статистической значимости равен = 0,01/16 = 0,000625. Проведем все проверки гипотез с таким уровнем значимости. "
   ]
  },
  {
   "cell_type": "code",
   "execution_count": 80,
   "metadata": {},
   "outputs": [
    {
     "name": "stdout",
     "output_type": "stream",
     "text": [
      "2450 2476 2484 2513\n",
      "MainScreenAppear p-значение: 0.7570597232046099\n",
      "Не получилось отвергнуть нулевую гипотезу, нет оснований считать доли разными\n",
      "\n",
      "1542 1520 2484 2513\n",
      "OffersScreenAppear p-значение: 0.2480954578522181\n",
      "Не получилось отвергнуть нулевую гипотезу, нет оснований считать доли разными\n",
      "\n",
      "1266 1238 2484 2513\n",
      "CartScreenAppear p-значение: 0.22883372237997213\n",
      "Не получилось отвергнуть нулевую гипотезу, нет оснований считать доли разными\n",
      "\n",
      "1200 1158 2484 2513\n",
      "PaymentScreenSuccessful p-значение: 0.11456679313141849\n",
      "Не получилось отвергнуть нулевую гипотезу, нет оснований считать доли разными\n",
      "\n"
     ]
    }
   ],
   "source": [
    "aa_test(\"A1\", \"A2\", 0.000625)"
   ]
  },
  {
   "cell_type": "code",
   "execution_count": 81,
   "metadata": {},
   "outputs": [
    {
     "name": "stdout",
     "output_type": "stream",
     "text": [
      "2450 2493 2484 2537\n",
      "MainScreenAppear p-значение: 0.2949721933554552\n",
      "Не получилось отвергнуть нулевую гипотезу, нет оснований считать доли разными\n",
      "\n",
      "1542 1531 2484 2537\n",
      "OffersScreenAppear p-значение: 0.20836205402738917\n",
      "Не получилось отвергнуть нулевую гипотезу, нет оснований считать доли разными\n",
      "\n",
      "1266 1230 2484 2537\n",
      "CartScreenAppear p-значение: 0.07842923237520116\n",
      "Не получилось отвергнуть нулевую гипотезу, нет оснований считать доли разными\n",
      "\n",
      "1200 1181 2484 2537\n",
      "PaymentScreenSuccessful p-значение: 0.2122553275697796\n",
      "Не получилось отвергнуть нулевую гипотезу, нет оснований считать доли разными\n",
      "\n"
     ]
    }
   ],
   "source": [
    "aa_test(\"A1\", \"B\", 0.000625)"
   ]
  },
  {
   "cell_type": "code",
   "execution_count": 82,
   "metadata": {},
   "outputs": [
    {
     "name": "stdout",
     "output_type": "stream",
     "text": [
      "2476 2493 2513 2537\n",
      "MainScreenAppear p-значение: 0.4587053616621515\n",
      "Не получилось отвергнуть нулевую гипотезу, нет оснований считать доли разными\n",
      "\n",
      "1520 1531 2513 2537\n",
      "OffersScreenAppear p-значение: 0.9197817830592261\n",
      "Не получилось отвергнуть нулевую гипотезу, нет оснований считать доли разными\n",
      "\n",
      "1238 1230 2513 2537\n",
      "CartScreenAppear p-значение: 0.5786197879539783\n",
      "Не получилось отвергнуть нулевую гипотезу, нет оснований считать доли разными\n",
      "\n",
      "1158 1181 2513 2537\n",
      "PaymentScreenSuccessful p-значение: 0.7373415053803964\n",
      "Не получилось отвергнуть нулевую гипотезу, нет оснований считать доли разными\n",
      "\n"
     ]
    }
   ],
   "source": [
    "aa_test(\"A2\", \"B\", 0.000625)"
   ]
  },
  {
   "cell_type": "code",
   "execution_count": 83,
   "metadata": {},
   "outputs": [
    {
     "name": "stdout",
     "output_type": "stream",
     "text": [
      "4926 2493 4997 2537\n",
      "MainScreenAppear p-значение: 0.29424526837179577\n",
      "Не получилось отвергнуть нулевую гипотезу, нет оснований считать доли разными\n",
      "\n",
      "3062 1531 4997 2537\n",
      "OffersScreenAppear p-значение: 0.43425549655188256\n",
      "Не получилось отвергнуть нулевую гипотезу, нет оснований считать доли разными\n",
      "\n",
      "2504 1230 4997 2537\n",
      "CartScreenAppear p-значение: 0.18175875284404386\n",
      "Не получилось отвергнуть нулевую гипотезу, нет оснований считать доли разными\n",
      "\n",
      "2358 1181 4997 2537\n",
      "PaymentScreenSuccessful p-значение: 0.6004294282308704\n",
      "Не получилось отвергнуть нулевую гипотезу, нет оснований считать доли разными\n",
      "\n"
     ]
    }
   ],
   "source": [
    "aa_test(\"A\", \"B\", 0.000625)"
   ]
  },
  {
   "cell_type": "markdown",
   "metadata": {},
   "source": [
    "Мы провели все тесты с новым, скорректированным уровнем значимости - результаты не изменились. Между группами нет статистически значимых различий"
   ]
  },
  {
   "cell_type": "markdown",
   "metadata": {},
   "source": [
    "Финальный вывод - в результате недельного исследования активности пользователей в приложении при использовании версии со старым и новым шрифтом статистически значимых различий не выявлено."
   ]
  },
  {
   "cell_type": "markdown",
   "metadata": {},
   "source": [
    "## Выводы по проделанной работе"
   ]
  },
  {
   "cell_type": "markdown",
   "metadata": {},
   "source": [
    "### Подготовка и анализ данных"
   ]
  },
  {
   "cell_type": "markdown",
   "metadata": {},
   "source": [
    "Первичный анализ сырых данных показал следующее - было 413 строчек дубликатов, мы их удалилили из анализа. По времени эксперимента данные предоставлены с 25 июля 2019 года по 31 августа 2019 года - при узучении пользовательской активности выявлено, что до 1 августа 2019 года активность пользователей была крайне низкой. Для более корректного анализа мы откинули всю информацию до 1 августа 2019 года. После \"очистки\" данных от дубликатов и неактивного времени мы получили данные со следующим содержанием - 7 551 уникальных пользователя, 243 713 событий за период, 5 типов событий, 4 из которых связаны между собой. Три целевые группы пользователей, распределенных на время эксперимента равномерно. "
   ]
  },
  {
   "cell_type": "markdown",
   "metadata": {},
   "source": [
    "### Воронка событий"
   ]
  },
  {
   "cell_type": "markdown",
   "metadata": {},
   "source": [
    "В данных есть пять событий. Четыре из них логически связаны между собой и идут последовательно (MainScreenAppear, OffersScreenAppear, CartScreenAppear, PaymentScreenSuccessful). Событие Tutorial независимо от других событий, не является целевым действием - при построении воронки событий мы исключаем эти события из анализа. Самое пополярное событие - MainScreenAppear - на него приходится почти половина всех действий во время эксперимента. После построения вороки событий мы можем сделать вывод, что от 100% пользователей до доиента оплаты (PaymentScreenSuccessful) доходят 47% пользователей. Больше всего пользователей теряется при переходе с шага MainScreenAppear на шаг OffersScreenAppear - порядка 38%"
   ]
  },
  {
   "cell_type": "markdown",
   "metadata": {},
   "source": [
    "### Результаты эксперимента"
   ]
  },
  {
   "cell_type": "markdown",
   "metadata": {},
   "source": [
    "Пользователи распределены равномерно по двум контрольным и одной экспериментальной группе. Для начала мы проверили между собой две контрольные группы - так мы проверяем механизм распределения - статистических различий при уровне значимости 0.01 не обнаружено. Далее мы последовательно сравнили контрольные группы с экспериментальной - статистических различий при уровне значимости 0.01 не обнаружено. Так как мы проводим 16 проверок гипотез в рамках одного датасета, вероятность получить «ложноположительный» результат так же возрастает в 16 раз - что бы исключить верояность «ложноположительного» результата мы сделали поправку Бонферонни для статистической значимости и снова провели 16 тестов. Итоговый результат - статистическо значимой разницы между контрольными и экспериментальной группами не выявлено. \n",
    "Это значит что пользователи приложения со старым и новым шрифтом ведут себя одинаково - шрифт не поменял пользовательскую активность.\n",
    "Следовательно мы можем сделать обоснованный вывод, что переводить приложение полностью на новый шрифт можно - пользователи одинаково ориентируются в функциях приложения при новой версии шрифта так же хорошо, как и при старой."
   ]
  }
 ],
 "metadata": {
  "ExecuteTimeLog": [
   {
    "duration": 114,
    "start_time": "2023-05-10T07:34:24.910Z"
   },
   {
    "duration": 1218,
    "start_time": "2023-05-10T07:44:03.368Z"
   },
   {
    "duration": 650,
    "start_time": "2023-05-10T07:44:59.837Z"
   },
   {
    "duration": 71,
    "start_time": "2023-05-10T07:45:40.469Z"
   },
   {
    "duration": 313,
    "start_time": "2023-05-10T07:45:56.795Z"
   },
   {
    "duration": 103,
    "start_time": "2023-05-10T07:48:40.774Z"
   },
   {
    "duration": 10,
    "start_time": "2023-05-10T07:48:48.248Z"
   },
   {
    "duration": 10,
    "start_time": "2023-05-10T07:48:52.870Z"
   },
   {
    "duration": 1017,
    "start_time": "2023-05-10T07:49:08.022Z"
   },
   {
    "duration": 341,
    "start_time": "2023-05-10T09:24:31.836Z"
   },
   {
    "duration": 72,
    "start_time": "2023-05-10T09:24:38.425Z"
   },
   {
    "duration": 377,
    "start_time": "2023-05-10T09:25:02.405Z"
   },
   {
    "duration": 294,
    "start_time": "2023-05-10T09:25:15.505Z"
   },
   {
    "duration": 52,
    "start_time": "2023-05-10T09:25:47.123Z"
   },
   {
    "duration": 1129,
    "start_time": "2023-05-10T09:25:53.034Z"
   },
   {
    "duration": 57,
    "start_time": "2023-05-10T09:25:54.165Z"
   },
   {
    "duration": 0,
    "start_time": "2023-05-10T09:25:54.223Z"
   },
   {
    "duration": 309,
    "start_time": "2023-05-10T09:25:59.994Z"
   },
   {
    "duration": 202,
    "start_time": "2023-05-10T09:33:28.650Z"
   },
   {
    "duration": 23,
    "start_time": "2023-05-10T09:37:05.890Z"
   },
   {
    "duration": 10,
    "start_time": "2023-05-10T09:45:30.481Z"
   },
   {
    "duration": 8,
    "start_time": "2023-05-10T09:45:38.949Z"
   },
   {
    "duration": 8,
    "start_time": "2023-05-10T09:45:44.988Z"
   },
   {
    "duration": 22,
    "start_time": "2023-05-10T09:47:12.831Z"
   },
   {
    "duration": 2669,
    "start_time": "2023-05-10T09:50:50.141Z"
   },
   {
    "duration": 8,
    "start_time": "2023-05-10T09:51:05.973Z"
   },
   {
    "duration": 20,
    "start_time": "2023-05-10T09:51:15.171Z"
   },
   {
    "duration": 21,
    "start_time": "2023-05-10T09:51:29.387Z"
   },
   {
    "duration": 17,
    "start_time": "2023-05-10T09:53:25.170Z"
   },
   {
    "duration": 20,
    "start_time": "2023-05-10T09:53:33.925Z"
   },
   {
    "duration": 21,
    "start_time": "2023-05-10T09:58:01.823Z"
   },
   {
    "duration": 19,
    "start_time": "2023-05-10T09:58:10.413Z"
   },
   {
    "duration": 17,
    "start_time": "2023-05-10T09:58:32.350Z"
   },
   {
    "duration": 12,
    "start_time": "2023-05-10T09:58:37.364Z"
   },
   {
    "duration": 23,
    "start_time": "2023-05-10T09:58:43.516Z"
   },
   {
    "duration": 10,
    "start_time": "2023-05-10T10:00:35.012Z"
   },
   {
    "duration": 85,
    "start_time": "2023-05-10T10:00:44.645Z"
   },
   {
    "duration": 84,
    "start_time": "2023-05-10T10:00:59.014Z"
   },
   {
    "duration": 82,
    "start_time": "2023-05-10T10:05:47.980Z"
   },
   {
    "duration": 48,
    "start_time": "2023-05-10T10:08:38.895Z"
   },
   {
    "duration": 11,
    "start_time": "2023-05-10T10:09:44.647Z"
   },
   {
    "duration": 48,
    "start_time": "2023-05-10T10:45:55.372Z"
   },
   {
    "duration": 29,
    "start_time": "2023-05-10T10:46:11.363Z"
   },
   {
    "duration": 961,
    "start_time": "2023-05-10T10:47:35.492Z"
   },
   {
    "duration": 11,
    "start_time": "2023-05-10T10:47:46.212Z"
   },
   {
    "duration": 14,
    "start_time": "2023-05-10T10:48:00.796Z"
   },
   {
    "duration": 31,
    "start_time": "2023-05-10T10:48:34.904Z"
   },
   {
    "duration": 27,
    "start_time": "2023-05-10T10:48:49.012Z"
   },
   {
    "duration": 9,
    "start_time": "2023-05-10T10:49:43.373Z"
   },
   {
    "duration": 23,
    "start_time": "2023-05-10T10:49:59.076Z"
   },
   {
    "duration": 17,
    "start_time": "2023-05-10T10:50:04.221Z"
   },
   {
    "duration": 20,
    "start_time": "2023-05-10T10:50:16.011Z"
   },
   {
    "duration": 56,
    "start_time": "2023-05-10T10:56:57.702Z"
   },
   {
    "duration": 35,
    "start_time": "2023-05-10T10:57:08.054Z"
   },
   {
    "duration": 59,
    "start_time": "2023-05-10T10:57:26.502Z"
   },
   {
    "duration": 375,
    "start_time": "2023-05-10T11:00:34.611Z"
   },
   {
    "duration": 233,
    "start_time": "2023-05-10T11:01:59.478Z"
   },
   {
    "duration": 65,
    "start_time": "2023-05-10T11:15:39.550Z"
   },
   {
    "duration": 417,
    "start_time": "2023-05-10T11:20:17.101Z"
   },
   {
    "duration": 272,
    "start_time": "2023-05-10T11:20:30.600Z"
   },
   {
    "duration": 1197,
    "start_time": "2023-05-10T12:50:34.703Z"
   },
   {
    "duration": 183,
    "start_time": "2023-05-10T12:50:35.902Z"
   },
   {
    "duration": 24,
    "start_time": "2023-05-10T12:50:39.111Z"
   },
   {
    "duration": 8,
    "start_time": "2023-05-10T12:50:44.139Z"
   },
   {
    "duration": 22,
    "start_time": "2023-05-10T12:50:51.015Z"
   },
   {
    "duration": 203,
    "start_time": "2023-05-10T12:54:52.536Z"
   },
   {
    "duration": 22,
    "start_time": "2023-05-10T12:54:52.839Z"
   },
   {
    "duration": 9,
    "start_time": "2023-05-10T12:54:53.158Z"
   },
   {
    "duration": 21,
    "start_time": "2023-05-10T12:54:53.515Z"
   },
   {
    "duration": 18,
    "start_time": "2023-05-10T12:54:53.875Z"
   },
   {
    "duration": 20,
    "start_time": "2023-05-10T12:54:54.280Z"
   },
   {
    "duration": 81,
    "start_time": "2023-05-10T12:54:55.486Z"
   },
   {
    "duration": 27,
    "start_time": "2023-05-10T12:54:58.316Z"
   },
   {
    "duration": 14,
    "start_time": "2023-05-10T12:54:58.651Z"
   },
   {
    "duration": 11,
    "start_time": "2023-05-10T12:54:58.958Z"
   },
   {
    "duration": 20,
    "start_time": "2023-05-10T12:54:59.482Z"
   },
   {
    "duration": 20,
    "start_time": "2023-05-10T12:54:59.803Z"
   },
   {
    "duration": 33,
    "start_time": "2023-05-10T12:55:00.554Z"
   },
   {
    "duration": 327,
    "start_time": "2023-05-10T12:55:01.060Z"
   },
   {
    "duration": 42,
    "start_time": "2023-05-10T12:55:01.389Z"
   },
   {
    "duration": 28,
    "start_time": "2023-05-10T12:55:25.220Z"
   },
   {
    "duration": 11,
    "start_time": "2023-05-10T12:55:36.815Z"
   },
   {
    "duration": 236,
    "start_time": "2023-05-10T12:57:49.487Z"
   },
   {
    "duration": 18,
    "start_time": "2023-05-10T12:58:16.446Z"
   },
   {
    "duration": 236,
    "start_time": "2023-05-10T12:58:17.327Z"
   },
   {
    "duration": 12,
    "start_time": "2023-05-10T12:58:26.612Z"
   },
   {
    "duration": 227,
    "start_time": "2023-05-10T12:58:27.423Z"
   },
   {
    "duration": 16,
    "start_time": "2023-05-10T13:01:26.246Z"
   },
   {
    "duration": 24,
    "start_time": "2023-05-10T13:02:01.295Z"
   },
   {
    "duration": 23,
    "start_time": "2023-05-10T13:02:14.227Z"
   },
   {
    "duration": 24,
    "start_time": "2023-05-10T13:02:37.085Z"
   },
   {
    "duration": 24,
    "start_time": "2023-05-10T13:03:59.731Z"
   },
   {
    "duration": 4,
    "start_time": "2023-05-10T13:04:09.652Z"
   },
   {
    "duration": 444,
    "start_time": "2023-05-10T13:04:17.697Z"
   },
   {
    "duration": 23,
    "start_time": "2023-05-10T13:04:24.223Z"
   },
   {
    "duration": 11,
    "start_time": "2023-05-10T13:05:16.672Z"
   },
   {
    "duration": 20,
    "start_time": "2023-05-10T13:05:31.798Z"
   },
   {
    "duration": 20,
    "start_time": "2023-05-10T13:05:59.637Z"
   },
   {
    "duration": 39,
    "start_time": "2023-05-10T13:11:13.424Z"
   },
   {
    "duration": 58,
    "start_time": "2023-05-10T13:11:33.656Z"
   },
   {
    "duration": 201,
    "start_time": "2023-05-10T13:13:23.916Z"
   },
   {
    "duration": 101,
    "start_time": "2023-05-10T13:13:32.911Z"
   },
   {
    "duration": 216,
    "start_time": "2023-05-10T13:13:38.511Z"
   },
   {
    "duration": 215,
    "start_time": "2023-05-10T13:15:33.313Z"
   },
   {
    "duration": 56,
    "start_time": "2023-05-10T13:17:19.481Z"
   },
   {
    "duration": 64,
    "start_time": "2023-05-10T13:17:35.500Z"
   },
   {
    "duration": 79,
    "start_time": "2023-05-10T13:17:45.480Z"
   },
   {
    "duration": 158,
    "start_time": "2023-05-10T13:18:25.615Z"
   },
   {
    "duration": 202,
    "start_time": "2023-05-10T13:18:31.015Z"
   },
   {
    "duration": 2074,
    "start_time": "2023-05-10T13:18:36.451Z"
   },
   {
    "duration": 2531,
    "start_time": "2023-05-10T13:18:46.976Z"
   },
   {
    "duration": 5,
    "start_time": "2023-05-10T13:20:44.037Z"
   },
   {
    "duration": 16,
    "start_time": "2023-05-10T13:20:49.257Z"
   },
   {
    "duration": 10,
    "start_time": "2023-05-10T13:21:09.273Z"
   },
   {
    "duration": 11,
    "start_time": "2023-05-10T13:21:17.512Z"
   },
   {
    "duration": 17,
    "start_time": "2023-05-10T13:26:25.850Z"
   },
   {
    "duration": 15,
    "start_time": "2023-05-10T13:26:40.957Z"
   },
   {
    "duration": 164,
    "start_time": "2023-05-10T13:28:52.650Z"
   },
   {
    "duration": 59,
    "start_time": "2023-05-10T13:37:17.883Z"
   },
   {
    "duration": 30,
    "start_time": "2023-05-10T13:37:55.948Z"
   },
   {
    "duration": 28,
    "start_time": "2023-05-10T13:38:21.084Z"
   },
   {
    "duration": 31,
    "start_time": "2023-05-10T13:38:28.815Z"
   },
   {
    "duration": 81,
    "start_time": "2023-05-10T13:39:33.625Z"
   },
   {
    "duration": 33,
    "start_time": "2023-05-10T13:39:50.317Z"
   },
   {
    "duration": 32,
    "start_time": "2023-05-10T13:40:09.983Z"
   },
   {
    "duration": 46,
    "start_time": "2023-05-10T13:55:36.118Z"
   },
   {
    "duration": 43,
    "start_time": "2023-05-10T13:56:04.943Z"
   },
   {
    "duration": 45,
    "start_time": "2023-05-10T13:56:25.341Z"
   },
   {
    "duration": 44,
    "start_time": "2023-05-10T13:56:46.054Z"
   },
   {
    "duration": 45,
    "start_time": "2023-05-10T13:56:57.344Z"
   },
   {
    "duration": 44,
    "start_time": "2023-05-10T13:57:24.532Z"
   },
   {
    "duration": 52,
    "start_time": "2023-05-10T13:57:37.143Z"
   },
   {
    "duration": 43,
    "start_time": "2023-05-10T13:57:45.406Z"
   },
   {
    "duration": 54,
    "start_time": "2023-05-10T13:58:45.413Z"
   },
   {
    "duration": 44,
    "start_time": "2023-05-10T13:58:51.270Z"
   },
   {
    "duration": 50,
    "start_time": "2023-05-10T19:52:16.804Z"
   },
   {
    "duration": 1264,
    "start_time": "2023-05-10T19:52:23.302Z"
   },
   {
    "duration": 705,
    "start_time": "2023-05-10T19:52:24.568Z"
   },
   {
    "duration": 29,
    "start_time": "2023-05-10T19:52:25.315Z"
   },
   {
    "duration": 65,
    "start_time": "2023-05-10T19:52:28.267Z"
   },
   {
    "duration": 67,
    "start_time": "2023-05-10T19:52:50.278Z"
   },
   {
    "duration": 75,
    "start_time": "2023-05-10T19:53:07.802Z"
   },
   {
    "duration": 84,
    "start_time": "2023-05-10T19:53:39.657Z"
   },
   {
    "duration": 11,
    "start_time": "2023-05-10T19:53:41.583Z"
   },
   {
    "duration": 18,
    "start_time": "2023-05-10T19:53:43.406Z"
   },
   {
    "duration": 18,
    "start_time": "2023-05-10T19:53:45.955Z"
   },
   {
    "duration": 32,
    "start_time": "2023-05-10T19:53:46.747Z"
   },
   {
    "duration": 67,
    "start_time": "2023-05-10T19:53:51.608Z"
   },
   {
    "duration": 23,
    "start_time": "2023-05-10T19:53:54.688Z"
   },
   {
    "duration": 17,
    "start_time": "2023-05-10T19:54:16.170Z"
   },
   {
    "duration": 11,
    "start_time": "2023-05-10T19:54:20.928Z"
   },
   {
    "duration": 23,
    "start_time": "2023-05-10T19:54:26.828Z"
   },
   {
    "duration": 14,
    "start_time": "2023-05-10T19:54:28.749Z"
   },
   {
    "duration": 28,
    "start_time": "2023-05-10T19:54:34.990Z"
   },
   {
    "duration": 305,
    "start_time": "2023-05-10T19:54:40.525Z"
   },
   {
    "duration": 27,
    "start_time": "2023-05-10T19:54:46.573Z"
   },
   {
    "duration": 209,
    "start_time": "2023-05-10T19:54:50.054Z"
   },
   {
    "duration": 12,
    "start_time": "2023-05-10T19:54:56.444Z"
   },
   {
    "duration": 20,
    "start_time": "2023-05-10T19:54:57.390Z"
   },
   {
    "duration": 23,
    "start_time": "2023-05-10T19:54:58.456Z"
   },
   {
    "duration": 10,
    "start_time": "2023-05-10T19:55:15.332Z"
   },
   {
    "duration": 13,
    "start_time": "2023-05-10T19:55:18.103Z"
   },
   {
    "duration": 10,
    "start_time": "2023-05-10T19:55:18.674Z"
   },
   {
    "duration": 204,
    "start_time": "2023-05-10T19:55:25.618Z"
   },
   {
    "duration": 12,
    "start_time": "2023-05-10T19:55:27.473Z"
   },
   {
    "duration": 10,
    "start_time": "2023-05-10T19:55:28.171Z"
   },
   {
    "duration": 12,
    "start_time": "2023-05-10T19:55:29.230Z"
   },
   {
    "duration": 101,
    "start_time": "2023-05-10T19:55:35.332Z"
   },
   {
    "duration": 518,
    "start_time": "2023-05-10T20:07:31.866Z"
   },
   {
    "duration": 79,
    "start_time": "2023-05-10T20:11:10.045Z"
   },
   {
    "duration": 72,
    "start_time": "2023-05-10T20:11:20.637Z"
   },
   {
    "duration": 85,
    "start_time": "2023-05-10T20:13:51.304Z"
   },
   {
    "duration": 73,
    "start_time": "2023-05-10T20:20:48.294Z"
   },
   {
    "duration": 59,
    "start_time": "2023-05-10T20:22:36.216Z"
   },
   {
    "duration": 70,
    "start_time": "2023-05-10T20:22:59.841Z"
   },
   {
    "duration": 65,
    "start_time": "2023-05-10T20:35:09.129Z"
   },
   {
    "duration": 12,
    "start_time": "2023-05-10T20:35:46.667Z"
   },
   {
    "duration": 63,
    "start_time": "2023-05-10T20:35:55.410Z"
   },
   {
    "duration": 59,
    "start_time": "2023-05-10T20:36:53.365Z"
   },
   {
    "duration": 68,
    "start_time": "2023-05-10T20:37:02.998Z"
   },
   {
    "duration": 940,
    "start_time": "2023-05-10T20:44:43.315Z"
   },
   {
    "duration": 10,
    "start_time": "2023-05-10T20:45:20.609Z"
   },
   {
    "duration": 98,
    "start_time": "2023-05-10T20:46:13.350Z"
   },
   {
    "duration": 78,
    "start_time": "2023-05-10T20:46:58.638Z"
   },
   {
    "duration": 64,
    "start_time": "2023-05-10T20:47:24.934Z"
   },
   {
    "duration": 96,
    "start_time": "2023-05-10T20:49:50.942Z"
   },
   {
    "duration": 78,
    "start_time": "2023-05-10T20:50:04.572Z"
   },
   {
    "duration": 61,
    "start_time": "2023-05-10T20:50:17.434Z"
   },
   {
    "duration": 77,
    "start_time": "2023-05-10T20:50:30.034Z"
   },
   {
    "duration": 67,
    "start_time": "2023-05-10T20:51:31.864Z"
   },
   {
    "duration": 63,
    "start_time": "2023-05-10T20:52:51.875Z"
   },
   {
    "duration": 64,
    "start_time": "2023-05-10T20:53:03.521Z"
   },
   {
    "duration": 92,
    "start_time": "2023-05-10T20:53:48.839Z"
   },
   {
    "duration": 64,
    "start_time": "2023-05-10T20:54:20.558Z"
   },
   {
    "duration": 92,
    "start_time": "2023-05-10T20:54:45.342Z"
   },
   {
    "duration": 72,
    "start_time": "2023-05-10T20:56:19.537Z"
   },
   {
    "duration": 62,
    "start_time": "2023-05-10T20:56:23.571Z"
   },
   {
    "duration": 78,
    "start_time": "2023-05-10T20:56:39.337Z"
   },
   {
    "duration": 52,
    "start_time": "2023-05-10T21:00:58.201Z"
   },
   {
    "duration": 45,
    "start_time": "2023-05-10T21:02:49.577Z"
   },
   {
    "duration": 11,
    "start_time": "2023-05-10T21:03:25.961Z"
   },
   {
    "duration": 12,
    "start_time": "2023-05-10T21:03:38.384Z"
   },
   {
    "duration": 10,
    "start_time": "2023-05-10T21:03:39.746Z"
   },
   {
    "duration": 12,
    "start_time": "2023-05-10T21:03:47.646Z"
   },
   {
    "duration": 12,
    "start_time": "2023-05-10T21:03:55.635Z"
   },
   {
    "duration": 10,
    "start_time": "2023-05-10T21:03:57.997Z"
   },
   {
    "duration": 9,
    "start_time": "2023-05-10T21:04:10.295Z"
   },
   {
    "duration": 10,
    "start_time": "2023-05-10T21:04:21.072Z"
   },
   {
    "duration": 60,
    "start_time": "2023-05-11T12:26:13.348Z"
   },
   {
    "duration": 19,
    "start_time": "2023-05-11T12:26:17.367Z"
   },
   {
    "duration": 1598,
    "start_time": "2023-05-11T12:26:31.157Z"
   },
   {
    "duration": 768,
    "start_time": "2023-05-11T12:26:32.758Z"
   },
   {
    "duration": 35,
    "start_time": "2023-05-11T12:26:33.528Z"
   },
   {
    "duration": 110,
    "start_time": "2023-05-11T12:26:33.566Z"
   },
   {
    "duration": 111,
    "start_time": "2023-05-11T12:26:33.679Z"
   },
   {
    "duration": 10,
    "start_time": "2023-05-11T12:26:33.791Z"
   },
   {
    "duration": 33,
    "start_time": "2023-05-11T12:26:33.803Z"
   },
   {
    "duration": 19,
    "start_time": "2023-05-11T12:26:33.840Z"
   },
   {
    "duration": 47,
    "start_time": "2023-05-11T12:26:33.861Z"
   },
   {
    "duration": 95,
    "start_time": "2023-05-11T12:26:33.911Z"
   },
   {
    "duration": 45,
    "start_time": "2023-05-11T12:26:34.009Z"
   },
   {
    "duration": 35,
    "start_time": "2023-05-11T12:26:34.056Z"
   },
   {
    "duration": 17,
    "start_time": "2023-05-11T12:26:34.093Z"
   },
   {
    "duration": 38,
    "start_time": "2023-05-11T12:26:34.115Z"
   },
   {
    "duration": 33,
    "start_time": "2023-05-11T12:26:34.155Z"
   },
   {
    "duration": 43,
    "start_time": "2023-05-11T12:26:34.191Z"
   },
   {
    "duration": 399,
    "start_time": "2023-05-11T12:26:34.236Z"
   },
   {
    "duration": 50,
    "start_time": "2023-05-11T12:26:34.638Z"
   },
   {
    "duration": 297,
    "start_time": "2023-05-11T12:26:34.690Z"
   },
   {
    "duration": 14,
    "start_time": "2023-05-11T12:26:34.993Z"
   },
   {
    "duration": 79,
    "start_time": "2023-05-11T12:26:35.010Z"
   },
   {
    "duration": 35,
    "start_time": "2023-05-11T12:26:35.092Z"
   },
   {
    "duration": 11,
    "start_time": "2023-05-11T12:26:35.129Z"
   },
   {
    "duration": 45,
    "start_time": "2023-05-11T12:26:35.142Z"
   },
   {
    "duration": 30,
    "start_time": "2023-05-11T12:26:35.190Z"
   },
   {
    "duration": 266,
    "start_time": "2023-05-11T12:26:35.222Z"
   },
   {
    "duration": 15,
    "start_time": "2023-05-11T12:26:35.491Z"
   },
   {
    "duration": 19,
    "start_time": "2023-05-11T12:26:35.509Z"
   },
   {
    "duration": 28,
    "start_time": "2023-05-11T12:26:35.530Z"
   },
   {
    "duration": 95,
    "start_time": "2023-05-11T12:26:35.560Z"
   },
   {
    "duration": 86,
    "start_time": "2023-05-11T12:26:35.657Z"
   },
   {
    "duration": 33,
    "start_time": "2023-05-11T12:26:35.746Z"
   },
   {
    "duration": 14,
    "start_time": "2023-05-11T12:26:35.781Z"
   },
   {
    "duration": 30,
    "start_time": "2023-05-11T12:26:35.798Z"
   },
   {
    "duration": 126,
    "start_time": "2023-05-11T12:26:35.830Z"
   },
   {
    "duration": 0,
    "start_time": "2023-05-11T12:26:35.961Z"
   },
   {
    "duration": 0,
    "start_time": "2023-05-11T12:26:35.963Z"
   },
   {
    "duration": 18,
    "start_time": "2023-05-11T12:26:40.830Z"
   },
   {
    "duration": 0,
    "start_time": "2023-05-11T12:30:11.210Z"
   },
   {
    "duration": 4650,
    "start_time": "2023-05-11T12:30:17.301Z"
   },
   {
    "duration": 3442,
    "start_time": "2023-05-11T12:31:32.353Z"
   },
   {
    "duration": 68,
    "start_time": "2023-05-11T12:35:34.855Z"
   },
   {
    "duration": 61,
    "start_time": "2023-05-11T12:42:06.746Z"
   },
   {
    "duration": 52,
    "start_time": "2023-05-11T12:42:13.363Z"
   },
   {
    "duration": 18,
    "start_time": "2023-05-11T12:45:13.639Z"
   },
   {
    "duration": 184,
    "start_time": "2023-05-11T12:45:57.613Z"
   },
   {
    "duration": 24,
    "start_time": "2023-05-11T12:50:19.363Z"
   },
   {
    "duration": 20,
    "start_time": "2023-05-11T12:50:28.098Z"
   },
   {
    "duration": 30,
    "start_time": "2023-05-11T12:52:05.843Z"
   },
   {
    "duration": 1373,
    "start_time": "2023-05-11T12:52:53.419Z"
   },
   {
    "duration": 189,
    "start_time": "2023-05-11T12:52:54.794Z"
   },
   {
    "duration": 23,
    "start_time": "2023-05-11T12:52:54.985Z"
   },
   {
    "duration": 103,
    "start_time": "2023-05-11T12:52:55.011Z"
   },
   {
    "duration": 107,
    "start_time": "2023-05-11T12:52:55.116Z"
   },
   {
    "duration": 10,
    "start_time": "2023-05-11T12:52:55.225Z"
   },
   {
    "duration": 38,
    "start_time": "2023-05-11T12:52:55.237Z"
   },
   {
    "duration": 23,
    "start_time": "2023-05-11T12:52:55.278Z"
   },
   {
    "duration": 20,
    "start_time": "2023-05-11T12:52:55.303Z"
   },
   {
    "duration": 103,
    "start_time": "2023-05-11T12:52:55.326Z"
   },
   {
    "duration": 52,
    "start_time": "2023-05-11T12:52:55.431Z"
   },
   {
    "duration": 15,
    "start_time": "2023-05-11T12:52:55.486Z"
   },
   {
    "duration": 33,
    "start_time": "2023-05-11T12:52:55.503Z"
   },
   {
    "duration": 30,
    "start_time": "2023-05-11T12:52:55.538Z"
   },
   {
    "duration": 42,
    "start_time": "2023-05-11T12:52:55.571Z"
   },
   {
    "duration": 42,
    "start_time": "2023-05-11T12:52:55.616Z"
   },
   {
    "duration": 357,
    "start_time": "2023-05-11T12:52:55.660Z"
   },
   {
    "duration": 33,
    "start_time": "2023-05-11T12:52:56.020Z"
   },
   {
    "duration": 329,
    "start_time": "2023-05-11T12:52:56.056Z"
   },
   {
    "duration": 13,
    "start_time": "2023-05-11T12:52:56.387Z"
   },
   {
    "duration": 39,
    "start_time": "2023-05-11T12:52:56.402Z"
   },
   {
    "duration": 38,
    "start_time": "2023-05-11T12:52:56.443Z"
   },
   {
    "duration": 16,
    "start_time": "2023-05-11T12:52:56.486Z"
   },
   {
    "duration": 12,
    "start_time": "2023-05-11T12:52:56.504Z"
   },
   {
    "duration": 12,
    "start_time": "2023-05-11T12:52:56.518Z"
   },
   {
    "duration": 274,
    "start_time": "2023-05-11T12:52:56.532Z"
   },
   {
    "duration": 16,
    "start_time": "2023-05-11T12:52:56.808Z"
   },
   {
    "duration": 12,
    "start_time": "2023-05-11T12:52:56.828Z"
   },
   {
    "duration": 47,
    "start_time": "2023-05-11T12:52:56.842Z"
   },
   {
    "duration": 93,
    "start_time": "2023-05-11T12:52:56.892Z"
   },
   {
    "duration": 73,
    "start_time": "2023-05-11T12:52:56.987Z"
   },
   {
    "duration": 15,
    "start_time": "2023-05-11T12:52:57.071Z"
   },
   {
    "duration": 20,
    "start_time": "2023-05-11T12:52:57.088Z"
   },
   {
    "duration": 11,
    "start_time": "2023-05-11T12:52:57.110Z"
   },
   {
    "duration": 87,
    "start_time": "2023-05-11T12:52:57.123Z"
   },
   {
    "duration": 71,
    "start_time": "2023-05-11T12:52:57.213Z"
   },
   {
    "duration": 157,
    "start_time": "2023-05-11T12:52:57.287Z"
   },
   {
    "duration": 1,
    "start_time": "2023-05-11T12:52:57.584Z"
   },
   {
    "duration": 30,
    "start_time": "2023-05-11T12:53:04.650Z"
   },
   {
    "duration": 4,
    "start_time": "2023-05-11T12:53:39.916Z"
   },
   {
    "duration": 1505,
    "start_time": "2023-05-11T12:53:45.132Z"
   },
   {
    "duration": 194,
    "start_time": "2023-05-11T12:53:46.639Z"
   },
   {
    "duration": 22,
    "start_time": "2023-05-11T12:53:46.835Z"
   },
   {
    "duration": 80,
    "start_time": "2023-05-11T12:53:46.877Z"
   },
   {
    "duration": 122,
    "start_time": "2023-05-11T12:53:46.960Z"
   },
   {
    "duration": 9,
    "start_time": "2023-05-11T12:53:47.088Z"
   },
   {
    "duration": 29,
    "start_time": "2023-05-11T12:53:47.100Z"
   },
   {
    "duration": 19,
    "start_time": "2023-05-11T12:53:47.132Z"
   },
   {
    "duration": 48,
    "start_time": "2023-05-11T12:53:47.154Z"
   },
   {
    "duration": 101,
    "start_time": "2023-05-11T12:53:47.205Z"
   },
   {
    "duration": 27,
    "start_time": "2023-05-11T12:53:47.308Z"
   },
   {
    "duration": 39,
    "start_time": "2023-05-11T12:53:47.338Z"
   },
   {
    "duration": 15,
    "start_time": "2023-05-11T12:53:47.384Z"
   },
   {
    "duration": 17,
    "start_time": "2023-05-11T12:53:47.403Z"
   },
   {
    "duration": 21,
    "start_time": "2023-05-11T12:53:47.422Z"
   },
   {
    "duration": 54,
    "start_time": "2023-05-11T12:53:47.445Z"
   },
   {
    "duration": 376,
    "start_time": "2023-05-11T12:53:47.501Z"
   },
   {
    "duration": 35,
    "start_time": "2023-05-11T12:53:47.882Z"
   },
   {
    "duration": 283,
    "start_time": "2023-05-11T12:53:47.922Z"
   },
   {
    "duration": 14,
    "start_time": "2023-05-11T12:53:48.208Z"
   },
   {
    "duration": 28,
    "start_time": "2023-05-11T12:53:48.224Z"
   },
   {
    "duration": 29,
    "start_time": "2023-05-11T12:53:48.270Z"
   },
   {
    "duration": 10,
    "start_time": "2023-05-11T12:53:48.301Z"
   },
   {
    "duration": 14,
    "start_time": "2023-05-11T12:53:48.314Z"
   },
   {
    "duration": 58,
    "start_time": "2023-05-11T12:53:48.330Z"
   },
   {
    "duration": 258,
    "start_time": "2023-05-11T12:53:48.390Z"
   },
   {
    "duration": 37,
    "start_time": "2023-05-11T12:53:48.650Z"
   },
   {
    "duration": 13,
    "start_time": "2023-05-11T12:53:48.689Z"
   },
   {
    "duration": 16,
    "start_time": "2023-05-11T12:53:48.705Z"
   },
   {
    "duration": 111,
    "start_time": "2023-05-11T12:53:48.723Z"
   },
   {
    "duration": 82,
    "start_time": "2023-05-11T12:53:48.836Z"
   },
   {
    "duration": 13,
    "start_time": "2023-05-11T12:53:48.920Z"
   },
   {
    "duration": 40,
    "start_time": "2023-05-11T12:53:48.935Z"
   },
   {
    "duration": 21,
    "start_time": "2023-05-11T12:53:48.976Z"
   },
   {
    "duration": 62,
    "start_time": "2023-05-11T12:53:48.999Z"
   },
   {
    "duration": 62,
    "start_time": "2023-05-11T12:53:49.072Z"
   },
   {
    "duration": 186,
    "start_time": "2023-05-11T12:53:49.136Z"
   },
   {
    "duration": 17,
    "start_time": "2023-05-11T12:53:49.324Z"
   },
   {
    "duration": 23,
    "start_time": "2023-05-11T12:57:21.437Z"
   },
   {
    "duration": 13,
    "start_time": "2023-05-11T12:58:49.849Z"
   },
   {
    "duration": 6598,
    "start_time": "2023-05-11T13:03:11.787Z"
   },
   {
    "duration": 13,
    "start_time": "2023-05-11T13:03:27.621Z"
   },
   {
    "duration": 9,
    "start_time": "2023-05-11T13:03:43.956Z"
   },
   {
    "duration": 10,
    "start_time": "2023-05-11T13:03:56.685Z"
   },
   {
    "duration": 233,
    "start_time": "2023-05-11T13:14:35.263Z"
   },
   {
    "duration": 1198,
    "start_time": "2023-05-13T21:14:59.799Z"
   },
   {
    "duration": 170,
    "start_time": "2023-05-13T21:15:00.998Z"
   },
   {
    "duration": 19,
    "start_time": "2023-05-13T21:15:01.170Z"
   },
   {
    "duration": 88,
    "start_time": "2023-05-13T21:15:01.192Z"
   },
   {
    "duration": 92,
    "start_time": "2023-05-13T21:15:01.283Z"
   },
   {
    "duration": 8,
    "start_time": "2023-05-13T21:15:01.377Z"
   },
   {
    "duration": 59,
    "start_time": "2023-05-13T21:15:01.386Z"
   },
   {
    "duration": 51,
    "start_time": "2023-05-13T21:15:01.446Z"
   },
   {
    "duration": 44,
    "start_time": "2023-05-13T21:15:01.499Z"
   },
   {
    "duration": 96,
    "start_time": "2023-05-13T21:15:01.546Z"
   },
   {
    "duration": 76,
    "start_time": "2023-05-13T21:15:01.643Z"
   },
   {
    "duration": 68,
    "start_time": "2023-05-13T21:15:01.721Z"
   },
   {
    "duration": 62,
    "start_time": "2023-05-13T21:15:01.791Z"
   },
   {
    "duration": 57,
    "start_time": "2023-05-13T21:15:01.855Z"
   },
   {
    "duration": 56,
    "start_time": "2023-05-13T21:15:01.913Z"
   },
   {
    "duration": 82,
    "start_time": "2023-05-13T21:15:01.970Z"
   },
   {
    "duration": 286,
    "start_time": "2023-05-13T21:15:02.053Z"
   },
   {
    "duration": 23,
    "start_time": "2023-05-13T21:15:02.340Z"
   },
   {
    "duration": 248,
    "start_time": "2023-05-13T21:15:02.364Z"
   },
   {
    "duration": 12,
    "start_time": "2023-05-13T21:15:02.614Z"
   },
   {
    "duration": 41,
    "start_time": "2023-05-13T21:15:02.627Z"
   },
   {
    "duration": 39,
    "start_time": "2023-05-13T21:15:02.669Z"
   },
   {
    "duration": 39,
    "start_time": "2023-05-13T21:15:02.710Z"
   },
   {
    "duration": 31,
    "start_time": "2023-05-13T21:15:02.751Z"
   },
   {
    "duration": 30,
    "start_time": "2023-05-13T21:15:02.784Z"
   },
   {
    "duration": 194,
    "start_time": "2023-05-13T21:15:02.816Z"
   },
   {
    "duration": 11,
    "start_time": "2023-05-13T21:15:03.012Z"
   },
   {
    "duration": 36,
    "start_time": "2023-05-13T21:15:03.026Z"
   },
   {
    "duration": 50,
    "start_time": "2023-05-13T21:15:03.064Z"
   },
   {
    "duration": 73,
    "start_time": "2023-05-13T21:15:03.116Z"
   },
   {
    "duration": 71,
    "start_time": "2023-05-13T21:15:03.191Z"
   },
   {
    "duration": 9,
    "start_time": "2023-05-13T21:15:03.264Z"
   },
   {
    "duration": 42,
    "start_time": "2023-05-13T21:15:03.275Z"
   },
   {
    "duration": 20,
    "start_time": "2023-05-13T21:15:03.318Z"
   },
   {
    "duration": 56,
    "start_time": "2023-05-13T21:15:03.339Z"
   },
   {
    "duration": 47,
    "start_time": "2023-05-13T21:15:03.397Z"
   },
   {
    "duration": 151,
    "start_time": "2023-05-13T21:15:03.445Z"
   },
   {
    "duration": 13,
    "start_time": "2023-05-13T21:15:03.597Z"
   },
   {
    "duration": 25,
    "start_time": "2023-05-13T21:15:03.618Z"
   },
   {
    "duration": 15,
    "start_time": "2023-05-13T21:15:03.645Z"
   },
   {
    "duration": 24,
    "start_time": "2023-05-13T21:15:03.661Z"
   },
   {
    "duration": 14,
    "start_time": "2023-05-13T21:15:03.687Z"
   },
   {
    "duration": 23,
    "start_time": "2023-05-13T21:15:03.702Z"
   },
   {
    "duration": 20,
    "start_time": "2023-05-13T21:21:29.709Z"
   },
   {
    "duration": 4,
    "start_time": "2023-05-14T09:36:57.755Z"
   },
   {
    "duration": 1388,
    "start_time": "2023-05-14T09:41:49.309Z"
   },
   {
    "duration": 570,
    "start_time": "2023-05-14T09:41:50.699Z"
   },
   {
    "duration": 36,
    "start_time": "2023-05-14T09:41:51.270Z"
   },
   {
    "duration": 75,
    "start_time": "2023-05-14T09:41:51.308Z"
   },
   {
    "duration": 112,
    "start_time": "2023-05-14T09:41:51.387Z"
   },
   {
    "duration": 10,
    "start_time": "2023-05-14T09:41:51.504Z"
   },
   {
    "duration": 42,
    "start_time": "2023-05-14T09:41:51.516Z"
   },
   {
    "duration": 34,
    "start_time": "2023-05-14T09:41:51.560Z"
   },
   {
    "duration": 34,
    "start_time": "2023-05-14T09:41:51.596Z"
   },
   {
    "duration": 102,
    "start_time": "2023-05-14T09:41:51.632Z"
   },
   {
    "duration": 29,
    "start_time": "2023-05-14T09:41:51.737Z"
   },
   {
    "duration": 15,
    "start_time": "2023-05-14T09:41:51.769Z"
   },
   {
    "duration": 17,
    "start_time": "2023-05-14T09:41:51.798Z"
   },
   {
    "duration": 21,
    "start_time": "2023-05-14T09:41:51.820Z"
   },
   {
    "duration": 23,
    "start_time": "2023-05-14T09:41:51.843Z"
   },
   {
    "duration": 76,
    "start_time": "2023-05-14T09:41:51.868Z"
   },
   {
    "duration": 354,
    "start_time": "2023-05-14T09:41:51.946Z"
   },
   {
    "duration": 32,
    "start_time": "2023-05-14T09:41:52.302Z"
   },
   {
    "duration": 319,
    "start_time": "2023-05-14T09:41:52.336Z"
   },
   {
    "duration": 16,
    "start_time": "2023-05-14T09:41:52.657Z"
   },
   {
    "duration": 63,
    "start_time": "2023-05-14T09:41:52.676Z"
   },
   {
    "duration": 26,
    "start_time": "2023-05-14T09:41:52.742Z"
   },
   {
    "duration": 9,
    "start_time": "2023-05-14T09:41:52.770Z"
   },
   {
    "duration": 12,
    "start_time": "2023-05-14T09:41:52.798Z"
   },
   {
    "duration": 12,
    "start_time": "2023-05-14T09:41:52.812Z"
   },
   {
    "duration": 278,
    "start_time": "2023-05-14T09:41:52.826Z"
   },
   {
    "duration": 16,
    "start_time": "2023-05-14T09:41:53.108Z"
   },
   {
    "duration": 13,
    "start_time": "2023-05-14T09:41:53.126Z"
   },
   {
    "duration": 24,
    "start_time": "2023-05-14T09:41:53.141Z"
   },
   {
    "duration": 139,
    "start_time": "2023-05-14T09:41:53.168Z"
   },
   {
    "duration": 111,
    "start_time": "2023-05-14T09:41:53.309Z"
   },
   {
    "duration": 11,
    "start_time": "2023-05-14T09:41:53.422Z"
   },
   {
    "duration": 25,
    "start_time": "2023-05-14T09:41:53.435Z"
   },
   {
    "duration": 13,
    "start_time": "2023-05-14T09:41:53.462Z"
   },
   {
    "duration": 77,
    "start_time": "2023-05-14T09:41:53.496Z"
   },
   {
    "duration": 74,
    "start_time": "2023-05-14T09:41:53.575Z"
   },
   {
    "duration": 161,
    "start_time": "2023-05-14T09:41:53.651Z"
   },
   {
    "duration": 16,
    "start_time": "2023-05-14T09:41:53.814Z"
   },
   {
    "duration": 32,
    "start_time": "2023-05-14T09:41:53.832Z"
   },
   {
    "duration": 32,
    "start_time": "2023-05-14T09:41:53.866Z"
   },
   {
    "duration": 13,
    "start_time": "2023-05-14T09:41:53.903Z"
   },
   {
    "duration": 13,
    "start_time": "2023-05-14T09:41:53.918Z"
   },
   {
    "duration": 14,
    "start_time": "2023-05-14T09:41:53.933Z"
   },
   {
    "duration": 4,
    "start_time": "2023-05-14T09:43:50.422Z"
   },
   {
    "duration": 539,
    "start_time": "2023-05-14T10:23:46.212Z"
   },
   {
    "duration": 0,
    "start_time": "2023-05-14T10:29:48.667Z"
   },
   {
    "duration": 134,
    "start_time": "2023-05-14T10:29:54.147Z"
   },
   {
    "duration": 163,
    "start_time": "2023-05-14T10:30:55.491Z"
   },
   {
    "duration": 278,
    "start_time": "2023-05-14T10:37:20.593Z"
   },
   {
    "duration": 74,
    "start_time": "2023-05-14T10:38:55.821Z"
   },
   {
    "duration": 1212,
    "start_time": "2023-05-14T10:39:03.943Z"
   },
   {
    "duration": 189,
    "start_time": "2023-05-14T10:39:05.158Z"
   },
   {
    "duration": 24,
    "start_time": "2023-05-14T10:39:05.349Z"
   },
   {
    "duration": 109,
    "start_time": "2023-05-14T10:39:05.376Z"
   },
   {
    "duration": 91,
    "start_time": "2023-05-14T10:39:05.487Z"
   },
   {
    "duration": 18,
    "start_time": "2023-05-14T10:39:05.580Z"
   },
   {
    "duration": 22,
    "start_time": "2023-05-14T10:39:05.600Z"
   },
   {
    "duration": 15,
    "start_time": "2023-05-14T10:39:05.625Z"
   },
   {
    "duration": 27,
    "start_time": "2023-05-14T10:39:05.642Z"
   },
   {
    "duration": 102,
    "start_time": "2023-05-14T10:39:05.697Z"
   },
   {
    "duration": 28,
    "start_time": "2023-05-14T10:39:05.801Z"
   },
   {
    "duration": 16,
    "start_time": "2023-05-14T10:39:05.831Z"
   },
   {
    "duration": 21,
    "start_time": "2023-05-14T10:39:05.849Z"
   },
   {
    "duration": 20,
    "start_time": "2023-05-14T10:39:05.898Z"
   },
   {
    "duration": 19,
    "start_time": "2023-05-14T10:39:05.920Z"
   },
   {
    "duration": 390,
    "start_time": "2023-05-14T10:39:05.942Z"
   },
   {
    "duration": 91,
    "start_time": "2023-05-14T10:39:06.334Z"
   },
   {
    "duration": 777,
    "start_time": "2023-05-14T10:39:06.428Z"
   },
   {
    "duration": 27,
    "start_time": "2023-05-14T10:39:07.207Z"
   },
   {
    "duration": 565,
    "start_time": "2023-05-14T10:39:07.237Z"
   },
   {
    "duration": 15,
    "start_time": "2023-05-14T10:39:07.805Z"
   },
   {
    "duration": 85,
    "start_time": "2023-05-14T10:39:07.822Z"
   },
   {
    "duration": 99,
    "start_time": "2023-05-14T10:39:07.909Z"
   },
   {
    "duration": 9,
    "start_time": "2023-05-14T10:39:08.011Z"
   },
   {
    "duration": 19,
    "start_time": "2023-05-14T10:39:08.022Z"
   },
   {
    "duration": 68,
    "start_time": "2023-05-14T10:39:08.044Z"
   },
   {
    "duration": 492,
    "start_time": "2023-05-14T10:39:08.115Z"
   },
   {
    "duration": 13,
    "start_time": "2023-05-14T10:39:08.611Z"
   },
   {
    "duration": 16,
    "start_time": "2023-05-14T10:39:08.626Z"
   },
   {
    "duration": 11,
    "start_time": "2023-05-14T10:39:08.644Z"
   },
   {
    "duration": 107,
    "start_time": "2023-05-14T10:39:08.657Z"
   },
   {
    "duration": 83,
    "start_time": "2023-05-14T10:39:08.766Z"
   },
   {
    "duration": 10,
    "start_time": "2023-05-14T10:39:08.851Z"
   },
   {
    "duration": 15,
    "start_time": "2023-05-14T10:39:08.863Z"
   },
   {
    "duration": 11,
    "start_time": "2023-05-14T10:39:08.896Z"
   },
   {
    "duration": 63,
    "start_time": "2023-05-14T10:39:08.909Z"
   },
   {
    "duration": 71,
    "start_time": "2023-05-14T10:39:08.974Z"
   },
   {
    "duration": 171,
    "start_time": "2023-05-14T10:39:09.047Z"
   },
   {
    "duration": 17,
    "start_time": "2023-05-14T10:39:09.219Z"
   },
   {
    "duration": 67,
    "start_time": "2023-05-14T10:39:09.238Z"
   },
   {
    "duration": 20,
    "start_time": "2023-05-14T10:39:09.307Z"
   },
   {
    "duration": 26,
    "start_time": "2023-05-14T10:39:09.329Z"
   },
   {
    "duration": 40,
    "start_time": "2023-05-14T10:39:09.357Z"
   },
   {
    "duration": 16,
    "start_time": "2023-05-14T10:39:09.401Z"
   },
   {
    "duration": 21,
    "start_time": "2023-05-14T10:53:37.953Z"
   },
   {
    "duration": 21,
    "start_time": "2023-05-14T10:53:48.394Z"
   },
   {
    "duration": 262,
    "start_time": "2023-05-14T10:54:15.917Z"
   },
   {
    "duration": 1047,
    "start_time": "2023-05-14T10:54:37.619Z"
   },
   {
    "duration": 19,
    "start_time": "2023-05-14T10:54:59.957Z"
   },
   {
    "duration": 255,
    "start_time": "2023-05-14T11:02:31.811Z"
   },
   {
    "duration": 244,
    "start_time": "2023-05-14T11:02:49.701Z"
   },
   {
    "duration": 1566,
    "start_time": "2023-05-14T11:02:56.952Z"
   },
   {
    "duration": 10,
    "start_time": "2023-05-14T11:14:45.161Z"
   },
   {
    "duration": 9,
    "start_time": "2023-05-14T11:14:57.041Z"
   },
   {
    "duration": 325,
    "start_time": "2023-05-14T11:16:24.253Z"
   },
   {
    "duration": 342,
    "start_time": "2023-05-14T11:16:37.365Z"
   },
   {
    "duration": 323,
    "start_time": "2023-05-14T11:16:56.121Z"
   },
   {
    "duration": 496,
    "start_time": "2023-05-14T11:20:06.480Z"
   },
   {
    "duration": 293,
    "start_time": "2023-05-14T11:20:24.059Z"
   },
   {
    "duration": 286,
    "start_time": "2023-05-14T11:20:43.997Z"
   },
   {
    "duration": 242,
    "start_time": "2023-05-14T11:21:04.321Z"
   },
   {
    "duration": 309,
    "start_time": "2023-05-14T11:22:16.817Z"
   },
   {
    "duration": 6,
    "start_time": "2023-05-14T11:33:44.573Z"
   },
   {
    "duration": 12,
    "start_time": "2023-05-14T11:34:01.254Z"
   },
   {
    "duration": 815,
    "start_time": "2023-05-14T11:37:33.389Z"
   },
   {
    "duration": 583,
    "start_time": "2023-05-14T11:37:52.748Z"
   },
   {
    "duration": 11,
    "start_time": "2023-05-14T11:38:01.452Z"
   },
   {
    "duration": 93,
    "start_time": "2023-05-14T11:38:07.655Z"
   },
   {
    "duration": 3,
    "start_time": "2023-05-14T11:43:51.101Z"
   },
   {
    "duration": 7,
    "start_time": "2023-05-14T11:44:02.151Z"
   },
   {
    "duration": 1214,
    "start_time": "2023-05-14T11:44:22.956Z"
   },
   {
    "duration": 186,
    "start_time": "2023-05-14T11:44:24.172Z"
   },
   {
    "duration": 23,
    "start_time": "2023-05-14T11:44:24.360Z"
   },
   {
    "duration": 75,
    "start_time": "2023-05-14T11:44:24.384Z"
   },
   {
    "duration": 102,
    "start_time": "2023-05-14T11:44:24.462Z"
   },
   {
    "duration": 9,
    "start_time": "2023-05-14T11:44:24.566Z"
   },
   {
    "duration": 41,
    "start_time": "2023-05-14T11:44:24.577Z"
   },
   {
    "duration": 19,
    "start_time": "2023-05-14T11:44:24.620Z"
   },
   {
    "duration": 42,
    "start_time": "2023-05-14T11:44:24.640Z"
   },
   {
    "duration": 82,
    "start_time": "2023-05-14T11:44:24.684Z"
   },
   {
    "duration": 30,
    "start_time": "2023-05-14T11:44:24.767Z"
   },
   {
    "duration": 18,
    "start_time": "2023-05-14T11:44:24.798Z"
   },
   {
    "duration": 36,
    "start_time": "2023-05-14T11:44:24.817Z"
   },
   {
    "duration": 28,
    "start_time": "2023-05-14T11:44:24.857Z"
   },
   {
    "duration": 35,
    "start_time": "2023-05-14T11:44:24.887Z"
   },
   {
    "duration": 30,
    "start_time": "2023-05-14T11:44:24.924Z"
   },
   {
    "duration": 42,
    "start_time": "2023-05-14T11:44:24.956Z"
   },
   {
    "duration": 7,
    "start_time": "2023-05-14T11:44:25.000Z"
   },
   {
    "duration": 16,
    "start_time": "2023-05-14T11:44:25.009Z"
   },
   {
    "duration": 671,
    "start_time": "2023-05-14T11:44:25.028Z"
   },
   {
    "duration": 196,
    "start_time": "2023-05-14T11:44:25.701Z"
   },
   {
    "duration": 5,
    "start_time": "2023-05-14T11:44:25.899Z"
   },
   {
    "duration": 92,
    "start_time": "2023-05-14T11:44:25.906Z"
   },
   {
    "duration": 799,
    "start_time": "2023-05-14T11:44:26.000Z"
   },
   {
    "duration": 26,
    "start_time": "2023-05-14T11:44:26.802Z"
   },
   {
    "duration": 435,
    "start_time": "2023-05-14T11:44:26.830Z"
   },
   {
    "duration": 14,
    "start_time": "2023-05-14T11:44:27.266Z"
   },
   {
    "duration": 40,
    "start_time": "2023-05-14T11:44:27.282Z"
   },
   {
    "duration": 26,
    "start_time": "2023-05-14T11:44:27.324Z"
   },
   {
    "duration": 7,
    "start_time": "2023-05-14T11:44:27.352Z"
   },
   {
    "duration": 38,
    "start_time": "2023-05-14T11:44:27.361Z"
   },
   {
    "duration": 13,
    "start_time": "2023-05-14T11:44:27.401Z"
   },
   {
    "duration": 267,
    "start_time": "2023-05-14T11:44:27.416Z"
   },
   {
    "duration": 17,
    "start_time": "2023-05-14T11:44:27.685Z"
   },
   {
    "duration": 10,
    "start_time": "2023-05-14T11:44:27.703Z"
   },
   {
    "duration": 11,
    "start_time": "2023-05-14T11:44:27.714Z"
   },
   {
    "duration": 103,
    "start_time": "2023-05-14T11:44:27.727Z"
   },
   {
    "duration": 83,
    "start_time": "2023-05-14T11:44:27.832Z"
   },
   {
    "duration": 11,
    "start_time": "2023-05-14T11:44:27.917Z"
   },
   {
    "duration": 11,
    "start_time": "2023-05-14T11:44:27.930Z"
   },
   {
    "duration": 11,
    "start_time": "2023-05-14T11:44:27.946Z"
   },
   {
    "duration": 85,
    "start_time": "2023-05-14T11:44:27.959Z"
   },
   {
    "duration": 66,
    "start_time": "2023-05-14T11:44:28.045Z"
   },
   {
    "duration": 155,
    "start_time": "2023-05-14T11:44:28.113Z"
   },
   {
    "duration": 13,
    "start_time": "2023-05-14T11:44:28.269Z"
   },
   {
    "duration": 40,
    "start_time": "2023-05-14T11:44:28.298Z"
   },
   {
    "duration": 20,
    "start_time": "2023-05-14T11:44:28.341Z"
   },
   {
    "duration": 13,
    "start_time": "2023-05-14T11:44:28.363Z"
   },
   {
    "duration": 21,
    "start_time": "2023-05-14T11:44:28.378Z"
   },
   {
    "duration": 10,
    "start_time": "2023-05-14T11:44:28.401Z"
   },
   {
    "duration": 113,
    "start_time": "2023-05-14T11:45:13.553Z"
   },
   {
    "duration": 11,
    "start_time": "2023-05-14T11:45:17.997Z"
   },
   {
    "duration": 11,
    "start_time": "2023-05-14T11:45:29.465Z"
   },
   {
    "duration": 101,
    "start_time": "2023-05-14T11:48:44.711Z"
   },
   {
    "duration": 29,
    "start_time": "2023-05-14T11:48:51.536Z"
   },
   {
    "duration": 10,
    "start_time": "2023-05-14T11:49:04.780Z"
   },
   {
    "duration": 17,
    "start_time": "2023-05-14T11:49:41.246Z"
   },
   {
    "duration": 1318,
    "start_time": "2023-05-14T11:49:47.260Z"
   },
   {
    "duration": 348,
    "start_time": "2023-05-14T11:49:48.580Z"
   },
   {
    "duration": 78,
    "start_time": "2023-05-14T11:49:48.929Z"
   },
   {
    "duration": 120,
    "start_time": "2023-05-14T11:49:49.009Z"
   },
   {
    "duration": 183,
    "start_time": "2023-05-14T11:49:49.132Z"
   },
   {
    "duration": 9,
    "start_time": "2023-05-14T11:49:49.317Z"
   },
   {
    "duration": 86,
    "start_time": "2023-05-14T11:49:49.327Z"
   },
   {
    "duration": 22,
    "start_time": "2023-05-14T11:49:49.416Z"
   },
   {
    "duration": 77,
    "start_time": "2023-05-14T11:49:49.440Z"
   },
   {
    "duration": 194,
    "start_time": "2023-05-14T11:49:49.520Z"
   },
   {
    "duration": 29,
    "start_time": "2023-05-14T11:49:49.716Z"
   },
   {
    "duration": 15,
    "start_time": "2023-05-14T11:49:49.798Z"
   },
   {
    "duration": 17,
    "start_time": "2023-05-14T11:49:49.815Z"
   },
   {
    "duration": 73,
    "start_time": "2023-05-14T11:49:49.835Z"
   },
   {
    "duration": 20,
    "start_time": "2023-05-14T11:49:49.910Z"
   },
   {
    "duration": 82,
    "start_time": "2023-05-14T11:49:49.932Z"
   },
   {
    "duration": 9,
    "start_time": "2023-05-14T11:49:50.016Z"
   },
   {
    "duration": 682,
    "start_time": "2023-05-14T11:49:50.027Z"
   },
   {
    "duration": 105,
    "start_time": "2023-05-14T11:49:50.711Z"
   },
   {
    "duration": 5,
    "start_time": "2023-05-14T11:49:50.819Z"
   },
   {
    "duration": 84,
    "start_time": "2023-05-14T11:49:50.826Z"
   },
   {
    "duration": 325,
    "start_time": "2023-05-14T11:49:50.913Z"
   },
   {
    "duration": 26,
    "start_time": "2023-05-14T11:49:51.241Z"
   },
   {
    "duration": 308,
    "start_time": "2023-05-14T11:49:51.269Z"
   },
   {
    "duration": 20,
    "start_time": "2023-05-14T11:49:51.579Z"
   },
   {
    "duration": 47,
    "start_time": "2023-05-14T11:49:51.601Z"
   },
   {
    "duration": 40,
    "start_time": "2023-05-14T11:49:51.650Z"
   },
   {
    "duration": 15,
    "start_time": "2023-05-14T11:49:51.692Z"
   },
   {
    "duration": 30,
    "start_time": "2023-05-14T11:49:51.709Z"
   },
   {
    "duration": 18,
    "start_time": "2023-05-14T11:49:51.742Z"
   },
   {
    "duration": 285,
    "start_time": "2023-05-14T11:49:51.763Z"
   },
   {
    "duration": 16,
    "start_time": "2023-05-14T11:49:52.050Z"
   },
   {
    "duration": 42,
    "start_time": "2023-05-14T11:49:52.068Z"
   },
   {
    "duration": 18,
    "start_time": "2023-05-14T11:49:52.112Z"
   },
   {
    "duration": 101,
    "start_time": "2023-05-14T11:49:52.133Z"
   },
   {
    "duration": 77,
    "start_time": "2023-05-14T11:49:52.236Z"
   },
   {
    "duration": 12,
    "start_time": "2023-05-14T11:49:52.315Z"
   },
   {
    "duration": 12,
    "start_time": "2023-05-14T11:49:52.330Z"
   },
   {
    "duration": 27,
    "start_time": "2023-05-14T11:49:52.344Z"
   },
   {
    "duration": 78,
    "start_time": "2023-05-14T11:49:52.373Z"
   },
   {
    "duration": 65,
    "start_time": "2023-05-14T11:49:52.455Z"
   },
   {
    "duration": 167,
    "start_time": "2023-05-14T11:49:52.522Z"
   },
   {
    "duration": 16,
    "start_time": "2023-05-14T11:49:52.690Z"
   },
   {
    "duration": 42,
    "start_time": "2023-05-14T11:49:52.708Z"
   },
   {
    "duration": 26,
    "start_time": "2023-05-14T11:49:52.751Z"
   },
   {
    "duration": 24,
    "start_time": "2023-05-14T11:49:52.778Z"
   },
   {
    "duration": 28,
    "start_time": "2023-05-14T11:49:52.804Z"
   },
   {
    "duration": 22,
    "start_time": "2023-05-14T11:49:52.834Z"
   },
   {
    "duration": 17,
    "start_time": "2023-05-14T11:50:03.755Z"
   },
   {
    "duration": 18,
    "start_time": "2023-05-14T11:50:04.089Z"
   },
   {
    "duration": 18,
    "start_time": "2023-05-14T11:50:05.765Z"
   },
   {
    "duration": 8,
    "start_time": "2023-05-14T11:50:07.493Z"
   },
   {
    "duration": 386,
    "start_time": "2023-05-14T11:50:10.193Z"
   },
   {
    "duration": 98,
    "start_time": "2023-05-14T11:50:11.549Z"
   },
   {
    "duration": 118,
    "start_time": "2023-05-14T11:52:01.074Z"
   },
   {
    "duration": 14,
    "start_time": "2023-05-14T11:52:18.437Z"
   },
   {
    "duration": 12,
    "start_time": "2023-05-14T11:52:40.839Z"
   },
   {
    "duration": 994,
    "start_time": "2023-05-14T11:52:56.737Z"
   },
   {
    "duration": 10,
    "start_time": "2023-05-14T11:53:10.527Z"
   },
   {
    "duration": 90,
    "start_time": "2023-05-14T11:56:16.985Z"
   },
   {
    "duration": 203,
    "start_time": "2023-05-14T11:57:39.205Z"
   },
   {
    "duration": 124,
    "start_time": "2023-05-14T12:02:32.526Z"
   },
   {
    "duration": 86,
    "start_time": "2023-05-14T12:02:51.093Z"
   },
   {
    "duration": 275,
    "start_time": "2023-05-14T12:04:03.493Z"
   },
   {
    "duration": 289,
    "start_time": "2023-05-14T12:04:36.055Z"
   },
   {
    "duration": 219,
    "start_time": "2023-05-14T12:05:04.552Z"
   },
   {
    "duration": 98,
    "start_time": "2023-05-14T12:05:19.751Z"
   },
   {
    "duration": 110,
    "start_time": "2023-05-14T12:05:53.899Z"
   },
   {
    "duration": 5,
    "start_time": "2023-05-14T12:13:08.209Z"
   },
   {
    "duration": 5,
    "start_time": "2023-05-14T12:14:54.828Z"
   },
   {
    "duration": 349,
    "start_time": "2023-05-14T12:26:45.517Z"
   },
   {
    "duration": 14,
    "start_time": "2023-05-14T12:27:36.366Z"
   },
   {
    "duration": 797,
    "start_time": "2023-05-14T12:30:33.596Z"
   },
   {
    "duration": 470,
    "start_time": "2023-05-14T12:30:46.724Z"
   },
   {
    "duration": 334,
    "start_time": "2023-05-14T12:33:17.648Z"
   },
   {
    "duration": 340,
    "start_time": "2023-05-14T12:34:40.518Z"
   },
   {
    "duration": 424,
    "start_time": "2023-05-14T12:35:32.739Z"
   },
   {
    "duration": 466,
    "start_time": "2023-05-14T12:36:16.954Z"
   },
   {
    "duration": 561,
    "start_time": "2023-05-14T12:37:19.309Z"
   },
   {
    "duration": 489,
    "start_time": "2023-05-14T12:37:51.548Z"
   },
   {
    "duration": 479,
    "start_time": "2023-05-14T12:37:56.303Z"
   },
   {
    "duration": 567,
    "start_time": "2023-05-14T12:42:28.528Z"
   },
   {
    "duration": 455,
    "start_time": "2023-05-14T12:45:12.762Z"
   },
   {
    "duration": 468,
    "start_time": "2023-05-14T12:45:13.498Z"
   },
   {
    "duration": 536,
    "start_time": "2023-05-14T12:45:15.149Z"
   },
   {
    "duration": 4,
    "start_time": "2023-05-14T12:46:17.212Z"
   },
   {
    "duration": 4,
    "start_time": "2023-05-14T12:47:47.359Z"
   },
   {
    "duration": 3,
    "start_time": "2023-05-14T12:49:29.292Z"
   },
   {
    "duration": 236,
    "start_time": "2023-05-14T12:51:43.946Z"
   },
   {
    "duration": 20,
    "start_time": "2023-05-14T12:51:53.509Z"
   },
   {
    "duration": 36,
    "start_time": "2023-05-14T12:52:03.973Z"
   },
   {
    "duration": 23,
    "start_time": "2023-05-14T12:52:23.315Z"
   },
   {
    "duration": 70,
    "start_time": "2023-05-14T12:54:23.790Z"
   },
   {
    "duration": 14,
    "start_time": "2023-05-14T12:55:08.909Z"
   },
   {
    "duration": 72,
    "start_time": "2023-05-14T12:55:19.719Z"
   },
   {
    "duration": 45,
    "start_time": "2023-05-14T12:55:51.647Z"
   },
   {
    "duration": 2,
    "start_time": "2023-05-14T12:57:08.527Z"
   },
   {
    "duration": 3,
    "start_time": "2023-05-14T14:15:34.956Z"
   },
   {
    "duration": 113,
    "start_time": "2023-05-14T14:19:14.657Z"
   },
   {
    "duration": 46,
    "start_time": "2023-05-14T14:19:22.848Z"
   },
   {
    "duration": 45,
    "start_time": "2023-05-14T14:19:36.632Z"
   },
   {
    "duration": 55,
    "start_time": "2023-05-14T14:19:48.886Z"
   },
   {
    "duration": 7,
    "start_time": "2023-05-14T14:20:12.505Z"
   },
   {
    "duration": 4,
    "start_time": "2023-05-14T14:20:31.458Z"
   },
   {
    "duration": 3,
    "start_time": "2023-05-14T14:28:14.685Z"
   },
   {
    "duration": 11,
    "start_time": "2023-05-14T14:29:31.048Z"
   },
   {
    "duration": 1302,
    "start_time": "2023-05-14T14:30:04.031Z"
   },
   {
    "duration": 231,
    "start_time": "2023-05-14T14:30:05.336Z"
   },
   {
    "duration": 38,
    "start_time": "2023-05-14T14:30:05.568Z"
   },
   {
    "duration": 80,
    "start_time": "2023-05-14T14:30:05.609Z"
   },
   {
    "duration": 90,
    "start_time": "2023-05-14T14:30:05.691Z"
   },
   {
    "duration": 18,
    "start_time": "2023-05-14T14:30:05.783Z"
   },
   {
    "duration": 57,
    "start_time": "2023-05-14T14:30:05.803Z"
   },
   {
    "duration": 49,
    "start_time": "2023-05-14T14:30:05.862Z"
   },
   {
    "duration": 62,
    "start_time": "2023-05-14T14:30:05.913Z"
   },
   {
    "duration": 84,
    "start_time": "2023-05-14T14:30:05.978Z"
   },
   {
    "duration": 45,
    "start_time": "2023-05-14T14:30:06.064Z"
   },
   {
    "duration": 15,
    "start_time": "2023-05-14T14:30:06.111Z"
   },
   {
    "duration": 55,
    "start_time": "2023-05-14T14:30:06.128Z"
   },
   {
    "duration": 42,
    "start_time": "2023-05-14T14:30:06.186Z"
   },
   {
    "duration": 33,
    "start_time": "2023-05-14T14:30:06.230Z"
   },
   {
    "duration": 41,
    "start_time": "2023-05-14T14:30:06.265Z"
   },
   {
    "duration": 14,
    "start_time": "2023-05-14T14:30:06.308Z"
   },
   {
    "duration": 19,
    "start_time": "2023-05-14T14:30:06.324Z"
   },
   {
    "duration": 328,
    "start_time": "2023-05-14T14:30:06.345Z"
   },
   {
    "duration": 115,
    "start_time": "2023-05-14T14:30:06.675Z"
   },
   {
    "duration": 35,
    "start_time": "2023-05-14T14:30:06.797Z"
   },
   {
    "duration": 365,
    "start_time": "2023-05-14T14:30:06.834Z"
   },
   {
    "duration": 542,
    "start_time": "2023-05-14T14:30:07.201Z"
   },
   {
    "duration": 569,
    "start_time": "2023-05-14T14:30:07.746Z"
   },
   {
    "duration": 490,
    "start_time": "2023-05-14T14:30:08.317Z"
   },
   {
    "duration": 26,
    "start_time": "2023-05-14T14:30:08.810Z"
   },
   {
    "duration": 275,
    "start_time": "2023-05-14T14:30:08.838Z"
   },
   {
    "duration": 15,
    "start_time": "2023-05-14T14:30:09.118Z"
   },
   {
    "duration": 55,
    "start_time": "2023-05-14T14:30:09.135Z"
   },
   {
    "duration": 40,
    "start_time": "2023-05-14T14:30:09.192Z"
   },
   {
    "duration": 15,
    "start_time": "2023-05-14T14:30:09.234Z"
   },
   {
    "duration": 27,
    "start_time": "2023-05-14T14:30:09.251Z"
   },
   {
    "duration": 17,
    "start_time": "2023-05-14T14:30:09.280Z"
   },
   {
    "duration": 256,
    "start_time": "2023-05-14T14:30:09.299Z"
   },
   {
    "duration": 7,
    "start_time": "2023-05-14T14:30:09.559Z"
   },
   {
    "duration": 10,
    "start_time": "2023-05-14T14:30:09.567Z"
   },
   {
    "duration": 24,
    "start_time": "2023-05-14T14:30:09.579Z"
   },
   {
    "duration": 39,
    "start_time": "2023-05-14T14:30:09.605Z"
   },
   {
    "duration": 1164,
    "start_time": "2023-05-14T14:30:09.646Z"
   },
   {
    "duration": 0,
    "start_time": "2023-05-14T14:30:10.812Z"
   },
   {
    "duration": 0,
    "start_time": "2023-05-14T14:30:10.813Z"
   },
   {
    "duration": 0,
    "start_time": "2023-05-14T14:30:10.815Z"
   },
   {
    "duration": 0,
    "start_time": "2023-05-14T14:30:10.816Z"
   },
   {
    "duration": 0,
    "start_time": "2023-05-14T14:30:10.818Z"
   },
   {
    "duration": 0,
    "start_time": "2023-05-14T14:30:10.819Z"
   },
   {
    "duration": 0,
    "start_time": "2023-05-14T14:30:10.821Z"
   },
   {
    "duration": 0,
    "start_time": "2023-05-14T14:30:10.822Z"
   },
   {
    "duration": 0,
    "start_time": "2023-05-14T14:30:10.824Z"
   },
   {
    "duration": 0,
    "start_time": "2023-05-14T14:30:10.824Z"
   },
   {
    "duration": 0,
    "start_time": "2023-05-14T14:30:10.826Z"
   },
   {
    "duration": 0,
    "start_time": "2023-05-14T14:30:10.827Z"
   },
   {
    "duration": 0,
    "start_time": "2023-05-14T14:30:10.828Z"
   },
   {
    "duration": 0,
    "start_time": "2023-05-14T14:30:10.829Z"
   },
   {
    "duration": 0,
    "start_time": "2023-05-14T14:30:10.830Z"
   },
   {
    "duration": 0,
    "start_time": "2023-05-14T14:30:10.831Z"
   },
   {
    "duration": 0,
    "start_time": "2023-05-14T14:30:10.833Z"
   },
   {
    "duration": 217,
    "start_time": "2023-05-14T14:30:23.242Z"
   },
   {
    "duration": 80,
    "start_time": "2023-05-14T14:32:34.930Z"
   },
   {
    "duration": 3,
    "start_time": "2023-05-14T14:34:48.197Z"
   },
   {
    "duration": 1422,
    "start_time": "2023-05-14T14:36:46.661Z"
   },
   {
    "duration": 220,
    "start_time": "2023-05-14T14:36:48.085Z"
   },
   {
    "duration": 26,
    "start_time": "2023-05-14T14:36:48.309Z"
   },
   {
    "duration": 92,
    "start_time": "2023-05-14T14:36:48.338Z"
   },
   {
    "duration": 93,
    "start_time": "2023-05-14T14:36:48.431Z"
   },
   {
    "duration": 7,
    "start_time": "2023-05-14T14:36:48.526Z"
   },
   {
    "duration": 29,
    "start_time": "2023-05-14T14:36:48.535Z"
   },
   {
    "duration": 35,
    "start_time": "2023-05-14T14:36:48.566Z"
   },
   {
    "duration": 39,
    "start_time": "2023-05-14T14:36:48.609Z"
   },
   {
    "duration": 99,
    "start_time": "2023-05-14T14:36:48.650Z"
   },
   {
    "duration": 35,
    "start_time": "2023-05-14T14:36:48.751Z"
   },
   {
    "duration": 31,
    "start_time": "2023-05-14T14:36:48.788Z"
   },
   {
    "duration": 24,
    "start_time": "2023-05-14T14:36:48.821Z"
   },
   {
    "duration": 18,
    "start_time": "2023-05-14T14:36:48.847Z"
   },
   {
    "duration": 45,
    "start_time": "2023-05-14T14:36:48.867Z"
   },
   {
    "duration": 20,
    "start_time": "2023-05-14T14:36:48.914Z"
   },
   {
    "duration": 21,
    "start_time": "2023-05-14T14:36:48.936Z"
   },
   {
    "duration": 22,
    "start_time": "2023-05-14T14:36:48.959Z"
   },
   {
    "duration": 350,
    "start_time": "2023-05-14T14:36:48.983Z"
   },
   {
    "duration": 149,
    "start_time": "2023-05-14T14:36:49.334Z"
   },
   {
    "duration": 46,
    "start_time": "2023-05-14T14:36:49.485Z"
   },
   {
    "duration": 362,
    "start_time": "2023-05-14T14:36:49.533Z"
   },
   {
    "duration": 566,
    "start_time": "2023-05-14T14:36:49.900Z"
   },
   {
    "duration": 497,
    "start_time": "2023-05-14T14:36:50.468Z"
   },
   {
    "duration": 519,
    "start_time": "2023-05-14T14:36:50.966Z"
   },
   {
    "duration": 34,
    "start_time": "2023-05-14T14:36:51.486Z"
   },
   {
    "duration": 272,
    "start_time": "2023-05-14T14:36:51.522Z"
   },
   {
    "duration": 22,
    "start_time": "2023-05-14T14:36:51.799Z"
   },
   {
    "duration": 35,
    "start_time": "2023-05-14T14:36:51.823Z"
   },
   {
    "duration": 41,
    "start_time": "2023-05-14T14:36:51.860Z"
   },
   {
    "duration": 14,
    "start_time": "2023-05-14T14:36:51.903Z"
   },
   {
    "duration": 28,
    "start_time": "2023-05-14T14:36:51.919Z"
   },
   {
    "duration": 15,
    "start_time": "2023-05-14T14:36:51.948Z"
   },
   {
    "duration": 253,
    "start_time": "2023-05-14T14:36:51.965Z"
   },
   {
    "duration": 5,
    "start_time": "2023-05-14T14:36:52.220Z"
   },
   {
    "duration": 15,
    "start_time": "2023-05-14T14:36:52.227Z"
   },
   {
    "duration": 6,
    "start_time": "2023-05-14T14:36:52.244Z"
   },
   {
    "duration": 52,
    "start_time": "2023-05-14T14:36:52.252Z"
   },
   {
    "duration": 838,
    "start_time": "2023-05-14T14:36:52.305Z"
   },
   {
    "duration": 0,
    "start_time": "2023-05-14T14:36:53.145Z"
   },
   {
    "duration": 0,
    "start_time": "2023-05-14T14:36:53.147Z"
   },
   {
    "duration": 0,
    "start_time": "2023-05-14T14:36:53.148Z"
   },
   {
    "duration": 0,
    "start_time": "2023-05-14T14:36:53.149Z"
   },
   {
    "duration": 0,
    "start_time": "2023-05-14T14:36:53.150Z"
   },
   {
    "duration": 0,
    "start_time": "2023-05-14T14:36:53.152Z"
   },
   {
    "duration": 0,
    "start_time": "2023-05-14T14:36:53.153Z"
   },
   {
    "duration": 0,
    "start_time": "2023-05-14T14:36:53.154Z"
   },
   {
    "duration": 0,
    "start_time": "2023-05-14T14:36:53.155Z"
   },
   {
    "duration": 0,
    "start_time": "2023-05-14T14:36:53.156Z"
   },
   {
    "duration": 0,
    "start_time": "2023-05-14T14:36:53.157Z"
   },
   {
    "duration": 0,
    "start_time": "2023-05-14T14:36:53.158Z"
   },
   {
    "duration": 0,
    "start_time": "2023-05-14T14:36:53.160Z"
   },
   {
    "duration": 0,
    "start_time": "2023-05-14T14:36:53.161Z"
   },
   {
    "duration": 0,
    "start_time": "2023-05-14T14:36:53.161Z"
   },
   {
    "duration": 0,
    "start_time": "2023-05-14T14:36:53.163Z"
   },
   {
    "duration": 0,
    "start_time": "2023-05-14T14:36:53.164Z"
   },
   {
    "duration": 73,
    "start_time": "2023-05-14T14:39:36.114Z"
   },
   {
    "duration": 520,
    "start_time": "2023-05-14T14:41:42.551Z"
   },
   {
    "duration": 853,
    "start_time": "2023-05-14T14:47:50.029Z"
   },
   {
    "duration": 1135,
    "start_time": "2023-05-14T14:48:18.205Z"
   },
   {
    "duration": 1226,
    "start_time": "2023-05-14T14:49:01.451Z"
   },
   {
    "duration": 183,
    "start_time": "2023-05-14T14:49:03.750Z"
   },
   {
    "duration": 34,
    "start_time": "2023-05-14T14:49:05.572Z"
   },
   {
    "duration": 75,
    "start_time": "2023-05-14T14:49:06.795Z"
   },
   {
    "duration": 81,
    "start_time": "2023-05-14T14:49:08.009Z"
   },
   {
    "duration": 9,
    "start_time": "2023-05-14T14:49:11.180Z"
   },
   {
    "duration": 23,
    "start_time": "2023-05-14T14:49:11.307Z"
   },
   {
    "duration": 28,
    "start_time": "2023-05-14T14:49:15.988Z"
   },
   {
    "duration": 29,
    "start_time": "2023-05-14T14:49:16.672Z"
   },
   {
    "duration": 101,
    "start_time": "2023-05-14T14:49:19.821Z"
   },
   {
    "duration": 32,
    "start_time": "2023-05-14T14:49:22.446Z"
   },
   {
    "duration": 14,
    "start_time": "2023-05-14T14:49:23.765Z"
   },
   {
    "duration": 14,
    "start_time": "2023-05-14T14:49:26.318Z"
   },
   {
    "duration": 19,
    "start_time": "2023-05-14T14:49:29.477Z"
   },
   {
    "duration": 31,
    "start_time": "2023-05-14T14:49:30.846Z"
   },
   {
    "duration": 32,
    "start_time": "2023-05-14T14:49:32.619Z"
   },
   {
    "duration": 10,
    "start_time": "2023-05-14T14:49:33.344Z"
   },
   {
    "duration": 5,
    "start_time": "2023-05-14T14:49:34.054Z"
   },
   {
    "duration": 325,
    "start_time": "2023-05-14T14:49:34.521Z"
   },
   {
    "duration": 114,
    "start_time": "2023-05-14T14:49:35.124Z"
   },
   {
    "duration": 61,
    "start_time": "2023-05-14T14:49:41.400Z"
   },
   {
    "duration": 351,
    "start_time": "2023-05-14T14:49:44.792Z"
   },
   {
    "duration": 681,
    "start_time": "2023-05-14T14:49:47.314Z"
   },
   {
    "duration": 549,
    "start_time": "2023-05-14T14:49:47.997Z"
   },
   {
    "duration": 531,
    "start_time": "2023-05-14T14:49:49.047Z"
   },
   {
    "duration": 28,
    "start_time": "2023-05-14T14:49:51.446Z"
   },
   {
    "duration": 533,
    "start_time": "2023-05-14T14:50:04.342Z"
   },
   {
    "duration": 18,
    "start_time": "2023-05-14T14:50:06.062Z"
   },
   {
    "duration": 275,
    "start_time": "2023-05-14T14:50:09.348Z"
   },
   {
    "duration": 27,
    "start_time": "2023-05-14T14:50:13.371Z"
   },
   {
    "duration": 43,
    "start_time": "2023-05-14T14:50:14.093Z"
   },
   {
    "duration": 25,
    "start_time": "2023-05-14T14:50:14.925Z"
   },
   {
    "duration": 10,
    "start_time": "2023-05-14T14:50:16.261Z"
   },
   {
    "duration": 12,
    "start_time": "2023-05-14T14:50:16.931Z"
   },
   {
    "duration": 13,
    "start_time": "2023-05-14T14:50:17.621Z"
   },
   {
    "duration": 351,
    "start_time": "2023-05-14T14:50:21.528Z"
   },
   {
    "duration": 6,
    "start_time": "2023-05-14T14:50:22.747Z"
   },
   {
    "duration": 6,
    "start_time": "2023-05-14T14:50:23.445Z"
   },
   {
    "duration": 11,
    "start_time": "2023-05-14T14:50:24.194Z"
   },
   {
    "duration": 7,
    "start_time": "2023-05-14T14:50:44.929Z"
   },
   {
    "duration": 251,
    "start_time": "2023-05-14T14:50:47.969Z"
   },
   {
    "duration": 7,
    "start_time": "2023-05-14T14:50:48.333Z"
   },
   {
    "duration": 5,
    "start_time": "2023-05-14T14:50:49.050Z"
   },
   {
    "duration": 6,
    "start_time": "2023-05-14T14:50:49.668Z"
   },
   {
    "duration": 1413,
    "start_time": "2023-05-14T14:51:15.115Z"
   },
   {
    "duration": 205,
    "start_time": "2023-05-14T14:51:16.530Z"
   },
   {
    "duration": 37,
    "start_time": "2023-05-14T14:51:16.737Z"
   },
   {
    "duration": 108,
    "start_time": "2023-05-14T14:51:16.779Z"
   },
   {
    "duration": 113,
    "start_time": "2023-05-14T14:51:16.891Z"
   },
   {
    "duration": 11,
    "start_time": "2023-05-14T14:51:17.006Z"
   },
   {
    "duration": 45,
    "start_time": "2023-05-14T14:51:17.019Z"
   },
   {
    "duration": 18,
    "start_time": "2023-05-14T14:51:17.067Z"
   },
   {
    "duration": 67,
    "start_time": "2023-05-14T14:51:17.087Z"
   },
   {
    "duration": 118,
    "start_time": "2023-05-14T14:51:17.156Z"
   },
   {
    "duration": 38,
    "start_time": "2023-05-14T14:51:17.275Z"
   },
   {
    "duration": 21,
    "start_time": "2023-05-14T14:51:17.317Z"
   },
   {
    "duration": 13,
    "start_time": "2023-05-14T14:51:17.340Z"
   },
   {
    "duration": 19,
    "start_time": "2023-05-14T14:51:17.356Z"
   },
   {
    "duration": 44,
    "start_time": "2023-05-14T14:51:17.377Z"
   },
   {
    "duration": 32,
    "start_time": "2023-05-14T14:51:17.423Z"
   },
   {
    "duration": 10,
    "start_time": "2023-05-14T14:51:17.457Z"
   },
   {
    "duration": 40,
    "start_time": "2023-05-14T14:51:17.469Z"
   },
   {
    "duration": 304,
    "start_time": "2023-05-14T14:51:17.510Z"
   },
   {
    "duration": 125,
    "start_time": "2023-05-14T14:51:17.815Z"
   },
   {
    "duration": 33,
    "start_time": "2023-05-14T14:51:17.941Z"
   },
   {
    "duration": 339,
    "start_time": "2023-05-14T14:51:17.976Z"
   },
   {
    "duration": 1003,
    "start_time": "2023-05-14T14:51:18.318Z"
   },
   {
    "duration": 1098,
    "start_time": "2023-05-14T14:51:19.328Z"
   },
   {
    "duration": 745,
    "start_time": "2023-05-14T14:51:20.428Z"
   },
   {
    "duration": 35,
    "start_time": "2023-05-14T14:51:21.175Z"
   },
   {
    "duration": 264,
    "start_time": "2023-05-14T14:51:21.212Z"
   },
   {
    "duration": 26,
    "start_time": "2023-05-14T14:51:21.478Z"
   },
   {
    "duration": 29,
    "start_time": "2023-05-14T14:51:21.505Z"
   },
   {
    "duration": 41,
    "start_time": "2023-05-14T14:51:21.536Z"
   },
   {
    "duration": 8,
    "start_time": "2023-05-14T14:51:21.579Z"
   },
   {
    "duration": 21,
    "start_time": "2023-05-14T14:51:21.588Z"
   },
   {
    "duration": 20,
    "start_time": "2023-05-14T14:51:21.610Z"
   },
   {
    "duration": 251,
    "start_time": "2023-05-14T14:51:21.632Z"
   },
   {
    "duration": 26,
    "start_time": "2023-05-14T14:51:21.885Z"
   },
   {
    "duration": 8,
    "start_time": "2023-05-14T14:51:21.914Z"
   },
   {
    "duration": 11,
    "start_time": "2023-05-14T14:51:21.924Z"
   },
   {
    "duration": 40,
    "start_time": "2023-05-14T14:51:21.937Z"
   },
   {
    "duration": 1116,
    "start_time": "2023-05-14T14:51:21.979Z"
   },
   {
    "duration": 0,
    "start_time": "2023-05-14T14:51:23.097Z"
   },
   {
    "duration": 0,
    "start_time": "2023-05-14T14:51:23.099Z"
   },
   {
    "duration": 0,
    "start_time": "2023-05-14T14:51:23.100Z"
   },
   {
    "duration": 0,
    "start_time": "2023-05-14T14:51:23.104Z"
   },
   {
    "duration": 0,
    "start_time": "2023-05-14T14:51:23.104Z"
   },
   {
    "duration": 0,
    "start_time": "2023-05-14T14:51:23.106Z"
   },
   {
    "duration": 0,
    "start_time": "2023-05-14T14:51:23.107Z"
   },
   {
    "duration": 0,
    "start_time": "2023-05-14T14:51:23.108Z"
   },
   {
    "duration": 0,
    "start_time": "2023-05-14T14:51:23.109Z"
   },
   {
    "duration": 0,
    "start_time": "2023-05-14T14:51:23.109Z"
   },
   {
    "duration": 0,
    "start_time": "2023-05-14T14:51:23.111Z"
   },
   {
    "duration": 0,
    "start_time": "2023-05-14T14:51:23.112Z"
   },
   {
    "duration": 1,
    "start_time": "2023-05-14T14:51:23.113Z"
   },
   {
    "duration": 0,
    "start_time": "2023-05-14T14:51:23.115Z"
   },
   {
    "duration": 0,
    "start_time": "2023-05-14T14:51:23.116Z"
   },
   {
    "duration": 0,
    "start_time": "2023-05-14T14:51:23.117Z"
   },
   {
    "duration": 1,
    "start_time": "2023-05-14T14:51:23.118Z"
   },
   {
    "duration": 0,
    "start_time": "2023-05-14T14:51:23.120Z"
   },
   {
    "duration": 14,
    "start_time": "2023-05-14T14:51:44.473Z"
   },
   {
    "duration": 11,
    "start_time": "2023-05-14T14:51:45.847Z"
   },
   {
    "duration": 19,
    "start_time": "2023-05-14T14:51:50.094Z"
   },
   {
    "duration": 36,
    "start_time": "2023-05-14T14:51:55.284Z"
   },
   {
    "duration": 886,
    "start_time": "2023-05-14T14:52:46.948Z"
   },
   {
    "duration": 43,
    "start_time": "2023-05-14T14:52:58.795Z"
   },
   {
    "duration": 52,
    "start_time": "2023-05-14T14:53:23.797Z"
   },
   {
    "duration": 6,
    "start_time": "2023-05-14T14:53:24.208Z"
   },
   {
    "duration": 5,
    "start_time": "2023-05-14T14:53:24.653Z"
   },
   {
    "duration": 86,
    "start_time": "2023-05-14T14:53:33.865Z"
   },
   {
    "duration": 365,
    "start_time": "2023-05-14T14:53:40.009Z"
   },
   {
    "duration": 102,
    "start_time": "2023-05-14T14:53:48.514Z"
   },
   {
    "duration": 265,
    "start_time": "2023-05-14T14:53:59.697Z"
   },
   {
    "duration": 200,
    "start_time": "2023-05-14T14:54:40.448Z"
   },
   {
    "duration": 51,
    "start_time": "2023-05-14T14:54:59.797Z"
   },
   {
    "duration": 54,
    "start_time": "2023-05-14T14:56:27.413Z"
   },
   {
    "duration": 30,
    "start_time": "2023-05-14T14:56:45.498Z"
   },
   {
    "duration": 6,
    "start_time": "2023-05-14T14:57:24.311Z"
   },
   {
    "duration": 16,
    "start_time": "2023-05-14T14:57:41.560Z"
   },
   {
    "duration": 45,
    "start_time": "2023-05-14T14:59:49.021Z"
   },
   {
    "duration": 3,
    "start_time": "2023-05-14T15:02:02.592Z"
   },
   {
    "duration": 48,
    "start_time": "2023-05-14T15:02:25.447Z"
   },
   {
    "duration": 65,
    "start_time": "2023-05-14T15:03:56.157Z"
   },
   {
    "duration": 61,
    "start_time": "2023-05-14T15:04:03.452Z"
   },
   {
    "duration": 68,
    "start_time": "2023-05-14T15:04:03.516Z"
   },
   {
    "duration": 1276,
    "start_time": "2023-05-14T15:08:41.265Z"
   },
   {
    "duration": 42,
    "start_time": "2023-05-14T15:08:51.172Z"
   },
   {
    "duration": 71,
    "start_time": "2023-05-14T15:08:52.890Z"
   },
   {
    "duration": 1404,
    "start_time": "2023-05-14T15:08:59.854Z"
   },
   {
    "duration": 5,
    "start_time": "2023-05-14T15:09:11.452Z"
   },
   {
    "duration": 1266,
    "start_time": "2023-05-14T15:49:31.658Z"
   },
   {
    "duration": 186,
    "start_time": "2023-05-14T15:49:32.926Z"
   },
   {
    "duration": 38,
    "start_time": "2023-05-14T15:49:33.657Z"
   },
   {
    "duration": 65,
    "start_time": "2023-05-14T15:49:34.647Z"
   },
   {
    "duration": 85,
    "start_time": "2023-05-14T15:49:35.539Z"
   },
   {
    "duration": 8,
    "start_time": "2023-05-14T15:49:36.330Z"
   },
   {
    "duration": 34,
    "start_time": "2023-05-14T15:49:37.481Z"
   },
   {
    "duration": 14,
    "start_time": "2023-05-14T15:49:38.912Z"
   },
   {
    "duration": 26,
    "start_time": "2023-05-14T15:49:39.326Z"
   },
   {
    "duration": 85,
    "start_time": "2023-05-14T15:49:43.110Z"
   },
   {
    "duration": 38,
    "start_time": "2023-05-14T15:49:47.902Z"
   },
   {
    "duration": 15,
    "start_time": "2023-05-14T15:49:48.855Z"
   },
   {
    "duration": 13,
    "start_time": "2023-05-14T15:49:50.012Z"
   },
   {
    "duration": 30,
    "start_time": "2023-05-14T15:49:51.723Z"
   },
   {
    "duration": 18,
    "start_time": "2023-05-14T15:49:52.623Z"
   },
   {
    "duration": 21,
    "start_time": "2023-05-14T15:49:53.878Z"
   },
   {
    "duration": 10,
    "start_time": "2023-05-14T15:49:54.560Z"
   },
   {
    "duration": 6,
    "start_time": "2023-05-14T15:49:54.989Z"
   },
   {
    "duration": 287,
    "start_time": "2023-05-14T15:49:55.485Z"
   },
   {
    "duration": 114,
    "start_time": "2023-05-14T15:49:58.254Z"
   },
   {
    "duration": 32,
    "start_time": "2023-05-14T15:49:59.611Z"
   },
   {
    "duration": 313,
    "start_time": "2023-05-14T15:50:01.050Z"
   },
   {
    "duration": 529,
    "start_time": "2023-05-14T15:50:02.922Z"
   },
   {
    "duration": 497,
    "start_time": "2023-05-14T15:50:03.453Z"
   },
   {
    "duration": 485,
    "start_time": "2023-05-14T15:50:03.953Z"
   },
   {
    "duration": 24,
    "start_time": "2023-05-14T15:50:04.722Z"
   },
   {
    "duration": 237,
    "start_time": "2023-05-14T15:50:05.534Z"
   },
   {
    "duration": 19,
    "start_time": "2023-05-14T15:50:06.737Z"
   },
   {
    "duration": 23,
    "start_time": "2023-05-14T15:50:07.018Z"
   },
   {
    "duration": 24,
    "start_time": "2023-05-14T15:50:07.266Z"
   },
   {
    "duration": 10,
    "start_time": "2023-05-14T15:50:07.789Z"
   },
   {
    "duration": 12,
    "start_time": "2023-05-14T15:50:08.055Z"
   },
   {
    "duration": 11,
    "start_time": "2023-05-14T15:50:08.385Z"
   },
   {
    "duration": 222,
    "start_time": "2023-05-14T15:50:10.765Z"
   },
   {
    "duration": 12,
    "start_time": "2023-05-14T15:50:11.106Z"
   },
   {
    "duration": 10,
    "start_time": "2023-05-14T15:50:11.452Z"
   },
   {
    "duration": 10,
    "start_time": "2023-05-14T15:50:13.315Z"
   },
   {
    "duration": 34,
    "start_time": "2023-05-14T15:50:14.366Z"
   },
   {
    "duration": 35,
    "start_time": "2023-05-14T15:50:19.384Z"
   },
   {
    "duration": 5,
    "start_time": "2023-05-14T15:50:21.956Z"
   },
   {
    "duration": 5,
    "start_time": "2023-05-14T15:50:49.152Z"
   },
   {
    "duration": 77,
    "start_time": "2023-05-14T15:50:50.016Z"
   },
   {
    "duration": 286,
    "start_time": "2023-05-14T15:50:50.746Z"
   },
   {
    "duration": 74,
    "start_time": "2023-05-14T15:50:52.646Z"
   },
   {
    "duration": 238,
    "start_time": "2023-05-14T15:50:54.407Z"
   },
   {
    "duration": 34,
    "start_time": "2023-05-14T15:50:56.092Z"
   },
   {
    "duration": 62,
    "start_time": "2023-05-14T15:50:59.143Z"
   },
   {
    "duration": 722,
    "start_time": "2023-05-14T15:52:45.986Z"
   },
   {
    "duration": 618,
    "start_time": "2023-05-14T15:53:20.297Z"
   },
   {
    "duration": 72,
    "start_time": "2023-05-14T15:53:33.054Z"
   },
   {
    "duration": 1315,
    "start_time": "2023-05-14T15:54:11.492Z"
   },
   {
    "duration": 182,
    "start_time": "2023-05-14T15:54:12.809Z"
   },
   {
    "duration": 24,
    "start_time": "2023-05-14T15:54:12.993Z"
   },
   {
    "duration": 79,
    "start_time": "2023-05-14T15:54:13.019Z"
   },
   {
    "duration": 81,
    "start_time": "2023-05-14T15:54:13.100Z"
   },
   {
    "duration": 21,
    "start_time": "2023-05-14T15:54:13.183Z"
   },
   {
    "duration": 22,
    "start_time": "2023-05-14T15:54:13.481Z"
   },
   {
    "duration": 13,
    "start_time": "2023-05-14T15:54:13.982Z"
   },
   {
    "duration": 21,
    "start_time": "2023-05-14T15:54:14.155Z"
   },
   {
    "duration": 88,
    "start_time": "2023-05-14T15:54:16.048Z"
   },
   {
    "duration": 39,
    "start_time": "2023-05-14T15:54:16.138Z"
   },
   {
    "duration": 18,
    "start_time": "2023-05-14T15:54:16.188Z"
   },
   {
    "duration": 14,
    "start_time": "2023-05-14T15:54:16.685Z"
   },
   {
    "duration": 26,
    "start_time": "2023-05-14T15:54:17.368Z"
   },
   {
    "duration": 29,
    "start_time": "2023-05-14T15:54:17.730Z"
   },
   {
    "duration": 29,
    "start_time": "2023-05-14T15:54:18.242Z"
   },
   {
    "duration": 10,
    "start_time": "2023-05-14T15:54:18.425Z"
   },
   {
    "duration": 6,
    "start_time": "2023-05-14T15:54:18.597Z"
   },
   {
    "duration": 295,
    "start_time": "2023-05-14T15:54:18.774Z"
   },
   {
    "duration": 118,
    "start_time": "2023-05-14T15:54:19.071Z"
   },
   {
    "duration": 32,
    "start_time": "2023-05-14T15:54:19.825Z"
   },
   {
    "duration": 302,
    "start_time": "2023-05-14T15:54:20.343Z"
   },
   {
    "duration": 510,
    "start_time": "2023-05-14T15:54:20.863Z"
   },
   {
    "duration": 486,
    "start_time": "2023-05-14T15:54:21.375Z"
   },
   {
    "duration": 485,
    "start_time": "2023-05-14T15:54:21.863Z"
   },
   {
    "duration": 24,
    "start_time": "2023-05-14T15:54:22.350Z"
   },
   {
    "duration": 258,
    "start_time": "2023-05-14T15:54:22.375Z"
   },
   {
    "duration": 15,
    "start_time": "2023-05-14T15:54:22.954Z"
   },
   {
    "duration": 24,
    "start_time": "2023-05-14T15:54:23.142Z"
   },
   {
    "duration": 33,
    "start_time": "2023-05-14T15:54:23.319Z"
   },
   {
    "duration": 8,
    "start_time": "2023-05-14T15:54:23.672Z"
   },
   {
    "duration": 12,
    "start_time": "2023-05-14T15:54:23.844Z"
   },
   {
    "duration": 12,
    "start_time": "2023-05-14T15:54:24.025Z"
   },
   {
    "duration": 221,
    "start_time": "2023-05-14T15:54:25.091Z"
   },
   {
    "duration": 13,
    "start_time": "2023-05-14T15:54:25.313Z"
   },
   {
    "duration": 11,
    "start_time": "2023-05-14T15:54:25.454Z"
   },
   {
    "duration": 11,
    "start_time": "2023-05-14T15:54:25.633Z"
   },
   {
    "duration": 34,
    "start_time": "2023-05-14T15:54:26.166Z"
   },
   {
    "duration": 45,
    "start_time": "2023-05-14T15:54:26.887Z"
   },
   {
    "duration": 5,
    "start_time": "2023-05-14T15:54:27.057Z"
   },
   {
    "duration": 4,
    "start_time": "2023-05-14T15:54:27.243Z"
   },
   {
    "duration": 77,
    "start_time": "2023-05-14T15:54:28.136Z"
   },
   {
    "duration": 287,
    "start_time": "2023-05-14T15:54:28.689Z"
   },
   {
    "duration": 95,
    "start_time": "2023-05-14T15:54:29.422Z"
   },
   {
    "duration": 245,
    "start_time": "2023-05-14T15:54:31.774Z"
   },
   {
    "duration": 37,
    "start_time": "2023-05-14T15:54:33.542Z"
   },
   {
    "duration": 67,
    "start_time": "2023-05-14T15:54:33.897Z"
   },
   {
    "duration": 904,
    "start_time": "2023-05-14T15:54:34.609Z"
   },
   {
    "duration": 0,
    "start_time": "2023-05-14T15:54:35.516Z"
   },
   {
    "duration": 21,
    "start_time": "2023-05-14T15:54:37.744Z"
   },
   {
    "duration": 2,
    "start_time": "2023-05-14T15:56:34.565Z"
   },
   {
    "duration": 70,
    "start_time": "2023-05-14T15:57:10.663Z"
   },
   {
    "duration": 1354,
    "start_time": "2023-05-14T15:57:30.065Z"
   },
   {
    "duration": 182,
    "start_time": "2023-05-14T15:57:32.325Z"
   },
   {
    "duration": 22,
    "start_time": "2023-05-14T15:57:32.509Z"
   },
   {
    "duration": 69,
    "start_time": "2023-05-14T15:57:32.821Z"
   },
   {
    "duration": 81,
    "start_time": "2023-05-14T15:57:33.985Z"
   },
   {
    "duration": 9,
    "start_time": "2023-05-14T15:57:34.813Z"
   },
   {
    "duration": 23,
    "start_time": "2023-05-14T15:57:35.744Z"
   },
   {
    "duration": 14,
    "start_time": "2023-05-14T15:57:38.798Z"
   },
   {
    "duration": 21,
    "start_time": "2023-05-14T15:57:39.988Z"
   },
   {
    "duration": 98,
    "start_time": "2023-05-14T15:57:43.401Z"
   },
   {
    "duration": 108,
    "start_time": "2023-05-14T15:57:48.501Z"
   },
   {
    "duration": 65,
    "start_time": "2023-05-14T15:58:02.483Z"
   },
   {
    "duration": 64,
    "start_time": "2023-05-14T15:58:20.291Z"
   },
   {
    "duration": 64,
    "start_time": "2023-05-14T15:58:28.811Z"
   },
   {
    "duration": 64,
    "start_time": "2023-05-14T15:58:39.084Z"
   },
   {
    "duration": 1309,
    "start_time": "2023-05-14T15:58:54.814Z"
   },
   {
    "duration": 191,
    "start_time": "2023-05-14T15:58:56.126Z"
   },
   {
    "duration": 24,
    "start_time": "2023-05-14T15:58:56.873Z"
   },
   {
    "duration": 68,
    "start_time": "2023-05-14T15:58:56.900Z"
   },
   {
    "duration": 91,
    "start_time": "2023-05-14T15:58:56.970Z"
   },
   {
    "duration": 7,
    "start_time": "2023-05-14T15:58:57.063Z"
   },
   {
    "duration": 33,
    "start_time": "2023-05-14T15:58:57.072Z"
   },
   {
    "duration": 15,
    "start_time": "2023-05-14T15:58:58.153Z"
   },
   {
    "duration": 21,
    "start_time": "2023-05-14T15:58:58.313Z"
   },
   {
    "duration": 82,
    "start_time": "2023-05-14T15:59:00.458Z"
   },
   {
    "duration": 59,
    "start_time": "2023-05-14T15:59:06.770Z"
   },
   {
    "duration": 47,
    "start_time": "2023-05-14T15:59:16.606Z"
   },
   {
    "duration": 14,
    "start_time": "2023-05-14T15:59:20.261Z"
   },
   {
    "duration": 12,
    "start_time": "2023-05-14T15:59:22.462Z"
   },
   {
    "duration": 22,
    "start_time": "2023-05-14T15:59:27.010Z"
   },
   {
    "duration": 21,
    "start_time": "2023-05-14T15:59:27.145Z"
   },
   {
    "duration": 18,
    "start_time": "2023-05-14T15:59:29.190Z"
   },
   {
    "duration": 9,
    "start_time": "2023-05-14T15:59:29.956Z"
   },
   {
    "duration": 5,
    "start_time": "2023-05-14T15:59:30.674Z"
   },
   {
    "duration": 297,
    "start_time": "2023-05-14T15:59:31.530Z"
   },
   {
    "duration": 107,
    "start_time": "2023-05-14T15:59:32.101Z"
   },
   {
    "duration": 33,
    "start_time": "2023-05-14T15:59:35.587Z"
   },
   {
    "duration": 315,
    "start_time": "2023-05-14T15:59:37.517Z"
   },
   {
    "duration": 516,
    "start_time": "2023-05-14T15:59:39.610Z"
   },
   {
    "duration": 447,
    "start_time": "2023-05-14T15:59:40.301Z"
   },
   {
    "duration": 471,
    "start_time": "2023-05-14T15:59:42.077Z"
   },
   {
    "duration": 30,
    "start_time": "2023-05-14T15:59:43.188Z"
   },
   {
    "duration": 246,
    "start_time": "2023-05-14T15:59:45.318Z"
   },
   {
    "duration": 14,
    "start_time": "2023-05-14T15:59:47.797Z"
   },
   {
    "duration": 27,
    "start_time": "2023-05-14T15:59:48.462Z"
   },
   {
    "duration": 25,
    "start_time": "2023-05-14T15:59:48.945Z"
   },
   {
    "duration": 8,
    "start_time": "2023-05-14T15:59:50.045Z"
   },
   {
    "duration": 12,
    "start_time": "2023-05-14T15:59:50.578Z"
   },
   {
    "duration": 11,
    "start_time": "2023-05-14T15:59:51.087Z"
   },
   {
    "duration": 225,
    "start_time": "2023-05-14T15:59:57.210Z"
   },
   {
    "duration": 23,
    "start_time": "2023-05-14T16:00:07.345Z"
   },
   {
    "duration": 23,
    "start_time": "2023-05-14T16:00:14.065Z"
   },
   {
    "duration": 19,
    "start_time": "2023-05-14T16:00:15.324Z"
   },
   {
    "duration": 26,
    "start_time": "2023-05-14T16:00:21.898Z"
   },
   {
    "duration": 50,
    "start_time": "2023-05-14T16:00:27.998Z"
   },
   {
    "duration": 48,
    "start_time": "2023-05-14T16:01:02.310Z"
   },
   {
    "duration": 84,
    "start_time": "2023-05-14T16:01:15.040Z"
   },
   {
    "duration": 1059,
    "start_time": "2023-05-14T16:01:24.831Z"
   },
   {
    "duration": 46,
    "start_time": "2023-05-14T16:01:37.862Z"
   },
   {
    "duration": 6,
    "start_time": "2023-05-14T16:02:06.828Z"
   },
   {
    "duration": 4,
    "start_time": "2023-05-14T16:02:10.037Z"
   },
   {
    "duration": 5,
    "start_time": "2023-05-14T16:02:13.897Z"
   },
   {
    "duration": 98,
    "start_time": "2023-05-14T16:02:22.530Z"
   },
   {
    "duration": 38,
    "start_time": "2023-05-14T16:03:28.630Z"
   },
   {
    "duration": 291,
    "start_time": "2023-05-14T16:03:36.914Z"
   },
   {
    "duration": 78,
    "start_time": "2023-05-14T16:03:45.735Z"
   },
   {
    "duration": 235,
    "start_time": "2023-05-14T16:04:02.787Z"
   },
   {
    "duration": 57,
    "start_time": "2023-05-14T16:04:24.523Z"
   },
   {
    "duration": 141,
    "start_time": "2023-05-14T16:07:34.725Z"
   },
   {
    "duration": 15,
    "start_time": "2023-05-14T16:09:40.819Z"
   },
   {
    "duration": 12,
    "start_time": "2023-05-14T16:12:17.032Z"
   },
   {
    "duration": 40,
    "start_time": "2023-05-14T16:13:13.909Z"
   },
   {
    "duration": 13,
    "start_time": "2023-05-14T16:13:18.029Z"
   },
   {
    "duration": 9,
    "start_time": "2023-05-14T16:13:28.038Z"
   },
   {
    "duration": 12,
    "start_time": "2023-05-14T16:14:01.058Z"
   },
   {
    "duration": 1637,
    "start_time": "2023-05-14T16:14:01.776Z"
   },
   {
    "duration": 1408,
    "start_time": "2023-05-14T16:14:08.718Z"
   },
   {
    "duration": 1006,
    "start_time": "2023-05-14T16:15:44.963Z"
   },
   {
    "duration": 1321,
    "start_time": "2023-05-14T16:16:08.790Z"
   },
   {
    "duration": 1409,
    "start_time": "2023-05-14T16:16:50.190Z"
   },
   {
    "duration": 51,
    "start_time": "2023-05-14T16:18:50.329Z"
   },
   {
    "duration": 5,
    "start_time": "2023-05-14T16:18:52.196Z"
   },
   {
    "duration": 4,
    "start_time": "2023-05-14T16:18:53.853Z"
   },
   {
    "duration": 38,
    "start_time": "2023-05-14T16:18:57.992Z"
   },
   {
    "duration": 54,
    "start_time": "2023-05-14T16:18:59.771Z"
   },
   {
    "duration": 74,
    "start_time": "2023-05-14T16:19:02.487Z"
   },
   {
    "duration": 49,
    "start_time": "2023-05-14T16:19:08.783Z"
   },
   {
    "duration": 47,
    "start_time": "2023-05-14T16:19:10.694Z"
   },
   {
    "duration": 168,
    "start_time": "2023-05-14T16:19:15.380Z"
   },
   {
    "duration": 145,
    "start_time": "2023-05-14T16:19:49.946Z"
   },
   {
    "duration": 18,
    "start_time": "2023-05-14T16:19:57.440Z"
   },
   {
    "duration": 27,
    "start_time": "2023-05-14T16:20:00.604Z"
   },
   {
    "duration": 13,
    "start_time": "2023-05-14T16:20:03.380Z"
   },
   {
    "duration": 12,
    "start_time": "2023-05-14T16:20:05.692Z"
   },
   {
    "duration": 11,
    "start_time": "2023-05-14T16:20:06.336Z"
   },
   {
    "duration": 2133,
    "start_time": "2023-05-14T16:20:07.258Z"
   },
   {
    "duration": 15,
    "start_time": "2023-05-14T16:20:14.921Z"
   },
   {
    "duration": 19,
    "start_time": "2023-05-14T16:43:06.095Z"
   },
   {
    "duration": 11,
    "start_time": "2023-05-14T16:43:18.570Z"
   },
   {
    "duration": 12,
    "start_time": "2023-05-14T16:43:30.239Z"
   },
   {
    "duration": 11,
    "start_time": "2023-05-14T16:43:38.744Z"
   },
   {
    "duration": 12,
    "start_time": "2023-05-14T16:48:11.508Z"
   },
   {
    "duration": 3,
    "start_time": "2023-05-14T17:44:16.038Z"
   },
   {
    "duration": 1606,
    "start_time": "2023-05-14T17:55:30.144Z"
   },
   {
    "duration": 243,
    "start_time": "2023-05-14T17:55:31.753Z"
   },
   {
    "duration": 34,
    "start_time": "2023-05-14T17:55:32.008Z"
   },
   {
    "duration": 94,
    "start_time": "2023-05-14T17:55:32.045Z"
   },
   {
    "duration": 146,
    "start_time": "2023-05-14T17:55:32.142Z"
   },
   {
    "duration": 25,
    "start_time": "2023-05-14T17:55:32.291Z"
   },
   {
    "duration": 34,
    "start_time": "2023-05-14T17:55:32.318Z"
   },
   {
    "duration": 27,
    "start_time": "2023-05-14T17:55:32.355Z"
   },
   {
    "duration": 34,
    "start_time": "2023-05-14T17:55:32.385Z"
   },
   {
    "duration": 98,
    "start_time": "2023-05-14T17:55:32.421Z"
   },
   {
    "duration": 60,
    "start_time": "2023-05-14T17:55:32.521Z"
   },
   {
    "duration": 69,
    "start_time": "2023-05-14T17:55:32.583Z"
   },
   {
    "duration": 17,
    "start_time": "2023-05-14T17:55:32.654Z"
   },
   {
    "duration": 40,
    "start_time": "2023-05-14T17:55:32.674Z"
   },
   {
    "duration": 41,
    "start_time": "2023-05-14T17:55:32.717Z"
   },
   {
    "duration": 19,
    "start_time": "2023-05-14T17:55:32.760Z"
   },
   {
    "duration": 50,
    "start_time": "2023-05-14T17:55:32.781Z"
   },
   {
    "duration": 9,
    "start_time": "2023-05-14T17:55:32.833Z"
   },
   {
    "duration": 8,
    "start_time": "2023-05-14T17:55:32.844Z"
   },
   {
    "duration": 316,
    "start_time": "2023-05-14T17:55:32.854Z"
   },
   {
    "duration": 153,
    "start_time": "2023-05-14T17:55:33.172Z"
   },
   {
    "duration": 34,
    "start_time": "2023-05-14T17:55:33.327Z"
   },
   {
    "duration": 370,
    "start_time": "2023-05-14T17:55:33.363Z"
   },
   {
    "duration": 596,
    "start_time": "2023-05-14T17:55:33.735Z"
   },
   {
    "duration": 534,
    "start_time": "2023-05-14T17:55:34.333Z"
   },
   {
    "duration": 540,
    "start_time": "2023-05-14T17:55:34.869Z"
   },
   {
    "duration": 46,
    "start_time": "2023-05-14T17:55:35.415Z"
   },
   {
    "duration": 314,
    "start_time": "2023-05-14T17:55:35.464Z"
   },
   {
    "duration": 32,
    "start_time": "2023-05-14T17:55:35.781Z"
   },
   {
    "duration": 58,
    "start_time": "2023-05-14T17:55:35.816Z"
   },
   {
    "duration": 39,
    "start_time": "2023-05-14T17:55:35.877Z"
   },
   {
    "duration": 26,
    "start_time": "2023-05-14T17:55:35.917Z"
   },
   {
    "duration": 14,
    "start_time": "2023-05-14T17:55:35.946Z"
   },
   {
    "duration": 14,
    "start_time": "2023-05-14T17:55:35.962Z"
   },
   {
    "duration": 305,
    "start_time": "2023-05-14T17:55:35.978Z"
   },
   {
    "duration": 38,
    "start_time": "2023-05-14T17:55:36.286Z"
   },
   {
    "duration": 36,
    "start_time": "2023-05-14T17:55:36.326Z"
   },
   {
    "duration": 50,
    "start_time": "2023-05-14T17:55:36.364Z"
   },
   {
    "duration": 68,
    "start_time": "2023-05-14T17:55:36.416Z"
   },
   {
    "duration": 72,
    "start_time": "2023-05-14T17:55:36.486Z"
   },
   {
    "duration": 5,
    "start_time": "2023-05-14T17:55:36.560Z"
   },
   {
    "duration": 12,
    "start_time": "2023-05-14T17:55:36.567Z"
   },
   {
    "duration": 133,
    "start_time": "2023-05-14T17:55:36.581Z"
   },
   {
    "duration": 536,
    "start_time": "2023-05-14T17:55:36.723Z"
   },
   {
    "duration": 240,
    "start_time": "2023-05-14T17:55:37.263Z"
   },
   {
    "duration": 353,
    "start_time": "2023-05-14T17:55:37.509Z"
   },
   {
    "duration": 54,
    "start_time": "2023-05-14T17:55:37.864Z"
   },
   {
    "duration": 170,
    "start_time": "2023-05-14T17:55:37.920Z"
   },
   {
    "duration": 20,
    "start_time": "2023-05-14T17:55:38.101Z"
   },
   {
    "duration": 31,
    "start_time": "2023-05-14T17:55:38.123Z"
   },
   {
    "duration": 22,
    "start_time": "2023-05-14T17:55:38.157Z"
   },
   {
    "duration": 34,
    "start_time": "2023-05-14T17:55:38.181Z"
   },
   {
    "duration": 18,
    "start_time": "2023-05-14T17:55:38.217Z"
   },
   {
    "duration": 14,
    "start_time": "2023-05-14T17:55:38.237Z"
   },
   {
    "duration": 15,
    "start_time": "2023-05-14T17:55:38.253Z"
   },
   {
    "duration": 17,
    "start_time": "2023-05-14T17:55:38.296Z"
   },
   {
    "duration": 22,
    "start_time": "2023-05-14T17:55:38.315Z"
   },
   {
    "duration": 13,
    "start_time": "2023-05-14T17:55:38.339Z"
   },
   {
    "duration": 1548,
    "start_time": "2023-05-14T20:01:27.389Z"
   },
   {
    "duration": 554,
    "start_time": "2023-05-14T20:01:28.939Z"
   },
   {
    "duration": 20,
    "start_time": "2023-05-14T20:01:29.494Z"
   },
   {
    "duration": 66,
    "start_time": "2023-05-14T20:01:29.516Z"
   },
   {
    "duration": 92,
    "start_time": "2023-05-14T20:01:29.585Z"
   },
   {
    "duration": 15,
    "start_time": "2023-05-14T20:01:29.679Z"
   },
   {
    "duration": 27,
    "start_time": "2023-05-14T20:01:29.696Z"
   },
   {
    "duration": 15,
    "start_time": "2023-05-14T20:01:29.725Z"
   },
   {
    "duration": 37,
    "start_time": "2023-05-14T20:01:29.742Z"
   },
   {
    "duration": 100,
    "start_time": "2023-05-14T20:01:29.781Z"
   },
   {
    "duration": 53,
    "start_time": "2023-05-14T20:01:29.884Z"
   },
   {
    "duration": 51,
    "start_time": "2023-05-14T20:01:29.939Z"
   },
   {
    "duration": 12,
    "start_time": "2023-05-14T20:01:29.992Z"
   },
   {
    "duration": 24,
    "start_time": "2023-05-14T20:01:30.009Z"
   },
   {
    "duration": 33,
    "start_time": "2023-05-14T20:01:30.036Z"
   },
   {
    "duration": 42,
    "start_time": "2023-05-14T20:01:30.071Z"
   },
   {
    "duration": 41,
    "start_time": "2023-05-14T20:01:30.114Z"
   },
   {
    "duration": 20,
    "start_time": "2023-05-14T20:01:30.156Z"
   },
   {
    "duration": 39,
    "start_time": "2023-05-14T20:01:30.178Z"
   },
   {
    "duration": 338,
    "start_time": "2023-05-14T20:01:30.218Z"
   },
   {
    "duration": 133,
    "start_time": "2023-05-14T20:01:30.558Z"
   },
   {
    "duration": 28,
    "start_time": "2023-05-14T20:01:30.692Z"
   },
   {
    "duration": 337,
    "start_time": "2023-05-14T20:01:30.722Z"
   },
   {
    "duration": 555,
    "start_time": "2023-05-14T20:01:31.061Z"
   },
   {
    "duration": 513,
    "start_time": "2023-05-14T20:01:31.618Z"
   },
   {
    "duration": 493,
    "start_time": "2023-05-14T20:01:32.133Z"
   },
   {
    "duration": 31,
    "start_time": "2023-05-14T20:01:32.628Z"
   },
   {
    "duration": 251,
    "start_time": "2023-05-14T20:01:32.670Z"
   },
   {
    "duration": 12,
    "start_time": "2023-05-14T20:01:32.923Z"
   },
   {
    "duration": 23,
    "start_time": "2023-05-14T20:01:32.936Z"
   },
   {
    "duration": 35,
    "start_time": "2023-05-14T20:01:32.961Z"
   },
   {
    "duration": 8,
    "start_time": "2023-05-14T20:01:32.997Z"
   },
   {
    "duration": 17,
    "start_time": "2023-05-14T20:01:33.007Z"
   },
   {
    "duration": 12,
    "start_time": "2023-05-14T20:01:33.026Z"
   },
   {
    "duration": 273,
    "start_time": "2023-05-14T20:01:33.040Z"
   },
   {
    "duration": 24,
    "start_time": "2023-05-14T20:01:33.316Z"
   },
   {
    "duration": 44,
    "start_time": "2023-05-14T20:01:33.342Z"
   },
   {
    "duration": 25,
    "start_time": "2023-05-14T20:01:33.388Z"
   },
   {
    "duration": 65,
    "start_time": "2023-05-14T20:01:33.414Z"
   },
   {
    "duration": 45,
    "start_time": "2023-05-14T20:01:33.483Z"
   },
   {
    "duration": 5,
    "start_time": "2023-05-14T20:01:33.532Z"
   },
   {
    "duration": 9,
    "start_time": "2023-05-14T20:01:33.539Z"
   },
   {
    "duration": 94,
    "start_time": "2023-05-14T20:01:33.550Z"
   },
   {
    "duration": 763,
    "start_time": "2023-05-14T20:01:33.645Z"
   },
   {
    "duration": 164,
    "start_time": "2023-05-14T20:01:34.411Z"
   },
   {
    "duration": 248,
    "start_time": "2023-05-14T20:01:34.577Z"
   },
   {
    "duration": 62,
    "start_time": "2023-05-14T20:01:34.827Z"
   },
   {
    "duration": 139,
    "start_time": "2023-05-14T20:01:34.891Z"
   },
   {
    "duration": 15,
    "start_time": "2023-05-14T20:01:35.032Z"
   },
   {
    "duration": 56,
    "start_time": "2023-05-14T20:01:35.049Z"
   },
   {
    "duration": 27,
    "start_time": "2023-05-14T20:01:35.107Z"
   },
   {
    "duration": 34,
    "start_time": "2023-05-14T20:01:35.135Z"
   },
   {
    "duration": 26,
    "start_time": "2023-05-14T20:01:35.179Z"
   },
   {
    "duration": 55,
    "start_time": "2023-05-14T20:01:35.206Z"
   },
   {
    "duration": 21,
    "start_time": "2023-05-14T20:01:35.263Z"
   },
   {
    "duration": 28,
    "start_time": "2023-05-14T20:01:35.286Z"
   },
   {
    "duration": 25,
    "start_time": "2023-05-14T20:01:35.316Z"
   },
   {
    "duration": 15,
    "start_time": "2023-05-14T20:01:35.344Z"
   },
   {
    "duration": 1452,
    "start_time": "2023-05-14T20:12:19.040Z"
   },
   {
    "duration": 177,
    "start_time": "2023-05-14T20:12:20.494Z"
   },
   {
    "duration": 21,
    "start_time": "2023-05-14T20:12:20.673Z"
   },
   {
    "duration": 87,
    "start_time": "2023-05-14T20:12:20.697Z"
   },
   {
    "duration": 92,
    "start_time": "2023-05-14T20:12:20.785Z"
   },
   {
    "duration": 8,
    "start_time": "2023-05-14T20:12:20.879Z"
   },
   {
    "duration": 28,
    "start_time": "2023-05-14T20:12:20.888Z"
   },
   {
    "duration": 16,
    "start_time": "2023-05-14T20:12:20.919Z"
   },
   {
    "duration": 44,
    "start_time": "2023-05-14T20:12:20.937Z"
   },
   {
    "duration": 93,
    "start_time": "2023-05-14T20:12:20.985Z"
   },
   {
    "duration": 58,
    "start_time": "2023-05-14T20:12:21.080Z"
   },
   {
    "duration": 46,
    "start_time": "2023-05-14T20:12:21.140Z"
   },
   {
    "duration": 12,
    "start_time": "2023-05-14T20:12:21.189Z"
   },
   {
    "duration": 19,
    "start_time": "2023-05-14T20:12:21.203Z"
   },
   {
    "duration": 30,
    "start_time": "2023-05-14T20:12:21.224Z"
   },
   {
    "duration": 22,
    "start_time": "2023-05-14T20:12:21.272Z"
   },
   {
    "duration": 44,
    "start_time": "2023-05-14T20:12:21.296Z"
   },
   {
    "duration": 11,
    "start_time": "2023-05-14T20:12:21.345Z"
   },
   {
    "duration": 27,
    "start_time": "2023-05-14T20:12:21.359Z"
   },
   {
    "duration": 311,
    "start_time": "2023-05-14T20:12:21.388Z"
   },
   {
    "duration": 121,
    "start_time": "2023-05-14T20:12:21.701Z"
   },
   {
    "duration": 28,
    "start_time": "2023-05-14T20:12:21.824Z"
   },
   {
    "duration": 312,
    "start_time": "2023-05-14T20:12:21.854Z"
   },
   {
    "duration": 547,
    "start_time": "2023-05-14T20:12:22.170Z"
   },
   {
    "duration": 454,
    "start_time": "2023-05-14T20:12:22.718Z"
   },
   {
    "duration": 513,
    "start_time": "2023-05-14T20:12:23.174Z"
   },
   {
    "duration": 38,
    "start_time": "2023-05-14T20:12:23.690Z"
   },
   {
    "duration": 261,
    "start_time": "2023-05-14T20:12:23.733Z"
   },
   {
    "duration": 12,
    "start_time": "2023-05-14T20:12:23.996Z"
   },
   {
    "duration": 30,
    "start_time": "2023-05-14T20:12:24.010Z"
   },
   {
    "duration": 36,
    "start_time": "2023-05-14T20:12:24.042Z"
   },
   {
    "duration": 8,
    "start_time": "2023-05-14T20:12:24.080Z"
   },
   {
    "duration": 12,
    "start_time": "2023-05-14T20:12:24.091Z"
   },
   {
    "duration": 12,
    "start_time": "2023-05-14T20:12:24.105Z"
   },
   {
    "duration": 252,
    "start_time": "2023-05-14T20:12:24.119Z"
   },
   {
    "duration": 23,
    "start_time": "2023-05-14T20:12:24.373Z"
   },
   {
    "duration": 23,
    "start_time": "2023-05-14T20:12:24.398Z"
   },
   {
    "duration": 59,
    "start_time": "2023-05-14T20:12:24.424Z"
   },
   {
    "duration": 45,
    "start_time": "2023-05-14T20:12:24.485Z"
   },
   {
    "duration": 60,
    "start_time": "2023-05-14T20:12:24.532Z"
   },
   {
    "duration": 5,
    "start_time": "2023-05-14T20:12:24.594Z"
   },
   {
    "duration": 5,
    "start_time": "2023-05-14T20:12:24.601Z"
   },
   {
    "duration": 92,
    "start_time": "2023-05-14T20:12:24.608Z"
   },
   {
    "duration": 820,
    "start_time": "2023-05-14T20:12:24.702Z"
   },
   {
    "duration": 148,
    "start_time": "2023-05-14T20:12:25.524Z"
   },
   {
    "duration": 237,
    "start_time": "2023-05-14T20:12:25.674Z"
   },
   {
    "duration": 46,
    "start_time": "2023-05-14T20:12:25.913Z"
   },
   {
    "duration": 160,
    "start_time": "2023-05-14T20:12:25.973Z"
   },
   {
    "duration": 35,
    "start_time": "2023-05-14T20:12:26.136Z"
   },
   {
    "duration": 31,
    "start_time": "2023-05-14T20:12:26.173Z"
   },
   {
    "duration": 32,
    "start_time": "2023-05-14T20:12:26.206Z"
   },
   {
    "duration": 35,
    "start_time": "2023-05-14T20:12:26.240Z"
   },
   {
    "duration": 15,
    "start_time": "2023-05-14T20:12:26.278Z"
   },
   {
    "duration": 13,
    "start_time": "2023-05-14T20:12:26.295Z"
   },
   {
    "duration": 13,
    "start_time": "2023-05-14T20:12:26.309Z"
   },
   {
    "duration": 50,
    "start_time": "2023-05-14T20:12:26.323Z"
   },
   {
    "duration": 17,
    "start_time": "2023-05-14T20:12:26.375Z"
   },
   {
    "duration": 16,
    "start_time": "2023-05-14T20:12:26.394Z"
   },
   {
    "duration": 18,
    "start_time": "2023-05-14T20:12:37.625Z"
   },
   {
    "duration": 16,
    "start_time": "2023-05-14T20:12:43.225Z"
   },
   {
    "duration": 22,
    "start_time": "2023-05-14T20:12:53.112Z"
   },
   {
    "duration": 188,
    "start_time": "2023-05-14T20:13:05.729Z"
   },
   {
    "duration": 78,
    "start_time": "2023-05-14T20:13:09.144Z"
   },
   {
    "duration": 68,
    "start_time": "2023-05-14T20:13:24.429Z"
   },
   {
    "duration": 90,
    "start_time": "2023-05-14T20:13:28.531Z"
   },
   {
    "duration": 58,
    "start_time": "2023-05-14T20:13:35.732Z"
   },
   {
    "duration": 59,
    "start_time": "2023-05-14T20:13:46.724Z"
   }
  ],
  "kernelspec": {
   "display_name": "Python 3 (ipykernel)",
   "language": "python",
   "name": "python3"
  },
  "language_info": {
   "codemirror_mode": {
    "name": "ipython",
    "version": 3
   },
   "file_extension": ".py",
   "mimetype": "text/x-python",
   "name": "python",
   "nbconvert_exporter": "python",
   "pygments_lexer": "ipython3",
   "version": "3.10.9"
  },
  "toc": {
   "base_numbering": 1,
   "nav_menu": {},
   "number_sections": true,
   "sideBar": true,
   "skip_h1_title": true,
   "title_cell": "Table of Contents",
   "title_sidebar": "Contents",
   "toc_cell": false,
   "toc_position": {
    "height": "538.889px",
    "left": "84.9896px",
    "top": "111.441px",
    "width": "279.757px"
   },
   "toc_section_display": true,
   "toc_window_display": true
  }
 },
 "nbformat": 4,
 "nbformat_minor": 2
}
