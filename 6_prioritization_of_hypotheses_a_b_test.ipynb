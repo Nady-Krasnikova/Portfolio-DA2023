{
 "cells": [
  {
   "cell_type": "markdown",
   "metadata": {},
   "source": [
    "## Проект \"Принятие решений в бизнесе на основе данных\" (A/B тест)"
   ]
  },
  {
   "cell_type": "markdown",
   "metadata": {},
   "source": [
    "## Описание проекта"
   ]
  },
  {
   "cell_type": "markdown",
   "metadata": {},
   "source": [
    "<div style=\"border:solid blue 2px; padding: 20px\">\n",
    "    \n",
    "**Я работаю аналитиком в крупном интернет-магазине. Вместе с отделом маркетинга мы подготовили список гипотез для увеличения выручки. Мне необходимо приоритизировать гипотезы, запустить A/B-тест и проанализировать результаты.**"
   ]
  },
  {
   "cell_type": "markdown",
   "metadata": {},
   "source": [
    "### Импорт всех необходимых библиотек для работы"
   ]
  },
  {
   "cell_type": "code",
   "execution_count": 1,
   "metadata": {},
   "outputs": [],
   "source": [
    "import pandas as pd\n",
    "import datetime as dt\n",
    "import numpy as np\n",
    "import matplotlib.pyplot as plt\n",
    "from pandas.plotting import register_matplotlib_converters\n",
    "import warnings\n",
    "import scipy.stats as stats"
   ]
  },
  {
   "cell_type": "markdown",
   "metadata": {},
   "source": [
    "### Приоритизация гипотез"
   ]
  },
  {
   "cell_type": "code",
   "execution_count": 2,
   "metadata": {},
   "outputs": [
    {
     "data": {
      "text/html": [
       "<div>\n",
       "<style scoped>\n",
       "    .dataframe tbody tr th:only-of-type {\n",
       "        vertical-align: middle;\n",
       "    }\n",
       "\n",
       "    .dataframe tbody tr th {\n",
       "        vertical-align: top;\n",
       "    }\n",
       "\n",
       "    .dataframe thead th {\n",
       "        text-align: right;\n",
       "    }\n",
       "</style>\n",
       "<table border=\"1\" class=\"dataframe\">\n",
       "  <thead>\n",
       "    <tr style=\"text-align: right;\">\n",
       "      <th></th>\n",
       "      <th>Hypothesis</th>\n",
       "      <th>Reach</th>\n",
       "      <th>Impact</th>\n",
       "      <th>Confidence</th>\n",
       "      <th>Efforts</th>\n",
       "    </tr>\n",
       "  </thead>\n",
       "  <tbody>\n",
       "    <tr>\n",
       "      <th>0</th>\n",
       "      <td>Добавить два новых канала привлечения трафика,...</td>\n",
       "      <td>3</td>\n",
       "      <td>10</td>\n",
       "      <td>8</td>\n",
       "      <td>6</td>\n",
       "    </tr>\n",
       "    <tr>\n",
       "      <th>1</th>\n",
       "      <td>Запустить собственную службу доставки, что сок...</td>\n",
       "      <td>2</td>\n",
       "      <td>5</td>\n",
       "      <td>4</td>\n",
       "      <td>10</td>\n",
       "    </tr>\n",
       "    <tr>\n",
       "      <th>2</th>\n",
       "      <td>Добавить блоки рекомендаций товаров на сайт ин...</td>\n",
       "      <td>8</td>\n",
       "      <td>3</td>\n",
       "      <td>7</td>\n",
       "      <td>3</td>\n",
       "    </tr>\n",
       "    <tr>\n",
       "      <th>3</th>\n",
       "      <td>Изменить структура категорий, что увеличит кон...</td>\n",
       "      <td>8</td>\n",
       "      <td>3</td>\n",
       "      <td>3</td>\n",
       "      <td>8</td>\n",
       "    </tr>\n",
       "    <tr>\n",
       "      <th>4</th>\n",
       "      <td>Изменить цвет фона главной страницы, чтобы уве...</td>\n",
       "      <td>3</td>\n",
       "      <td>1</td>\n",
       "      <td>1</td>\n",
       "      <td>1</td>\n",
       "    </tr>\n",
       "    <tr>\n",
       "      <th>5</th>\n",
       "      <td>Добавить страницу отзывов клиентов о магазине,...</td>\n",
       "      <td>3</td>\n",
       "      <td>2</td>\n",
       "      <td>2</td>\n",
       "      <td>3</td>\n",
       "    </tr>\n",
       "    <tr>\n",
       "      <th>6</th>\n",
       "      <td>Показать на главной странице баннеры с актуаль...</td>\n",
       "      <td>5</td>\n",
       "      <td>3</td>\n",
       "      <td>8</td>\n",
       "      <td>3</td>\n",
       "    </tr>\n",
       "    <tr>\n",
       "      <th>7</th>\n",
       "      <td>Добавить форму подписки на все основные страни...</td>\n",
       "      <td>10</td>\n",
       "      <td>7</td>\n",
       "      <td>8</td>\n",
       "      <td>5</td>\n",
       "    </tr>\n",
       "    <tr>\n",
       "      <th>8</th>\n",
       "      <td>Запустить акцию, дающую скидку на товар в день...</td>\n",
       "      <td>1</td>\n",
       "      <td>9</td>\n",
       "      <td>9</td>\n",
       "      <td>5</td>\n",
       "    </tr>\n",
       "  </tbody>\n",
       "</table>\n",
       "</div>"
      ],
      "text/plain": [
       "                                          Hypothesis  Reach  Impact  \\\n",
       "0  Добавить два новых канала привлечения трафика,...      3      10   \n",
       "1  Запустить собственную службу доставки, что сок...      2       5   \n",
       "2  Добавить блоки рекомендаций товаров на сайт ин...      8       3   \n",
       "3  Изменить структура категорий, что увеличит кон...      8       3   \n",
       "4  Изменить цвет фона главной страницы, чтобы уве...      3       1   \n",
       "5  Добавить страницу отзывов клиентов о магазине,...      3       2   \n",
       "6  Показать на главной странице баннеры с актуаль...      5       3   \n",
       "7  Добавить форму подписки на все основные страни...     10       7   \n",
       "8  Запустить акцию, дающую скидку на товар в день...      1       9   \n",
       "\n",
       "   Confidence  Efforts  \n",
       "0           8        6  \n",
       "1           4       10  \n",
       "2           7        3  \n",
       "3           3        8  \n",
       "4           1        1  \n",
       "5           2        3  \n",
       "6           8        3  \n",
       "7           8        5  \n",
       "8           9        5  "
      ]
     },
     "execution_count": 2,
     "metadata": {},
     "output_type": "execute_result"
    }
   ],
   "source": [
    "hypotheses = pd.read_csv('hypothesis.csv', sep=',')\n",
    "hypotheses"
   ]
  },
  {
   "cell_type": "markdown",
   "metadata": {},
   "source": [
    "Видно, что шкала оценки по каждому столбцу выбрана в размерном ряде от 1 до 10 "
   ]
  },
  {
   "cell_type": "markdown",
   "metadata": {},
   "source": [
    "####  Фреймворк ICE"
   ]
  },
  {
   "cell_type": "markdown",
   "metadata": {},
   "source": [
    "Применим фреймворк ICE для приоритизации гипотез. Отсортируем их по убыванию приоритета и выведем на экран."
   ]
  },
  {
   "cell_type": "code",
   "execution_count": 3,
   "metadata": {},
   "outputs": [
    {
     "name": "stdout",
     "output_type": "stream",
     "text": [
      "                                          Hypothesis    ICE\n",
      "8  Запустить акцию, дающую скидку на товар в день...  16.20\n",
      "0  Добавить два новых канала привлечения трафика,...  13.33\n",
      "7  Добавить форму подписки на все основные страни...  11.20\n",
      "6  Показать на главной странице баннеры с актуаль...   8.00\n",
      "2  Добавить блоки рекомендаций товаров на сайт ин...   7.00\n",
      "1  Запустить собственную службу доставки, что сок...   2.00\n",
      "5  Добавить страницу отзывов клиентов о магазине,...   1.33\n",
      "3  Изменить структура категорий, что увеличит кон...   1.12\n",
      "4  Изменить цвет фона главной страницы, чтобы уве...   1.00\n"
     ]
    }
   ],
   "source": [
    "hypotheses['ICE'] = (hypotheses['Impact'] * hypotheses['Confidence'])/hypotheses['Efforts']\n",
    "print(hypotheses[['Hypothesis','ICE']].sort_values(by='ICE', ascending=False).round(2))"
   ]
  },
  {
   "cell_type": "markdown",
   "metadata": {},
   "source": [
    "В тройке лидеров следующие гипотезы:\n",
    "    - на первом месте - Запустить акцию, дающую скидку на товар в день...(8)\n",
    "    - на втором месте - Добавить два новых канала привлечения трафика,...(0)\n",
    "    - на третьем месте - Добавить форму подписки на все основные страни...(7)\n",
    "Эти гипотезы набрали более 10 очков по методу ICE"
   ]
  },
  {
   "cell_type": "markdown",
   "metadata": {},
   "source": [
    "####  Фреймворк RICE"
   ]
  },
  {
   "cell_type": "markdown",
   "metadata": {},
   "source": [
    "Применим фреймворк RICE для приоритизации гипотез. Отсортируем их по убыванию приоритета и выведем на экран."
   ]
  },
  {
   "cell_type": "code",
   "execution_count": 4,
   "metadata": {},
   "outputs": [
    {
     "name": "stdout",
     "output_type": "stream",
     "text": [
      "                                          Hypothesis   RICE\n",
      "7  Добавить форму подписки на все основные страни...  112.0\n",
      "2  Добавить блоки рекомендаций товаров на сайт ин...   56.0\n",
      "0  Добавить два новых канала привлечения трафика,...   40.0\n",
      "6  Показать на главной странице баннеры с актуаль...   40.0\n",
      "8  Запустить акцию, дающую скидку на товар в день...   16.2\n",
      "3  Изменить структура категорий, что увеличит кон...    9.0\n",
      "1  Запустить собственную службу доставки, что сок...    4.0\n",
      "5  Добавить страницу отзывов клиентов о магазине,...    4.0\n",
      "4  Изменить цвет фона главной страницы, чтобы уве...    3.0\n"
     ]
    }
   ],
   "source": [
    "hypotheses['RICE'] = (hypotheses['Impact'] * hypotheses['Confidence'] * hypotheses['Reach'])/hypotheses['Efforts']\n",
    "\n",
    "print(hypotheses[['Hypothesis','RICE']].sort_values(by='RICE', ascending=False))"
   ]
  },
  {
   "cell_type": "markdown",
   "metadata": {},
   "source": [
    "В тройке лидеров следующие гипотезы: - на первом месте - Добавить форму подписки на все основные страни...(7) - на втором месте - Добавить блоки рекомендаций товаров на сайт ин...(2) - на третьем месте две гипотезы с одинаковым количеством очков - Добавить два новых канала привлечения трафика,...(0) и Показать на главной странице баннеры с актуаль...(6)  \n",
    "Эти гипотезы набрали лидирующее количество очков по методу RICE"
   ]
  },
  {
   "cell_type": "markdown",
   "metadata": {},
   "source": [
    "####  Изменение приоритизации гипотез при применении метода ICE и RICE"
   ]
  },
  {
   "cell_type": "markdown",
   "metadata": {},
   "source": [
    "Видно, что при методе ICE и RICE гипотезы, получившие максимальную приоритизацию, различны.\n",
    "ICE - гипотезы 8,0,7\n",
    "RICE - гипотезы 7,2,0 и 6\n",
    "Такое смещение произошло из за применения параметра Reach(охват) в методе RICE. При маштабировании гипотезы на большее  количество пользователей/покупателей приоритет в приоритизации получают те гипотезы, которые захватят больший охват пользователей/покупателей. Именно поэтому гипотеза под номером 2 и 6 вышли в приоритет при методе RICE - добавить блоки рекомендации товаров и показать на главной странице баннеры затронет всех пользователей/покупателей. В то время как гипотеза 8 приоритетна только для определенной группы пользователей в определенный период времени - данная гипотеза хороша, но узконаправлена."
   ]
  },
  {
   "cell_type": "markdown",
   "metadata": {},
   "source": [
    "### Анализ A/B-теста"
   ]
  },
  {
   "cell_type": "code",
   "execution_count": 6,
   "metadata": {},
   "outputs": [
    {
     "data": {
      "text/html": [
       "<div>\n",
       "<style scoped>\n",
       "    .dataframe tbody tr th:only-of-type {\n",
       "        vertical-align: middle;\n",
       "    }\n",
       "\n",
       "    .dataframe tbody tr th {\n",
       "        vertical-align: top;\n",
       "    }\n",
       "\n",
       "    .dataframe thead th {\n",
       "        text-align: right;\n",
       "    }\n",
       "</style>\n",
       "<table border=\"1\" class=\"dataframe\">\n",
       "  <thead>\n",
       "    <tr style=\"text-align: right;\">\n",
       "      <th></th>\n",
       "      <th>transactionId</th>\n",
       "      <th>visitorId</th>\n",
       "      <th>date</th>\n",
       "      <th>revenue</th>\n",
       "      <th>group</th>\n",
       "    </tr>\n",
       "  </thead>\n",
       "  <tbody>\n",
       "    <tr>\n",
       "      <th>0</th>\n",
       "      <td>3667963787</td>\n",
       "      <td>3312258926</td>\n",
       "      <td>2019-08-15</td>\n",
       "      <td>1650</td>\n",
       "      <td>B</td>\n",
       "    </tr>\n",
       "    <tr>\n",
       "      <th>1</th>\n",
       "      <td>2804400009</td>\n",
       "      <td>3642806036</td>\n",
       "      <td>2019-08-15</td>\n",
       "      <td>730</td>\n",
       "      <td>B</td>\n",
       "    </tr>\n",
       "    <tr>\n",
       "      <th>2</th>\n",
       "      <td>2961555356</td>\n",
       "      <td>4069496402</td>\n",
       "      <td>2019-08-15</td>\n",
       "      <td>400</td>\n",
       "      <td>A</td>\n",
       "    </tr>\n",
       "    <tr>\n",
       "      <th>3</th>\n",
       "      <td>3797467345</td>\n",
       "      <td>1196621759</td>\n",
       "      <td>2019-08-15</td>\n",
       "      <td>9759</td>\n",
       "      <td>B</td>\n",
       "    </tr>\n",
       "    <tr>\n",
       "      <th>4</th>\n",
       "      <td>2282983706</td>\n",
       "      <td>2322279887</td>\n",
       "      <td>2019-08-15</td>\n",
       "      <td>2308</td>\n",
       "      <td>B</td>\n",
       "    </tr>\n",
       "    <tr>\n",
       "      <th>5</th>\n",
       "      <td>182168103</td>\n",
       "      <td>935554773</td>\n",
       "      <td>2019-08-15</td>\n",
       "      <td>2210</td>\n",
       "      <td>B</td>\n",
       "    </tr>\n",
       "    <tr>\n",
       "      <th>6</th>\n",
       "      <td>398296753</td>\n",
       "      <td>2900797465</td>\n",
       "      <td>2019-08-15</td>\n",
       "      <td>1860</td>\n",
       "      <td>B</td>\n",
       "    </tr>\n",
       "    <tr>\n",
       "      <th>7</th>\n",
       "      <td>2626614568</td>\n",
       "      <td>78758296</td>\n",
       "      <td>2019-08-15</td>\n",
       "      <td>1044</td>\n",
       "      <td>A</td>\n",
       "    </tr>\n",
       "    <tr>\n",
       "      <th>8</th>\n",
       "      <td>1576988021</td>\n",
       "      <td>295230930</td>\n",
       "      <td>2019-08-15</td>\n",
       "      <td>13710</td>\n",
       "      <td>A</td>\n",
       "    </tr>\n",
       "    <tr>\n",
       "      <th>9</th>\n",
       "      <td>1506739906</td>\n",
       "      <td>1882260405</td>\n",
       "      <td>2019-08-15</td>\n",
       "      <td>1855</td>\n",
       "      <td>B</td>\n",
       "    </tr>\n",
       "  </tbody>\n",
       "</table>\n",
       "</div>"
      ],
      "text/plain": [
       "   transactionId   visitorId        date  revenue group\n",
       "0     3667963787  3312258926  2019-08-15     1650     B\n",
       "1     2804400009  3642806036  2019-08-15      730     B\n",
       "2     2961555356  4069496402  2019-08-15      400     A\n",
       "3     3797467345  1196621759  2019-08-15     9759     B\n",
       "4     2282983706  2322279887  2019-08-15     2308     B\n",
       "5      182168103   935554773  2019-08-15     2210     B\n",
       "6      398296753  2900797465  2019-08-15     1860     B\n",
       "7     2626614568    78758296  2019-08-15     1044     A\n",
       "8     1576988021   295230930  2019-08-15    13710     A\n",
       "9     1506739906  1882260405  2019-08-15     1855     B"
      ]
     },
     "execution_count": 6,
     "metadata": {},
     "output_type": "execute_result"
    }
   ],
   "source": [
    "orders = pd.read_csv('orders.csv', sep=',')\n",
    "orders.head(10)"
   ]
  },
  {
   "cell_type": "code",
   "execution_count": 9,
   "metadata": {},
   "outputs": [
    {
     "data": {
      "text/html": [
       "<div>\n",
       "<style scoped>\n",
       "    .dataframe tbody tr th:only-of-type {\n",
       "        vertical-align: middle;\n",
       "    }\n",
       "\n",
       "    .dataframe tbody tr th {\n",
       "        vertical-align: top;\n",
       "    }\n",
       "\n",
       "    .dataframe thead th {\n",
       "        text-align: right;\n",
       "    }\n",
       "</style>\n",
       "<table border=\"1\" class=\"dataframe\">\n",
       "  <thead>\n",
       "    <tr style=\"text-align: right;\">\n",
       "      <th></th>\n",
       "      <th>date</th>\n",
       "      <th>group</th>\n",
       "      <th>visitors</th>\n",
       "    </tr>\n",
       "  </thead>\n",
       "  <tbody>\n",
       "    <tr>\n",
       "      <th>0</th>\n",
       "      <td>2019-08-01</td>\n",
       "      <td>A</td>\n",
       "      <td>719</td>\n",
       "    </tr>\n",
       "    <tr>\n",
       "      <th>1</th>\n",
       "      <td>2019-08-02</td>\n",
       "      <td>A</td>\n",
       "      <td>619</td>\n",
       "    </tr>\n",
       "    <tr>\n",
       "      <th>2</th>\n",
       "      <td>2019-08-03</td>\n",
       "      <td>A</td>\n",
       "      <td>507</td>\n",
       "    </tr>\n",
       "    <tr>\n",
       "      <th>3</th>\n",
       "      <td>2019-08-04</td>\n",
       "      <td>A</td>\n",
       "      <td>717</td>\n",
       "    </tr>\n",
       "    <tr>\n",
       "      <th>4</th>\n",
       "      <td>2019-08-05</td>\n",
       "      <td>A</td>\n",
       "      <td>756</td>\n",
       "    </tr>\n",
       "    <tr>\n",
       "      <th>5</th>\n",
       "      <td>2019-08-06</td>\n",
       "      <td>A</td>\n",
       "      <td>667</td>\n",
       "    </tr>\n",
       "    <tr>\n",
       "      <th>6</th>\n",
       "      <td>2019-08-07</td>\n",
       "      <td>A</td>\n",
       "      <td>644</td>\n",
       "    </tr>\n",
       "    <tr>\n",
       "      <th>7</th>\n",
       "      <td>2019-08-08</td>\n",
       "      <td>A</td>\n",
       "      <td>610</td>\n",
       "    </tr>\n",
       "    <tr>\n",
       "      <th>8</th>\n",
       "      <td>2019-08-09</td>\n",
       "      <td>A</td>\n",
       "      <td>617</td>\n",
       "    </tr>\n",
       "    <tr>\n",
       "      <th>9</th>\n",
       "      <td>2019-08-10</td>\n",
       "      <td>A</td>\n",
       "      <td>406</td>\n",
       "    </tr>\n",
       "  </tbody>\n",
       "</table>\n",
       "</div>"
      ],
      "text/plain": [
       "         date group  visitors\n",
       "0  2019-08-01     A       719\n",
       "1  2019-08-02     A       619\n",
       "2  2019-08-03     A       507\n",
       "3  2019-08-04     A       717\n",
       "4  2019-08-05     A       756\n",
       "5  2019-08-06     A       667\n",
       "6  2019-08-07     A       644\n",
       "7  2019-08-08     A       610\n",
       "8  2019-08-09     A       617\n",
       "9  2019-08-10     A       406"
      ]
     },
     "execution_count": 9,
     "metadata": {},
     "output_type": "execute_result"
    }
   ],
   "source": [
    "visitors = pd.read_csv('visitors.csv', sep=',')\n",
    "visitors.head(10)"
   ]
  },
  {
   "cell_type": "markdown",
   "metadata": {},
   "source": [
    "#### 1. Построим график кумулятивной выручки по группам. Сделаем выводы и предположения."
   ]
  },
  {
   "cell_type": "code",
   "execution_count": 10,
   "metadata": {},
   "outputs": [
    {
     "data": {
      "image/png": "[encoded data removed]",
      "text/plain": [
       "<Figure size 640x480 with 1 Axes>"
      ]
     },
     "metadata": {},
     "output_type": "display_data"
    }
   ],
   "source": [
    "orders['date'] = orders['date'].map(\n",
    "    lambda x: dt.datetime.strptime(x, '%Y-%m-%d')\n",
    ")\n",
    "\n",
    "visitors['date'] = visitors['date'].map(\n",
    "    lambda x: dt.datetime.strptime(x, '%Y-%m-%d')\n",
    ")\n",
    "\n",
    "datesGroups = orders[['date', 'group']].drop_duplicates()\n",
    "\n",
    "ordersAggregated = datesGroups.apply(\n",
    "    lambda x: orders[\n",
    "        np.logical_and(\n",
    "            orders['date'] <= x['date'], orders['group'] == x['group']\n",
    "        )\n",
    "    ].agg(\n",
    "        {\n",
    "            'date': 'max',\n",
    "            'group': 'max',\n",
    "            'transactionId': 'nunique',\n",
    "            'visitorId': 'nunique',\n",
    "            'revenue': 'sum',\n",
    "        }\n",
    "    ),\n",
    "    axis=1,\n",
    ").sort_values(by=['date', 'group'])\n",
    "\n",
    "visitorsAggregated = datesGroups.apply(\n",
    "    lambda x: visitors[\n",
    "        np.logical_and(\n",
    "            visitors['date'] <= x['date'], visitors['group'] == x['group']\n",
    "        )\n",
    "    ].agg({'date': 'max', 'group': 'max', 'visitors': 'sum'}),\n",
    "    axis=1,\n",
    ").sort_values(by=['date', 'group'])\n",
    "\n",
    "cumulativeData = ordersAggregated.merge(\n",
    "    visitorsAggregated, left_on=['date', 'group'], right_on=['date', 'group']\n",
    ")\n",
    "cumulativeData.columns = [\n",
    "    'date',\n",
    "    'group',\n",
    "    'orders',\n",
    "    'buyers',\n",
    "    'revenue',\n",
    "    'visitors',\n",
    "]\n",
    "\n",
    "cumulativeRevenueA = cumulativeData[cumulativeData['group']=='A'][['date','revenue', 'orders']]\n",
    "\n",
    "cumulativeRevenueB = cumulativeData[cumulativeData['group']=='B'][['date','revenue', 'orders']]\n",
    "\n",
    "\n",
    "plt.plot(cumulativeRevenueA['date'], cumulativeRevenueA['revenue'], label='A')\n",
    "\n",
    "plt.plot(cumulativeRevenueB['date'], cumulativeRevenueB['revenue'], label='B')\n",
    "\n",
    "\n",
    "plt.title(\"Кумулятивная выручка по группам\", loc='center')\n",
    "plt.xlabel(\"Дни\")\n",
    "plt.ylabel(\"Кумулятивная выручка\")\n",
    "plt.xticks(rotation=60)\n",
    "plt.legend();\n"
   ]
  },
  {
   "cell_type": "markdown",
   "metadata": {},
   "source": [
    "Выручка на протяжении всего времени эксперииента растет. Группа А растет равномерно. Группа В - виден сильный скачок примерно d 18-20 августа - это может сигнализировать о всплесках числа заказов, либо о появлении очень дорогих заказов в выборке. Такие выбросы проанализируем далее."
   ]
  },
  {
   "cell_type": "markdown",
   "metadata": {},
   "source": [
    "#### 2. Построим график кумулятивного среднего чека по группам. Сделаем выводы и предположения."
   ]
  },
  {
   "cell_type": "code",
   "execution_count": 11,
   "metadata": {},
   "outputs": [
    {
     "data": {
      "image/png": "[encoded data removed]",
      "text/plain": [
       "<Figure size 640x480 with 1 Axes>"
      ]
     },
     "metadata": {},
     "output_type": "display_data"
    }
   ],
   "source": [
    "plt.plot(cumulativeRevenueA['date'], cumulativeRevenueA['revenue']/cumulativeRevenueA['orders'], label='A')\n",
    "plt.plot(cumulativeRevenueB['date'], cumulativeRevenueB['revenue']/cumulativeRevenueB['orders'], label='B')\n",
    "plt.title(\"Кумулятивный средний чек по группам\", loc='center')\n",
    "plt.xlabel(\"Дни\")\n",
    "plt.ylabel(\"Кумулятивный средний чек\")\n",
    "plt.xticks(rotation=60)\n",
    "plt.legend();"
   ]
  },
  {
   "cell_type": "markdown",
   "metadata": {},
   "source": [
    "Средний чек группы А установился и стал равномерным во второй половине эксперимента. По группе В был очень резки скачок в середине эксперимента и после было снижение - возможно, в группу B во второй половине теста попали крупные заказы (резкий всплеск на графике). Тогда ей нужно больше данных, чтобы прийти к реальному среднему чеку и установиться на его уровне."
   ]
  },
  {
   "cell_type": "markdown",
   "metadata": {},
   "source": [
    "#### 3. Построим график относительного изменения кумулятивного среднего чека группы B к группе A. Сделаем выводы и предположения."
   ]
  },
  {
   "cell_type": "code",
   "execution_count": 12,
   "metadata": {},
   "outputs": [
    {
     "data": {
      "image/png": "[encoded data removed]",
      "text/plain": [
       "<Figure size 640x480 with 1 Axes>"
      ]
     },
     "metadata": {},
     "output_type": "display_data"
    }
   ],
   "source": [
    "# собираем данные в одном датафрейме\n",
    "mergedCumulativeRevenue = cumulativeRevenueA.merge(cumulativeRevenueB, left_on='date', right_on='date', how='left', suffixes=['A', 'B'])\n",
    "\n",
    "# cтроим отношение средних чеков\n",
    "plt.plot(mergedCumulativeRevenue['date'], (mergedCumulativeRevenue['revenueB']/mergedCumulativeRevenue['ordersB'])/(mergedCumulativeRevenue['revenueA']/mergedCumulativeRevenue['ordersA'])-1)\n",
    "\n",
    "# добавляем ось X\n",
    "plt.axhline(y=0, color='black', linestyle='--') \n",
    "\n",
    "plt.title(\"График относительного изменения кумулятивного среднего чека группы B к группе A\", loc='center')\n",
    "plt.xlabel(\"Дни\")\n",
    "plt.ylabel(\"Относительное изменение\")\n",
    "plt.xticks(rotation=60);"
   ]
  },
  {
   "cell_type": "markdown",
   "metadata": {},
   "source": [
    "В нескольких точках график различия между сегментами резко «скачет». Где-то уж точно спрятались крупные заказы и выбросы! Найдём их позже."
   ]
  },
  {
   "cell_type": "markdown",
   "metadata": {},
   "source": [
    "#### 4. Построим график кумулятивного среднего количества заказов на посетителя по группам (график кумулятивной конверсии). Сделаем выводы и предположения."
   ]
  },
  {
   "cell_type": "code",
   "execution_count": 13,
   "metadata": {},
   "outputs": [
    {
     "data": {
      "image/png": "[encoded data removed]",
      "text/plain": [
       "<Figure size 640x480 with 1 Axes>"
      ]
     },
     "metadata": {},
     "output_type": "display_data"
    }
   ],
   "source": [
    "# считаем кумулятивную конверсию\n",
    "cumulativeData['conversion'] = cumulativeData['orders']/cumulativeData['visitors']\n",
    "\n",
    "# отделяем данные по группе A\n",
    "cumulativeDataA = cumulativeData[cumulativeData['group']=='A']\n",
    "\n",
    "# отделяем данные по группе B\n",
    "cumulativeDataB = cumulativeData[cumulativeData['group']=='B']\n",
    "\n",
    "# строим графики\n",
    "plt.plot(cumulativeDataA['date'], cumulativeDataA['conversion'], label='A')\n",
    "plt.plot(cumulativeDataB['date'], cumulativeDataB['conversion'], label='B')\n",
    "plt.legend()\n",
    "\n",
    "# задаем масштаб осей\n",
    "plt.axis([dt.datetime(2019, 8, 1), dt.datetime(2019, 8, 31), 0, 0.05])\n",
    "\n",
    "\n",
    "plt.title(\"График кумулятивной конверсии\", loc='center')\n",
    "plt.xlabel(\"Дни\")\n",
    "plt.ylabel(\"Кумулятивная конверсия\")\n",
    "plt.xticks(rotation=60);"
   ]
  },
  {
   "cell_type": "markdown",
   "metadata": {},
   "source": [
    "Получился симметричный график, но буквально сразу после начала эксперимента конверсия группы В вырвалась вперёд и зафиксировалась, а конверсия группы А просела и также зафиксировалась."
   ]
  },
  {
   "cell_type": "markdown",
   "metadata": {},
   "source": [
    "#### 5. Построим график относительного изменения кумулятивного среднего количества заказов на посетителя группы B к группе A (график относительного различия кумулятивных конверсий). Сделаем выводы и предположения."
   ]
  },
  {
   "cell_type": "code",
   "execution_count": 14,
   "metadata": {},
   "outputs": [
    {
     "data": {
      "image/png": "[encoded data removed]",
      "text/plain": [
       "<Figure size 640x480 with 1 Axes>"
      ]
     },
     "metadata": {},
     "output_type": "display_data"
    }
   ],
   "source": [
    "mergedCumulativeConversions = cumulativeDataA[['date','conversion']].merge(cumulativeDataB[['date','conversion']], left_on='date', right_on='date', how='left', suffixes=['A', 'B'])\n",
    "\n",
    "plt.plot(mergedCumulativeConversions['date'], mergedCumulativeConversions['conversionB']/mergedCumulativeConversions['conversionA']-1, label=\"Относительный прирост конверсии группы B относительно группы A\")\n",
    "plt.axhline(y=0, color='black', linestyle='--')\n",
    "plt.axhline(y=-0.1, color='grey', linestyle='--')\n",
    "plt.axis([dt.datetime(2019, 8, 1), dt.datetime(2019, 8, 31), -0.6, 0.6])\n",
    "\n",
    "plt.title(\"График относительного изменения кумулятивного среднего количества заказов\", loc='center')\n",
    "plt.xlabel(\"Дни\")\n",
    "plt.ylabel(\"Относительное изменение\")\n",
    "plt.xticks(rotation=60);\n"
   ]
  },
  {
   "cell_type": "markdown",
   "metadata": {},
   "source": [
    "С самого начала теста показатели группы B былы выше показателей группы A.\n",
    "Конверсия группы В колебалась в течение эксперимента, возрастала и проседала - в целом отношение конверсии ещё не установилось, и сейчас делать какие-либо выводы по тесту нельзя. Впрочем, сперва стоит проанализировать аномалии, возможно, они изменят картину. Сделаем это далее."
   ]
  },
  {
   "cell_type": "markdown",
   "metadata": {},
   "source": [
    "#### 6. Построим точечный график количества заказов по пользователям. Сделаем выводы и предположения."
   ]
  },
  {
   "cell_type": "code",
   "execution_count": 15,
   "metadata": {},
   "outputs": [
    {
     "name": "stdout",
     "output_type": "stream",
     "text": [
      "       visitorId  transactionId\n",
      "1023  4256040402             11\n",
      "591   2458001652             11\n",
      "569   2378935119              9\n",
      "487   2038680547              8\n",
      "44     199603092              5\n",
      "744   3062433592              5\n",
      "55     237748145              5\n",
      "917   3803269165              5\n",
      "299   1230306981              5\n",
      "897   3717692402              5\n"
     ]
    },
    {
     "data": {
      "image/png": "[encoded data removed]",
      "text/plain": [
       "<Figure size 640x480 with 1 Axes>"
      ]
     },
     "metadata": {},
     "output_type": "display_data"
    }
   ],
   "source": [
    "ordersByUsers = (\n",
    "    orders.groupby('visitorId', as_index=False)\n",
    "    .agg({'transactionId': 'nunique'})\n",
    ")\n",
    "ordersByUsers.columns = ['visitorId', 'transactionId']\n",
    "\n",
    "print(ordersByUsers.sort_values(by='transactionId', ascending=False).head(10))\n",
    "\n",
    "# серия из чисел от 0 до количества наблюдений в ordersByUsers\n",
    "x_values = pd.Series(range(0, len(ordersByUsers)))\n",
    "\n",
    "plt.scatter(x_values, ordersByUsers['transactionId']) \n",
    "\n",
    "plt.title(\"Точечный график количества заказов по пользователям.\", loc='center')\n",
    "plt.xlabel(\"Количество пользователей\")\n",
    "plt.ylabel(\"Количество заказов\")\n",
    "plt.xticks(rotation=60);"
   ]
  },
  {
   "cell_type": "markdown",
   "metadata": {},
   "source": [
    "Большинство покупателей заказывали один-два. Однако доля пользователей с 3-5 заказами тоже значительна. Их точная доля не ясна — непонятно, считать их аномалиями или нет. "
   ]
  },
  {
   "cell_type": "markdown",
   "metadata": {},
   "source": [
    "#### 7. Посчитаем 95-й и 99-й перцентили количества заказов на пользователя. Выберем границу для определения аномальных пользователей."
   ]
  },
  {
   "cell_type": "code",
   "execution_count": 16,
   "metadata": {},
   "outputs": [
    {
     "name": "stdout",
     "output_type": "stream",
     "text": [
      "[1. 2. 4.]\n"
     ]
    }
   ],
   "source": [
    "print(np.percentile(ordersByUsers['transactionId'], [90, 95, 99]))"
   ]
  },
  {
   "cell_type": "markdown",
   "metadata": {},
   "source": [
    "Не более 5% пользователей оформляли больше, чем 2 заказов. И только 1% пользователей заказывали более четырех раз. \n",
    "Разумно выбрать 2 заказа на одного пользователя за верхнюю границу числа заказов, и отсеять аномальных пользователей по ней. Удалением таких строк сделаем далее."
   ]
  },
  {
   "cell_type": "markdown",
   "metadata": {},
   "source": [
    "#### 8. Построим точечный график стоимостей заказов. Сделаем выводы и предположения."
   ]
  },
  {
   "cell_type": "code",
   "execution_count": 17,
   "metadata": {},
   "outputs": [
    {
     "data": {
      "image/png": "[encoded data removed]",
      "text/plain": [
       "<Figure size 640x480 with 1 Axes>"
      ]
     },
     "metadata": {},
     "output_type": "display_data"
    }
   ],
   "source": [
    "x_values = pd.Series(range(0,len(orders['revenue'])))\n",
    "plt.scatter(x_values, orders['revenue']) \n",
    "plt.title(\"Точечный график стоимости заказов\", loc='center')\n",
    "plt.xlabel(\"Количество пользователей\")\n",
    "plt.ylabel(\"Стоимость заказа, млн. руб\")\n",
    "plt.xticks(rotation=60);"
   ]
  },
  {
   "cell_type": "markdown",
   "metadata": {},
   "source": [
    "Есть крайне немного дорогих заказов (более 1,2 млн и 200 тыс). По графику можно выбрать границу аномальных заказов более 30 000 - 40 000. Однако принято отсеивать от 1% до 5% наблюдений с крайними значениями. "
   ]
  },
  {
   "cell_type": "markdown",
   "metadata": {},
   "source": [
    "#### 9. Посчитаем 95-й и 99-й перцентили стоимости заказов. Выберем границу для определения аномальных заказов."
   ]
  },
  {
   "cell_type": "code",
   "execution_count": 18,
   "metadata": {},
   "outputs": [
    {
     "name": "stdout",
     "output_type": "stream",
     "text": [
      "[18168.  28000.  58233.2]\n"
     ]
    }
   ],
   "source": [
    "print(np.percentile(orders['revenue'], [90, 95, 99]))"
   ]
  },
  {
   "cell_type": "markdown",
   "metadata": {},
   "source": [
    "Не более 5% заказов дороже 28 000 рублей и не более 1% дороже 58 233,2 рублей. Разумно выбрать сумму заказа менее 28 000 на одного пользователя за верхнюю границу стоимости заказов, и отсеять аномальные заказы. Удалением таких строк сделаем далее."
   ]
  },
  {
   "cell_type": "markdown",
   "metadata": {},
   "source": [
    "#### 10. Посчитаем статистическую значимость различий в среднем количестве заказов на посетителя между группами по «сырым» данным. Сделаем выводы и предположения."
   ]
  },
  {
   "cell_type": "code",
   "execution_count": 19,
   "metadata": {},
   "outputs": [
    {
     "name": "stdout",
     "output_type": "stream",
     "text": [
      "0.01679\n",
      "0.138\n"
     ]
    }
   ],
   "source": [
    "visitorsADaily = visitors[visitors['group'] == 'A'][['date', 'visitors']] \n",
    "visitorsADaily.columns = ['date', 'visitorsPerDateA'] \n",
    " \n",
    "visitorsACummulative = visitorsADaily.apply( \n",
    "    lambda x: visitorsADaily[visitorsADaily['date'] <= x['date']].agg(\n",
    "        {'date': 'max', 'visitorsPerDateA': 'sum'}\n",
    "    ),\n",
    "    axis=1,\n",
    ")\n",
    "visitorsACummulative.columns = ['date', 'visitorsCummulativeA']\n",
    " \n",
    "visitorsBDaily = visitors[visitors['group'] == 'B'][['date', 'visitors']]\n",
    "visitorsBDaily.columns = ['date', 'visitorsPerDateB']\n",
    " \n",
    "visitorsBCummulative = visitorsBDaily.apply(\n",
    "    lambda x: visitorsBDaily[visitorsBDaily['date'] <= x['date']].agg(\n",
    "        {'date': 'max', 'visitorsPerDateB': 'sum'}\n",
    "    ),\n",
    "    axis=1,\n",
    ")\n",
    "visitorsBCummulative.columns = ['date', 'visitorsCummulativeB']\n",
    " \n",
    "ordersADaily = (\n",
    "    orders[orders['group'] == 'A'][['date', 'transactionId', 'visitorId', 'revenue']]\n",
    "    .groupby('date', as_index=False)\n",
    "    .agg({'transactionId': pd.Series.nunique, 'revenue': 'sum'})\n",
    ")\n",
    "ordersADaily.columns = ['date', 'ordersPerDateA', 'revenuePerDateA']\n",
    " \n",
    "ordersACummulative = ordersADaily.apply(\n",
    "    lambda x: ordersADaily[ordersADaily['date'] <= x['date']].agg(\n",
    "        {'date': 'max', 'ordersPerDateA': 'sum', 'revenuePerDateA': 'sum'}\n",
    "    ),\n",
    "    axis=1,\n",
    ").sort_values(by=['date'])\n",
    "ordersACummulative.columns = [\n",
    "    'date',\n",
    "    'ordersCummulativeA',\n",
    "    'revenueCummulativeA',\n",
    "]\n",
    " \n",
    "ordersBDaily = (\n",
    "    orders[orders['group'] == 'B'][['date', 'transactionId', 'visitorId', 'revenue']]\n",
    "    .groupby('date', as_index=False)\n",
    "    .agg({'transactionId': pd.Series.nunique, 'revenue': 'sum'})\n",
    ")\n",
    "ordersBDaily.columns = ['date', 'ordersPerDateB', 'revenuePerDateB']\n",
    " \n",
    "ordersBCummulative = ordersBDaily.apply(\n",
    "    lambda x: ordersBDaily[ordersBDaily['date'] <= x['date']].agg(\n",
    "        {'date': 'max', 'ordersPerDateB': 'sum', 'revenuePerDateB': 'sum'}\n",
    "    ),\n",
    "    axis=1,\n",
    ").sort_values(by=['date'])\n",
    "ordersBCummulative.columns = [\n",
    "    'date',\n",
    "    'ordersCummulativeB',\n",
    "    'revenueCummulativeB',\n",
    "]\n",
    " \n",
    "data = (\n",
    "    ordersADaily.merge(\n",
    "        ordersBDaily, left_on='date', right_on='date', how='left'\n",
    "    )\n",
    "    .merge(ordersACummulative, left_on='date', right_on='date', how='left')\n",
    "    .merge(ordersBCummulative, left_on='date', right_on='date', how='left')\n",
    "    .merge(visitorsADaily, left_on='date', right_on='date', how='left')\n",
    "    .merge(visitorsBDaily, left_on='date', right_on='date', how='left')\n",
    "    .merge(visitorsACummulative, left_on='date', right_on='date', how='left')\n",
    "    .merge(visitorsBCummulative, left_on='date', right_on='date', how='left')\n",
    ")\n",
    " \n",
    "#print(data.head(5))\n",
    " \n",
    "ordersByUsersA = (\n",
    "    orders[orders['group'] == 'A']\n",
    "    .groupby('visitorId', as_index=False)\n",
    "    .agg({'transactionId': pd.Series.nunique})\n",
    ")\n",
    "ordersByUsersA.columns = ['visitorId', 'orders']\n",
    " \n",
    "ordersByUsersB = (\n",
    "    orders[orders['group'] == 'B']\n",
    "    .groupby('visitorId', as_index=False)\n",
    "    .agg({'transactionId': pd.Series.nunique})\n",
    ")\n",
    "ordersByUsersB.columns = ['visitorId', 'orders']\n",
    " \n",
    "sampleA = pd.concat(\n",
    "    [\n",
    "        ordersByUsersA['orders'],\n",
    "        pd.Series(\n",
    "            0,\n",
    "            index=np.arange(\n",
    "                data['visitorsPerDateA'].sum() - len(ordersByUsersA['orders'])\n",
    "            ),\n",
    "            name='orders',\n",
    "        ),\n",
    "    ],\n",
    "    axis=0,\n",
    ")\n",
    "sampleB = pd.concat(\n",
    "    [\n",
    "        ordersByUsersB['orders'],\n",
    "        pd.Series(\n",
    "            0,\n",
    "            index=np.arange(\n",
    "                data['visitorsPerDateB'].sum() - len(ordersByUsersB['orders'])\n",
    "            ),\n",
    "            name='orders',\n",
    "        ),\n",
    "    ],\n",
    "    axis=0,\n",
    ")\n",
    " \n",
    "print(\"{0:.5f}\".format(stats.mannwhitneyu(sampleA, sampleB)[1]))\n",
    "print(\n",
    "    \"{0:.3f}\".format(\n",
    "        (data['ordersPerDateB'].sum() / data['visitorsPerDateB'].sum())\n",
    "        / (data['ordersPerDateA'].sum() / data['visitorsPerDateA'].sum())\n",
    "        - 1\n",
    "    )\n",
    ")\n"
   ]
  },
  {
   "cell_type": "markdown",
   "metadata": {},
   "source": [
    "P-value значительно меньше 0.05, потому нулевую гипотезу мы отвергаем. Анализ \"сырых данных\" сообщает, что в среднем количестве заказов между группами есть статичстически значимые различия. Относительный прирост среднего группы В к конверсии группы А равен 13,8%"
   ]
  },
  {
   "cell_type": "markdown",
   "metadata": {},
   "source": [
    "#### 11. Посчитаем статистическую значимость различий в среднем чеке заказа между группами по «сырым» данным. Сделаем выводы и предположения."
   ]
  },
  {
   "cell_type": "code",
   "execution_count": 20,
   "metadata": {},
   "outputs": [
    {
     "name": "stdout",
     "output_type": "stream",
     "text": [
      "0.729\n",
      "0.259\n"
     ]
    }
   ],
   "source": [
    "visitorsADaily = visitors[visitors['group'] == 'A'][['date', 'visitors']]\n",
    "visitorsADaily.columns = ['date', 'visitorsPerDateA']\n",
    "\n",
    "visitorsACummulative = visitorsADaily.apply(\n",
    "    lambda x: visitorsADaily[visitorsADaily['date'] <= x['date']].agg(\n",
    "        {'date': 'max', 'visitorsPerDateA': 'sum'}\n",
    "    ),\n",
    "    axis=1,\n",
    ")\n",
    "visitorsACummulative.columns = ['date', 'visitorsCummulativeA']\n",
    "\n",
    "visitorsBDaily = visitors[visitors['group'] == 'B'][['date', 'visitors']]\n",
    "visitorsBDaily.columns = ['date', 'visitorsPerDateB']\n",
    "\n",
    "visitorsBCummulative = visitorsBDaily.apply(\n",
    "    lambda x: visitorsBDaily[visitorsBDaily['date'] <= x['date']].agg(\n",
    "        {'date': 'max', 'visitorsPerDateB': 'sum'}\n",
    "    ),\n",
    "    axis=1,\n",
    ")\n",
    "visitorsBCummulative.columns = ['date', 'visitorsCummulativeB']\n",
    "\n",
    "ordersADaily = (\n",
    "    orders[orders['group'] == 'A'][['date', 'transactionId', 'visitorId', 'revenue']]\n",
    "    .groupby('date', as_index=False)\n",
    "    .agg({'transactionId': pd.Series.nunique, 'revenue': 'sum'})\n",
    ")\n",
    "ordersADaily.columns = ['date', 'ordersPerDateA', 'revenuePerDateA']\n",
    "\n",
    "ordersACummulative = ordersADaily.apply(\n",
    "    lambda x: ordersADaily[ordersADaily['date'] <= x['date']].agg(\n",
    "        {'date': 'max', 'ordersPerDateA': 'sum', 'revenuePerDateA': 'sum'}\n",
    "    ),\n",
    "    axis=1,\n",
    ").sort_values(by=['date'])\n",
    "ordersACummulative.columns = [\n",
    "    'date',\n",
    "    'ordersCummulativeA',\n",
    "    'revenueCummulativeA',\n",
    "]\n",
    "\n",
    "ordersBDaily = (\n",
    "    orders[orders['group'] == 'B'][['date', 'transactionId', 'visitorId', 'revenue']]\n",
    "    .groupby('date', as_index=False)\n",
    "    .agg({'transactionId': pd.Series.nunique, 'revenue': 'sum'})\n",
    ")\n",
    "ordersBDaily.columns = ['date', 'ordersPerDateB', 'revenuePerDateB']\n",
    "\n",
    "ordersBCummulative = ordersBDaily.apply(\n",
    "    lambda x: ordersBDaily[ordersBDaily['date'] <= x['date']].agg(\n",
    "        {'date': 'max', 'ordersPerDateB': 'sum', 'revenuePerDateB': 'sum'}\n",
    "    ),\n",
    "    axis=1,\n",
    ").sort_values(by=['date'])\n",
    "ordersBCummulative.columns = [\n",
    "    'date',\n",
    "    'ordersCummulativeB',\n",
    "    'revenueCummulativeB',\n",
    "]\n",
    "\n",
    "data = (\n",
    "    ordersADaily.merge(\n",
    "        ordersBDaily, left_on='date', right_on='date', how='left'\n",
    "    )\n",
    "    .merge(ordersACummulative, left_on='date', right_on='date', how='left')\n",
    "    .merge(ordersBCummulative, left_on='date', right_on='date', how='left')\n",
    "    .merge(visitorsADaily, left_on='date', right_on='date', how='left')\n",
    "    .merge(visitorsBDaily, left_on='date', right_on='date', how='left')\n",
    "    .merge(visitorsACummulative, left_on='date', right_on='date', how='left')\n",
    "    .merge(visitorsBCummulative, left_on='date', right_on='date', how='left')\n",
    ")\n",
    "\n",
    "ordersByUsersA = (\n",
    "    orders[orders['group'] == 'A']\n",
    "    .groupby('visitorId', as_index=False)\n",
    "    .agg({'transactionId': pd.Series.nunique})\n",
    ")\n",
    "ordersByUsersA.columns = ['visitorId', 'orders']\n",
    "\n",
    "ordersByUsersB = (\n",
    "    orders[orders['group'] == 'B']\n",
    "    .groupby('visitorId', as_index=False)\n",
    "    .agg({'transactionId': pd.Series.nunique})\n",
    ")\n",
    "ordersByUsersB.columns = ['visitorId', 'orders']\n",
    "\n",
    "sampleA = pd.concat(\n",
    "    [\n",
    "        ordersByUsersA['orders'],\n",
    "        pd.Series(\n",
    "            0,\n",
    "            index=np.arange(\n",
    "                data['visitorsPerDateA'].sum() - len(ordersByUsersA['orders'])\n",
    "            ),\n",
    "            name='orders',\n",
    "        ),\n",
    "    ],\n",
    "    axis=0,\n",
    ")\n",
    "\n",
    "sampleB = pd.concat(\n",
    "    [\n",
    "        ordersByUsersB['orders'],\n",
    "        pd.Series(\n",
    "            0,\n",
    "            index=np.arange(\n",
    "                data['visitorsPerDateB'].sum() - len(ordersByUsersB['orders'])\n",
    "            ),\n",
    "            name='orders',\n",
    "        ),\n",
    "    ],\n",
    "    axis=0,\n",
    ")\n",
    "\n",
    "print('{0:.3f}'.format(stats.mannwhitneyu(orders[orders['group']=='A']['revenue'], orders[orders['group']=='B']['revenue'])[1]))\n",
    "print('{0:.3f}'.format(orders[orders['group']=='B']['revenue'].mean()/orders[orders['group']=='A']['revenue'].mean()-1)) "
   ]
  },
  {
   "cell_type": "markdown",
   "metadata": {},
   "source": [
    "P-value больше 0.05 - статистически значимых отличий в среднем чеке между группами нет, несмотря на относительное различие среднего чека между группами в размере 25%"
   ]
  },
  {
   "cell_type": "markdown",
   "metadata": {},
   "source": [
    "#### 12. Посчитаем статистическую значимость различий в среднем количестве заказов на посетителя между группами по «очищенным» данным. Сделаем выводы и предположения."
   ]
  },
  {
   "cell_type": "markdown",
   "metadata": {},
   "source": [
    "для начала очистим данные от аномальных пользователей - по сумме (более 28 000 руб) и количествам заказов (более 2 заказов)"
   ]
  },
  {
   "cell_type": "code",
   "execution_count": 21,
   "metadata": {},
   "outputs": [
    {
     "name": "stdout",
     "output_type": "stream",
     "text": [
      "1099    148427295\n",
      "18      199603092\n",
      "928     204675465\n",
      "23      237748145\n",
      "37      249864742\n",
      "Name: visitorId, dtype: int64\n"
     ]
    }
   ],
   "source": [
    "usersWithManyOrders = pd.concat(\n",
    "    [\n",
    "        ordersByUsersA[ordersByUsersA['orders'] > 2]['visitorId'],\n",
    "        ordersByUsersB[ordersByUsersB['orders'] > 2]['visitorId'],\n",
    "    ],\n",
    "    axis=0,\n",
    ")\n",
    "usersWithExpensiveOrders = orders[orders['revenue'] > 28000]['visitorId']\n",
    "abnormalUsers = (\n",
    "    pd.concat([usersWithManyOrders, usersWithExpensiveOrders], axis=0)\n",
    "    .drop_duplicates()\n",
    "    .sort_values()\n",
    ")\n",
    "print(abnormalUsers.head(5))"
   ]
  },
  {
   "cell_type": "code",
   "execution_count": 22,
   "metadata": {},
   "outputs": [
    {
     "name": "stdout",
     "output_type": "stream",
     "text": [
      "0.01304\n",
      "0.173\n"
     ]
    }
   ],
   "source": [
    "sampleAFiltered = pd.concat(\n",
    "    [\n",
    "        ordersByUsersA[\n",
    "            np.logical_not(ordersByUsersA['visitorId'].isin(abnormalUsers))\n",
    "        ]['orders'],\n",
    "        pd.Series(\n",
    "            0,\n",
    "            index=np.arange(\n",
    "                data['visitorsPerDateA'].sum() - len(ordersByUsersA['orders'])\n",
    "            ),\n",
    "            name='orders',\n",
    "        ),\n",
    "    ],\n",
    "    axis=0,\n",
    ")\n",
    "\n",
    "sampleBFiltered = pd.concat(\n",
    "    [\n",
    "        ordersByUsersB[\n",
    "            np.logical_not(ordersByUsersB['visitorId'].isin(abnormalUsers))\n",
    "        ]['orders'],\n",
    "        pd.Series(\n",
    "            0,\n",
    "            index=np.arange(\n",
    "                data['visitorsPerDateB'].sum() - len(ordersByUsersB['orders'])\n",
    "            ),\n",
    "            name='orders',\n",
    "        ),\n",
    "    ],\n",
    "    axis=0,\n",
    ") \n",
    "\n",
    "print('{0:.5f}'.format(stats.mannwhitneyu(sampleAFiltered, sampleBFiltered)[1]))\n",
    "print('{0:.3f}'.format(sampleBFiltered.mean()/sampleAFiltered.mean()-1)) "
   ]
  },
  {
   "cell_type": "markdown",
   "metadata": {},
   "source": [
    "Как и в результате анализа \"сырых данных\", анализ \"очищенных\" данных показал, что P-value значительно меньше 0.05, что подтверждает, что в среднем количестве заказов между группами есть статичстически значимые различия. Относительный прирост среднего группы В к конверсии группы А равен 17,3%"
   ]
  },
  {
   "cell_type": "markdown",
   "metadata": {},
   "source": [
    "#### 13. Посчитаем статистическую значимость различий в среднем чеке заказа между группами по «очищенным» данным. Сделаем выводы и предположения."
   ]
  },
  {
   "cell_type": "code",
   "execution_count": 23,
   "metadata": {},
   "outputs": [
    {
     "name": "stdout",
     "output_type": "stream",
     "text": [
      "0.738\n",
      "-0.020\n"
     ]
    }
   ],
   "source": [
    "print(\n",
    "    '{0:.3f}'.format(\n",
    "        stats.mannwhitneyu(\n",
    "            orders[\n",
    "                np.logical_and(\n",
    "                    orders['group'] == 'A',\n",
    "                    np.logical_not(orders['visitorId'].isin(abnormalUsers)),\n",
    "                )\n",
    "            ]['revenue'],\n",
    "            orders[\n",
    "                np.logical_and(\n",
    "                    orders['group'] == 'B',\n",
    "                    np.logical_not(orders['visitorId'].isin(abnormalUsers)),\n",
    "                )\n",
    "            ]['revenue'],\n",
    "        )[1]\n",
    "    )\n",
    ")\n",
    "\n",
    "print(\n",
    "    \"{0:.3f}\".format(\n",
    "        orders[\n",
    "            np.logical_and(\n",
    "                orders['group'] == 'B',\n",
    "                np.logical_not(orders['visitorId'].isin(abnormalUsers)),\n",
    "            )\n",
    "        ]['revenue'].mean()\n",
    "        / orders[\n",
    "            np.logical_and(\n",
    "                orders['group'] == 'A',\n",
    "                np.logical_not(orders['visitorId'].isin(abnormalUsers)),\n",
    "            )\n",
    "        ]['revenue'].mean()\n",
    "        - 1\n",
    "    )\n",
    ") "
   ]
  },
  {
   "cell_type": "markdown",
   "metadata": {},
   "source": [
    "При обработке \"очищенных\" данных статистическая значимость в размере чека между группами А и В не появилась."
   ]
  },
  {
   "cell_type": "markdown",
   "metadata": {},
   "source": [
    "#### 14. Примем решение по результатам теста и объясним его."
   ]
  },
  {
   "cell_type": "markdown",
   "metadata": {},
   "source": [
    "Решение - Остановить тест, зафиксировать победу одной из групп."
   ]
  },
  {
   "cell_type": "markdown",
   "metadata": {},
   "source": [
    "Группа В показала более высокие статистически значимые показатели кумклятивной вырочки, кумулятивной конверсии и количества заказов. При этом статистической значимого различия в сумме заказов между группой А и группой В не обнаружено. "
   ]
  }
 ],
 "metadata": {
  "ExecuteTimeLog": [
   {
    "duration": 79,
    "start_time": "2023-05-02T18:30:03.551Z"
   },
   {
    "duration": 418,
    "start_time": "2023-05-02T18:39:28.548Z"
   },
   {
    "duration": 79,
    "start_time": "2023-05-02T18:41:21.550Z"
   },
   {
    "duration": 60,
    "start_time": "2023-05-02T18:41:53.204Z"
   },
   {
    "duration": 33,
    "start_time": "2023-05-02T18:42:07.461Z"
   },
   {
    "duration": 29,
    "start_time": "2023-05-02T18:42:49.284Z"
   },
   {
    "duration": 87,
    "start_time": "2023-05-02T18:46:05.043Z"
   },
   {
    "duration": 8,
    "start_time": "2023-05-02T18:46:38.884Z"
   },
   {
    "duration": 11,
    "start_time": "2023-05-02T18:49:15.560Z"
   },
   {
    "duration": 9,
    "start_time": "2023-05-02T18:49:43.829Z"
   },
   {
    "duration": 9,
    "start_time": "2023-05-02T18:50:07.393Z"
   },
   {
    "duration": 84,
    "start_time": "2023-05-02T18:50:22.350Z"
   },
   {
    "duration": 14,
    "start_time": "2023-05-02T18:50:33.656Z"
   },
   {
    "duration": 9,
    "start_time": "2023-05-02T18:50:44.403Z"
   },
   {
    "duration": 10,
    "start_time": "2023-05-02T18:57:56.576Z"
   },
   {
    "duration": 6,
    "start_time": "2023-05-02T19:17:19.406Z"
   },
   {
    "duration": 65,
    "start_time": "2023-05-02T19:39:21.278Z"
   },
   {
    "duration": 29,
    "start_time": "2023-05-02T19:39:30.000Z"
   },
   {
    "duration": 31,
    "start_time": "2023-05-02T19:39:38.591Z"
   },
   {
    "duration": 155,
    "start_time": "2023-05-02T19:40:39.422Z"
   },
   {
    "duration": 51,
    "start_time": "2023-05-02T19:40:50.002Z"
   },
   {
    "duration": 94,
    "start_time": "2023-05-02T19:40:58.898Z"
   },
   {
    "duration": 3,
    "start_time": "2023-05-02T19:42:34.087Z"
   },
   {
    "duration": 32,
    "start_time": "2023-05-02T19:42:35.391Z"
   },
   {
    "duration": 21,
    "start_time": "2023-05-02T19:42:36.157Z"
   },
   {
    "duration": 11,
    "start_time": "2023-05-02T19:42:36.682Z"
   },
   {
    "duration": 57,
    "start_time": "2023-05-02T19:42:37.439Z"
   },
   {
    "duration": 23,
    "start_time": "2023-05-02T19:42:37.616Z"
   },
   {
    "duration": 495,
    "start_time": "2023-05-02T19:44:31.138Z"
   },
   {
    "duration": 10,
    "start_time": "2023-05-02T19:45:59.890Z"
   },
   {
    "duration": 331,
    "start_time": "2023-05-02T19:49:32.388Z"
   },
   {
    "duration": 300,
    "start_time": "2023-05-02T19:50:24.634Z"
   },
   {
    "duration": 337,
    "start_time": "2023-05-02T19:50:47.179Z"
   },
   {
    "duration": 343,
    "start_time": "2023-05-02T19:51:02.330Z"
   },
   {
    "duration": 306,
    "start_time": "2023-05-02T19:51:40.067Z"
   },
   {
    "duration": 289,
    "start_time": "2023-05-02T19:52:10.334Z"
   },
   {
    "duration": 305,
    "start_time": "2023-05-02T19:52:24.074Z"
   },
   {
    "duration": 568,
    "start_time": "2023-05-02T19:55:05.811Z"
   },
   {
    "duration": 6,
    "start_time": "2023-05-02T19:55:38.538Z"
   },
   {
    "duration": 5,
    "start_time": "2023-05-02T19:56:15.418Z"
   },
   {
    "duration": 394,
    "start_time": "2023-05-02T19:56:30.814Z"
   },
   {
    "duration": 9,
    "start_time": "2023-05-02T19:58:00.838Z"
   },
   {
    "duration": 299,
    "start_time": "2023-05-02T19:58:02.206Z"
   },
   {
    "duration": 5,
    "start_time": "2023-05-02T19:58:38.338Z"
   },
   {
    "duration": 13,
    "start_time": "2023-05-02T20:00:06.731Z"
   },
   {
    "duration": 4,
    "start_time": "2023-05-02T20:00:20.024Z"
   },
   {
    "duration": 5,
    "start_time": "2023-05-02T20:00:20.501Z"
   },
   {
    "duration": 11,
    "start_time": "2023-05-02T20:00:21.007Z"
   },
   {
    "duration": 3,
    "start_time": "2023-05-02T20:03:53.252Z"
   },
   {
    "duration": 84,
    "start_time": "2023-05-02T20:03:53.259Z"
   },
   {
    "duration": 11,
    "start_time": "2023-05-02T20:03:53.346Z"
   },
   {
    "duration": 14,
    "start_time": "2023-05-02T20:03:53.359Z"
   },
   {
    "duration": 93,
    "start_time": "2023-05-02T20:03:53.375Z"
   },
   {
    "duration": 62,
    "start_time": "2023-05-02T20:03:53.470Z"
   },
   {
    "duration": 322,
    "start_time": "2023-05-02T20:03:53.534Z"
   },
   {
    "duration": 308,
    "start_time": "2023-05-02T20:07:02.919Z"
   },
   {
    "duration": 296,
    "start_time": "2023-05-02T20:08:49.341Z"
   },
   {
    "duration": 305,
    "start_time": "2023-05-02T20:18:28.134Z"
   },
   {
    "duration": 298,
    "start_time": "2023-05-02T20:19:04.850Z"
   },
   {
    "duration": 798,
    "start_time": "2023-05-03T05:59:26.906Z"
   },
   {
    "duration": 65,
    "start_time": "2023-05-03T05:59:27.819Z"
   },
   {
    "duration": 12,
    "start_time": "2023-05-03T05:59:31.019Z"
   },
   {
    "duration": 72,
    "start_time": "2023-05-03T05:59:33.217Z"
   },
   {
    "duration": 13,
    "start_time": "2023-05-03T05:59:49.011Z"
   },
   {
    "duration": 80,
    "start_time": "2023-05-03T05:59:53.010Z"
   },
   {
    "duration": 62,
    "start_time": "2023-05-03T05:59:53.730Z"
   },
   {
    "duration": 572,
    "start_time": "2023-05-03T05:59:54.322Z"
   },
   {
    "duration": 323,
    "start_time": "2023-05-03T06:40:10.017Z"
   },
   {
    "duration": 3,
    "start_time": "2023-05-03T06:40:50.871Z"
   },
   {
    "duration": 26,
    "start_time": "2023-05-03T06:40:51.765Z"
   },
   {
    "duration": 9,
    "start_time": "2023-05-03T06:40:55.301Z"
   },
   {
    "duration": 10,
    "start_time": "2023-05-03T06:41:01.911Z"
   },
   {
    "duration": 44,
    "start_time": "2023-05-03T06:41:04.959Z"
   },
   {
    "duration": 27,
    "start_time": "2023-05-03T06:41:06.190Z"
   },
   {
    "duration": 547,
    "start_time": "2023-05-03T06:41:06.847Z"
   },
   {
    "duration": 455,
    "start_time": "2023-05-03T06:41:41.939Z"
   },
   {
    "duration": 3,
    "start_time": "2023-05-03T06:41:50.613Z"
   },
   {
    "duration": 32,
    "start_time": "2023-05-03T06:41:50.617Z"
   },
   {
    "duration": 9,
    "start_time": "2023-05-03T06:41:50.651Z"
   },
   {
    "duration": 20,
    "start_time": "2023-05-03T06:41:50.661Z"
   },
   {
    "duration": 45,
    "start_time": "2023-05-03T06:41:50.683Z"
   },
   {
    "duration": 18,
    "start_time": "2023-05-03T06:41:50.729Z"
   },
   {
    "duration": 452,
    "start_time": "2023-05-03T06:41:50.749Z"
   },
   {
    "duration": 333,
    "start_time": "2023-05-03T06:42:02.878Z"
   },
   {
    "duration": 302,
    "start_time": "2023-05-03T06:42:05.319Z"
   },
   {
    "duration": 3,
    "start_time": "2023-05-03T06:42:08.591Z"
   },
   {
    "duration": 33,
    "start_time": "2023-05-03T06:42:08.596Z"
   },
   {
    "duration": 9,
    "start_time": "2023-05-03T06:42:08.630Z"
   },
   {
    "duration": 8,
    "start_time": "2023-05-03T06:42:08.642Z"
   },
   {
    "duration": 44,
    "start_time": "2023-05-03T06:42:08.652Z"
   },
   {
    "duration": 19,
    "start_time": "2023-05-03T06:42:08.697Z"
   },
   {
    "duration": 473,
    "start_time": "2023-05-03T06:42:08.718Z"
   },
   {
    "duration": 184,
    "start_time": "2023-05-03T06:50:43.394Z"
   },
   {
    "duration": 358,
    "start_time": "2023-05-03T06:56:37.565Z"
   },
   {
    "duration": 202,
    "start_time": "2023-05-03T06:58:25.406Z"
   },
   {
    "duration": 9,
    "start_time": "2023-05-03T07:00:48.910Z"
   },
   {
    "duration": 8,
    "start_time": "2023-05-03T07:01:16.069Z"
   },
   {
    "duration": 201,
    "start_time": "2023-05-03T07:01:51.420Z"
   },
   {
    "duration": 205,
    "start_time": "2023-05-03T07:02:31.367Z"
   },
   {
    "duration": 168,
    "start_time": "2023-05-03T07:05:45.913Z"
   },
   {
    "duration": 176,
    "start_time": "2023-05-03T07:05:53.357Z"
   },
   {
    "duration": 238,
    "start_time": "2023-05-03T07:05:58.868Z"
   },
   {
    "duration": 177,
    "start_time": "2023-05-03T07:06:04.005Z"
   },
   {
    "duration": 334,
    "start_time": "2023-05-03T07:12:09.877Z"
   },
   {
    "duration": 307,
    "start_time": "2023-05-03T07:13:34.975Z"
   },
   {
    "duration": 293,
    "start_time": "2023-05-03T07:14:30.447Z"
   },
   {
    "duration": 301,
    "start_time": "2023-05-03T07:14:54.301Z"
   },
   {
    "duration": 299,
    "start_time": "2023-05-03T07:15:10.231Z"
   },
   {
    "duration": 9,
    "start_time": "2023-05-03T08:01:22.118Z"
   },
   {
    "duration": 9,
    "start_time": "2023-05-03T08:03:58.718Z"
   },
   {
    "duration": 141,
    "start_time": "2023-05-03T08:04:15.775Z"
   },
   {
    "duration": 4,
    "start_time": "2023-05-03T08:10:45.398Z"
   },
   {
    "duration": 9,
    "start_time": "2023-05-03T08:16:40.032Z"
   },
   {
    "duration": 154,
    "start_time": "2023-05-03T08:16:48.775Z"
   },
   {
    "duration": 143,
    "start_time": "2023-05-03T08:17:35.527Z"
   },
   {
    "duration": 14,
    "start_time": "2023-05-03T08:17:52.257Z"
   },
   {
    "duration": 6,
    "start_time": "2023-05-03T10:45:47.252Z"
   },
   {
    "duration": 578,
    "start_time": "2023-05-03T10:51:24.152Z"
   },
   {
    "duration": 4,
    "start_time": "2023-05-03T10:51:28.628Z"
   },
   {
    "duration": 31,
    "start_time": "2023-05-03T10:51:28.635Z"
   },
   {
    "duration": 9,
    "start_time": "2023-05-03T10:51:28.668Z"
   },
   {
    "duration": 12,
    "start_time": "2023-05-03T10:51:28.680Z"
   },
   {
    "duration": 39,
    "start_time": "2023-05-03T10:51:28.695Z"
   },
   {
    "duration": 18,
    "start_time": "2023-05-03T10:51:28.737Z"
   },
   {
    "duration": 538,
    "start_time": "2023-05-03T10:51:28.756Z"
   },
   {
    "duration": 213,
    "start_time": "2023-05-03T10:51:29.296Z"
   },
   {
    "duration": 332,
    "start_time": "2023-05-03T10:51:29.512Z"
   },
   {
    "duration": 193,
    "start_time": "2023-05-03T10:51:29.846Z"
   },
   {
    "duration": 279,
    "start_time": "2023-05-03T10:51:30.041Z"
   },
   {
    "duration": 182,
    "start_time": "2023-05-03T10:51:30.322Z"
   },
   {
    "duration": 4,
    "start_time": "2023-05-03T10:51:30.506Z"
   },
   {
    "duration": 293,
    "start_time": "2023-05-03T10:51:30.513Z"
   },
   {
    "duration": 6,
    "start_time": "2023-05-03T10:51:30.807Z"
   },
   {
    "duration": 145,
    "start_time": "2023-05-03T11:03:25.970Z"
   },
   {
    "duration": 16,
    "start_time": "2023-05-03T11:04:34.922Z"
   },
   {
    "duration": 128,
    "start_time": "2023-05-03T11:06:38.336Z"
   },
   {
    "duration": 232,
    "start_time": "2023-05-03T11:07:31.110Z"
   },
   {
    "duration": 463,
    "start_time": "2023-05-03T11:08:10.063Z"
   },
   {
    "duration": 741,
    "start_time": "2023-05-03T11:08:40.347Z"
   },
   {
    "duration": 12,
    "start_time": "2023-05-03T13:04:48.324Z"
   },
   {
    "duration": 32,
    "start_time": "2023-05-03T13:05:17.948Z"
   },
   {
    "duration": 116,
    "start_time": "2023-05-03T13:07:19.027Z"
   },
   {
    "duration": 341,
    "start_time": "2023-05-03T13:08:06.936Z"
   },
   {
    "duration": 61,
    "start_time": "2023-05-03T19:07:02.316Z"
   },
   {
    "duration": 1303,
    "start_time": "2023-05-03T19:07:13.562Z"
   },
   {
    "duration": 79,
    "start_time": "2023-05-03T19:07:14.868Z"
   },
   {
    "duration": 12,
    "start_time": "2023-05-03T19:07:15.706Z"
   },
   {
    "duration": 9,
    "start_time": "2023-05-03T19:07:17.351Z"
   },
   {
    "duration": 80,
    "start_time": "2023-05-03T19:07:19.109Z"
   },
   {
    "duration": 64,
    "start_time": "2023-05-03T19:07:19.497Z"
   },
   {
    "duration": 606,
    "start_time": "2023-05-03T19:07:20.424Z"
   },
   {
    "duration": 379,
    "start_time": "2023-05-03T19:07:56.565Z"
   },
   {
    "duration": 322,
    "start_time": "2023-05-03T19:08:07.032Z"
   },
   {
    "duration": 370,
    "start_time": "2023-05-03T19:08:13.016Z"
   },
   {
    "duration": 3,
    "start_time": "2023-05-03T19:08:20.186Z"
   },
   {
    "duration": 27,
    "start_time": "2023-05-03T19:08:20.501Z"
   },
   {
    "duration": 10,
    "start_time": "2023-05-03T19:08:20.966Z"
   },
   {
    "duration": 9,
    "start_time": "2023-05-03T19:08:21.505Z"
   },
   {
    "duration": 48,
    "start_time": "2023-05-03T19:08:22.355Z"
   },
   {
    "duration": 18,
    "start_time": "2023-05-03T19:08:22.657Z"
   },
   {
    "duration": 500,
    "start_time": "2023-05-03T19:08:23.511Z"
   },
   {
    "duration": 353,
    "start_time": "2023-05-03T19:09:05.663Z"
   },
   {
    "duration": 3,
    "start_time": "2023-05-03T19:09:14.363Z"
   },
   {
    "duration": 27,
    "start_time": "2023-05-03T19:09:14.704Z"
   },
   {
    "duration": 10,
    "start_time": "2023-05-03T19:09:15.183Z"
   },
   {
    "duration": 9,
    "start_time": "2023-05-03T19:09:15.651Z"
   },
   {
    "duration": 43,
    "start_time": "2023-05-03T19:09:17.729Z"
   },
   {
    "duration": 17,
    "start_time": "2023-05-03T19:09:17.774Z"
   },
   {
    "duration": 520,
    "start_time": "2023-05-03T19:09:17.793Z"
   },
   {
    "duration": 344,
    "start_time": "2023-05-03T19:10:04.004Z"
   },
   {
    "duration": 3,
    "start_time": "2023-05-03T19:10:07.947Z"
   },
   {
    "duration": 27,
    "start_time": "2023-05-03T19:10:08.252Z"
   },
   {
    "duration": 10,
    "start_time": "2023-05-03T19:10:08.734Z"
   },
   {
    "duration": 13,
    "start_time": "2023-05-03T19:10:09.209Z"
   },
   {
    "duration": 44,
    "start_time": "2023-05-03T19:10:09.909Z"
   },
   {
    "duration": 18,
    "start_time": "2023-05-03T19:10:10.108Z"
   },
   {
    "duration": 530,
    "start_time": "2023-05-03T19:10:10.892Z"
   },
   {
    "duration": 373,
    "start_time": "2023-05-03T19:11:39.989Z"
   },
   {
    "duration": 49,
    "start_time": "2023-05-03T19:11:44.966Z"
   },
   {
    "duration": 18,
    "start_time": "2023-05-03T19:11:45.123Z"
   },
   {
    "duration": 472,
    "start_time": "2023-05-03T19:11:45.441Z"
   },
   {
    "duration": 347,
    "start_time": "2023-05-03T19:12:20.202Z"
   },
   {
    "duration": 185,
    "start_time": "2023-05-03T19:12:23.735Z"
   },
   {
    "duration": 320,
    "start_time": "2023-05-03T19:12:24.804Z"
   },
   {
    "duration": 249,
    "start_time": "2023-05-03T19:12:25.305Z"
   },
   {
    "duration": 296,
    "start_time": "2023-05-03T19:12:25.811Z"
   },
   {
    "duration": 125,
    "start_time": "2023-05-03T19:12:26.305Z"
   },
   {
    "duration": 5,
    "start_time": "2023-05-03T19:12:27.109Z"
   },
   {
    "duration": 134,
    "start_time": "2023-05-03T19:12:27.626Z"
   },
   {
    "duration": 6,
    "start_time": "2023-05-03T19:12:28.188Z"
   },
   {
    "duration": 373,
    "start_time": "2023-05-03T19:12:28.725Z"
   },
   {
    "duration": 360,
    "start_time": "2023-05-03T19:12:29.342Z"
   },
   {
    "duration": 312,
    "start_time": "2023-05-03T19:12:38.811Z"
   },
   {
    "duration": 9,
    "start_time": "2023-05-03T19:12:42.162Z"
   },
   {
    "duration": 43,
    "start_time": "2023-05-03T19:12:42.834Z"
   },
   {
    "duration": 19,
    "start_time": "2023-05-03T19:12:42.989Z"
   },
   {
    "duration": 451,
    "start_time": "2023-05-03T19:12:43.506Z"
   },
   {
    "duration": 304,
    "start_time": "2023-05-03T19:12:53.753Z"
   },
   {
    "duration": 5,
    "start_time": "2023-05-03T19:13:00.516Z"
   },
   {
    "duration": 68,
    "start_time": "2023-05-03T19:13:00.523Z"
   },
   {
    "duration": 29,
    "start_time": "2023-05-03T19:13:00.593Z"
   },
   {
    "duration": 45,
    "start_time": "2023-05-03T19:13:00.623Z"
   },
   {
    "duration": 70,
    "start_time": "2023-05-03T19:13:00.671Z"
   },
   {
    "duration": 19,
    "start_time": "2023-05-03T19:13:00.743Z"
   },
   {
    "duration": 656,
    "start_time": "2023-05-03T19:13:00.764Z"
   },
   {
    "duration": 193,
    "start_time": "2023-05-03T19:13:01.422Z"
   },
   {
    "duration": 293,
    "start_time": "2023-05-03T19:13:01.617Z"
   },
   {
    "duration": 211,
    "start_time": "2023-05-03T19:13:01.912Z"
   },
   {
    "duration": 296,
    "start_time": "2023-05-03T19:13:02.124Z"
   },
   {
    "duration": 228,
    "start_time": "2023-05-03T19:13:02.422Z"
   },
   {
    "duration": 6,
    "start_time": "2023-05-03T19:13:02.651Z"
   },
   {
    "duration": 170,
    "start_time": "2023-05-03T19:13:02.660Z"
   },
   {
    "duration": 4,
    "start_time": "2023-05-03T19:13:02.832Z"
   },
   {
    "duration": 406,
    "start_time": "2023-05-03T19:13:02.837Z"
   },
   {
    "duration": 377,
    "start_time": "2023-05-03T19:13:03.245Z"
   },
   {
    "duration": 353,
    "start_time": "2023-05-03T19:13:47.451Z"
   },
   {
    "duration": 3,
    "start_time": "2023-05-03T19:13:55.913Z"
   },
   {
    "duration": 27,
    "start_time": "2023-05-03T19:13:56.234Z"
   },
   {
    "duration": 10,
    "start_time": "2023-05-03T19:13:56.710Z"
   },
   {
    "duration": 9,
    "start_time": "2023-05-03T19:13:57.250Z"
   },
   {
    "duration": 50,
    "start_time": "2023-05-03T19:13:57.987Z"
   },
   {
    "duration": 19,
    "start_time": "2023-05-03T19:13:58.141Z"
   },
   {
    "duration": 497,
    "start_time": "2023-05-03T19:13:58.982Z"
   },
   {
    "duration": 338,
    "start_time": "2023-05-03T19:14:09.772Z"
   },
   {
    "duration": 311,
    "start_time": "2023-05-03T19:14:46.837Z"
   },
   {
    "duration": 1127,
    "start_time": "2023-05-03T19:15:57.827Z"
   },
   {
    "duration": 33,
    "start_time": "2023-05-03T19:15:58.956Z"
   },
   {
    "duration": 15,
    "start_time": "2023-05-03T19:15:58.990Z"
   },
   {
    "duration": 9,
    "start_time": "2023-05-03T19:16:00.717Z"
   },
   {
    "duration": 52,
    "start_time": "2023-05-03T19:16:01.751Z"
   },
   {
    "duration": 21,
    "start_time": "2023-05-03T19:16:02.478Z"
   },
   {
    "duration": 602,
    "start_time": "2023-05-03T19:16:03.308Z"
   },
   {
    "duration": 222,
    "start_time": "2023-05-03T19:16:21.533Z"
   },
   {
    "duration": 345,
    "start_time": "2023-05-03T19:16:22.010Z"
   },
   {
    "duration": 198,
    "start_time": "2023-05-03T19:16:22.537Z"
   },
   {
    "duration": 287,
    "start_time": "2023-05-03T19:16:23.836Z"
   },
   {
    "duration": 140,
    "start_time": "2023-05-03T19:16:28.992Z"
   },
   {
    "duration": 5,
    "start_time": "2023-05-03T19:16:30.922Z"
   },
   {
    "duration": 212,
    "start_time": "2023-05-03T19:16:30.929Z"
   },
   {
    "duration": 5,
    "start_time": "2023-05-03T19:16:31.144Z"
   },
   {
    "duration": 470,
    "start_time": "2023-05-03T19:16:31.747Z"
   },
   {
    "duration": 385,
    "start_time": "2023-05-03T19:16:33.356Z"
   },
   {
    "duration": 13,
    "start_time": "2023-05-03T19:28:23.106Z"
   },
   {
    "duration": 9,
    "start_time": "2023-05-03T19:28:48.802Z"
   },
   {
    "duration": 30,
    "start_time": "2023-05-03T19:31:32.867Z"
   },
   {
    "duration": 14,
    "start_time": "2023-05-03T19:35:24.220Z"
   },
   {
    "duration": 4,
    "start_time": "2023-05-03T19:40:34.759Z"
   },
   {
    "duration": 461,
    "start_time": "2023-05-03T19:45:33.409Z"
   },
   {
    "duration": 55,
    "start_time": "2023-05-03T19:45:54.136Z"
   },
   {
    "duration": 1137,
    "start_time": "2023-05-03T19:46:01.236Z"
   },
   {
    "duration": 32,
    "start_time": "2023-05-03T19:46:02.375Z"
   },
   {
    "duration": 10,
    "start_time": "2023-05-03T19:46:02.409Z"
   },
   {
    "duration": 9,
    "start_time": "2023-05-03T19:46:02.785Z"
   },
   {
    "duration": 44,
    "start_time": "2023-05-03T19:46:04.676Z"
   },
   {
    "duration": 19,
    "start_time": "2023-05-03T19:46:05.340Z"
   },
   {
    "duration": 567,
    "start_time": "2023-05-03T19:46:05.715Z"
   },
   {
    "duration": 378,
    "start_time": "2023-05-03T19:46:12.848Z"
   },
   {
    "duration": 3,
    "start_time": "2023-05-03T19:46:24.486Z"
   },
   {
    "duration": 32,
    "start_time": "2023-05-03T19:46:24.491Z"
   },
   {
    "duration": 9,
    "start_time": "2023-05-03T19:46:24.525Z"
   },
   {
    "duration": 11,
    "start_time": "2023-05-03T19:46:24.536Z"
   },
   {
    "duration": 36,
    "start_time": "2023-05-03T19:46:25.492Z"
   },
   {
    "duration": 27,
    "start_time": "2023-05-03T19:46:26.013Z"
   },
   {
    "duration": 492,
    "start_time": "2023-05-03T19:46:27.112Z"
   },
   {
    "duration": 181,
    "start_time": "2023-05-03T19:46:44.246Z"
   },
   {
    "duration": 266,
    "start_time": "2023-05-03T19:46:44.750Z"
   },
   {
    "duration": 169,
    "start_time": "2023-05-03T19:46:45.261Z"
   },
   {
    "duration": 299,
    "start_time": "2023-05-03T19:46:45.786Z"
   },
   {
    "duration": 126,
    "start_time": "2023-05-03T19:46:46.277Z"
   },
   {
    "duration": 5,
    "start_time": "2023-05-03T19:46:46.783Z"
   },
   {
    "duration": 208,
    "start_time": "2023-05-03T19:46:47.309Z"
   },
   {
    "duration": 4,
    "start_time": "2023-05-03T19:46:47.851Z"
   },
   {
    "duration": 385,
    "start_time": "2023-05-03T19:46:48.379Z"
   },
   {
    "duration": 362,
    "start_time": "2023-05-03T19:46:48.917Z"
   },
   {
    "duration": 10,
    "start_time": "2023-05-03T19:46:49.625Z"
   },
   {
    "duration": 27,
    "start_time": "2023-05-03T19:46:49.797Z"
   },
   {
    "duration": 14,
    "start_time": "2023-05-03T19:46:50.341Z"
   },
   {
    "duration": 185,
    "start_time": "2023-05-03T19:47:28.148Z"
   },
   {
    "duration": 197,
    "start_time": "2023-05-03T19:50:33.877Z"
   },
   {
    "duration": 292,
    "start_time": "2023-05-03T19:50:49.313Z"
   },
   {
    "duration": 3,
    "start_time": "2023-05-03T19:50:55.252Z"
   },
   {
    "duration": 27,
    "start_time": "2023-05-03T19:50:55.606Z"
   },
   {
    "duration": 10,
    "start_time": "2023-05-03T19:50:56.154Z"
   },
   {
    "duration": 10,
    "start_time": "2023-05-03T19:50:57.191Z"
   },
   {
    "duration": 44,
    "start_time": "2023-05-03T19:50:58.936Z"
   },
   {
    "duration": 20,
    "start_time": "2023-05-03T19:50:59.272Z"
   },
   {
    "duration": 533,
    "start_time": "2023-05-03T19:51:00.643Z"
   },
   {
    "duration": 3,
    "start_time": "2023-05-03T19:51:10.400Z"
   },
   {
    "duration": 27,
    "start_time": "2023-05-03T19:51:10.735Z"
   },
   {
    "duration": 9,
    "start_time": "2023-05-03T19:51:11.238Z"
   },
   {
    "duration": 10,
    "start_time": "2023-05-03T19:51:11.713Z"
   },
   {
    "duration": 45,
    "start_time": "2023-05-03T19:51:12.400Z"
   },
   {
    "duration": 18,
    "start_time": "2023-05-03T19:51:12.591Z"
   },
   {
    "duration": 492,
    "start_time": "2023-05-03T19:51:13.446Z"
   },
   {
    "duration": 368,
    "start_time": "2023-05-03T19:53:22.251Z"
   },
   {
    "duration": 282,
    "start_time": "2023-05-03T19:53:31.342Z"
   },
   {
    "duration": 190,
    "start_time": "2023-05-03T19:54:43.247Z"
   },
   {
    "duration": 295,
    "start_time": "2023-05-03T19:55:40.405Z"
   },
   {
    "duration": 212,
    "start_time": "2023-05-03T19:56:11.036Z"
   },
   {
    "duration": 153,
    "start_time": "2023-05-03T19:56:58.868Z"
   },
   {
    "duration": 153,
    "start_time": "2023-05-03T19:57:39.395Z"
   },
   {
    "duration": 264,
    "start_time": "2023-05-03T19:58:38.994Z"
   },
   {
    "duration": 1127,
    "start_time": "2023-05-03T20:03:57.244Z"
   },
   {
    "duration": 32,
    "start_time": "2023-05-03T20:03:58.373Z"
   },
   {
    "duration": 12,
    "start_time": "2023-05-03T20:03:58.407Z"
   },
   {
    "duration": 9,
    "start_time": "2023-05-03T20:03:58.421Z"
   },
   {
    "duration": 37,
    "start_time": "2023-05-03T20:03:58.432Z"
   },
   {
    "duration": 18,
    "start_time": "2023-05-03T20:03:58.471Z"
   },
   {
    "duration": 627,
    "start_time": "2023-05-03T20:03:58.492Z"
   },
   {
    "duration": 229,
    "start_time": "2023-05-03T20:03:59.121Z"
   },
   {
    "duration": 382,
    "start_time": "2023-05-03T20:03:59.353Z"
   },
   {
    "duration": 212,
    "start_time": "2023-05-03T20:03:59.738Z"
   },
   {
    "duration": 351,
    "start_time": "2023-05-03T20:03:59.952Z"
   },
   {
    "duration": 182,
    "start_time": "2023-05-03T20:04:00.305Z"
   },
   {
    "duration": 6,
    "start_time": "2023-05-03T20:04:00.489Z"
   },
   {
    "duration": 249,
    "start_time": "2023-05-03T20:04:00.497Z"
   },
   {
    "duration": 5,
    "start_time": "2023-05-03T20:04:00.748Z"
   },
   {
    "duration": 446,
    "start_time": "2023-05-03T20:04:00.755Z"
   },
   {
    "duration": 390,
    "start_time": "2023-05-03T20:04:01.203Z"
   },
   {
    "duration": 14,
    "start_time": "2023-05-03T20:04:01.595Z"
   },
   {
    "duration": 62,
    "start_time": "2023-05-03T20:04:01.611Z"
   },
   {
    "duration": 17,
    "start_time": "2023-05-03T20:04:01.674Z"
   },
   {
    "duration": 1210,
    "start_time": "2023-05-05T07:10:22.154Z"
   },
   {
    "duration": 71,
    "start_time": "2023-05-05T07:10:23.366Z"
   },
   {
    "duration": 11,
    "start_time": "2023-05-05T07:10:26.541Z"
   },
   {
    "duration": 10,
    "start_time": "2023-05-05T07:10:28.302Z"
   },
   {
    "duration": 110,
    "start_time": "2023-05-05T07:10:30.869Z"
   },
   {
    "duration": 66,
    "start_time": "2023-05-05T07:10:31.661Z"
   },
   {
    "duration": 585,
    "start_time": "2023-05-05T07:10:32.990Z"
   },
   {
    "duration": 186,
    "start_time": "2023-05-05T07:10:41.462Z"
   },
   {
    "duration": 340,
    "start_time": "2023-05-05T07:10:55.622Z"
   },
   {
    "duration": 179,
    "start_time": "2023-05-05T07:11:02.526Z"
   },
   {
    "duration": 315,
    "start_time": "2023-05-05T07:11:14.190Z"
   },
   {
    "duration": 142,
    "start_time": "2023-05-05T07:11:40.126Z"
   },
   {
    "duration": 5,
    "start_time": "2023-05-05T07:11:50.444Z"
   },
   {
    "duration": 150,
    "start_time": "2023-05-05T07:12:02.173Z"
   },
   {
    "duration": 5,
    "start_time": "2023-05-05T07:12:12.388Z"
   },
   {
    "duration": 111,
    "start_time": "2023-05-11T11:57:51.700Z"
   },
   {
    "duration": 1538,
    "start_time": "2023-05-11T11:58:12.428Z"
   },
   {
    "duration": 124,
    "start_time": "2023-05-11T11:58:13.973Z"
   },
   {
    "duration": 16,
    "start_time": "2023-05-11T11:58:14.100Z"
   },
   {
    "duration": 11,
    "start_time": "2023-05-11T11:58:14.118Z"
   },
   {
    "duration": 152,
    "start_time": "2023-05-11T11:58:14.131Z"
   },
   {
    "duration": 80,
    "start_time": "2023-05-11T11:58:14.285Z"
   },
   {
    "duration": 768,
    "start_time": "2023-05-11T11:58:14.367Z"
   },
   {
    "duration": 261,
    "start_time": "2023-05-11T11:58:15.138Z"
   },
   {
    "duration": 366,
    "start_time": "2023-05-11T11:58:15.402Z"
   },
   {
    "duration": 259,
    "start_time": "2023-05-11T11:58:15.770Z"
   },
   {
    "duration": 326,
    "start_time": "2023-05-11T11:58:16.032Z"
   },
   {
    "duration": 218,
    "start_time": "2023-05-11T11:58:16.361Z"
   },
   {
    "duration": 13,
    "start_time": "2023-05-11T11:58:16.589Z"
   },
   {
    "duration": 240,
    "start_time": "2023-05-11T11:58:16.604Z"
   },
   {
    "duration": 5,
    "start_time": "2023-05-11T11:58:16.846Z"
   },
   {
    "duration": 469,
    "start_time": "2023-05-11T11:58:16.854Z"
   },
   {
    "duration": 428,
    "start_time": "2023-05-11T11:58:17.325Z"
   },
   {
    "duration": 22,
    "start_time": "2023-05-11T11:58:17.755Z"
   },
   {
    "duration": 128,
    "start_time": "2023-05-11T11:58:17.779Z"
   },
   {
    "duration": 43,
    "start_time": "2023-05-11T11:58:17.914Z"
   }
  ],
  "kernelspec": {
   "display_name": "Python 3 (ipykernel)",
   "language": "python",
   "name": "python3"
  },
  "language_info": {
   "codemirror_mode": {
    "name": "ipython",
    "version": 3
   },
   "file_extension": ".py",
   "mimetype": "text/x-python",
   "name": "python",
   "nbconvert_exporter": "python",
   "pygments_lexer": "ipython3",
   "version": "3.10.9"
  },
  "toc": {
   "base_numbering": 1,
   "nav_menu": {},
   "number_sections": true,
   "sideBar": true,
   "skip_h1_title": true,
   "title_cell": "Table of Contents",
   "title_sidebar": "Contents",
   "toc_cell": false,
   "toc_position": {},
   "toc_section_display": true,
   "toc_window_display": false
  }
 },
 "nbformat": 4,
 "nbformat_minor": 2
}
